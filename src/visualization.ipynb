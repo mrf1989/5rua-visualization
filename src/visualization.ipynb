{
 "cells": [
  {
   "attachments": {},
   "cell_type": "markdown",
   "metadata": {},
   "source": [
    "# Visualización\n",
    "\n",
    "Este *notebook* trata sobre visualización de datos, presente en todo proceso KDD. Aquí se presenta el desarrollo del trabajo realizado para la asignatura Machine Learning Engineering, del Máster en Ingeniería del Software: Cloud, Datos y Gestión TI de la Universidad de Sevilla, curso académico 2022-23.\n",
    "\n",
    "## Tabla de contenidos\n",
    "\n",
    "* [Autor](#autor)\n",
    "* [Introducción](#introduccion)\n",
    "* [Definición](#definicion)\n",
    "* [Elementos para la visualización](#elementos)\n",
    "* [Criterio de uso](#criterios)\n",
    "* [Caso práctico: Bokeh library](#bokeh)\n",
    "* [Referencias](#referencias)\n",
    "\n",
    "___"
   ]
  },
  {
   "attachments": {},
   "cell_type": "markdown",
   "metadata": {},
   "source": [
    "<a name=\"autor\"></a>\n",
    "## Autor\n",
    "\n",
    "Este trabajo y este *notebook* han sido desarrollados por **Mario Ruano Fernández** ([mruano@us.es](mailto:mruano@us.es))."
   ]
  },
  {
   "attachments": {},
   "cell_type": "markdown",
   "metadata": {},
   "source": [
    "<a name=\"introduccion\"></a>\n",
    "## Introducción\n",
    "\n",
    "En este trabajo se pretende realizar un estudio del estado del arte de la visualización de datos, marcando como objetivos.\n",
    "\n",
    "- Describir los diferentes tipos de formas gráficas que se utilizan para la visualización de datos.\n",
    "- Establecer una serie de criterios para el correcto uso de la visualización.\n",
    "- Desarrollo de ejemplos y casos de uso.\n",
    "\n",
    "Para dar cumplimiento a estos objetivos, en la sección [Elementos para la visualización](#elementos) se especifican algunas características importantes que deben tenerse en cuenta en toda representación gráfica, de modo que pueda obtenerse, como resultado, una buena visualización de datos. En la sección [Tipos](#tipos) se incluye una descripción de los diferentes tipos de visualizaciones que se pueden encontrar, cómo se clasifican y cuáles son las más utilizadas. Por último, en la sección [Caso práctico](#bokeh), se pondrán en práctica los aspectos teóricos estudiados, realizándose ejemplos con la librería [Bokeh](https://bokeh.org/)."
   ]
  },
  {
   "attachments": {},
   "cell_type": "markdown",
   "metadata": {},
   "source": [
    "<a name=\"definicion\"></a>\n",
    "## Definición\n",
    "\n",
    "La visualización de los datos puede definirse como una forma gráfica y visual de representar información y datos a través de tablas, gráficos, mapas y otros elementos visuales (Tableau, s.f.). Gracias a la visualización, las personas pueden acceder a la información de los datos de manera más sencilla y más comprensible (Sahay, 2016).\n",
    "\n",
    "Frente a grandes cantidades y conjuntos de datos, la visualización ayuda a sintetizar y detectar de manera efectiva características que los datos esconden, relaciones entre variables, patrones, tendencias, etc. Por esta razón, la visualización se utiliza en la gran mayoría de fases o etapas de cualquier proceso KDD. Desde la selección de datos hasta la comunicación del conocimiento extraido de los mismo, pasando por el preprocesamiento, el análisis y la aplicación de técnicas de Machine Learning y Data Mining.\n",
    "\n",
    "La visualización de datos es un proceso, en esencia, simple: tomamos los valores de los datos y los convertimos sistemática y lógicamente en elementos visuales que conforman una representación gráfica o visual (Wilke, 2019).\n",
    "\n",
    "Sin embargo, el campo de la visualización es extremadamente amplio. Aquí convergen una serie de disciplinas, como el diseño gráfico, el arte, la ciencia cognitiva, las matemáticas, la geometría, etc.\n",
    "\n",
    "Siguiendo a Sahay (2016), encontramos dos categorías dentro de la visualización de datos: la exploración y la explicación. Estas atienden a momentos distintos y existen técnicas y herramientas que se ajustan mejor a cada una de ellas.\n",
    "\n",
    "La exploración de datos consiste en la búsqueda del significado y el sentido de los datos cuando realmente no se sabe qué aportan, frente a la explicación, cuando sí se tiene conocimiento sobre los datos y se trata de contar y transmitir el conocimiento de estos. Aun así, se suelen dar casos híbridos, ya que estas categorías no se ven representadas de manera exacta siempre (Sahay, 2016).\n",
    "\n",
    "En definitiva, en todo caso será determinante el contexto en el que se realiza la visualización y con qué enfoque se desarrolla. Por lo general, en este trabajo, se trabaja en la línea de la visualización aplicada al campo del Machine Learning."
   ]
  },
  {
   "attachments": {},
   "cell_type": "markdown",
   "metadata": {},
   "source": [
    "<a name=\"elementos\"></a>\n",
    "## Elementos para la visualización\n",
    "\n",
    "Tal y como define Wilke (2019) en su libro Fundamentals of Data Visualization, la visualización de datos comprende una parte de arte y otra parte de ciencia. Se debe buscar un equilibrio entre ambas partes para cumplir con su propósito de uso: comunicar una información correcta, comprensible, sin ambigüedades, útil y de interés. En definitiva, la visualización de datos no es más que una forma de comunicación visual que presenta los datos de forma gráfica (Sahay, 2016).\n",
    "\n",
    "Por esta razón, y debido a esa necesidad de equilibrar las creaciones gráficas, aquí se identifican una serie de elementos y aspectos a tener en cuenta a la hora de generar visualizaciones. Es un amplio campo de trabajo y todos estos elementos pueden ser estudiados con gran profundidad y detalle. En este *notebook* solo se van a identificar y se indicarán algunas buenas prácticas, especialmente en aquellos elementos que pueden ser manipulados a través de las librerías de visualización, en general, y de los que permite personalizar la librería Bokeh, en particular.\n",
    "\n",
    "En definitiva, cuando se pretende generar gráficos a partir de datos, se está tratando de desarrollar un procedimiento de mapeo, mediante el cual se pasa de una serie de datos en bruto, normalmente numéricos, a una representación estética y visual de los mismos. Aquí entran en juego aspectos como la posición, las formas, el tamaño, el color, etc.\n",
    "\n",
    "Es, en ese procedimiento de mapeo, donde se detectan los elementos que darán identidad visual a la realidad intrínseca de los propios datos que representan, y que se enuncian a continuación.\n",
    "\n",
    "### Ejes\n",
    "\n",
    "En este trabajo se hace referencia a gráficos en 2D, generalmente aquellos que utilizan un sistema de coordenadas cartesianas para sus ejes.\n",
    "\n",
    "Respecto a los ejes hay que tener en cuenta un par de aspectos:\n",
    "\n",
    "- El ratio de aspecto del eje horizontal frente al vertical. Esto está relacionado con el ancho y alto de la gráfica que se visualiza. Afecta a cómo se visualizan los resultados, aunque sean diferentes versiones correctas.\n",
    "- La escala numérica de los ejes. Pueden seguir una escala lineal, logarítmica o de raíz cuadrada, entre otras. Esto afectará a la forma de visualizar los datos y de dar una correcta interpretación de los ellos.\n",
    "\n",
    "Es recomendable hacer uso de la escala logarítmica en aquellos casos en los que se quieren representar valores en los que hay una gran diferencia en cuanto a magnitudes (Wilke, 2019).\n",
    "\n",
    "Otro tipo de sistema de representación es el sistema de coordenadas polares, con eje curvo. Es óptimo hacer uso de este tipo de ejes cuando se quieren representar datos de naturaleza periódica.\n",
    "\n",
    "### Color\n",
    "\n",
    "El color es uno de los principales elementos visuales que captan la atención en un gráfico. Por tanto, si se hace una correcta elección y aplicación del mismo puede ser de gran utilidad para comunicar la información. De manera general, el color cubre los siguientes requisitos (Wilke, 2019):\n",
    "\n",
    "- Distinción de elementos discretos o grupos: mediante el uso de escalas cualitativas de color, el objetivo es poder distinguir de forma clara entre distintos conjuntos, evitando que algún color destaque por encima de otros o que den sensación de ordenación. Por ejemplo, esto es muy importante a la hora de representar clusters.\n",
    "- Representación de valores: generalmente se busca representar una escala de valores o un rango, por lo que se aplica una escala secuencial de color. Esta debe presentar un rango uniforme perceptible, que puede bien puede ser monocromático o multicromático, pero lo importante es que en todo momento se pueda comprender ya apreciar con facilidad la diferencia de magnitud entre los valores de los datos.\n",
    "- Resaltar algún valor o elemento de los datos: con la intención de llamar la atención o resaltar un aspecto concreto, usar un color que destaca sobre el resto hace resaltar una idea. Para conseguir este efecto, es muy importante que el resto de colores que acompañen al color de resaltado no distraigan. Una buena técnica es dejar sin color o utilizar un tono gris para todos los elementos, frente a un color para el elemento a resaltar, aumentando el efecto.\n",
    "\n",
    "Con esto, en todo caso se debe tratar de hacer una elección de color correcta, evitando algunos problemas que pueden derivar de un mal uso del color:\n",
    "\n",
    "- Codificar (colorear) demasiada información de forma irrelevante, no solo no llegando a aportar nada, sino haciendo absolutamente compleja la tarea de destinguir elementos. Cuando se quiere diferenciar más de ocho elementos categóricos, se recomienda usar etiquetas textuales, siempre y cuando no saturen tampoco.\n",
    "- Utilizar demasiados colores muy saturados o intensos dificulta la visión y provoca una lectura estresante del gráfico. Estos colores pueden tener cabida, pero de forma mínima y para resaltar algún aspecto.\n",
    "- Seleccionar escalas de color que hacen compleja la comprensión para aquellas personas tienen deficiencias cognitivias de visión. Se recomienda utilizar algún simulador que simula estas patologías para testear los colores elegidos y certificar que funcionan en todos los casos.\n",
    "- Elegir escalas de colores que no permiten diferenciar las magnitudes de los valores, qué es mayor o qué es menor. Esto suele pasar si se utilizan escalas como la escala arcoíris, en la que hay más de un color y donde hay tonalidades monótonas.\n",
    "\n",
    "### Títulos, subtítulos y etiquetas\n",
    "\n",
    "Por lo general, en la visualización de datos los títulos, subtítulos y etiquetas se encargan de ofrecer contexto.\n",
    "\n",
    "Todas las gráficas necesitan tener un título, el que marca el significado y el asunto principal de la figura. Además, si se genera más de una gráfica en el mismo contexto, el título debe seguir el mismo criterio, esto es: puede ir tanto integrado, normalmente en la cabecera de la gráfica, como al pie, en lo que se considera el subtítulo. Sea de una forma u otra, siempre se debe seguir el mismo criterio para todas las gráficas.\n",
    "\n",
    "En cuanto a los subtítulos, pueden apartar un mayor detalle de contexto, aclarando alguno de los aspectos que, a simple vista, no queden totalmente claros a través del resto de elementos. No debe ser redundante, sino complementar al gráfico.\n",
    "\n",
    "En cuanto a las etiquetas, se pueden localizar en distintos lugares de una gráfica. Aparecen como los identificadores de los valores de los ejes, en las leyendas o como denominadores de los ejes. Para este último caso, es altamente recomendable indicar la unidad de medida junto a la etiqueta, si el eje represente una medición. Si de lo contrario el eje representa valores categóricos, simplemente se aplica una etiqueta que dé título a dicho eje.\n",
    "\n",
    "Por último, en relación a esto, no hay que despreciar los tamaños. De nada sirve disponer de todos estos elementos textuales si tienen un tamaño difícil de leer. Se debe aplicar un tamaño apto para la lectura, sin necesidad de realizar zoom sobre la gráfica.\n",
    "\n",
    "### Tipos de gráficos\n",
    "\n",
    "Por último, en este apartado se enuncian y definen las principales formas gráficas y los tipos de gráficos más utilizados dentro del contexto de trabajo del análisis exploratorio de datos en Machine Learning (Sahay, 2016). Esta tipología será la referencia de partida para establecer el criterio de uso, según qué situaciones y contextos, y la base para el caso práctico que se implementa en este trabajo con la librería Bokeh.\n",
    "\n",
    "#### Tablas\n",
    "\n",
    "Aunque el concepto y la definición de visualización de datos se acerca más al hecho de representación mediante elementos gráficos como puntos, líneas, colores, etc., las tablas también son una forma más de visualización. Una de las formas más primitivas de visualizar datos y quizás una de las menos intuitivas, a menos que se cuente con una buena descripción de contexto, que pueda ofrecer información sobre cómo leer e interpretar los datos.\n",
    "\n",
    "<div style=\"display: flex; align-items: center; justify-content: center;\">\n",
    "  <div style=\"max-width: 500px;\">\n",
    "    <img src=\"../assets/tabla.png\"/>\n",
    "    <p style=\"position: relative; top:-20px; left: 10px;\"><small>(Sahay, 2016)</small></p>\n",
    "  </div>\n",
    "</div>\n",
    "\n",
    "#### Diagrama de puntos\n",
    "\n",
    "Los diagramas de puntos consisten en nubes de puntos que relacionan dos variables, haciendo uso de los ejes x e y. Cada eje corresponde al rango de valores de cada una de las variables, por lo que cada uno de los puntos corresponde a una medición concreta. Esto significa que los puntos pueden apilarse, ya que algunas mediciones pueden coincidir.\n",
    "\n",
    "<div style=\"display: flex; align-items: center; justify-content: center;\">\n",
    "  <div style=\"max-width: 500px;\">\n",
    "    <img src=\"../assets/puntos.png\"/>\n",
    "    <p style=\"position: relative; top:-20px; left: 10px;\"><small>(Sahay, 2016)</small></p>\n",
    "  </div>\n",
    "</div>\n",
    "\n",
    "#### Diagrama de barras\n",
    "\n",
    "Es, quizás, uno de los diagramas más conocidos y utilizados para la visualización de datos. Ideal para relacionar un rango de valores categóricos con una variable cuantitativa numérica, como puede ser el precio, la temperatura, etc. En el diagrama de barras, por lo general, el eje x representa el rango de valores, normalmente categórico, frente al eje y, donde se tiene el rango de valores cuantitativo. Además, existen variaciones de este tipo de gráfico, pudiéndose usarse con grupos de barras o en orientación horizontal.\n",
    "\n",
    "<div style=\"display: flex; align-items: center; justify-content: center;\">\n",
    "  <div style=\"max-width: 500px;\">\n",
    "    <img src=\"../assets/barras.png\"/>\n",
    "    <p style=\"position: relative; top:-20px; left: 10px;\"><small>(Sahay, 2016)</small></p>\n",
    "  </div>\n",
    "</div>\n",
    "\n",
    "#### Diagrama de caja\n",
    "\n",
    "El diagrama de caja muestra, para una variable determinada, el valor más pequeño, el más grande y sus tres cuartiles. Esto se hace mediante un segmento, cuyos extremos representan el valor mínimo y el valor máximo, dada una variable de un conjunto de datos. Los cuartiles, por otro lado, quedan representados mediante una figura rectangular, superpuesta sobre el segmento. El cuartial 1 es aquel lado de la figura que está más cercano al extremo correspondiente al valor mínimo, mientras que el cuartil 3 es el lado opuesto. Generalmente se visualiza el cuartil 2 mediante un punto dentro del rectángulo, lo que también corresponde a la mediana. Es una buena forma de representación visual para tener un resumen de estos valores.\n",
    "\n",
    "<div style=\"display: flex; align-items: center; justify-content: center;\">\n",
    "  <div style=\"max-width: 500px;\">\n",
    "    <img src=\"../assets/box.png\"/>\n",
    "    <p style=\"position: relative; top:-20px; left: 10px;\"><small>(Sahay, 2016)</small></p>\n",
    "  </div>\n",
    "</div>\n",
    "\n",
    "#### Mapa de calor\n",
    "\n",
    "Utilizado para representar, mediante colores, el valor de una magnitud en dos dimensiones. El color cambiará su tonalidad o su intensidad conforme el valor de la variable representada. Este tipo de representación es muy útil cuando se quiere representar algo en el espacio 2D. Por ejemplo, la ubicación del puntero del mouse del usuario en una web. El eje x representaría el ancho de la web, mientras que el eje y correspondería al alto. El color podría cambiar en función del tiempo que pasa el puntero del ratón en una coordenada. Se puede usar, por tanto, para identificar los \"puntos calientes\" de una página web.\n",
    "\n",
    "<div style=\"display: flex; align-items: center; justify-content: center;\">\n",
    "  <div style=\"max-width: 500px;\">\n",
    "    <img src=\"../assets/click-heatmap.jpg\"/>\n",
    "    <p style=\"position: relative; top:-20px; left: 10px;\"><small>(Devservice.es, s. f.)</small></p>\n",
    "  </div>\n",
    "</div>\n",
    "\n",
    "#### Gráfico circular\n",
    "\n",
    "El diagrama circular, también conocido como gráfica o diagrama de tarta, representa las magnitudes relativas de las partes como un todo. Esto significa que, dadas unas serie de grupos de valores, se visualiza la frecuencia relativa con la que se dan cada uno de estos. En definitiva, representan porcentajes y ratios, como, por ejemplo la dedicación porcentual de un presupuesto a distintos capítulos o asuntos económicos. Por lo general, suelen emplearse colores distintos para cada una de las porciones del gráfico, no siendo muy recomendable particionarla en exceso, ya que es complejo de leer. Para estos casos, se pude utilizar una extensión de una de las porciones, representándola en otro gráfico circular o en una barra.\n",
    "\n",
    "<div style=\"display: flex; align-items: center; justify-content: center;\">\n",
    "  <div style=\"max-width: 500px;\">\n",
    "    <img src=\"../assets/pie1.png\"/>\n",
    "    <p style=\"position: relative; top:-20px; left: 10px;\"><small>(Sahay, 2016)</small></p>\n",
    "  </div>\n",
    "  <div style=\"max-width: 500px;\">\n",
    "    <img src=\"../assets/pie2.png\"/>\n",
    "    <p style=\"position: relative; top:-20px; left: 10px;\"><small>(Sahay, 2016)</small></p>\n",
    "  </div>\n",
    "</div>\n",
    "\n",
    "#### Gráfico de líneas\n",
    "\n",
    "El gráfico de líneas es una forma de representación gráfica sencilla. Generalmente se utiliza para reflejar el cambio de un valor en el tiempo, siendo el eje x una secuencia de valores temporales (horas, días, meses, años, etc.), y el eje y la medición de una variable en ese momento temporal concreto. Al final, se obtiene un punto, como el diagrama de puntos, pero estos puntos quedan unidos de manera secuencial, formando una línea. En estos gráficos se pueden incluir más de una línea, de distinto color, que representen la misma medición en diferentes condiciones. Esta forma es muy útil para hacer comparativas de la evolución y la tendencia de una variable en el tiempo.\n",
    "\n",
    "<div style=\"display: flex; align-items: center; justify-content: center;\">\n",
    "  <div style=\"max-width: 500px;\">\n",
    "    <img src=\"../assets/line1.png\"/>\n",
    "    <p style=\"position: relative; top:-20px; left: 10px;\"><small>(Sahay, 2016)</small></p>\n",
    "  </div>\n",
    "  <div style=\"max-width: 500px;\">\n",
    "    <img src=\"../assets/line2.png\"/>\n",
    "    <p style=\"position: relative; top:-20px; left: 10px;\"><small>(Sahay, 2016)</small></p>\n",
    "  </div>\n",
    "</div>\n",
    "\n",
    "#### Gráfico de área\n",
    "\n",
    "Es un tipo de combinación de gráfico de líneas y diagrama de barras, muy utilizado en series temporales. Representa la variación de las cantidades de una variable conforme pasa el tiempo, por lo que se puede utilizar para conocer la evolución o la tendencia de dicho cambio. La línea marca la unión de los momentos de medición, por ejemplo, los meses o años, en el eje x; mientras que el área coloreada que queda encerrada bajo la línea, corresponde a la cantidad de la variable que se mide. Podría decirse que es un tipo de gráfico de barras continuo. Suele usarse mucho mediante áreas apiladas, asignado un color a cada una de estas, e interpretándose como un todo, pudiéndose observar las diferencias. Por ejemplo, representando la producciónd de barriles de petróleo a lo largo de los meses, durante varios años, para distintas empresas estadounidenses.\n",
    "\n",
    "<div style=\"display: flex; align-items: center; justify-content: center;\">\n",
    "  <div style=\"max-width: 500px;\">\n",
    "    <img src=\"../assets/area.png\"/>\n",
    "    <p style=\"position: relative; top:-20px; left: 10px;\"><small>(Sahay, 2016)</small></p>\n",
    "  </div>\n",
    "</div>"
   ]
  },
  {
   "attachments": {},
   "cell_type": "markdown",
   "metadata": {},
   "source": [
    "<a name=\"criterios\"></a>\n",
    "## Criterio de uso"
   ]
  },
  {
   "attachments": {},
   "cell_type": "markdown",
   "metadata": {},
   "source": [
    "<a name=\"bokeh\"></a>\n",
    "## Caso práctico: Bokeh library"
   ]
  },
  {
   "cell_type": "code",
   "execution_count": 1,
   "metadata": {},
   "outputs": [
    {
     "data": {
      "text/html": [
       "<div class=\"bk-root\">\n",
       "        <a href=\"https://bokeh.org\" target=\"_blank\" class=\"bk-logo bk-logo-small bk-logo-notebook\"></a>\n",
       "        <span id=\"1002\">Loading BokehJS ...</span>\n",
       "    </div>\n"
      ]
     },
     "metadata": {},
     "output_type": "display_data"
    },
    {
     "data": {
      "application/javascript": "(function(root) {\n  function now() {\n    return new Date();\n  }\n\n  const force = true;\n\n  if (typeof root._bokeh_onload_callbacks === \"undefined\" || force === true) {\n    root._bokeh_onload_callbacks = [];\n    root._bokeh_is_loading = undefined;\n  }\n\nconst JS_MIME_TYPE = 'application/javascript';\n  const HTML_MIME_TYPE = 'text/html';\n  const EXEC_MIME_TYPE = 'application/vnd.bokehjs_exec.v0+json';\n  const CLASS_NAME = 'output_bokeh rendered_html';\n\n  /**\n   * Render data to the DOM node\n   */\n  function render(props, node) {\n    const script = document.createElement(\"script\");\n    node.appendChild(script);\n  }\n\n  /**\n   * Handle when an output is cleared or removed\n   */\n  function handleClearOutput(event, handle) {\n    const cell = handle.cell;\n\n    const id = cell.output_area._bokeh_element_id;\n    const server_id = cell.output_area._bokeh_server_id;\n    // Clean up Bokeh references\n    if (id != null && id in Bokeh.index) {\n      Bokeh.index[id].model.document.clear();\n      delete Bokeh.index[id];\n    }\n\n    if (server_id !== undefined) {\n      // Clean up Bokeh references\n      const cmd_clean = \"from bokeh.io.state import curstate; print(curstate().uuid_to_server['\" + server_id + \"'].get_sessions()[0].document.roots[0]._id)\";\n      cell.notebook.kernel.execute(cmd_clean, {\n        iopub: {\n          output: function(msg) {\n            const id = msg.content.text.trim();\n            if (id in Bokeh.index) {\n              Bokeh.index[id].model.document.clear();\n              delete Bokeh.index[id];\n            }\n          }\n        }\n      });\n      // Destroy server and session\n      const cmd_destroy = \"import bokeh.io.notebook as ion; ion.destroy_server('\" + server_id + \"')\";\n      cell.notebook.kernel.execute(cmd_destroy);\n    }\n  }\n\n  /**\n   * Handle when a new output is added\n   */\n  function handleAddOutput(event, handle) {\n    const output_area = handle.output_area;\n    const output = handle.output;\n\n    // limit handleAddOutput to display_data with EXEC_MIME_TYPE content only\n    if ((output.output_type != \"display_data\") || (!Object.prototype.hasOwnProperty.call(output.data, EXEC_MIME_TYPE))) {\n      return\n    }\n\n    const toinsert = output_area.element.find(\".\" + CLASS_NAME.split(' ')[0]);\n\n    if (output.metadata[EXEC_MIME_TYPE][\"id\"] !== undefined) {\n      toinsert[toinsert.length - 1].firstChild.textContent = output.data[JS_MIME_TYPE];\n      // store reference to embed id on output_area\n      output_area._bokeh_element_id = output.metadata[EXEC_MIME_TYPE][\"id\"];\n    }\n    if (output.metadata[EXEC_MIME_TYPE][\"server_id\"] !== undefined) {\n      const bk_div = document.createElement(\"div\");\n      bk_div.innerHTML = output.data[HTML_MIME_TYPE];\n      const script_attrs = bk_div.children[0].attributes;\n      for (let i = 0; i < script_attrs.length; i++) {\n        toinsert[toinsert.length - 1].firstChild.setAttribute(script_attrs[i].name, script_attrs[i].value);\n        toinsert[toinsert.length - 1].firstChild.textContent = bk_div.children[0].textContent\n      }\n      // store reference to server id on output_area\n      output_area._bokeh_server_id = output.metadata[EXEC_MIME_TYPE][\"server_id\"];\n    }\n  }\n\n  function register_renderer(events, OutputArea) {\n\n    function append_mime(data, metadata, element) {\n      // create a DOM node to render to\n      const toinsert = this.create_output_subarea(\n        metadata,\n        CLASS_NAME,\n        EXEC_MIME_TYPE\n      );\n      this.keyboard_manager.register_events(toinsert);\n      // Render to node\n      const props = {data: data, metadata: metadata[EXEC_MIME_TYPE]};\n      render(props, toinsert[toinsert.length - 1]);\n      element.append(toinsert);\n      return toinsert\n    }\n\n    /* Handle when an output is cleared or removed */\n    events.on('clear_output.CodeCell', handleClearOutput);\n    events.on('delete.Cell', handleClearOutput);\n\n    /* Handle when a new output is added */\n    events.on('output_added.OutputArea', handleAddOutput);\n\n    /**\n     * Register the mime type and append_mime function with output_area\n     */\n    OutputArea.prototype.register_mime_type(EXEC_MIME_TYPE, append_mime, {\n      /* Is output safe? */\n      safe: true,\n      /* Index of renderer in `output_area.display_order` */\n      index: 0\n    });\n  }\n\n  // register the mime type if in Jupyter Notebook environment and previously unregistered\n  if (root.Jupyter !== undefined) {\n    const events = require('base/js/events');\n    const OutputArea = require('notebook/js/outputarea').OutputArea;\n\n    if (OutputArea.prototype.mime_types().indexOf(EXEC_MIME_TYPE) == -1) {\n      register_renderer(events, OutputArea);\n    }\n  }\n  if (typeof (root._bokeh_timeout) === \"undefined\" || force === true) {\n    root._bokeh_timeout = Date.now() + 5000;\n    root._bokeh_failed_load = false;\n  }\n\n  const NB_LOAD_WARNING = {'data': {'text/html':\n     \"<div style='background-color: #fdd'>\\n\"+\n     \"<p>\\n\"+\n     \"BokehJS does not appear to have successfully loaded. If loading BokehJS from CDN, this \\n\"+\n     \"may be due to a slow or bad network connection. Possible fixes:\\n\"+\n     \"</p>\\n\"+\n     \"<ul>\\n\"+\n     \"<li>re-rerun `output_notebook()` to attempt to load from CDN again, or</li>\\n\"+\n     \"<li>use INLINE resources instead, as so:</li>\\n\"+\n     \"</ul>\\n\"+\n     \"<code>\\n\"+\n     \"from bokeh.resources import INLINE\\n\"+\n     \"output_notebook(resources=INLINE)\\n\"+\n     \"</code>\\n\"+\n     \"</div>\"}};\n\n  function display_loaded() {\n    const el = document.getElementById(\"1002\");\n    if (el != null) {\n      el.textContent = \"BokehJS is loading...\";\n    }\n    if (root.Bokeh !== undefined) {\n      if (el != null) {\n        el.textContent = \"BokehJS \" + root.Bokeh.version + \" successfully loaded.\";\n      }\n    } else if (Date.now() < root._bokeh_timeout) {\n      setTimeout(display_loaded, 100)\n    }\n  }\n\n  function run_callbacks() {\n    try {\n      root._bokeh_onload_callbacks.forEach(function(callback) {\n        if (callback != null)\n          callback();\n      });\n    } finally {\n      delete root._bokeh_onload_callbacks\n    }\n    console.debug(\"Bokeh: all callbacks have finished\");\n  }\n\n  function load_libs(css_urls, js_urls, callback) {\n    if (css_urls == null) css_urls = [];\n    if (js_urls == null) js_urls = [];\n\n    root._bokeh_onload_callbacks.push(callback);\n    if (root._bokeh_is_loading > 0) {\n      console.debug(\"Bokeh: BokehJS is being loaded, scheduling callback at\", now());\n      return null;\n    }\n    if (js_urls == null || js_urls.length === 0) {\n      run_callbacks();\n      return null;\n    }\n    console.debug(\"Bokeh: BokehJS not loaded, scheduling load and callback at\", now());\n    root._bokeh_is_loading = css_urls.length + js_urls.length;\n\n    function on_load() {\n      root._bokeh_is_loading--;\n      if (root._bokeh_is_loading === 0) {\n        console.debug(\"Bokeh: all BokehJS libraries/stylesheets loaded\");\n        run_callbacks()\n      }\n    }\n\n    function on_error(url) {\n      console.error(\"failed to load \" + url);\n    }\n\n    for (let i = 0; i < css_urls.length; i++) {\n      const url = css_urls[i];\n      const element = document.createElement(\"link\");\n      element.onload = on_load;\n      element.onerror = on_error.bind(null, url);\n      element.rel = \"stylesheet\";\n      element.type = \"text/css\";\n      element.href = url;\n      console.debug(\"Bokeh: injecting link tag for BokehJS stylesheet: \", url);\n      document.body.appendChild(element);\n    }\n\n    for (let i = 0; i < js_urls.length; i++) {\n      const url = js_urls[i];\n      const element = document.createElement('script');\n      element.onload = on_load;\n      element.onerror = on_error.bind(null, url);\n      element.async = false;\n      element.src = url;\n      console.debug(\"Bokeh: injecting script tag for BokehJS library: \", url);\n      document.head.appendChild(element);\n    }\n  };\n\n  function inject_raw_css(css) {\n    const element = document.createElement(\"style\");\n    element.appendChild(document.createTextNode(css));\n    document.body.appendChild(element);\n  }\n\n  const js_urls = [\"https://cdn.bokeh.org/bokeh/release/bokeh-2.4.3.min.js\", \"https://cdn.bokeh.org/bokeh/release/bokeh-gl-2.4.3.min.js\", \"https://cdn.bokeh.org/bokeh/release/bokeh-widgets-2.4.3.min.js\", \"https://cdn.bokeh.org/bokeh/release/bokeh-tables-2.4.3.min.js\", \"https://cdn.bokeh.org/bokeh/release/bokeh-mathjax-2.4.3.min.js\"];\n  const css_urls = [];\n\n  const inline_js = [    function(Bokeh) {\n      Bokeh.set_log_level(\"info\");\n    },\nfunction(Bokeh) {\n    }\n  ];\n\n  function run_inline_js() {\n    if (root.Bokeh !== undefined || force === true) {\n          for (let i = 0; i < inline_js.length; i++) {\n      inline_js[i].call(root, root.Bokeh);\n    }\nif (force === true) {\n        display_loaded();\n      }} else if (Date.now() < root._bokeh_timeout) {\n      setTimeout(run_inline_js, 100);\n    } else if (!root._bokeh_failed_load) {\n      console.log(\"Bokeh: BokehJS failed to load within specified timeout.\");\n      root._bokeh_failed_load = true;\n    } else if (force !== true) {\n      const cell = $(document.getElementById(\"1002\")).parents('.cell').data().cell;\n      cell.output_area.append_execute_result(NB_LOAD_WARNING)\n    }\n  }\n\n  if (root._bokeh_is_loading === 0) {\n    console.debug(\"Bokeh: BokehJS loaded, going straight to plotting\");\n    run_inline_js();\n  } else {\n    load_libs(css_urls, js_urls, function() {\n      console.debug(\"Bokeh: BokehJS plotting callback run at\", now());\n      run_inline_js();\n    });\n  }\n}(window));",
      "application/vnd.bokehjs_load.v0+json": ""
     },
     "metadata": {},
     "output_type": "display_data"
    }
   ],
   "source": [
    "import numpy as np\n",
    "import pandas as pd\n",
    "\n",
    "from bokeh.plotting import figure, show\n",
    "from bokeh.models import Range1d\n",
    "from bokeh.io import output_notebook\n",
    "\n",
    "output_notebook()"
   ]
  },
  {
   "cell_type": "code",
   "execution_count": 2,
   "metadata": {},
   "outputs": [
    {
     "data": {
      "text/html": [
       "<div>\n",
       "<style scoped>\n",
       "    .dataframe tbody tr th:only-of-type {\n",
       "        vertical-align: middle;\n",
       "    }\n",
       "\n",
       "    .dataframe tbody tr th {\n",
       "        vertical-align: top;\n",
       "    }\n",
       "\n",
       "    .dataframe thead th {\n",
       "        text-align: right;\n",
       "    }\n",
       "</style>\n",
       "<table border=\"1\" class=\"dataframe\">\n",
       "  <thead>\n",
       "    <tr style=\"text-align: right;\">\n",
       "      <th></th>\n",
       "      <th>Age</th>\n",
       "      <th>Sex</th>\n",
       "      <th>BP</th>\n",
       "      <th>Cholesterol</th>\n",
       "      <th>Na_to_K</th>\n",
       "      <th>Drug</th>\n",
       "    </tr>\n",
       "  </thead>\n",
       "  <tbody>\n",
       "    <tr>\n",
       "      <th>0</th>\n",
       "      <td>23</td>\n",
       "      <td>F</td>\n",
       "      <td>HIGH</td>\n",
       "      <td>HIGH</td>\n",
       "      <td>25.355</td>\n",
       "      <td>DrugY</td>\n",
       "    </tr>\n",
       "    <tr>\n",
       "      <th>1</th>\n",
       "      <td>47</td>\n",
       "      <td>M</td>\n",
       "      <td>LOW</td>\n",
       "      <td>HIGH</td>\n",
       "      <td>13.093</td>\n",
       "      <td>drugC</td>\n",
       "    </tr>\n",
       "    <tr>\n",
       "      <th>2</th>\n",
       "      <td>47</td>\n",
       "      <td>M</td>\n",
       "      <td>LOW</td>\n",
       "      <td>HIGH</td>\n",
       "      <td>10.114</td>\n",
       "      <td>drugC</td>\n",
       "    </tr>\n",
       "    <tr>\n",
       "      <th>3</th>\n",
       "      <td>28</td>\n",
       "      <td>F</td>\n",
       "      <td>NORMAL</td>\n",
       "      <td>HIGH</td>\n",
       "      <td>7.798</td>\n",
       "      <td>drugX</td>\n",
       "    </tr>\n",
       "    <tr>\n",
       "      <th>4</th>\n",
       "      <td>61</td>\n",
       "      <td>F</td>\n",
       "      <td>LOW</td>\n",
       "      <td>HIGH</td>\n",
       "      <td>18.043</td>\n",
       "      <td>DrugY</td>\n",
       "    </tr>\n",
       "  </tbody>\n",
       "</table>\n",
       "</div>"
      ],
      "text/plain": [
       "   Age Sex      BP Cholesterol  Na_to_K   Drug\n",
       "0   23   F    HIGH        HIGH   25.355  DrugY\n",
       "1   47   M     LOW        HIGH   13.093  drugC\n",
       "2   47   M     LOW        HIGH   10.114  drugC\n",
       "3   28   F  NORMAL        HIGH    7.798  drugX\n",
       "4   61   F     LOW        HIGH   18.043  DrugY"
      ]
     },
     "execution_count": 2,
     "metadata": {},
     "output_type": "execute_result"
    }
   ],
   "source": [
    "df = pd.read_csv(\"../data/drug200.csv\")\n",
    "\n",
    "df.head()"
   ]
  },
  {
   "cell_type": "code",
   "execution_count": 7,
   "metadata": {},
   "outputs": [
    {
     "data": {
      "text/html": [
       "\n",
       "  <div class=\"bk-root\" id=\"916cfd5d-bfd3-4298-b611-a78390a486f8\" data-root-id=\"1433\"></div>\n"
      ]
     },
     "metadata": {},
     "output_type": "display_data"
    },
    {
     "data": {
      "application/javascript": "(function(root) {\n  function embed_document(root) {\n  const docs_json = {\"4735df0e-449c-4f71-ace4-26ee11ef1bf2\":{\"defs\":[],\"roots\":{\"references\":[{\"attributes\":{\"below\":[{\"id\":\"1444\"}],\"center\":[{\"id\":\"1447\"},{\"id\":\"1451\"},{\"id\":\"1482\"}],\"height\":300,\"left\":[{\"id\":\"1448\"}],\"max_width\":800,\"renderers\":[{\"id\":\"1470\"}],\"sizing_mode\":\"stretch_width\",\"title\":{\"id\":\"1434\"},\"toolbar\":{\"id\":\"1459\"},\"x_range\":{\"id\":\"1436\"},\"x_scale\":{\"id\":\"1440\"},\"y_range\":{\"id\":\"1438\"},\"y_scale\":{\"id\":\"1442\"}},\"id\":\"1433\",\"subtype\":\"Figure\",\"type\":\"Plot\"},{\"attributes\":{\"overlay\":{\"id\":\"1458\"}},\"id\":\"1454\",\"type\":\"BoxZoomTool\"},{\"attributes\":{},\"id\":\"1452\",\"type\":\"PanTool\"},{\"attributes\":{\"coordinates\":null,\"group\":null,\"items\":[{\"id\":\"1483\"}]},\"id\":\"1482\",\"type\":\"Legend\"},{\"attributes\":{\"bottom_units\":\"screen\",\"coordinates\":null,\"fill_alpha\":0.5,\"fill_color\":\"lightgrey\",\"group\":null,\"left_units\":\"screen\",\"level\":\"overlay\",\"line_alpha\":1.0,\"line_color\":\"black\",\"line_dash\":[4,4],\"line_width\":2,\"right_units\":\"screen\",\"syncable\":false,\"top_units\":\"screen\"},\"id\":\"1458\",\"type\":\"BoxAnnotation\"},{\"attributes\":{},\"id\":\"1477\",\"type\":\"BasicTickFormatter\"},{\"attributes\":{},\"id\":\"1453\",\"type\":\"WheelZoomTool\"},{\"attributes\":{\"source\":{\"id\":\"1466\"}},\"id\":\"1471\",\"type\":\"CDSView\"},{\"attributes\":{},\"id\":\"1479\",\"type\":\"UnionRenderers\"},{\"attributes\":{\"label\":{\"value\":\"Age.\"},\"renderers\":[{\"id\":\"1470\"}]},\"id\":\"1483\",\"type\":\"LegendItem\"},{\"attributes\":{},\"id\":\"1480\",\"type\":\"Selection\"},{\"attributes\":{\"fill_alpha\":{\"value\":0.1},\"fill_color\":{\"value\":\"white\"},\"hatch_alpha\":{\"value\":0.1},\"line_alpha\":{\"value\":0.1},\"line_color\":{\"value\":\"#1f77b4\"},\"size\":{\"value\":8},\"x\":{\"field\":\"x\"},\"y\":{\"field\":\"y\"}},\"id\":\"1468\",\"type\":\"Circle\"},{\"attributes\":{\"tools\":[{\"id\":\"1452\"},{\"id\":\"1453\"},{\"id\":\"1454\"},{\"id\":\"1455\"},{\"id\":\"1456\"},{\"id\":\"1457\"}]},\"id\":\"1459\",\"type\":\"Toolbar\"},{\"attributes\":{},\"id\":\"1445\",\"type\":\"BasicTicker\"},{\"attributes\":{\"fill_alpha\":{\"value\":0.2},\"fill_color\":{\"value\":\"white\"},\"hatch_alpha\":{\"value\":0.2},\"line_alpha\":{\"value\":0.2},\"line_color\":{\"value\":\"#1f77b4\"},\"size\":{\"value\":8},\"x\":{\"field\":\"x\"},\"y\":{\"field\":\"y\"}},\"id\":\"1469\",\"type\":\"Circle\"},{\"attributes\":{},\"id\":\"1436\",\"type\":\"DataRange1d\"},{\"attributes\":{\"axis\":{\"id\":\"1444\"},\"coordinates\":null,\"group\":null,\"ticker\":null},\"id\":\"1447\",\"type\":\"Grid\"},{\"attributes\":{\"axis_label\":\"Age\",\"coordinates\":null,\"formatter\":{\"id\":\"1477\"},\"group\":null,\"major_label_policy\":{\"id\":\"1478\"},\"ticker\":{\"id\":\"1445\"}},\"id\":\"1444\",\"type\":\"LinearAxis\"},{\"attributes\":{\"coordinates\":null,\"data_source\":{\"id\":\"1466\"},\"glyph\":{\"id\":\"1467\"},\"group\":null,\"hover_glyph\":null,\"muted_glyph\":{\"id\":\"1469\"},\"nonselection_glyph\":{\"id\":\"1468\"},\"view\":{\"id\":\"1471\"}},\"id\":\"1470\",\"type\":\"GlyphRenderer\"},{\"attributes\":{},\"id\":\"1440\",\"type\":\"LinearScale\"},{\"attributes\":{\"end\":80},\"id\":\"1438\",\"type\":\"Range1d\"},{\"attributes\":{\"coordinates\":null,\"group\":null,\"text\":\"Patient Age\"},\"id\":\"1434\",\"type\":\"Title\"},{\"attributes\":{\"axis\":{\"id\":\"1448\"},\"coordinates\":null,\"dimension\":1,\"group\":null,\"ticker\":null},\"id\":\"1451\",\"type\":\"Grid\"},{\"attributes\":{},\"id\":\"1455\",\"type\":\"SaveTool\"},{\"attributes\":{},\"id\":\"1449\",\"type\":\"BasicTicker\"},{\"attributes\":{},\"id\":\"1456\",\"type\":\"ResetTool\"},{\"attributes\":{\"data\":{\"x\":[0,1,2,3,4,5,6,7,8,9,10,11,12,13,14,15,16,17,18,19,20,21,22,23,24,25,26,27,28,29,30,31,32,33,34,35,36,37,38,39,40,41,42,43,44,45,46,47,48,49,50,51,52,53,54,55,56,57,58,59,60,61,62,63,64,65,66,67,68,69,70,71,72,73,74,75,76,77,78,79,80,81,82,83,84,85,86,87,88,89,90,91,92,93,94,95,96,97,98,99,100,101,102,103,104,105,106,107,108,109,110,111,112,113,114,115,116,117,118,119,120,121,122,123,124,125,126,127,128,129,130,131,132,133,134,135,136,137,138,139,140,141,142,143,144,145,146,147,148,149,150,151,152,153,154,155,156,157,158,159,160,161,162,163,164,165,166,167,168,169,170,171,172,173,174,175,176,177,178,179,180,181,182,183,184,185,186,187,188,189,190,191,192,193,194,195,196,197,198,199],\"y\":[23,47,47,28,61,22,49,41,60,43,47,34,43,74,50,16,69,43,23,32,57,63,47,48,33,28,31,49,39,45,18,74,49,65,53,46,32,39,39,15,73,58,50,23,50,66,37,68,23,28,58,67,62,24,68,26,65,40,60,34,38,24,67,45,60,68,29,17,54,18,70,28,24,41,31,26,36,26,19,32,60,64,32,38,47,59,51,69,37,50,62,41,29,42,56,36,58,56,20,15,31,45,28,56,22,37,22,42,72,23,50,47,35,65,20,51,67,40,32,61,28,15,34,36,53,19,66,35,47,32,70,52,49,24,42,74,55,35,51,69,49,64,60,74,39,61,37,26,61,22,49,68,55,72,37,49,31,53,59,34,30,57,43,21,16,38,58,57,51,20,28,45,39,41,42,73,48,25,39,67,22,59,20,36,18,57,70,47,65,64,58,23,72,72,46,56,16,52,23,40]},\"selected\":{\"id\":\"1480\"},\"selection_policy\":{\"id\":\"1479\"}},\"id\":\"1466\",\"type\":\"ColumnDataSource\"},{\"attributes\":{\"fill_color\":{\"value\":\"white\"},\"line_color\":{\"value\":\"#1f77b4\"},\"size\":{\"value\":8},\"x\":{\"field\":\"x\"},\"y\":{\"field\":\"y\"}},\"id\":\"1467\",\"type\":\"Circle\"},{\"attributes\":{},\"id\":\"1457\",\"type\":\"HelpTool\"},{\"attributes\":{\"axis_label\":\"Pacient\",\"coordinates\":null,\"formatter\":{\"id\":\"1474\"},\"group\":null,\"major_label_policy\":{\"id\":\"1475\"},\"ticker\":{\"id\":\"1449\"}},\"id\":\"1448\",\"type\":\"LinearAxis\"},{\"attributes\":{},\"id\":\"1442\",\"type\":\"LinearScale\"},{\"attributes\":{},\"id\":\"1474\",\"type\":\"BasicTickFormatter\"},{\"attributes\":{},\"id\":\"1478\",\"type\":\"AllLabels\"},{\"attributes\":{},\"id\":\"1475\",\"type\":\"AllLabels\"}],\"root_ids\":[\"1433\"]},\"title\":\"Bokeh Application\",\"version\":\"2.4.3\"}};\n  const render_items = [{\"docid\":\"4735df0e-449c-4f71-ace4-26ee11ef1bf2\",\"root_ids\":[\"1433\"],\"roots\":{\"1433\":\"916cfd5d-bfd3-4298-b611-a78390a486f8\"}}];\n  root.Bokeh.embed.embed_items_notebook(docs_json, render_items);\n  }\n  if (root.Bokeh !== undefined) {\n    embed_document(root);\n  } else {\n    let attempts = 0;\n    const timer = setInterval(function(root) {\n      if (root.Bokeh !== undefined) {\n        clearInterval(timer);\n        embed_document(root);\n      } else {\n        attempts++;\n        if (attempts > 100) {\n          clearInterval(timer);\n          console.log(\"Bokeh: ERROR: Unable to run BokehJS code because BokehJS library is missing\");\n        }\n      }\n    }, 10, root)\n  }\n})(window);",
      "application/vnd.bokehjs_exec.v0+json": ""
     },
     "metadata": {
      "application/vnd.bokehjs_exec.v0+json": {
       "id": "1433"
      }
     },
     "output_type": "display_data"
    }
   ],
   "source": [
    "p = figure(\n",
    "  title=\"Patient Age\",\n",
    "  x_axis_label='Age',\n",
    "  y_axis_label='Pacient',\n",
    "  sizing_mode='stretch_width',\n",
    "  y_range=(0, 80),\n",
    "  max_width=800,\n",
    "  height=300,\n",
    ")\n",
    "#p.y_range = Range1d(0, 80)\n",
    "#p.line(df[\"Age\"].index, df[\"Age\"].values, legend=\"Age.\", line_width=2)\n",
    "p.circle(df[\"Age\"].index, df[\"Age\"].values, legend_label=\"Age.\", fill_color=\"white\", size=8)\n",
    "show(p)"
   ]
  },
  {
   "cell_type": "code",
   "execution_count": 33,
   "metadata": {},
   "outputs": [
    {
     "data": {
      "text/html": [
       "\n",
       "  <div class=\"bk-root\" id=\"024a5e77-043e-4d1b-92c0-ef75f62359a1\" data-root-id=\"2463\"></div>\n"
      ]
     },
     "metadata": {},
     "output_type": "display_data"
    },
    {
     "data": {
      "application/javascript": "(function(root) {\n  function embed_document(root) {\n  const docs_json = {\"9f7846af-eae6-4e2d-a85d-78fcc88d1765\":{\"defs\":[],\"roots\":{\"references\":[{\"attributes\":{\"below\":[{\"id\":\"2474\"}],\"center\":[{\"id\":\"2477\"},{\"id\":\"2481\"}],\"height\":300,\"left\":[{\"id\":\"2478\"}],\"max_width\":800,\"renderers\":[{\"id\":\"2500\"}],\"sizing_mode\":\"stretch_width\",\"title\":{\"id\":\"2464\"},\"toolbar\":{\"id\":\"2489\"},\"x_range\":{\"id\":\"2466\"},\"x_scale\":{\"id\":\"2470\"},\"y_range\":{\"id\":\"2468\"},\"y_scale\":{\"id\":\"2472\"}},\"id\":\"2463\",\"subtype\":\"Figure\",\"type\":\"Plot\"},{\"attributes\":{\"axis_label\":\"Age\",\"coordinates\":null,\"formatter\":{\"id\":\"2587\"},\"group\":null,\"major_label_policy\":{\"id\":\"2588\"},\"ticker\":{\"id\":\"2475\"}},\"id\":\"2474\",\"type\":\"LinearAxis\"},{\"attributes\":{\"axis\":{\"id\":\"2474\"},\"coordinates\":null,\"group\":null,\"ticker\":null},\"id\":\"2477\",\"type\":\"Grid\"},{\"attributes\":{\"coordinates\":null,\"group\":null,\"text\":\"Patient Age\"},\"id\":\"2464\",\"type\":\"Title\"},{\"attributes\":{},\"id\":\"2584\",\"type\":\"BasicTickFormatter\"},{\"attributes\":{},\"id\":\"2475\",\"type\":\"BasicTicker\"},{\"attributes\":{},\"id\":\"2585\",\"type\":\"AllLabels\"},{\"attributes\":{\"fill_color\":{\"value\":\"#1f77b4\"},\"line_color\":{\"value\":\"#1f77b4\"},\"top\":{\"field\":\"top\"},\"width\":{\"value\":0.9},\"x\":{\"field\":\"x\"}},\"id\":\"2497\",\"type\":\"VBar\"},{\"attributes\":{},\"id\":\"2587\",\"type\":\"BasicTickFormatter\"},{\"attributes\":{},\"id\":\"2482\",\"type\":\"PanTool\"},{\"attributes\":{},\"id\":\"2470\",\"type\":\"LinearScale\"},{\"attributes\":{\"coordinates\":null,\"data_source\":{\"id\":\"2496\"},\"glyph\":{\"id\":\"2497\"},\"group\":null,\"hover_glyph\":null,\"muted_glyph\":{\"id\":\"2499\"},\"nonselection_glyph\":{\"id\":\"2498\"},\"view\":{\"id\":\"2501\"}},\"id\":\"2500\",\"type\":\"GlyphRenderer\"},{\"attributes\":{},\"id\":\"2479\",\"type\":\"BasicTicker\"},{\"attributes\":{},\"id\":\"2472\",\"type\":\"LinearScale\"},{\"attributes\":{},\"id\":\"2486\",\"type\":\"ResetTool\"},{\"attributes\":{},\"id\":\"2588\",\"type\":\"AllLabels\"},{\"attributes\":{},\"id\":\"2468\",\"type\":\"DataRange1d\"},{\"attributes\":{\"overlay\":{\"id\":\"2488\"}},\"id\":\"2484\",\"type\":\"BoxZoomTool\"},{\"attributes\":{},\"id\":\"2466\",\"type\":\"DataRange1d\"},{\"attributes\":{},\"id\":\"2485\",\"type\":\"SaveTool\"},{\"attributes\":{\"fill_alpha\":{\"value\":0.1},\"fill_color\":{\"value\":\"#1f77b4\"},\"hatch_alpha\":{\"value\":0.1},\"line_alpha\":{\"value\":0.1},\"line_color\":{\"value\":\"#1f77b4\"},\"top\":{\"field\":\"top\"},\"width\":{\"value\":0.9},\"x\":{\"field\":\"x\"}},\"id\":\"2498\",\"type\":\"VBar\"},{\"attributes\":{\"axis_label\":\"n Pacient\",\"coordinates\":null,\"formatter\":{\"id\":\"2584\"},\"group\":null,\"major_label_policy\":{\"id\":\"2585\"},\"ticker\":{\"id\":\"2479\"}},\"id\":\"2478\",\"type\":\"LinearAxis\"},{\"attributes\":{\"bottom_units\":\"screen\",\"coordinates\":null,\"fill_alpha\":0.5,\"fill_color\":\"lightgrey\",\"group\":null,\"left_units\":\"screen\",\"level\":\"overlay\",\"line_alpha\":1.0,\"line_color\":\"black\",\"line_dash\":[4,4],\"line_width\":2,\"right_units\":\"screen\",\"syncable\":false,\"top_units\":\"screen\"},\"id\":\"2488\",\"type\":\"BoxAnnotation\"},{\"attributes\":{},\"id\":\"2589\",\"type\":\"UnionRenderers\"},{\"attributes\":{},\"id\":\"2487\",\"type\":\"HelpTool\"},{\"attributes\":{},\"id\":\"2590\",\"type\":\"Selection\"},{\"attributes\":{\"source\":{\"id\":\"2496\"}},\"id\":\"2501\",\"type\":\"CDSView\"},{\"attributes\":{\"tools\":[{\"id\":\"2482\"},{\"id\":\"2483\"},{\"id\":\"2484\"},{\"id\":\"2485\"},{\"id\":\"2486\"},{\"id\":\"2487\"}]},\"id\":\"2489\",\"type\":\"Toolbar\"},{\"attributes\":{},\"id\":\"2483\",\"type\":\"WheelZoomTool\"},{\"attributes\":{\"axis\":{\"id\":\"2478\"},\"coordinates\":null,\"dimension\":1,\"group\":null,\"ticker\":null},\"id\":\"2481\",\"type\":\"Grid\"},{\"attributes\":{\"fill_alpha\":{\"value\":0.2},\"fill_color\":{\"value\":\"#1f77b4\"},\"hatch_alpha\":{\"value\":0.2},\"line_alpha\":{\"value\":0.2},\"line_color\":{\"value\":\"#1f77b4\"},\"top\":{\"field\":\"top\"},\"width\":{\"value\":0.9},\"x\":{\"field\":\"x\"}},\"id\":\"2499\",\"type\":\"VBar\"},{\"attributes\":{\"data\":{\"top\":[8,7,7,7,6,6,5,5,5,5,5,4,4,4,4,4,4,4,4,4,4,4,4,4,4,4,4,4,4,4,3,3,3,3,3,3,3,3,3,3,3,2,2,2,2,2,2,2,2,2,1,1,1,1,1,1,1],\"x\":[47,23,28,49,39,32,50,37,58,60,22,34,72,51,42,26,24,74,67,68,61,56,20,36,45,41,31,43,65,57,53,40,70,59,16,38,15,69,35,18,64,52,55,62,19,29,66,73,46,48,54,17,33,63,30,21,25]},\"selected\":{\"id\":\"2590\"},\"selection_policy\":{\"id\":\"2589\"}},\"id\":\"2496\",\"type\":\"ColumnDataSource\"}],\"root_ids\":[\"2463\"]},\"title\":\"Bokeh Application\",\"version\":\"2.4.3\"}};\n  const render_items = [{\"docid\":\"9f7846af-eae6-4e2d-a85d-78fcc88d1765\",\"root_ids\":[\"2463\"],\"roots\":{\"2463\":\"024a5e77-043e-4d1b-92c0-ef75f62359a1\"}}];\n  root.Bokeh.embed.embed_items_notebook(docs_json, render_items);\n  }\n  if (root.Bokeh !== undefined) {\n    embed_document(root);\n  } else {\n    let attempts = 0;\n    const timer = setInterval(function(root) {\n      if (root.Bokeh !== undefined) {\n        clearInterval(timer);\n        embed_document(root);\n      } else {\n        attempts++;\n        if (attempts > 100) {\n          clearInterval(timer);\n          console.log(\"Bokeh: ERROR: Unable to run BokehJS code because BokehJS library is missing\");\n        }\n      }\n    }, 10, root)\n  }\n})(window);",
      "application/vnd.bokehjs_exec.v0+json": ""
     },
     "metadata": {
      "application/vnd.bokehjs_exec.v0+json": {
       "id": "2463"
      }
     },
     "output_type": "display_data"
    }
   ],
   "source": [
    "def plot_histogram(df, column, title, x_label, y_label):\n",
    "  hist = df[column].value_counts()\n",
    "  p = figure(\n",
    "    title=title,\n",
    "    x_axis_label=x_label,\n",
    "    y_axis_label=y_label,\n",
    "    sizing_mode='stretch_width',\n",
    "    max_width=800,\n",
    "    height=300,\n",
    "  )\n",
    "  p.vbar(x=hist.index, top=hist.values, width=0.9)\n",
    "  show(p)\n",
    "\n",
    "plot_histogram(df, \"Age\", \"Patient Age\", \"Age\", \"n Pacient\")"
   ]
  },
  {
   "attachments": {},
   "cell_type": "markdown",
   "metadata": {},
   "source": [
    "<a name=\"referencias\"></a>\n",
    "## Referencias\n",
    "\n",
    "- Pajankar, A. (2020). Practical Python Data Visualization: A Fast Track Approach To Learning Data Visualization With Python. Apress.\n",
    "- Wilke, C. O. (2019). Fundamentals of Data Visualization: A Primer on Making Informative and Compelling Figures (1.). O’Reilly Media.\n",
    "- Iliinsky, N., & Steele, J. (2011). Designing Data Visualizations: Representing Informational Relationships. Van Duuren Media.\n",
    "- Sahay, A. (2016). Data visualization, volume i : Recent trends and applications using conventional and big data. Business Expert Press.\n",
    "- Guía de visualización de datos: definición, ejemplos y recursos de aprendizaje. (s. f.). Tableau. https://www.tableau.com/es-es/learn/articles/data-visualization\n",
    "- A Complete Guide to Data Visualization in Python With Libraries, Chart, Graphs & More. (s. f.). Simplilearn. https://www.simplilearn.com/tutorials/python-tutorial/data-visualization-in-python\n",
    "- Cómo mejorar tu web gracias a los mapas de calor. (s. f.). Devservice.es. https://www.devservice.es/blog/mapas-calor-web/"
   ]
  },
  {
   "cell_type": "code",
   "execution_count": null,
   "metadata": {},
   "outputs": [],
   "source": [
    "# Enero 2023\n",
    "# Mario Ruano Fernández\n",
    "# Machine Learning Engineer (curso 2022-2023)\n",
    "# Máster en Ingeniería del Software: Cloud, Datos y Gestión TI\n",
    "# Universidad de Sevilla"
   ]
  }
 ],
 "metadata": {
  "kernelspec": {
   "display_name": "base",
   "language": "python",
   "name": "python3"
  },
  "language_info": {
   "codemirror_mode": {
    "name": "ipython",
    "version": 3
   },
   "file_extension": ".py",
   "mimetype": "text/x-python",
   "name": "python",
   "nbconvert_exporter": "python",
   "pygments_lexer": "ipython3",
   "version": "3.9.13 (main, Aug 25 2022, 18:29:29) \n[Clang 12.0.0 ]"
  },
  "orig_nbformat": 4,
  "vscode": {
   "interpreter": {
    "hash": "eb182b86209dcd705bf9dec3049d5d7c758c5aab2b12220beac9429b4f10b188"
   }
  }
 },
 "nbformat": 4,
 "nbformat_minor": 2
}
