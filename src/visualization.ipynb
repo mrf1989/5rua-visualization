{
 "cells": [
  {
   "attachments": {},
   "cell_type": "markdown",
   "metadata": {},
   "source": [
    "# Visualización\n",
    "\n",
    "Este *notebook* trata sobre visualización de datos, presente en todo proceso KDD. Aquí se presenta el desarrollo del trabajo realizado para la asignatura Machine Learning Engineering, del Máster en Ingeniería del Software: Cloud, Datos y Gestión TI de la Universidad de Sevilla, curso académico 2022-23.\n",
    "\n",
    "## Tabla de contenidos\n",
    "\n",
    "* [Autor](#autor)\n",
    "* [Introducción](#introduccion)\n",
    "* [Definición](#definicion)\n",
    "* [Elementos para la visualización](#elementos)\n",
    "* [Criterio de uso](#criterios)\n",
    "* [Caso práctico: Bokeh library](#bokeh)\n",
    "* [Referencias](#referencias)\n",
    "\n",
    "___"
   ]
  },
  {
   "attachments": {},
   "cell_type": "markdown",
   "metadata": {},
   "source": [
    "<a name=\"autor\"></a>\n",
    "## Autor\n",
    "\n",
    "Este trabajo y este *notebook* han sido desarrollados por **Mario Ruano Fernández** ([mruano@us.es](mailto:mruano@us.es))."
   ]
  },
  {
   "attachments": {},
   "cell_type": "markdown",
   "metadata": {},
   "source": [
    "<a name=\"introduccion\"></a>\n",
    "## Introducción\n",
    "\n",
    "En este trabajo se pretende realizar un estudio del estado del arte de la visualización de datos, marcando como objetivos.\n",
    "\n",
    "- Describir los diferentes tipos de formas gráficas que se utilizan para la visualización de datos.\n",
    "- Establecer una serie de criterios para el correcto uso de la visualización.\n",
    "- Desarrollo de ejemplos y casos de uso.\n",
    "\n",
    "Para dar cumplimiento a estos objetivos, en la sección [Elementos para la visualización](#elementos) se especifican algunas características importantes que deben tenerse en cuenta en toda representación gráfica, de modo que pueda obtenerse, como resultado, una buena visualización de datos. En la sección [Tipos](#tipos) se incluye una descripción de los diferentes tipos de visualizaciones que se pueden encontrar, cómo se clasifican y cuáles son las más utilizadas. Por último, en la sección [Caso práctico](#bokeh), se pondrán en práctica los aspectos teóricos estudiados, realizándose ejemplos con la librería [Bokeh](https://bokeh.org/)."
   ]
  },
  {
   "attachments": {},
   "cell_type": "markdown",
   "metadata": {},
   "source": [
    "<a name=\"definicion\"></a>\n",
    "## Definición\n",
    "\n",
    "La visualización de los datos puede definirse como una forma gráfica y visual de representar información y datos a través de tablas, gráficos, mapas y otros elementos visuales (Tableau, s.f.). Gracias a la visualización, las personas pueden acceder a la información de los datos de manera más sencilla y más comprensible (Sahay, 2016).\n",
    "\n",
    "Frente a grandes cantidades y conjuntos de datos, la visualización ayuda a sintetizar y detectar de manera efectiva características que los datos esconden, relaciones entre variables, patrones, tendencias, etc. Por esta razón, la visualización se utiliza en la gran mayoría de fases o etapas de cualquier proceso KDD. Desde la selección de datos hasta la comunicación del conocimiento extraido de los mismo, pasando por el preprocesamiento, el análisis y la aplicación de técnicas de Machine Learning y Data Mining.\n",
    "\n",
    "La visualización de datos es un proceso, en esencia, simple: tomamos los valores de los datos y los convertimos sistemática y lógicamente en elementos visuales que conforman una representación gráfica o visual (Wilke, 2019).\n",
    "\n",
    "Sin embargo, el campo de la visualización es extremadamente amplio. Aquí convergen una serie de disciplinas, como el diseño gráfico, el arte, la ciencia cognitiva, las matemáticas, la geometría, etc.\n",
    "\n",
    "Siguiendo a Sahay (2016), encontramos dos categorías dentro de la visualización de datos: la exploración y la explicación. Estas atienden a momentos distintos y existen técnicas y herramientas que se ajustan mejor a cada una de ellas.\n",
    "\n",
    "La exploración de datos consiste en la búsqueda del significado y el sentido de los datos cuando realmente no se sabe qué aportan, frente a la explicación, cuando sí se tiene conocimiento sobre los datos y se trata de contar y transmitir el conocimiento de estos. Aun así, se suelen dar casos híbridos, ya que estas categorías no se ven representadas de manera exacta siempre (Sahay, 2016).\n",
    "\n",
    "En definitiva, en todo caso será determinante el contexto en el que se realiza la visualización y con qué enfoque se desarrolla. Por lo general, en este trabajo, se trabaja en la línea de la visualización aplicada al campo del Machine Learning."
   ]
  },
  {
   "attachments": {},
   "cell_type": "markdown",
   "metadata": {},
   "source": [
    "<a name=\"elementos\"></a>\n",
    "## Elementos para la visualización\n",
    "\n",
    "Tal y como define Wilke (2019) en su libro Fundamentals of Data Visualization, la visualización de datos comprende una parte de arte y otra parte de ciencia. Se debe buscar un equilibrio entre ambas partes para cumplir con su propósito de uso: comunicar una información correcta, comprensible, sin ambigüedades, útil y de interés. En definitiva, la visualización de datos no es más que una forma de comunicación visual que presenta los datos de forma gráfica (Sahay, 2016).\n",
    "\n",
    "Por esta razón, y debido a esa necesidad de equilibrar las creaciones gráficas, aquí se identifican una serie de elementos y aspectos a tener en cuenta a la hora de generar visualizaciones. Es un amplio campo de trabajo y todos estos elementos pueden ser estudiados con gran profundidad y detalle. En este *notebook* solo se van a identificar y se indicarán algunas buenas prácticas, especialmente en aquellos elementos que pueden ser manipulados a través de las librerías de visualización, en general, y de los que permite personalizar la librería Bokeh, en particular.\n",
    "\n",
    "En definitiva, cuando se pretende generar gráficos a partir de datos, se está tratando de desarrollar un procedimiento de mapeo, mediante el cual se pasa de una serie de datos en bruto, normalmente numéricos, a una representación estética y visual de los mismos. Aquí entran en juego aspectos como la posición, las formas, el tamaño, el color, etc.\n",
    "\n",
    "Es, en ese procedimiento de mapeo, donde se detectan los elementos que darán identidad visual a la realidad intrínseca de los propios datos que representan, y que se enuncian a continuación.\n",
    "\n",
    "### Ejes\n",
    "\n",
    "En este trabajo se hace referencia a gráficos en 2D, generalmente aquellos que utilizan un sistema de coordenadas cartesianas para sus ejes.\n",
    "\n",
    "Respecto a los ejes hay que tener en cuenta un par de aspectos:\n",
    "\n",
    "- El ratio de aspecto del eje horizontal frente al vertical. Esto está relacionado con el ancho y alto de la gráfica que se visualiza. Afecta a cómo se visualizan los resultados, aunque sean diferentes versiones correctas.\n",
    "- La escala numérica de los ejes. Pueden seguir una escala lineal, logarítmica o de raíz cuadrada, entre otras. Esto afectará a la forma de visualizar los datos y de dar una correcta interpretación de los ellos.\n",
    "\n",
    "Es recomendable hacer uso de la escala logarítmica en aquellos casos en los que se quieren representar valores en los que hay una gran diferencia en cuanto a magnitudes (Wilke, 2019).\n",
    "\n",
    "Otro tipo de sistema de representación es el sistema de coordenadas polares, con eje curvo. Es óptimo hacer uso de este tipo de ejes cuando se quieren representar datos de naturaleza periódica.\n",
    "\n",
    "### Color\n",
    "\n",
    "El color es uno de los principales elementos visuales que captan la atención en un gráfico. Por tanto, si se hace una correcta elección y aplicación del mismo puede ser de gran utilidad para comunicar la información. De manera general, el color cubre los siguientes requisitos (Wilke, 2019):\n",
    "\n",
    "- Distinción de elementos discretos o grupos: mediante el uso de escalas cualitativas de color, el objetivo es poder distinguir de forma clara entre distintos conjuntos, evitando que algún color destaque por encima de otros o que den sensación de ordenación. Por ejemplo, esto es muy importante a la hora de representar clusters.\n",
    "- Representación de valores: generalmente se busca representar una escala de valores o un rango, por lo que se aplica una escala secuencial de color. Esta debe presentar un rango uniforme perceptible, que puede bien puede ser monocromático o multicromático, pero lo importante es que en todo momento se pueda comprender ya apreciar con facilidad la diferencia de magnitud entre los valores de los datos.\n",
    "- Resaltar algún valor o elemento de los datos: con la intención de llamar la atención o resaltar un aspecto concreto, usar un color que destaca sobre el resto hace resaltar una idea. Para conseguir este efecto, es muy importante que el resto de colores que acompañen al color de resaltado no distraigan. Una buena técnica es dejar sin color o utilizar un tono gris para todos los elementos, frente a un color para el elemento a resaltar, aumentando el efecto.\n",
    "\n",
    "Con esto, en todo caso se debe tratar de hacer una elección de color correcta, evitando algunos problemas que pueden derivar de un mal uso del color:\n",
    "\n",
    "- Codificar (colorear) demasiada información de forma irrelevante, no solo no llegando a aportar nada, sino haciendo absolutamente compleja la tarea de destinguir elementos. Cuando se quiere diferenciar más de ocho elementos categóricos, se recomienda usar etiquetas textuales, siempre y cuando no saturen tampoco.\n",
    "- Utilizar demasiados colores muy saturados o intensos dificulta la visión y provoca una lectura estresante del gráfico. Estos colores pueden tener cabida, pero de forma mínima y para resaltar algún aspecto.\n",
    "- Seleccionar escalas de color que hacen compleja la comprensión para aquellas personas tienen deficiencias cognitivias de visión. Se recomienda utilizar algún simulador que simula estas patologías para testear los colores elegidos y certificar que funcionan en todos los casos.\n",
    "- Elegir escalas de colores que no permiten diferenciar las magnitudes de los valores, qué es mayor o qué es menor. Esto suele pasar si se utilizan escalas como la escala arcoíris, en la que hay más de un color y donde hay tonalidades monótonas.\n",
    "\n",
    "### Títulos, subtítulos y etiquetas\n",
    "\n",
    "Por lo general, en la visualización de datos los títulos, subtítulos y etiquetas se encargan de ofrecer contexto.\n",
    "\n",
    "Todas las gráficas necesitan tener un título, el que marca el significado y el asunto principal de la figura. Además, si se genera más de una gráfica en el mismo contexto, el título debe seguir el mismo criterio, esto es: puede ir tanto integrado, normalmente en la cabecera de la gráfica, como al pie, en lo que se considera el subtítulo. Sea de una forma u otra, siempre se debe seguir el mismo criterio para todas las gráficas.\n",
    "\n",
    "En cuanto a los subtítulos, pueden apartar un mayor detalle de contexto, aclarando alguno de los aspectos que, a simple vista, no queden totalmente claros a través del resto de elementos. No debe ser redundante, sino complementar al gráfico.\n",
    "\n",
    "En cuanto a las etiquetas, se pueden localizar en distintos lugares de una gráfica. Aparecen como los identificadores de los valores de los ejes, en las leyendas o como denominadores de los ejes. Para este último caso, es altamente recomendable indicar la unidad de medida junto a la etiqueta, si el eje represente una medición. Si de lo contrario el eje representa valores categóricos, simplemente se aplica una etiqueta que dé título a dicho eje.\n",
    "\n",
    "Por último, en relación a esto, no hay que despreciar los tamaños. De nada sirve disponer de todos estos elementos textuales si tienen un tamaño difícil de leer. Se debe aplicar un tamaño apto para la lectura, sin necesidad de realizar zoom sobre la gráfica.\n",
    "\n",
    "### Tipos de gráficos\n",
    "\n",
    "Por último, en este apartado se enuncian y definen las principales formas gráficas y los tipos de gráficos más utilizados dentro del contexto de trabajo del análisis exploratorio de datos en Machine Learning (Sahay, 2016). Esta tipología será la referencia de partida para establecer el criterio de uso, según qué situaciones y contextos, y la base para el caso práctico que se implementa en este trabajo con la librería Bokeh.\n",
    "\n",
    "#### Tablas\n",
    "\n",
    "Aunque el concepto y la definición de visualización de datos se acerca más al hecho de representación mediante elementos gráficos como puntos, líneas, colores, etc., las tablas también son una forma más de visualización. Una de las formas más primitivas de visualizar datos y quizás una de las menos intuitivas, a menos que se cuente con una buena descripción de contexto, que pueda ofrecer información sobre cómo leer e interpretar los datos.\n",
    "\n",
    "<div style=\"display: flex; align-items: center; justify-content: center;\">\n",
    "  <div style=\"max-width: 500px;\">\n",
    "    <img src=\"../assets/tabla.png\"/>\n",
    "    <p style=\"position: relative; top:-20px; left: 10px;\"><small>(Sahay, 2016)</small></p>\n",
    "  </div>\n",
    "</div>\n",
    "\n",
    "#### Diagrama de puntos\n",
    "\n",
    "Los diagramas de puntos consisten en nubes de puntos que relacionan dos variables, haciendo uso de los ejes x e y. Cada eje corresponde al rango de valores de cada una de las variables, por lo que cada uno de los puntos corresponde a una medición concreta. Esto significa que los puntos pueden apilarse, ya que algunas mediciones pueden coincidir.\n",
    "\n",
    "<div style=\"display: flex; align-items: center; justify-content: center;\">\n",
    "  <div style=\"max-width: 500px;\">\n",
    "    <img src=\"../assets/puntos.png\"/>\n",
    "    <p style=\"position: relative; top:-20px; left: 10px;\"><small>(Sahay, 2016)</small></p>\n",
    "  </div>\n",
    "</div>\n",
    "\n",
    "#### Diagrama de barras\n",
    "\n",
    "Es, quizás, uno de los diagramas más conocidos y utilizados para la visualización de datos. Ideal para relacionar un rango de valores categóricos con una variable cuantitativa numérica, como puede ser el precio, la temperatura, etc. En el diagrama de barras, por lo general, el eje x representa el rango de valores, normalmente categórico, frente al eje y, donde se tiene el rango de valores cuantitativo. Además, existen variaciones de este tipo de gráfico, pudiéndose usarse con grupos de barras o en orientación horizontal.\n",
    "\n",
    "<div style=\"display: flex; align-items: center; justify-content: center;\">\n",
    "  <div style=\"max-width: 500px;\">\n",
    "    <img src=\"../assets/barras.png\"/>\n",
    "    <p style=\"position: relative; top:-20px; left: 10px;\"><small>(Sahay, 2016)</small></p>\n",
    "  </div>\n",
    "</div>\n",
    "\n",
    "#### Diagrama de caja\n",
    "\n",
    "El diagrama de caja muestra, para una variable determinada, el valor más pequeño, el más grande y sus tres cuartiles. Esto se hace mediante un segmento, cuyos extremos representan el valor mínimo y el valor máximo, dada una variable de un conjunto de datos. Los cuartiles, por otro lado, quedan representados mediante una figura rectangular, superpuesta sobre el segmento. El cuartial 1 es aquel lado de la figura que está más cercano al extremo correspondiente al valor mínimo, mientras que el cuartil 3 es el lado opuesto. Generalmente se visualiza el cuartil 2 mediante un punto dentro del rectángulo, lo que también corresponde a la mediana. Es una buena forma de representación visual para tener un resumen de estos valores.\n",
    "\n",
    "<div style=\"display: flex; align-items: center; justify-content: center;\">\n",
    "  <div style=\"max-width: 500px;\">\n",
    "    <img src=\"../assets/box.png\"/>\n",
    "    <p style=\"position: relative; top:-20px; left: 10px;\"><small>(Sahay, 2016)</small></p>\n",
    "  </div>\n",
    "</div>\n",
    "\n",
    "#### Mapa de calor\n",
    "\n",
    "Utilizado para representar, mediante colores, el valor de una magnitud en dos dimensiones. El color cambiará su tonalidad o su intensidad conforme el valor de la variable representada. Este tipo de representación es muy útil cuando se quiere representar algo en el espacio 2D. Por ejemplo, la ubicación del puntero del mouse del usuario en una web. El eje x representaría el ancho de la web, mientras que el eje y correspondería al alto. El color podría cambiar en función del tiempo que pasa el puntero del ratón en una coordenada. Se puede usar, por tanto, para identificar los \"puntos calientes\" de una página web.\n",
    "\n",
    "<div style=\"display: flex; align-items: center; justify-content: center;\">\n",
    "  <div style=\"max-width: 500px;\">\n",
    "    <img src=\"../assets/click-heatmap.jpg\"/>\n",
    "    <p style=\"position: relative; top:-20px; left: 10px;\"><small>(Devservice.es, s. f.)</small></p>\n",
    "  </div>\n",
    "</div>\n",
    "\n",
    "#### Gráfico circular\n",
    "\n",
    "El diagrama circular, también conocido como gráfica o diagrama de tarta, representa las magnitudes relativas de las partes como un todo. Esto significa que, dadas unas serie de grupos de valores, se visualiza la frecuencia relativa con la que se dan cada uno de estos. En definitiva, representan porcentajes y ratios, como, por ejemplo la dedicación porcentual de un presupuesto a distintos capítulos o asuntos económicos. Por lo general, suelen emplearse colores distintos para cada una de las porciones del gráfico, no siendo muy recomendable particionarla en exceso, ya que es complejo de leer. Para estos casos, se pude utilizar una extensión de una de las porciones, representándola en otro gráfico circular o en una barra.\n",
    "\n",
    "<div style=\"display: flex; align-items: center; justify-content: center;\">\n",
    "  <div style=\"max-width: 500px;\">\n",
    "    <img src=\"../assets/pie1.png\"/>\n",
    "    <p style=\"position: relative; top:-20px; left: 10px;\"><small>(Sahay, 2016)</small></p>\n",
    "  </div>\n",
    "  <div style=\"max-width: 500px;\">\n",
    "    <img src=\"../assets/pie2.png\"/>\n",
    "    <p style=\"position: relative; top:-20px; left: 10px;\"><small>(Sahay, 2016)</small></p>\n",
    "  </div>\n",
    "</div>\n",
    "\n",
    "#### Gráfico de líneas\n",
    "\n",
    "El gráfico de líneas es una forma de representación gráfica sencilla. Generalmente se utiliza para reflejar el cambio de un valor en el tiempo, siendo el eje x una secuencia de valores temporales (horas, días, meses, años, etc.), y el eje y la medición de una variable en ese momento temporal concreto. Al final, se obtiene un punto, como el diagrama de puntos, pero estos puntos quedan unidos de manera secuencial, formando una línea. En estos gráficos se pueden incluir más de una línea, de distinto color, que representen la misma medición en diferentes condiciones. Esta forma es muy útil para hacer comparativas de la evolución y la tendencia de una variable en el tiempo.\n",
    "\n",
    "<div style=\"display: flex; align-items: center; justify-content: center;\">\n",
    "  <div style=\"max-width: 500px;\">\n",
    "    <img src=\"../assets/line1.png\"/>\n",
    "    <p style=\"position: relative; top:-20px; left: 10px;\"><small>(Sahay, 2016)</small></p>\n",
    "  </div>\n",
    "  <div style=\"max-width: 500px;\">\n",
    "    <img src=\"../assets/line2.png\"/>\n",
    "    <p style=\"position: relative; top:-20px; left: 10px;\"><small>(Sahay, 2016)</small></p>\n",
    "  </div>\n",
    "</div>\n",
    "\n",
    "#### Gráfico de área\n",
    "\n",
    "Es un tipo de combinación de gráfico de líneas y diagrama de barras, muy utilizado en series temporales. Representa la variación de las cantidades de una variable conforme pasa el tiempo, por lo que se puede utilizar para conocer la evolución o la tendencia de dicho cambio. La línea marca la unión de los momentos de medición, por ejemplo, los meses o años, en el eje x; mientras que el área coloreada que queda encerrada bajo la línea, corresponde a la cantidad de la variable que se mide. Podría decirse que es un tipo de gráfico de barras continuo. Suele usarse mucho mediante áreas apiladas, asignado un color a cada una de estas, e interpretándose como un todo, pudiéndose observar las diferencias. Por ejemplo, representando la producciónd de barriles de petróleo a lo largo de los meses, durante varios años, para distintas empresas estadounidenses.\n",
    "\n",
    "<div style=\"display: flex; align-items: center; justify-content: center;\">\n",
    "  <div style=\"max-width: 500px;\">\n",
    "    <img src=\"../assets/area.png\"/>\n",
    "    <p style=\"position: relative; top:-20px; left: 10px;\"><small>(Sahay, 2016)</small></p>\n",
    "  </div>\n",
    "</div>"
   ]
  },
  {
   "attachments": {},
   "cell_type": "markdown",
   "metadata": {},
   "source": [
    "<a name=\"criterios\"></a>\n",
    "## Criterio de uso\n",
    "\n",
    "Tras conocer los principales elementos que entran en juego en la visualización de datos y que deben tenerse en cuenta para realizar una correcta interpretación y comunicación de estos, en esta sección se establecen criterios que se pueden implementar en cualquier análisis exploratorio de datos para cualquier dataset.\n",
    "\n",
    "### Visualización del dataset en tabla\n",
    "\n",
    "En primer lugar, cualquier análisis dará comienzo con la lectura de un dataset. El primer paso en visualización debe ser observar los datos en su conjunto, esto es, la tabla en la que se pueden ver todas las columnas y ejemplos. A través de esto, utilizando una representación tabular, se puede hacer una comprobación rápida del número de varibles, conocer sus nombres, el tipo de dato de cada una y hacer una revisión general del volumen de casos.\n",
    "\n",
    "Muchas librerías permiten la generación de data frames a partir de la fuente de los datos (generalmente un archivo csv). A través de estas librerías se puede visualizar el data frame, el cual ya está presentado de manera tabular y se puede establecer un parámetro para ver solo los *n* primeros ejemplos del conjunto de datos.\n",
    "\n",
    "### Búsqueda de outliers con diagramas de caja\n",
    "\n",
    "Una vez se se conocen las dimensiones del dataset, lo normal es comenzar a preprocesar el conjunto de datos limpiando aquellos ejemplos en los que se detectan datos nulos y outliers. Para poder localizar los outliers, los diagramas de caja son muy recomendables. Con ellos se pueden detectar los valores atípicos, los consideramos como outliers, y eliminarlos.\n",
    "\n",
    "Se establece un diagrama de caja por cada variable o columna del dataset que vaya a ser tenida en cuenta en el análisis exploratorio. También se pueden visualizar todas juntas, en un multidiagrama.\n",
    "\n",
    "### Histogramas de barras\n",
    "\n",
    "A través de los histogramas, representados mediante diagramas de barras, se puede conocer la distribución de las variables del conjunto de datos y qué frecuente es que se dé un valor u otro. Con esto se podrá valorar si se van a disponer ejemplos sesgados, porque no existe cierto equilibrio entre las distintas muestras, por ejemplo, para entrenar un modelo predictivo.\n",
    "\n",
    "El histograma se genera para cada una de las variables del dataset que se vayan a tener en cuenta.\n",
    "\n",
    "### Proporción de casos con gráficos circulares\n",
    "\n",
    "En el caso de variables categóricas, se pueden establecer sumatorios que cuenten el total de casos de cada tipo y puedan ser represetandos en gráficos circulares, junto al porcentaje correspondiente para cada dato. Con este tipo de gráficas también será posible conocer el volumen de casos para determinados valores y detectar algunas descompensaciones en el dataset. Además, en la fase de análisis, gracias a estas gráficas se pueden obtener respuestas interesantes a preguntas que se puedan ir planteando.\n",
    "\n",
    "### Relación de variables con diagramas de puntos\n",
    "\n",
    "Una forma de comprobar el tipo de relación que puede existir entre variables del dataset es a través del diagrama de puntos. Enfrentando dos variables, cada una de ellas asignada a los ejes x e y, se puede obtener la forma que sigue la distribución. De manera visual se puede valorar si siguen una relación linal o logarítmica, o simplemente no se puede certificar relación alguna. Gracias a este análisis se pueden seleccionar atributos que serán usados para entrenar un modelo predictivo, por ejemplo.\n",
    "\n",
    "También se puede hacer uso de este diagrama de puntos para tratar de representar la misma relación teniendo en cuenta distintos casos categóricos, los cuales se diferencian por el color de los puntos. Gracias a esto, se pueden detectar clústers de ejemplos.\n",
    "\n",
    "### Correlación con mapas de calor\n",
    "\n",
    "Otra forma de estudiar y analizar la relación entre variables de un conjunto de datos es através del estudio de la correlación. Para esto, una vez se hace el cálculo de la correlación de variables, esta puede representarse mediante un mapa de calor, siendo muy fácil interpretarla de forma visual. Gracias a esta gráfica se puede hacer la selección de variables que se usarán para entrenar modelos predictivos."
   ]
  },
  {
   "attachments": {},
   "cell_type": "markdown",
   "metadata": {},
   "source": [
    "<a name=\"bokeh\"></a>\n",
    "## Caso práctico: Bokeh library\n",
    "\n",
    "A partir del marco teórico esbozado, donde se han descrito los elementos gráficos que protagonizan la visualización de datos y se han trazado una serie de criterios de uso para la realización de una análisis exploratorio, ahora se ponen en práctica con la librería de visualización Bokeh.\n",
    "\n",
    "Se comienza importando todas las librerías necesarias para la realización del caso práctico."
   ]
  },
  {
   "cell_type": "code",
   "execution_count": 105,
   "metadata": {},
   "outputs": [
    {
     "data": {
      "text/html": [
       "<div class=\"bk-root\">\n",
       "        <a href=\"https://bokeh.org\" target=\"_blank\" class=\"bk-logo bk-logo-small bk-logo-notebook\"></a>\n",
       "        <span id=\"4901\">Loading BokehJS ...</span>\n",
       "    </div>\n"
      ]
     },
     "metadata": {},
     "output_type": "display_data"
    },
    {
     "data": {
      "application/javascript": "(function(root) {\n  function now() {\n    return new Date();\n  }\n\n  const force = true;\n\n  if (typeof root._bokeh_onload_callbacks === \"undefined\" || force === true) {\n    root._bokeh_onload_callbacks = [];\n    root._bokeh_is_loading = undefined;\n  }\n\nconst JS_MIME_TYPE = 'application/javascript';\n  const HTML_MIME_TYPE = 'text/html';\n  const EXEC_MIME_TYPE = 'application/vnd.bokehjs_exec.v0+json';\n  const CLASS_NAME = 'output_bokeh rendered_html';\n\n  /**\n   * Render data to the DOM node\n   */\n  function render(props, node) {\n    const script = document.createElement(\"script\");\n    node.appendChild(script);\n  }\n\n  /**\n   * Handle when an output is cleared or removed\n   */\n  function handleClearOutput(event, handle) {\n    const cell = handle.cell;\n\n    const id = cell.output_area._bokeh_element_id;\n    const server_id = cell.output_area._bokeh_server_id;\n    // Clean up Bokeh references\n    if (id != null && id in Bokeh.index) {\n      Bokeh.index[id].model.document.clear();\n      delete Bokeh.index[id];\n    }\n\n    if (server_id !== undefined) {\n      // Clean up Bokeh references\n      const cmd_clean = \"from bokeh.io.state import curstate; print(curstate().uuid_to_server['\" + server_id + \"'].get_sessions()[0].document.roots[0]._id)\";\n      cell.notebook.kernel.execute(cmd_clean, {\n        iopub: {\n          output: function(msg) {\n            const id = msg.content.text.trim();\n            if (id in Bokeh.index) {\n              Bokeh.index[id].model.document.clear();\n              delete Bokeh.index[id];\n            }\n          }\n        }\n      });\n      // Destroy server and session\n      const cmd_destroy = \"import bokeh.io.notebook as ion; ion.destroy_server('\" + server_id + \"')\";\n      cell.notebook.kernel.execute(cmd_destroy);\n    }\n  }\n\n  /**\n   * Handle when a new output is added\n   */\n  function handleAddOutput(event, handle) {\n    const output_area = handle.output_area;\n    const output = handle.output;\n\n    // limit handleAddOutput to display_data with EXEC_MIME_TYPE content only\n    if ((output.output_type != \"display_data\") || (!Object.prototype.hasOwnProperty.call(output.data, EXEC_MIME_TYPE))) {\n      return\n    }\n\n    const toinsert = output_area.element.find(\".\" + CLASS_NAME.split(' ')[0]);\n\n    if (output.metadata[EXEC_MIME_TYPE][\"id\"] !== undefined) {\n      toinsert[toinsert.length - 1].firstChild.textContent = output.data[JS_MIME_TYPE];\n      // store reference to embed id on output_area\n      output_area._bokeh_element_id = output.metadata[EXEC_MIME_TYPE][\"id\"];\n    }\n    if (output.metadata[EXEC_MIME_TYPE][\"server_id\"] !== undefined) {\n      const bk_div = document.createElement(\"div\");\n      bk_div.innerHTML = output.data[HTML_MIME_TYPE];\n      const script_attrs = bk_div.children[0].attributes;\n      for (let i = 0; i < script_attrs.length; i++) {\n        toinsert[toinsert.length - 1].firstChild.setAttribute(script_attrs[i].name, script_attrs[i].value);\n        toinsert[toinsert.length - 1].firstChild.textContent = bk_div.children[0].textContent\n      }\n      // store reference to server id on output_area\n      output_area._bokeh_server_id = output.metadata[EXEC_MIME_TYPE][\"server_id\"];\n    }\n  }\n\n  function register_renderer(events, OutputArea) {\n\n    function append_mime(data, metadata, element) {\n      // create a DOM node to render to\n      const toinsert = this.create_output_subarea(\n        metadata,\n        CLASS_NAME,\n        EXEC_MIME_TYPE\n      );\n      this.keyboard_manager.register_events(toinsert);\n      // Render to node\n      const props = {data: data, metadata: metadata[EXEC_MIME_TYPE]};\n      render(props, toinsert[toinsert.length - 1]);\n      element.append(toinsert);\n      return toinsert\n    }\n\n    /* Handle when an output is cleared or removed */\n    events.on('clear_output.CodeCell', handleClearOutput);\n    events.on('delete.Cell', handleClearOutput);\n\n    /* Handle when a new output is added */\n    events.on('output_added.OutputArea', handleAddOutput);\n\n    /**\n     * Register the mime type and append_mime function with output_area\n     */\n    OutputArea.prototype.register_mime_type(EXEC_MIME_TYPE, append_mime, {\n      /* Is output safe? */\n      safe: true,\n      /* Index of renderer in `output_area.display_order` */\n      index: 0\n    });\n  }\n\n  // register the mime type if in Jupyter Notebook environment and previously unregistered\n  if (root.Jupyter !== undefined) {\n    const events = require('base/js/events');\n    const OutputArea = require('notebook/js/outputarea').OutputArea;\n\n    if (OutputArea.prototype.mime_types().indexOf(EXEC_MIME_TYPE) == -1) {\n      register_renderer(events, OutputArea);\n    }\n  }\n  if (typeof (root._bokeh_timeout) === \"undefined\" || force === true) {\n    root._bokeh_timeout = Date.now() + 5000;\n    root._bokeh_failed_load = false;\n  }\n\n  const NB_LOAD_WARNING = {'data': {'text/html':\n     \"<div style='background-color: #fdd'>\\n\"+\n     \"<p>\\n\"+\n     \"BokehJS does not appear to have successfully loaded. If loading BokehJS from CDN, this \\n\"+\n     \"may be due to a slow or bad network connection. Possible fixes:\\n\"+\n     \"</p>\\n\"+\n     \"<ul>\\n\"+\n     \"<li>re-rerun `output_notebook()` to attempt to load from CDN again, or</li>\\n\"+\n     \"<li>use INLINE resources instead, as so:</li>\\n\"+\n     \"</ul>\\n\"+\n     \"<code>\\n\"+\n     \"from bokeh.resources import INLINE\\n\"+\n     \"output_notebook(resources=INLINE)\\n\"+\n     \"</code>\\n\"+\n     \"</div>\"}};\n\n  function display_loaded() {\n    const el = document.getElementById(\"4901\");\n    if (el != null) {\n      el.textContent = \"BokehJS is loading...\";\n    }\n    if (root.Bokeh !== undefined) {\n      if (el != null) {\n        el.textContent = \"BokehJS \" + root.Bokeh.version + \" successfully loaded.\";\n      }\n    } else if (Date.now() < root._bokeh_timeout) {\n      setTimeout(display_loaded, 100)\n    }\n  }\n\n  function run_callbacks() {\n    try {\n      root._bokeh_onload_callbacks.forEach(function(callback) {\n        if (callback != null)\n          callback();\n      });\n    } finally {\n      delete root._bokeh_onload_callbacks\n    }\n    console.debug(\"Bokeh: all callbacks have finished\");\n  }\n\n  function load_libs(css_urls, js_urls, callback) {\n    if (css_urls == null) css_urls = [];\n    if (js_urls == null) js_urls = [];\n\n    root._bokeh_onload_callbacks.push(callback);\n    if (root._bokeh_is_loading > 0) {\n      console.debug(\"Bokeh: BokehJS is being loaded, scheduling callback at\", now());\n      return null;\n    }\n    if (js_urls == null || js_urls.length === 0) {\n      run_callbacks();\n      return null;\n    }\n    console.debug(\"Bokeh: BokehJS not loaded, scheduling load and callback at\", now());\n    root._bokeh_is_loading = css_urls.length + js_urls.length;\n\n    function on_load() {\n      root._bokeh_is_loading--;\n      if (root._bokeh_is_loading === 0) {\n        console.debug(\"Bokeh: all BokehJS libraries/stylesheets loaded\");\n        run_callbacks()\n      }\n    }\n\n    function on_error(url) {\n      console.error(\"failed to load \" + url);\n    }\n\n    for (let i = 0; i < css_urls.length; i++) {\n      const url = css_urls[i];\n      const element = document.createElement(\"link\");\n      element.onload = on_load;\n      element.onerror = on_error.bind(null, url);\n      element.rel = \"stylesheet\";\n      element.type = \"text/css\";\n      element.href = url;\n      console.debug(\"Bokeh: injecting link tag for BokehJS stylesheet: \", url);\n      document.body.appendChild(element);\n    }\n\n    for (let i = 0; i < js_urls.length; i++) {\n      const url = js_urls[i];\n      const element = document.createElement('script');\n      element.onload = on_load;\n      element.onerror = on_error.bind(null, url);\n      element.async = false;\n      element.src = url;\n      console.debug(\"Bokeh: injecting script tag for BokehJS library: \", url);\n      document.head.appendChild(element);\n    }\n  };\n\n  function inject_raw_css(css) {\n    const element = document.createElement(\"style\");\n    element.appendChild(document.createTextNode(css));\n    document.body.appendChild(element);\n  }\n\n  const js_urls = [\"https://cdn.bokeh.org/bokeh/release/bokeh-2.4.3.min.js\", \"https://cdn.bokeh.org/bokeh/release/bokeh-gl-2.4.3.min.js\", \"https://cdn.bokeh.org/bokeh/release/bokeh-widgets-2.4.3.min.js\", \"https://cdn.bokeh.org/bokeh/release/bokeh-tables-2.4.3.min.js\", \"https://cdn.bokeh.org/bokeh/release/bokeh-mathjax-2.4.3.min.js\"];\n  const css_urls = [];\n\n  const inline_js = [    function(Bokeh) {\n      Bokeh.set_log_level(\"info\");\n    },\nfunction(Bokeh) {\n    }\n  ];\n\n  function run_inline_js() {\n    if (root.Bokeh !== undefined || force === true) {\n          for (let i = 0; i < inline_js.length; i++) {\n      inline_js[i].call(root, root.Bokeh);\n    }\nif (force === true) {\n        display_loaded();\n      }} else if (Date.now() < root._bokeh_timeout) {\n      setTimeout(run_inline_js, 100);\n    } else if (!root._bokeh_failed_load) {\n      console.log(\"Bokeh: BokehJS failed to load within specified timeout.\");\n      root._bokeh_failed_load = true;\n    } else if (force !== true) {\n      const cell = $(document.getElementById(\"4901\")).parents('.cell').data().cell;\n      cell.output_area.append_execute_result(NB_LOAD_WARNING)\n    }\n  }\n\n  if (root._bokeh_is_loading === 0) {\n    console.debug(\"Bokeh: BokehJS loaded, going straight to plotting\");\n    run_inline_js();\n  } else {\n    load_libs(css_urls, js_urls, function() {\n      console.debug(\"Bokeh: BokehJS plotting callback run at\", now());\n      run_inline_js();\n    });\n  }\n}(window));",
      "application/vnd.bokehjs_load.v0+json": ""
     },
     "metadata": {},
     "output_type": "display_data"
    }
   ],
   "source": [
    "from math import pi\n",
    "import numpy as np\n",
    "import pandas as pd\n",
    "\n",
    "from bokeh.palettes import Blues, Viridis256, Spectral6\n",
    "from bokeh.transform import cumsum, transform\n",
    "from bokeh.plotting import figure, show\n",
    "from bokeh.models import \\\n",
    "  Range1d,\\\n",
    "  ColumnDataSource,\\\n",
    "  DataRange1d, \\\n",
    "  BasicTicker,\\\n",
    "  ColorBar,\\\n",
    "  LinearColorMapper, PrintfTickFormatter, ColorMapper, BasicTickFormatter, HoverTool\n",
    "from bokeh.io import output_notebook\n",
    "\n",
    "# Permite que la salida de los gráficos se muestre en el notebook\n",
    "output_notebook()"
   ]
  },
  {
   "attachments": {},
   "cell_type": "markdown",
   "metadata": {},
   "source": [
    "A continuación, se cargan em memoria los datasets seleccionados para realizar las representaciones gráficas."
   ]
  },
  {
   "cell_type": "code",
   "execution_count": 12,
   "metadata": {},
   "outputs": [],
   "source": [
    "df_drug = pd.read_csv(\"../data/drug200.csv\")\n",
    "df_airtraffic = pd.read_csv(\"../data/Air_Traffic_Passenger_Statistics.csv\")"
   ]
  },
  {
   "attachments": {},
   "cell_type": "markdown",
   "metadata": {},
   "source": [
    "En primer lugar, como se comenta en los criterios de uso, se pueden hacer visualizaciones rápidas en forma tabular. ¿Qué dataset se tiene para trabajar? ¿Cuánta columnas tiene y qué representan? ¿Qué tipo de datos se observan? Este es un buen punto de partida."
   ]
  },
  {
   "cell_type": "code",
   "execution_count": 61,
   "metadata": {},
   "outputs": [
    {
     "data": {
      "text/html": [
       "<div>\n",
       "<style scoped>\n",
       "    .dataframe tbody tr th:only-of-type {\n",
       "        vertical-align: middle;\n",
       "    }\n",
       "\n",
       "    .dataframe tbody tr th {\n",
       "        vertical-align: top;\n",
       "    }\n",
       "\n",
       "    .dataframe thead th {\n",
       "        text-align: right;\n",
       "    }\n",
       "</style>\n",
       "<table border=\"1\" class=\"dataframe\">\n",
       "  <thead>\n",
       "    <tr style=\"text-align: right;\">\n",
       "      <th></th>\n",
       "      <th>Age</th>\n",
       "      <th>Sex</th>\n",
       "      <th>BP</th>\n",
       "      <th>Cholesterol</th>\n",
       "      <th>Na_to_K</th>\n",
       "      <th>Drug</th>\n",
       "    </tr>\n",
       "  </thead>\n",
       "  <tbody>\n",
       "    <tr>\n",
       "      <th>0</th>\n",
       "      <td>23</td>\n",
       "      <td>F</td>\n",
       "      <td>HIGH</td>\n",
       "      <td>HIGH</td>\n",
       "      <td>25.355</td>\n",
       "      <td>DrugY</td>\n",
       "    </tr>\n",
       "    <tr>\n",
       "      <th>1</th>\n",
       "      <td>47</td>\n",
       "      <td>M</td>\n",
       "      <td>LOW</td>\n",
       "      <td>HIGH</td>\n",
       "      <td>13.093</td>\n",
       "      <td>drugC</td>\n",
       "    </tr>\n",
       "    <tr>\n",
       "      <th>2</th>\n",
       "      <td>47</td>\n",
       "      <td>M</td>\n",
       "      <td>LOW</td>\n",
       "      <td>HIGH</td>\n",
       "      <td>10.114</td>\n",
       "      <td>drugC</td>\n",
       "    </tr>\n",
       "    <tr>\n",
       "      <th>3</th>\n",
       "      <td>28</td>\n",
       "      <td>F</td>\n",
       "      <td>NORMAL</td>\n",
       "      <td>HIGH</td>\n",
       "      <td>7.798</td>\n",
       "      <td>drugX</td>\n",
       "    </tr>\n",
       "    <tr>\n",
       "      <th>4</th>\n",
       "      <td>61</td>\n",
       "      <td>F</td>\n",
       "      <td>LOW</td>\n",
       "      <td>HIGH</td>\n",
       "      <td>18.043</td>\n",
       "      <td>DrugY</td>\n",
       "    </tr>\n",
       "  </tbody>\n",
       "</table>\n",
       "</div>"
      ],
      "text/plain": [
       "   Age Sex      BP Cholesterol  Na_to_K   Drug\n",
       "0   23   F    HIGH        HIGH   25.355  DrugY\n",
       "1   47   M     LOW        HIGH   13.093  drugC\n",
       "2   47   M     LOW        HIGH   10.114  drugC\n",
       "3   28   F  NORMAL        HIGH    7.798  drugX\n",
       "4   61   F     LOW        HIGH   18.043  DrugY"
      ]
     },
     "execution_count": 61,
     "metadata": {},
     "output_type": "execute_result"
    }
   ],
   "source": [
    "df_drug.head()"
   ]
  },
  {
   "cell_type": "code",
   "execution_count": 3,
   "metadata": {},
   "outputs": [
    {
     "data": {
      "text/plain": [
       "Age              int64\n",
       "Sex             object\n",
       "BP              object\n",
       "Cholesterol     object\n",
       "Na_to_K        float64\n",
       "Drug            object\n",
       "dtype: object"
      ]
     },
     "execution_count": 3,
     "metadata": {},
     "output_type": "execute_result"
    }
   ],
   "source": [
    "df_drug.dtypes"
   ]
  },
  {
   "cell_type": "code",
   "execution_count": 31,
   "metadata": {},
   "outputs": [
    {
     "data": {
      "text/html": [
       "<div>\n",
       "<style scoped>\n",
       "    .dataframe tbody tr th:only-of-type {\n",
       "        vertical-align: middle;\n",
       "    }\n",
       "\n",
       "    .dataframe tbody tr th {\n",
       "        vertical-align: top;\n",
       "    }\n",
       "\n",
       "    .dataframe thead th {\n",
       "        text-align: right;\n",
       "    }\n",
       "</style>\n",
       "<table border=\"1\" class=\"dataframe\">\n",
       "  <thead>\n",
       "    <tr style=\"text-align: right;\">\n",
       "      <th></th>\n",
       "      <th>index</th>\n",
       "      <th>Activity Period</th>\n",
       "      <th>Operating Airline</th>\n",
       "      <th>Operating Airline IATA Code</th>\n",
       "      <th>Published Airline</th>\n",
       "      <th>Published Airline IATA Code</th>\n",
       "      <th>GEO Summary</th>\n",
       "      <th>GEO Region</th>\n",
       "      <th>Activity Type Code</th>\n",
       "      <th>Price Category Code</th>\n",
       "      <th>Terminal</th>\n",
       "      <th>Boarding Area</th>\n",
       "      <th>Passenger Count</th>\n",
       "      <th>Adjusted Activity Type Code</th>\n",
       "      <th>Adjusted Passenger Count</th>\n",
       "      <th>Year</th>\n",
       "      <th>Month</th>\n",
       "    </tr>\n",
       "  </thead>\n",
       "  <tbody>\n",
       "    <tr>\n",
       "      <th>0</th>\n",
       "      <td>0</td>\n",
       "      <td>200507</td>\n",
       "      <td>ATA Airlines</td>\n",
       "      <td>TZ</td>\n",
       "      <td>ATA Airlines</td>\n",
       "      <td>TZ</td>\n",
       "      <td>Domestic</td>\n",
       "      <td>US</td>\n",
       "      <td>Deplaned</td>\n",
       "      <td>Low Fare</td>\n",
       "      <td>Terminal 1</td>\n",
       "      <td>B</td>\n",
       "      <td>27271</td>\n",
       "      <td>Deplaned</td>\n",
       "      <td>27271</td>\n",
       "      <td>2005</td>\n",
       "      <td>July</td>\n",
       "    </tr>\n",
       "    <tr>\n",
       "      <th>1</th>\n",
       "      <td>1</td>\n",
       "      <td>200507</td>\n",
       "      <td>ATA Airlines</td>\n",
       "      <td>TZ</td>\n",
       "      <td>ATA Airlines</td>\n",
       "      <td>TZ</td>\n",
       "      <td>Domestic</td>\n",
       "      <td>US</td>\n",
       "      <td>Enplaned</td>\n",
       "      <td>Low Fare</td>\n",
       "      <td>Terminal 1</td>\n",
       "      <td>B</td>\n",
       "      <td>29131</td>\n",
       "      <td>Enplaned</td>\n",
       "      <td>29131</td>\n",
       "      <td>2005</td>\n",
       "      <td>July</td>\n",
       "    </tr>\n",
       "    <tr>\n",
       "      <th>2</th>\n",
       "      <td>2</td>\n",
       "      <td>200507</td>\n",
       "      <td>ATA Airlines</td>\n",
       "      <td>TZ</td>\n",
       "      <td>ATA Airlines</td>\n",
       "      <td>TZ</td>\n",
       "      <td>Domestic</td>\n",
       "      <td>US</td>\n",
       "      <td>Thru / Transit</td>\n",
       "      <td>Low Fare</td>\n",
       "      <td>Terminal 1</td>\n",
       "      <td>B</td>\n",
       "      <td>5415</td>\n",
       "      <td>Thru / Transit * 2</td>\n",
       "      <td>10830</td>\n",
       "      <td>2005</td>\n",
       "      <td>July</td>\n",
       "    </tr>\n",
       "    <tr>\n",
       "      <th>3</th>\n",
       "      <td>3</td>\n",
       "      <td>200507</td>\n",
       "      <td>Air Canada</td>\n",
       "      <td>AC</td>\n",
       "      <td>Air Canada</td>\n",
       "      <td>AC</td>\n",
       "      <td>International</td>\n",
       "      <td>Canada</td>\n",
       "      <td>Deplaned</td>\n",
       "      <td>Other</td>\n",
       "      <td>Terminal 1</td>\n",
       "      <td>B</td>\n",
       "      <td>35156</td>\n",
       "      <td>Deplaned</td>\n",
       "      <td>35156</td>\n",
       "      <td>2005</td>\n",
       "      <td>July</td>\n",
       "    </tr>\n",
       "    <tr>\n",
       "      <th>4</th>\n",
       "      <td>4</td>\n",
       "      <td>200507</td>\n",
       "      <td>Air Canada</td>\n",
       "      <td>AC</td>\n",
       "      <td>Air Canada</td>\n",
       "      <td>AC</td>\n",
       "      <td>International</td>\n",
       "      <td>Canada</td>\n",
       "      <td>Enplaned</td>\n",
       "      <td>Other</td>\n",
       "      <td>Terminal 1</td>\n",
       "      <td>B</td>\n",
       "      <td>34090</td>\n",
       "      <td>Enplaned</td>\n",
       "      <td>34090</td>\n",
       "      <td>2005</td>\n",
       "      <td>July</td>\n",
       "    </tr>\n",
       "  </tbody>\n",
       "</table>\n",
       "</div>"
      ],
      "text/plain": [
       "   index  Activity Period Operating Airline Operating Airline IATA Code  \\\n",
       "0      0           200507      ATA Airlines                          TZ   \n",
       "1      1           200507      ATA Airlines                          TZ   \n",
       "2      2           200507      ATA Airlines                          TZ   \n",
       "3      3           200507       Air Canada                           AC   \n",
       "4      4           200507       Air Canada                           AC   \n",
       "\n",
       "  Published Airline Published Airline IATA Code    GEO Summary GEO Region  \\\n",
       "0      ATA Airlines                          TZ       Domestic         US   \n",
       "1      ATA Airlines                          TZ       Domestic         US   \n",
       "2      ATA Airlines                          TZ       Domestic         US   \n",
       "3       Air Canada                           AC  International     Canada   \n",
       "4       Air Canada                           AC  International     Canada   \n",
       "\n",
       "  Activity Type Code Price Category Code    Terminal Boarding Area  \\\n",
       "0           Deplaned            Low Fare  Terminal 1             B   \n",
       "1           Enplaned            Low Fare  Terminal 1             B   \n",
       "2     Thru / Transit            Low Fare  Terminal 1             B   \n",
       "3           Deplaned               Other  Terminal 1             B   \n",
       "4           Enplaned               Other  Terminal 1             B   \n",
       "\n",
       "   Passenger Count Adjusted Activity Type Code  Adjusted Passenger Count  \\\n",
       "0            27271                    Deplaned                     27271   \n",
       "1            29131                    Enplaned                     29131   \n",
       "2             5415          Thru / Transit * 2                     10830   \n",
       "3            35156                    Deplaned                     35156   \n",
       "4            34090                    Enplaned                     34090   \n",
       "\n",
       "   Year Month  \n",
       "0  2005  July  \n",
       "1  2005  July  \n",
       "2  2005  July  \n",
       "3  2005  July  \n",
       "4  2005  July  "
      ]
     },
     "execution_count": 31,
     "metadata": {},
     "output_type": "execute_result"
    }
   ],
   "source": [
    "df_airtraffic.head()"
   ]
  },
  {
   "cell_type": "code",
   "execution_count": 13,
   "metadata": {},
   "outputs": [],
   "source": [
    "df_drug[\"BP\"] = pd.Categorical(df_drug[\"BP\"], categories=[\"LOW\", \"NORMAL\", \"HIGH\"], ordered=True)\n",
    "df_drug[\"Cholesterol\"] = pd.Categorical(df_drug[\"Cholesterol\"], categories=[\"NORMAL\", \"HIGH\"], ordered=True)\n",
    "df_drug[\"Sex\"] = pd.Categorical(df_drug[\"Sex\"], categories=[\"M\", \"F\"], ordered=False)\n",
    "df_drug[\"Drug\"] = pd.Categorical(df_drug[\"Drug\"], categories=[\"DrugY\", \"drugX\", \"drugA\", \"drugB\", \"drugC\"], ordered=False)"
   ]
  },
  {
   "cell_type": "code",
   "execution_count": 43,
   "metadata": {},
   "outputs": [],
   "source": [
    "def plot_box(df, column):\n",
    "  quartiles = df.quantile([0.25, 0.5, 0.75])\n",
    "  IQR = quartiles.iloc[2] - quartiles.iloc[0]\n",
    "  q1 = quartiles.iloc[0][column]\n",
    "  q2 = quartiles.iloc[1][column]\n",
    "  q3 = quartiles.iloc[2][column]\n",
    "  upper = q3 + 1.5*IQR[column]\n",
    "  lower = q1 - 1.5*IQR[column]\n",
    "  \n",
    "  outliers = df[(df[column] < lower) | (df[column] > upper)]\n",
    "\n",
    "  p = figure(tools=\"\", background_fill_color=\"#efefef\", toolbar_location=None)\n",
    "\n",
    "  p.segment(0, upper, 0, q3, line_color=\"black\")\n",
    "  p.segment(0, lower, 0, q1, line_color=\"black\")\n",
    "\n",
    "  p.vbar(0, 0.7, q2, q3, fill_color=\"#E08E79\", line_color=\"black\")\n",
    "  p.vbar(0, 0.7, q1, q2, fill_color=\"#3B8686\", line_color=\"black\")\n",
    "\n",
    "  p.rect(0, lower, 0.2, 0.01, line_color=\"black\")\n",
    "  p.rect(0, upper, 0.2, 0.01, line_color=\"black\")\n",
    "\n",
    "  if not outliers.empty:\n",
    "    p.circle(0, outliers[column], size=6, color=\"#F38630\", fill_alpha=0.6)\n",
    "\n",
    "  p.xgrid.grid_line_color = None\n",
    "  p.ygrid.grid_line_color = \"white\"\n",
    "  p.grid.grid_line_width = 1\n",
    "  \n",
    "  show(p)"
   ]
  },
  {
   "cell_type": "code",
   "execution_count": 53,
   "metadata": {},
   "outputs": [
    {
     "data": {
      "text/html": [
       "\n",
       "  <div class=\"bk-root\" id=\"bd777368-bd26-49b9-bf96-4e2649917d9a\" data-root-id=\"3971\"></div>\n"
      ]
     },
     "metadata": {},
     "output_type": "display_data"
    },
    {
     "data": {
      "application/javascript": "(function(root) {\n  function embed_document(root) {\n  const docs_json = {\"01eced1d-6a59-4cfc-b415-c53580e70328\":{\"defs\":[],\"roots\":{\"references\":[{\"attributes\":{\"background_fill_color\":\"#efefef\",\"below\":[{\"id\":\"3980\"}],\"center\":[{\"id\":\"3983\"},{\"id\":\"3987\"}],\"left\":[{\"id\":\"3984\"}],\"renderers\":[{\"id\":\"3993\"},{\"id\":\"3999\"},{\"id\":\"4005\"},{\"id\":\"4011\"},{\"id\":\"4017\"},{\"id\":\"4023\"}],\"title\":{\"id\":\"4211\"},\"toolbar\":{\"id\":\"3988\"},\"toolbar_location\":null,\"x_range\":{\"id\":\"3972\"},\"x_scale\":{\"id\":\"3976\"},\"y_range\":{\"id\":\"3974\"},\"y_scale\":{\"id\":\"3978\"}},\"id\":\"3971\",\"subtype\":\"Figure\",\"type\":\"Plot\"},{\"attributes\":{\"coordinates\":null,\"data_source\":{\"id\":\"4001\"},\"glyph\":{\"id\":\"4002\"},\"group\":null,\"hover_glyph\":null,\"muted_glyph\":{\"id\":\"4004\"},\"nonselection_glyph\":{\"id\":\"4003\"},\"view\":{\"id\":\"4006\"}},\"id\":\"4005\",\"type\":\"GlyphRenderer\"},{\"attributes\":{\"source\":{\"id\":\"4001\"}},\"id\":\"4006\",\"type\":\"CDSView\"},{\"attributes\":{\"line_alpha\":{\"value\":0.2},\"x0\":{\"value\":0},\"x1\":{\"value\":0},\"y0\":{\"value\":98.5},\"y1\":{\"value\":58.0}},\"id\":\"3992\",\"type\":\"Segment\"},{\"attributes\":{\"axis\":{\"id\":\"3980\"},\"coordinates\":null,\"grid_line_color\":null,\"group\":null,\"ticker\":null},\"id\":\"3983\",\"type\":\"Grid\"},{\"attributes\":{\"line_alpha\":{\"value\":0.1},\"x0\":{\"value\":0},\"x1\":{\"value\":0},\"y0\":{\"value\":-9.5},\"y1\":{\"value\":31.0}},\"id\":\"3997\",\"type\":\"Segment\"},{\"attributes\":{\"coordinates\":null,\"group\":null},\"id\":\"4211\",\"type\":\"Title\"},{\"attributes\":{},\"id\":\"3981\",\"type\":\"BasicTicker\"},{\"attributes\":{\"x0\":{\"value\":0},\"x1\":{\"value\":0},\"y0\":{\"value\":98.5},\"y1\":{\"value\":58.0}},\"id\":\"3990\",\"type\":\"Segment\"},{\"attributes\":{\"data\":{},\"selected\":{\"id\":\"4220\"},\"selection_policy\":{\"id\":\"4219\"}},\"id\":\"3989\",\"type\":\"ColumnDataSource\"},{\"attributes\":{},\"id\":\"4218\",\"type\":\"AllLabels\"},{\"attributes\":{},\"id\":\"3978\",\"type\":\"LinearScale\"},{\"attributes\":{},\"id\":\"3972\",\"type\":\"DataRange1d\"},{\"attributes\":{},\"id\":\"4225\",\"type\":\"UnionRenderers\"},{\"attributes\":{\"line_alpha\":{\"value\":0.1},\"x0\":{\"value\":0},\"x1\":{\"value\":0},\"y0\":{\"value\":98.5},\"y1\":{\"value\":58.0}},\"id\":\"3991\",\"type\":\"Segment\"},{\"attributes\":{},\"id\":\"4229\",\"type\":\"UnionRenderers\"},{\"attributes\":{\"coordinates\":null,\"formatter\":{\"id\":\"4214\"},\"group\":null,\"major_label_policy\":{\"id\":\"4215\"},\"ticker\":{\"id\":\"3985\"}},\"id\":\"3984\",\"type\":\"LinearAxis\"},{\"attributes\":{},\"id\":\"4226\",\"type\":\"Selection\"},{\"attributes\":{},\"id\":\"3974\",\"type\":\"DataRange1d\"},{\"attributes\":{},\"id\":\"4221\",\"type\":\"UnionRenderers\"},{\"attributes\":{},\"id\":\"4230\",\"type\":\"Selection\"},{\"attributes\":{},\"id\":\"4222\",\"type\":\"Selection\"},{\"attributes\":{\"fill_color\":{\"value\":\"#1f77b4\"},\"height\":{\"value\":0.01},\"width\":{\"value\":0.2},\"x\":{\"value\":0},\"y\":{\"value\":-9.5}},\"id\":\"4014\",\"type\":\"Rect\"},{\"attributes\":{\"source\":{\"id\":\"3995\"}},\"id\":\"4000\",\"type\":\"CDSView\"},{\"attributes\":{\"data\":{},\"selected\":{\"id\":\"4224\"},\"selection_policy\":{\"id\":\"4223\"}},\"id\":\"4001\",\"type\":\"ColumnDataSource\"},{\"attributes\":{},\"id\":\"3976\",\"type\":\"LinearScale\"},{\"attributes\":{\"bottom\":{\"value\":58.0},\"fill_color\":{\"value\":\"#E08E79\"},\"top\":{\"value\":45.0},\"width\":{\"value\":0.7},\"x\":{\"value\":0}},\"id\":\"4002\",\"type\":\"VBar\"},{\"attributes\":{\"data\":{},\"selected\":{\"id\":\"4222\"},\"selection_policy\":{\"id\":\"4221\"}},\"id\":\"3995\",\"type\":\"ColumnDataSource\"},{\"attributes\":{\"bottom\":{\"value\":45.0},\"fill_alpha\":{\"value\":0.2},\"fill_color\":{\"value\":\"#3B8686\"},\"hatch_alpha\":{\"value\":0.2},\"line_alpha\":{\"value\":0.2},\"top\":{\"value\":31.0},\"width\":{\"value\":0.7},\"x\":{\"value\":0}},\"id\":\"4010\",\"type\":\"VBar\"},{\"attributes\":{\"source\":{\"id\":\"4007\"}},\"id\":\"4012\",\"type\":\"CDSView\"},{\"attributes\":{\"source\":{\"id\":\"4013\"}},\"id\":\"4018\",\"type\":\"CDSView\"},{\"attributes\":{\"bottom\":{\"value\":45.0},\"fill_color\":{\"value\":\"#3B8686\"},\"top\":{\"value\":31.0},\"width\":{\"value\":0.7},\"x\":{\"value\":0}},\"id\":\"4008\",\"type\":\"VBar\"},{\"attributes\":{\"coordinates\":null,\"data_source\":{\"id\":\"4019\"},\"glyph\":{\"id\":\"4020\"},\"group\":null,\"hover_glyph\":null,\"muted_glyph\":{\"id\":\"4022\"},\"nonselection_glyph\":{\"id\":\"4021\"},\"view\":{\"id\":\"4024\"}},\"id\":\"4023\",\"type\":\"GlyphRenderer\"},{\"attributes\":{},\"id\":\"4215\",\"type\":\"AllLabels\"},{\"attributes\":{\"source\":{\"id\":\"3989\"}},\"id\":\"3994\",\"type\":\"CDSView\"},{\"attributes\":{\"fill_color\":{\"value\":\"#1f77b4\"},\"height\":{\"value\":0.01},\"width\":{\"value\":0.2},\"x\":{\"value\":0},\"y\":{\"value\":98.5}},\"id\":\"4020\",\"type\":\"Rect\"},{\"attributes\":{},\"id\":\"4220\",\"type\":\"Selection\"},{\"attributes\":{\"coordinates\":null,\"formatter\":{\"id\":\"4217\"},\"group\":null,\"major_label_policy\":{\"id\":\"4218\"},\"ticker\":{\"id\":\"3981\"}},\"id\":\"3980\",\"type\":\"LinearAxis\"},{\"attributes\":{\"fill_alpha\":{\"value\":0.2},\"fill_color\":{\"value\":\"#1f77b4\"},\"hatch_alpha\":{\"value\":0.2},\"height\":{\"value\":0.01},\"line_alpha\":{\"value\":0.2},\"width\":{\"value\":0.2},\"x\":{\"value\":0},\"y\":{\"value\":-9.5}},\"id\":\"4016\",\"type\":\"Rect\"},{\"attributes\":{},\"id\":\"4223\",\"type\":\"UnionRenderers\"},{\"attributes\":{\"data\":{},\"selected\":{\"id\":\"4230\"},\"selection_policy\":{\"id\":\"4229\"}},\"id\":\"4019\",\"type\":\"ColumnDataSource\"},{\"attributes\":{},\"id\":\"4227\",\"type\":\"UnionRenderers\"},{\"attributes\":{\"coordinates\":null,\"data_source\":{\"id\":\"3995\"},\"glyph\":{\"id\":\"3996\"},\"group\":null,\"hover_glyph\":null,\"muted_glyph\":{\"id\":\"3998\"},\"nonselection_glyph\":{\"id\":\"3997\"},\"view\":{\"id\":\"4000\"}},\"id\":\"3999\",\"type\":\"GlyphRenderer\"},{\"attributes\":{\"fill_alpha\":{\"value\":0.1},\"fill_color\":{\"value\":\"#1f77b4\"},\"hatch_alpha\":{\"value\":0.1},\"height\":{\"value\":0.01},\"line_alpha\":{\"value\":0.1},\"width\":{\"value\":0.2},\"x\":{\"value\":0},\"y\":{\"value\":98.5}},\"id\":\"4021\",\"type\":\"Rect\"},{\"attributes\":{\"x0\":{\"value\":0},\"x1\":{\"value\":0},\"y0\":{\"value\":-9.5},\"y1\":{\"value\":31.0}},\"id\":\"3996\",\"type\":\"Segment\"},{\"attributes\":{\"coordinates\":null,\"data_source\":{\"id\":\"4013\"},\"glyph\":{\"id\":\"4014\"},\"group\":null,\"hover_glyph\":null,\"muted_glyph\":{\"id\":\"4016\"},\"nonselection_glyph\":{\"id\":\"4015\"},\"view\":{\"id\":\"4018\"}},\"id\":\"4017\",\"type\":\"GlyphRenderer\"},{\"attributes\":{},\"id\":\"4228\",\"type\":\"Selection\"},{\"attributes\":{\"coordinates\":null,\"data_source\":{\"id\":\"3989\"},\"glyph\":{\"id\":\"3990\"},\"group\":null,\"hover_glyph\":null,\"muted_glyph\":{\"id\":\"3992\"},\"nonselection_glyph\":{\"id\":\"3991\"},\"view\":{\"id\":\"3994\"}},\"id\":\"3993\",\"type\":\"GlyphRenderer\"},{\"attributes\":{\"data\":{},\"selected\":{\"id\":\"4226\"},\"selection_policy\":{\"id\":\"4225\"}},\"id\":\"4007\",\"type\":\"ColumnDataSource\"},{\"attributes\":{},\"id\":\"4219\",\"type\":\"UnionRenderers\"},{\"attributes\":{},\"id\":\"3988\",\"type\":\"Toolbar\"},{\"attributes\":{\"bottom\":{\"value\":45.0},\"fill_alpha\":{\"value\":0.1},\"fill_color\":{\"value\":\"#3B8686\"},\"hatch_alpha\":{\"value\":0.1},\"line_alpha\":{\"value\":0.1},\"top\":{\"value\":31.0},\"width\":{\"value\":0.7},\"x\":{\"value\":0}},\"id\":\"4009\",\"type\":\"VBar\"},{\"attributes\":{},\"id\":\"4214\",\"type\":\"BasicTickFormatter\"},{\"attributes\":{},\"id\":\"3985\",\"type\":\"BasicTicker\"},{\"attributes\":{\"coordinates\":null,\"data_source\":{\"id\":\"4007\"},\"glyph\":{\"id\":\"4008\"},\"group\":null,\"hover_glyph\":null,\"muted_glyph\":{\"id\":\"4010\"},\"nonselection_glyph\":{\"id\":\"4009\"},\"view\":{\"id\":\"4012\"}},\"id\":\"4011\",\"type\":\"GlyphRenderer\"},{\"attributes\":{},\"id\":\"4224\",\"type\":\"Selection\"},{\"attributes\":{\"axis\":{\"id\":\"3984\"},\"coordinates\":null,\"dimension\":1,\"grid_line_color\":\"white\",\"group\":null,\"ticker\":null},\"id\":\"3987\",\"type\":\"Grid\"},{\"attributes\":{},\"id\":\"4217\",\"type\":\"BasicTickFormatter\"},{\"attributes\":{\"fill_alpha\":{\"value\":0.2},\"fill_color\":{\"value\":\"#1f77b4\"},\"hatch_alpha\":{\"value\":0.2},\"height\":{\"value\":0.01},\"line_alpha\":{\"value\":0.2},\"width\":{\"value\":0.2},\"x\":{\"value\":0},\"y\":{\"value\":98.5}},\"id\":\"4022\",\"type\":\"Rect\"},{\"attributes\":{\"line_alpha\":{\"value\":0.2},\"x0\":{\"value\":0},\"x1\":{\"value\":0},\"y0\":{\"value\":-9.5},\"y1\":{\"value\":31.0}},\"id\":\"3998\",\"type\":\"Segment\"},{\"attributes\":{\"source\":{\"id\":\"4019\"}},\"id\":\"4024\",\"type\":\"CDSView\"},{\"attributes\":{\"fill_alpha\":{\"value\":0.1},\"fill_color\":{\"value\":\"#1f77b4\"},\"hatch_alpha\":{\"value\":0.1},\"height\":{\"value\":0.01},\"line_alpha\":{\"value\":0.1},\"width\":{\"value\":0.2},\"x\":{\"value\":0},\"y\":{\"value\":-9.5}},\"id\":\"4015\",\"type\":\"Rect\"},{\"attributes\":{\"bottom\":{\"value\":58.0},\"fill_alpha\":{\"value\":0.2},\"fill_color\":{\"value\":\"#E08E79\"},\"hatch_alpha\":{\"value\":0.2},\"line_alpha\":{\"value\":0.2},\"top\":{\"value\":45.0},\"width\":{\"value\":0.7},\"x\":{\"value\":0}},\"id\":\"4004\",\"type\":\"VBar\"},{\"attributes\":{\"data\":{},\"selected\":{\"id\":\"4228\"},\"selection_policy\":{\"id\":\"4227\"}},\"id\":\"4013\",\"type\":\"ColumnDataSource\"},{\"attributes\":{\"bottom\":{\"value\":58.0},\"fill_alpha\":{\"value\":0.1},\"fill_color\":{\"value\":\"#E08E79\"},\"hatch_alpha\":{\"value\":0.1},\"line_alpha\":{\"value\":0.1},\"top\":{\"value\":45.0},\"width\":{\"value\":0.7},\"x\":{\"value\":0}},\"id\":\"4003\",\"type\":\"VBar\"}],\"root_ids\":[\"3971\"]},\"title\":\"Bokeh Application\",\"version\":\"2.4.3\"}};\n  const render_items = [{\"docid\":\"01eced1d-6a59-4cfc-b415-c53580e70328\",\"root_ids\":[\"3971\"],\"roots\":{\"3971\":\"bd777368-bd26-49b9-bf96-4e2649917d9a\"}}];\n  root.Bokeh.embed.embed_items_notebook(docs_json, render_items);\n  }\n  if (root.Bokeh !== undefined) {\n    embed_document(root);\n  } else {\n    let attempts = 0;\n    const timer = setInterval(function(root) {\n      if (root.Bokeh !== undefined) {\n        clearInterval(timer);\n        embed_document(root);\n      } else {\n        attempts++;\n        if (attempts > 100) {\n          clearInterval(timer);\n          console.log(\"Bokeh: ERROR: Unable to run BokehJS code because BokehJS library is missing\");\n        }\n      }\n    }, 10, root)\n  }\n})(window);",
      "application/vnd.bokehjs_exec.v0+json": ""
     },
     "metadata": {
      "application/vnd.bokehjs_exec.v0+json": {
       "id": "3971"
      }
     },
     "output_type": "display_data"
    }
   ],
   "source": [
    "plot_box(df_drug, \"Age\")"
   ]
  },
  {
   "cell_type": "code",
   "execution_count": 54,
   "metadata": {},
   "outputs": [
    {
     "data": {
      "text/html": [
       "\n",
       "  <div class=\"bk-root\" id=\"9ba98959-9dd5-400f-b2c7-afe58ad3c15d\" data-root-id=\"4331\"></div>\n"
      ]
     },
     "metadata": {},
     "output_type": "display_data"
    },
    {
     "data": {
      "application/javascript": "(function(root) {\n  function embed_document(root) {\n  const docs_json = {\"79473fc8-b647-4d3f-998a-ea8a16a8b87e\":{\"defs\":[],\"roots\":{\"references\":[{\"attributes\":{\"background_fill_color\":\"#efefef\",\"below\":[{\"id\":\"4340\"}],\"center\":[{\"id\":\"4343\"},{\"id\":\"4347\"}],\"left\":[{\"id\":\"4344\"}],\"renderers\":[{\"id\":\"4353\"},{\"id\":\"4359\"},{\"id\":\"4365\"},{\"id\":\"4371\"},{\"id\":\"4377\"},{\"id\":\"4383\"},{\"id\":\"4389\"}],\"title\":{\"id\":\"4597\"},\"toolbar\":{\"id\":\"4348\"},\"toolbar_location\":null,\"x_range\":{\"id\":\"4332\"},\"x_scale\":{\"id\":\"4336\"},\"y_range\":{\"id\":\"4334\"},\"y_scale\":{\"id\":\"4338\"}},\"id\":\"4331\",\"subtype\":\"Figure\",\"type\":\"Plot\"},{\"attributes\":{\"coordinates\":null,\"data_source\":{\"id\":\"4385\"},\"glyph\":{\"id\":\"4386\"},\"group\":null,\"hover_glyph\":null,\"muted_glyph\":{\"id\":\"4388\"},\"nonselection_glyph\":{\"id\":\"4387\"},\"view\":{\"id\":\"4390\"}},\"id\":\"4389\",\"type\":\"GlyphRenderer\"},{\"attributes\":{\"coordinates\":null,\"group\":null},\"id\":\"4597\",\"type\":\"Title\"},{\"attributes\":{\"data\":{},\"selected\":{\"id\":\"4612\"},\"selection_policy\":{\"id\":\"4611\"}},\"id\":\"4367\",\"type\":\"ColumnDataSource\"},{\"attributes\":{},\"id\":\"4603\",\"type\":\"BasicTickFormatter\"},{\"attributes\":{\"bottom\":{\"value\":13.9365},\"fill_alpha\":{\"value\":0.1},\"fill_color\":{\"value\":\"#3B8686\"},\"hatch_alpha\":{\"value\":0.1},\"line_alpha\":{\"value\":0.1},\"top\":{\"value\":10.4455},\"width\":{\"value\":0.7},\"x\":{\"value\":0}},\"id\":\"4369\",\"type\":\"VBar\"},{\"attributes\":{},\"id\":\"4601\",\"type\":\"AllLabels\"},{\"attributes\":{\"fill_alpha\":{\"value\":0.2},\"fill_color\":{\"value\":\"#F38630\"},\"hatch_alpha\":{\"value\":0.2},\"hatch_color\":{\"value\":\"#F38630\"},\"line_alpha\":{\"value\":0.2},\"line_color\":{\"value\":\"#F38630\"},\"size\":{\"value\":6},\"x\":{\"value\":0},\"y\":{\"field\":\"y\"}},\"id\":\"4388\",\"type\":\"Circle\"},{\"attributes\":{\"data\":{},\"selected\":{\"id\":\"4606\"},\"selection_policy\":{\"id\":\"4605\"}},\"id\":\"4349\",\"type\":\"ColumnDataSource\"},{\"attributes\":{},\"id\":\"4604\",\"type\":\"AllLabels\"},{\"attributes\":{\"coordinates\":null,\"formatter\":{\"id\":\"4600\"},\"group\":null,\"major_label_policy\":{\"id\":\"4601\"},\"ticker\":{\"id\":\"4345\"}},\"id\":\"4344\",\"type\":\"LinearAxis\"},{\"attributes\":{\"coordinates\":null,\"formatter\":{\"id\":\"4603\"},\"group\":null,\"major_label_policy\":{\"id\":\"4604\"},\"ticker\":{\"id\":\"4341\"}},\"id\":\"4340\",\"type\":\"LinearAxis\"},{\"attributes\":{\"coordinates\":null,\"data_source\":{\"id\":\"4361\"},\"glyph\":{\"id\":\"4362\"},\"group\":null,\"hover_glyph\":null,\"muted_glyph\":{\"id\":\"4364\"},\"nonselection_glyph\":{\"id\":\"4363\"},\"view\":{\"id\":\"4366\"}},\"id\":\"4365\",\"type\":\"GlyphRenderer\"},{\"attributes\":{},\"id\":\"4334\",\"type\":\"DataRange1d\"},{\"attributes\":{\"line_alpha\":{\"value\":0.2},\"x0\":{\"value\":0},\"x1\":{\"value\":0},\"y0\":{\"value\":32.78175},\"y1\":{\"value\":19.38}},\"id\":\"4352\",\"type\":\"Segment\"},{\"attributes\":{},\"id\":\"4613\",\"type\":\"UnionRenderers\"},{\"attributes\":{},\"id\":\"4609\",\"type\":\"UnionRenderers\"},{\"attributes\":{},\"id\":\"4338\",\"type\":\"LinearScale\"},{\"attributes\":{\"bottom\":{\"value\":19.38},\"fill_alpha\":{\"value\":0.1},\"fill_color\":{\"value\":\"#E08E79\"},\"hatch_alpha\":{\"value\":0.1},\"line_alpha\":{\"value\":0.1},\"top\":{\"value\":13.9365},\"width\":{\"value\":0.7},\"x\":{\"value\":0}},\"id\":\"4363\",\"type\":\"VBar\"},{\"attributes\":{},\"id\":\"4617\",\"type\":\"UnionRenderers\"},{\"attributes\":{\"line_alpha\":{\"value\":0.1},\"x0\":{\"value\":0},\"x1\":{\"value\":0},\"y0\":{\"value\":32.78175},\"y1\":{\"value\":19.38}},\"id\":\"4351\",\"type\":\"Segment\"},{\"attributes\":{},\"id\":\"4614\",\"type\":\"Selection\"},{\"attributes\":{},\"id\":\"4336\",\"type\":\"LinearScale\"},{\"attributes\":{},\"id\":\"4610\",\"type\":\"Selection\"},{\"attributes\":{},\"id\":\"4618\",\"type\":\"Selection\"},{\"attributes\":{},\"id\":\"4332\",\"type\":\"DataRange1d\"},{\"attributes\":{\"x0\":{\"value\":0},\"x1\":{\"value\":0},\"y0\":{\"value\":32.78175},\"y1\":{\"value\":19.38}},\"id\":\"4350\",\"type\":\"Segment\"},{\"attributes\":{},\"id\":\"4605\",\"type\":\"UnionRenderers\"},{\"attributes\":{\"axis\":{\"id\":\"4340\"},\"coordinates\":null,\"grid_line_color\":null,\"group\":null,\"ticker\":null},\"id\":\"4343\",\"type\":\"Grid\"},{\"attributes\":{\"bottom\":{\"value\":19.38},\"fill_color\":{\"value\":\"#E08E79\"},\"top\":{\"value\":13.9365},\"width\":{\"value\":0.7},\"x\":{\"value\":0}},\"id\":\"4362\",\"type\":\"VBar\"},{\"attributes\":{},\"id\":\"4341\",\"type\":\"BasicTicker\"},{\"attributes\":{\"source\":{\"id\":\"4355\"}},\"id\":\"4360\",\"type\":\"CDSView\"},{\"attributes\":{\"data\":{},\"selected\":{\"id\":\"4610\"},\"selection_policy\":{\"id\":\"4609\"}},\"id\":\"4361\",\"type\":\"ColumnDataSource\"},{\"attributes\":{},\"id\":\"4606\",\"type\":\"Selection\"},{\"attributes\":{\"fill_alpha\":{\"value\":0.2},\"fill_color\":{\"value\":\"#1f77b4\"},\"hatch_alpha\":{\"value\":0.2},\"height\":{\"value\":0.01},\"line_alpha\":{\"value\":0.2},\"width\":{\"value\":0.2},\"x\":{\"value\":0},\"y\":{\"value\":32.78175}},\"id\":\"4382\",\"type\":\"Rect\"},{\"attributes\":{\"axis\":{\"id\":\"4344\"},\"coordinates\":null,\"dimension\":1,\"grid_line_color\":\"white\",\"group\":null,\"ticker\":null},\"id\":\"4347\",\"type\":\"Grid\"},{\"attributes\":{\"fill_alpha\":{\"value\":0.6},\"fill_color\":{\"value\":\"#F38630\"},\"hatch_color\":{\"value\":\"#F38630\"},\"line_color\":{\"value\":\"#F38630\"},\"size\":{\"value\":6},\"x\":{\"value\":0},\"y\":{\"field\":\"y\"}},\"id\":\"4386\",\"type\":\"Circle\"},{\"attributes\":{},\"id\":\"4345\",\"type\":\"BasicTicker\"},{\"attributes\":{\"fill_alpha\":{\"value\":0.1},\"fill_color\":{\"value\":\"#1f77b4\"},\"hatch_alpha\":{\"value\":0.1},\"height\":{\"value\":0.01},\"line_alpha\":{\"value\":0.1},\"width\":{\"value\":0.2},\"x\":{\"value\":0},\"y\":{\"value\":32.78175}},\"id\":\"4381\",\"type\":\"Rect\"},{\"attributes\":{},\"id\":\"4348\",\"type\":\"Toolbar\"},{\"attributes\":{\"coordinates\":null,\"data_source\":{\"id\":\"4349\"},\"glyph\":{\"id\":\"4350\"},\"group\":null,\"hover_glyph\":null,\"muted_glyph\":{\"id\":\"4352\"},\"nonselection_glyph\":{\"id\":\"4351\"},\"view\":{\"id\":\"4354\"}},\"id\":\"4353\",\"type\":\"GlyphRenderer\"},{\"attributes\":{\"coordinates\":null,\"data_source\":{\"id\":\"4379\"},\"glyph\":{\"id\":\"4380\"},\"group\":null,\"hover_glyph\":null,\"muted_glyph\":{\"id\":\"4382\"},\"nonselection_glyph\":{\"id\":\"4381\"},\"view\":{\"id\":\"4384\"}},\"id\":\"4383\",\"type\":\"GlyphRenderer\"},{\"attributes\":{\"x0\":{\"value\":0},\"x1\":{\"value\":0},\"y0\":{\"value\":-2.9562500000000007},\"y1\":{\"value\":10.4455}},\"id\":\"4356\",\"type\":\"Segment\"},{\"attributes\":{\"bottom\":{\"value\":19.38},\"fill_alpha\":{\"value\":0.2},\"fill_color\":{\"value\":\"#E08E79\"},\"hatch_alpha\":{\"value\":0.2},\"line_alpha\":{\"value\":0.2},\"top\":{\"value\":13.9365},\"width\":{\"value\":0.7},\"x\":{\"value\":0}},\"id\":\"4364\",\"type\":\"VBar\"},{\"attributes\":{\"coordinates\":null,\"data_source\":{\"id\":\"4355\"},\"glyph\":{\"id\":\"4356\"},\"group\":null,\"hover_glyph\":null,\"muted_glyph\":{\"id\":\"4358\"},\"nonselection_glyph\":{\"id\":\"4357\"},\"view\":{\"id\":\"4360\"}},\"id\":\"4359\",\"type\":\"GlyphRenderer\"},{\"attributes\":{\"bottom\":{\"value\":13.9365},\"fill_alpha\":{\"value\":0.2},\"fill_color\":{\"value\":\"#3B8686\"},\"hatch_alpha\":{\"value\":0.2},\"line_alpha\":{\"value\":0.2},\"top\":{\"value\":10.4455},\"width\":{\"value\":0.7},\"x\":{\"value\":0}},\"id\":\"4370\",\"type\":\"VBar\"},{\"attributes\":{\"data\":{},\"selected\":{\"id\":\"4608\"},\"selection_policy\":{\"id\":\"4607\"}},\"id\":\"4355\",\"type\":\"ColumnDataSource\"},{\"attributes\":{\"source\":{\"id\":\"4373\"}},\"id\":\"4378\",\"type\":\"CDSView\"},{\"attributes\":{\"source\":{\"id\":\"4349\"}},\"id\":\"4354\",\"type\":\"CDSView\"},{\"attributes\":{},\"id\":\"4611\",\"type\":\"UnionRenderers\"},{\"attributes\":{\"fill_alpha\":{\"value\":0.1},\"fill_color\":{\"value\":\"#1f77b4\"},\"hatch_alpha\":{\"value\":0.1},\"height\":{\"value\":0.01},\"line_alpha\":{\"value\":0.1},\"width\":{\"value\":0.2},\"x\":{\"value\":0},\"y\":{\"value\":-2.9562500000000007}},\"id\":\"4375\",\"type\":\"Rect\"},{\"attributes\":{},\"id\":\"4615\",\"type\":\"UnionRenderers\"},{\"attributes\":{\"data\":{\"y\":{\"__ndarray__\":\"ke18PzW+QEBWDi2ynR9DQG8Sg8DK0UFATDeJQWDFQEC8dJMYBHZAQPLSTWIQmEJAVg4tsp1/QUArhxbZzldBQA==\",\"dtype\":\"float64\",\"order\":\"little\",\"shape\":[8]}},\"selected\":{\"id\":\"4618\"},\"selection_policy\":{\"id\":\"4617\"}},\"id\":\"4385\",\"type\":\"ColumnDataSource\"},{\"attributes\":{\"source\":{\"id\":\"4385\"}},\"id\":\"4390\",\"type\":\"CDSView\"},{\"attributes\":{\"source\":{\"id\":\"4361\"}},\"id\":\"4366\",\"type\":\"CDSView\"},{\"attributes\":{},\"id\":\"4607\",\"type\":\"UnionRenderers\"},{\"attributes\":{},\"id\":\"4616\",\"type\":\"Selection\"},{\"attributes\":{\"coordinates\":null,\"data_source\":{\"id\":\"4367\"},\"glyph\":{\"id\":\"4368\"},\"group\":null,\"hover_glyph\":null,\"muted_glyph\":{\"id\":\"4370\"},\"nonselection_glyph\":{\"id\":\"4369\"},\"view\":{\"id\":\"4372\"}},\"id\":\"4371\",\"type\":\"GlyphRenderer\"},{\"attributes\":{\"line_alpha\":{\"value\":0.2},\"x0\":{\"value\":0},\"x1\":{\"value\":0},\"y0\":{\"value\":-2.9562500000000007},\"y1\":{\"value\":10.4455}},\"id\":\"4358\",\"type\":\"Segment\"},{\"attributes\":{},\"id\":\"4612\",\"type\":\"Selection\"},{\"attributes\":{\"fill_color\":{\"value\":\"#1f77b4\"},\"height\":{\"value\":0.01},\"width\":{\"value\":0.2},\"x\":{\"value\":0},\"y\":{\"value\":-2.9562500000000007}},\"id\":\"4374\",\"type\":\"Rect\"},{\"attributes\":{},\"id\":\"4600\",\"type\":\"BasicTickFormatter\"},{\"attributes\":{\"fill_alpha\":{\"value\":0.2},\"fill_color\":{\"value\":\"#1f77b4\"},\"hatch_alpha\":{\"value\":0.2},\"height\":{\"value\":0.01},\"line_alpha\":{\"value\":0.2},\"width\":{\"value\":0.2},\"x\":{\"value\":0},\"y\":{\"value\":-2.9562500000000007}},\"id\":\"4376\",\"type\":\"Rect\"},{\"attributes\":{},\"id\":\"4608\",\"type\":\"Selection\"},{\"attributes\":{\"coordinates\":null,\"data_source\":{\"id\":\"4373\"},\"glyph\":{\"id\":\"4374\"},\"group\":null,\"hover_glyph\":null,\"muted_glyph\":{\"id\":\"4376\"},\"nonselection_glyph\":{\"id\":\"4375\"},\"view\":{\"id\":\"4378\"}},\"id\":\"4377\",\"type\":\"GlyphRenderer\"},{\"attributes\":{\"data\":{},\"selected\":{\"id\":\"4614\"},\"selection_policy\":{\"id\":\"4613\"}},\"id\":\"4373\",\"type\":\"ColumnDataSource\"},{\"attributes\":{\"source\":{\"id\":\"4367\"}},\"id\":\"4372\",\"type\":\"CDSView\"},{\"attributes\":{\"fill_alpha\":{\"value\":0.1},\"fill_color\":{\"value\":\"#F38630\"},\"hatch_alpha\":{\"value\":0.1},\"hatch_color\":{\"value\":\"#F38630\"},\"line_alpha\":{\"value\":0.1},\"line_color\":{\"value\":\"#F38630\"},\"size\":{\"value\":6},\"x\":{\"value\":0},\"y\":{\"field\":\"y\"}},\"id\":\"4387\",\"type\":\"Circle\"},{\"attributes\":{\"source\":{\"id\":\"4379\"}},\"id\":\"4384\",\"type\":\"CDSView\"},{\"attributes\":{\"line_alpha\":{\"value\":0.1},\"x0\":{\"value\":0},\"x1\":{\"value\":0},\"y0\":{\"value\":-2.9562500000000007},\"y1\":{\"value\":10.4455}},\"id\":\"4357\",\"type\":\"Segment\"},{\"attributes\":{\"fill_color\":{\"value\":\"#1f77b4\"},\"height\":{\"value\":0.01},\"width\":{\"value\":0.2},\"x\":{\"value\":0},\"y\":{\"value\":32.78175}},\"id\":\"4380\",\"type\":\"Rect\"},{\"attributes\":{\"bottom\":{\"value\":13.9365},\"fill_color\":{\"value\":\"#3B8686\"},\"top\":{\"value\":10.4455},\"width\":{\"value\":0.7},\"x\":{\"value\":0}},\"id\":\"4368\",\"type\":\"VBar\"},{\"attributes\":{\"data\":{},\"selected\":{\"id\":\"4616\"},\"selection_policy\":{\"id\":\"4615\"}},\"id\":\"4379\",\"type\":\"ColumnDataSource\"}],\"root_ids\":[\"4331\"]},\"title\":\"Bokeh Application\",\"version\":\"2.4.3\"}};\n  const render_items = [{\"docid\":\"79473fc8-b647-4d3f-998a-ea8a16a8b87e\",\"root_ids\":[\"4331\"],\"roots\":{\"4331\":\"9ba98959-9dd5-400f-b2c7-afe58ad3c15d\"}}];\n  root.Bokeh.embed.embed_items_notebook(docs_json, render_items);\n  }\n  if (root.Bokeh !== undefined) {\n    embed_document(root);\n  } else {\n    let attempts = 0;\n    const timer = setInterval(function(root) {\n      if (root.Bokeh !== undefined) {\n        clearInterval(timer);\n        embed_document(root);\n      } else {\n        attempts++;\n        if (attempts > 100) {\n          clearInterval(timer);\n          console.log(\"Bokeh: ERROR: Unable to run BokehJS code because BokehJS library is missing\");\n        }\n      }\n    }, 10, root)\n  }\n})(window);",
      "application/vnd.bokehjs_exec.v0+json": ""
     },
     "metadata": {
      "application/vnd.bokehjs_exec.v0+json": {
       "id": "4331"
      }
     },
     "output_type": "display_data"
    }
   ],
   "source": [
    "plot_box(df_drug, \"Na_to_K\")"
   ]
  },
  {
   "cell_type": "code",
   "execution_count": 47,
   "metadata": {},
   "outputs": [],
   "source": [
    "def plot_histogram(df, column, title, x_label, y_label=\"n Patients\"):\n",
    "  hist = df[column].value_counts()\n",
    "  x_range = None\n",
    "  if df[column].dtype.name == \"category\":\n",
    "    x_range = df[column].cat.categories.tolist()\n",
    "  else:\n",
    "    x_range = hist.index.tolist().sort()\n",
    "  p = figure(\n",
    "    x_range=x_range,\n",
    "    title=title,\n",
    "    x_axis_label=x_label,\n",
    "    y_axis_label=y_label,\n",
    "    sizing_mode='stretch_width',\n",
    "    max_width=800,\n",
    "    height=300,\n",
    "  )\n",
    "  p.vbar(x=hist.index.tolist(), top=hist.values, width=0.9)\n",
    "  show(p)"
   ]
  },
  {
   "cell_type": "code",
   "execution_count": 55,
   "metadata": {},
   "outputs": [
    {
     "data": {
      "text/html": [
       "\n",
       "  <div class=\"bk-root\" id=\"29525516-69ed-4a9e-8f49-c6cef79987a6\" data-root-id=\"4729\"></div>\n"
      ]
     },
     "metadata": {},
     "output_type": "display_data"
    },
    {
     "data": {
      "application/javascript": "(function(root) {\n  function embed_document(root) {\n  const docs_json = {\"e6384f52-41ca-4ca1-ac10-6583fe998430\":{\"defs\":[],\"roots\":{\"references\":[{\"attributes\":{\"below\":[{\"id\":\"4740\"}],\"center\":[{\"id\":\"4742\"},{\"id\":\"4746\"}],\"height\":300,\"left\":[{\"id\":\"4743\"}],\"max_width\":800,\"renderers\":[{\"id\":\"4765\"}],\"sizing_mode\":\"stretch_width\",\"title\":{\"id\":\"4730\"},\"toolbar\":{\"id\":\"4754\"},\"x_range\":{\"id\":\"4732\"},\"x_scale\":{\"id\":\"4736\"},\"y_range\":{\"id\":\"4734\"},\"y_scale\":{\"id\":\"4738\"}},\"id\":\"4729\",\"subtype\":\"Figure\",\"type\":\"Plot\"},{\"attributes\":{\"fill_alpha\":{\"value\":0.1},\"fill_color\":{\"value\":\"#1f77b4\"},\"hatch_alpha\":{\"value\":0.1},\"line_alpha\":{\"value\":0.1},\"line_color\":{\"value\":\"#1f77b4\"},\"top\":{\"field\":\"top\"},\"width\":{\"value\":0.9},\"x\":{\"field\":\"x\"}},\"id\":\"4763\",\"type\":\"VBar\"},{\"attributes\":{},\"id\":\"4734\",\"type\":\"DataRange1d\"},{\"attributes\":{},\"id\":\"4997\",\"type\":\"BasicTickFormatter\"},{\"attributes\":{},\"id\":\"4998\",\"type\":\"AllLabels\"},{\"attributes\":{\"source\":{\"id\":\"4761\"}},\"id\":\"4766\",\"type\":\"CDSView\"},{\"attributes\":{\"data\":{\"top\":[77,64,59],\"x\":[\"HIGH\",\"LOW\",\"NORMAL\"]},\"selected\":{\"id\":\"5003\"},\"selection_policy\":{\"id\":\"5002\"}},\"id\":\"4761\",\"type\":\"ColumnDataSource\"},{\"attributes\":{\"fill_color\":{\"value\":\"#1f77b4\"},\"line_color\":{\"value\":\"#1f77b4\"},\"top\":{\"field\":\"top\"},\"width\":{\"value\":0.9},\"x\":{\"field\":\"x\"}},\"id\":\"4762\",\"type\":\"VBar\"},{\"attributes\":{\"factors\":[\"LOW\",\"NORMAL\",\"HIGH\"]},\"id\":\"4732\",\"type\":\"FactorRange\"},{\"attributes\":{},\"id\":\"4736\",\"type\":\"CategoricalScale\"},{\"attributes\":{\"tools\":[{\"id\":\"4747\"},{\"id\":\"4748\"},{\"id\":\"4749\"},{\"id\":\"4750\"},{\"id\":\"4751\"},{\"id\":\"4752\"}]},\"id\":\"4754\",\"type\":\"Toolbar\"},{\"attributes\":{},\"id\":\"5000\",\"type\":\"CategoricalTickFormatter\"},{\"attributes\":{\"axis_label\":\"Blood Pressure\",\"coordinates\":null,\"formatter\":{\"id\":\"5000\"},\"group\":null,\"major_label_policy\":{\"id\":\"5001\"},\"ticker\":{\"id\":\"4741\"}},\"id\":\"4740\",\"type\":\"CategoricalAxis\"},{\"attributes\":{},\"id\":\"4738\",\"type\":\"LinearScale\"},{\"attributes\":{\"coordinates\":null,\"group\":null,\"text\":\"Blood Pressure\"},\"id\":\"4730\",\"type\":\"Title\"},{\"attributes\":{},\"id\":\"5001\",\"type\":\"AllLabels\"},{\"attributes\":{},\"id\":\"4748\",\"type\":\"WheelZoomTool\"},{\"attributes\":{\"axis\":{\"id\":\"4740\"},\"coordinates\":null,\"group\":null,\"ticker\":null},\"id\":\"4742\",\"type\":\"Grid\"},{\"attributes\":{},\"id\":\"4741\",\"type\":\"CategoricalTicker\"},{\"attributes\":{\"axis_label\":\"n Patients\",\"coordinates\":null,\"formatter\":{\"id\":\"4997\"},\"group\":null,\"major_label_policy\":{\"id\":\"4998\"},\"ticker\":{\"id\":\"4744\"}},\"id\":\"4743\",\"type\":\"LinearAxis\"},{\"attributes\":{\"axis\":{\"id\":\"4743\"},\"coordinates\":null,\"dimension\":1,\"group\":null,\"ticker\":null},\"id\":\"4746\",\"type\":\"Grid\"},{\"attributes\":{},\"id\":\"4744\",\"type\":\"BasicTicker\"},{\"attributes\":{\"fill_alpha\":{\"value\":0.2},\"fill_color\":{\"value\":\"#1f77b4\"},\"hatch_alpha\":{\"value\":0.2},\"line_alpha\":{\"value\":0.2},\"line_color\":{\"value\":\"#1f77b4\"},\"top\":{\"field\":\"top\"},\"width\":{\"value\":0.9},\"x\":{\"field\":\"x\"}},\"id\":\"4764\",\"type\":\"VBar\"},{\"attributes\":{},\"id\":\"4752\",\"type\":\"HelpTool\"},{\"attributes\":{},\"id\":\"5002\",\"type\":\"UnionRenderers\"},{\"attributes\":{},\"id\":\"4747\",\"type\":\"PanTool\"},{\"attributes\":{\"coordinates\":null,\"data_source\":{\"id\":\"4761\"},\"glyph\":{\"id\":\"4762\"},\"group\":null,\"hover_glyph\":null,\"muted_glyph\":{\"id\":\"4764\"},\"nonselection_glyph\":{\"id\":\"4763\"},\"view\":{\"id\":\"4766\"}},\"id\":\"4765\",\"type\":\"GlyphRenderer\"},{\"attributes\":{\"overlay\":{\"id\":\"4753\"}},\"id\":\"4749\",\"type\":\"BoxZoomTool\"},{\"attributes\":{},\"id\":\"4750\",\"type\":\"SaveTool\"},{\"attributes\":{},\"id\":\"5003\",\"type\":\"Selection\"},{\"attributes\":{},\"id\":\"4751\",\"type\":\"ResetTool\"},{\"attributes\":{\"bottom_units\":\"screen\",\"coordinates\":null,\"fill_alpha\":0.5,\"fill_color\":\"lightgrey\",\"group\":null,\"left_units\":\"screen\",\"level\":\"overlay\",\"line_alpha\":1.0,\"line_color\":\"black\",\"line_dash\":[4,4],\"line_width\":2,\"right_units\":\"screen\",\"syncable\":false,\"top_units\":\"screen\"},\"id\":\"4753\",\"type\":\"BoxAnnotation\"}],\"root_ids\":[\"4729\"]},\"title\":\"Bokeh Application\",\"version\":\"2.4.3\"}};\n  const render_items = [{\"docid\":\"e6384f52-41ca-4ca1-ac10-6583fe998430\",\"root_ids\":[\"4729\"],\"roots\":{\"4729\":\"29525516-69ed-4a9e-8f49-c6cef79987a6\"}}];\n  root.Bokeh.embed.embed_items_notebook(docs_json, render_items);\n  }\n  if (root.Bokeh !== undefined) {\n    embed_document(root);\n  } else {\n    let attempts = 0;\n    const timer = setInterval(function(root) {\n      if (root.Bokeh !== undefined) {\n        clearInterval(timer);\n        embed_document(root);\n      } else {\n        attempts++;\n        if (attempts > 100) {\n          clearInterval(timer);\n          console.log(\"Bokeh: ERROR: Unable to run BokehJS code because BokehJS library is missing\");\n        }\n      }\n    }, 10, root)\n  }\n})(window);",
      "application/vnd.bokehjs_exec.v0+json": ""
     },
     "metadata": {
      "application/vnd.bokehjs_exec.v0+json": {
       "id": "4729"
      }
     },
     "output_type": "display_data"
    }
   ],
   "source": [
    "plot_histogram(df_drug, \"BP\", \"Blood Pressure\", \"Blood Pressure\")"
   ]
  },
  {
   "cell_type": "code",
   "execution_count": 87,
   "metadata": {},
   "outputs": [
    {
     "data": {
      "text/html": [
       "\n",
       "  <div class=\"bk-root\" id=\"8c4fea9f-d064-4758-93c6-367d419c5dc0\" data-root-id=\"9275\"></div>\n"
      ]
     },
     "metadata": {},
     "output_type": "display_data"
    },
    {
     "data": {
      "application/javascript": "(function(root) {\n  function embed_document(root) {\n  const docs_json = {\"f90ed250-f274-44b0-be49-c5d2e3128b1a\":{\"defs\":[],\"roots\":{\"references\":[{\"attributes\":{\"below\":[{\"id\":\"9286\"}],\"center\":[{\"id\":\"9288\"},{\"id\":\"9292\"}],\"height\":300,\"left\":[{\"id\":\"9289\"}],\"max_width\":800,\"renderers\":[{\"id\":\"9311\"}],\"sizing_mode\":\"stretch_width\",\"title\":{\"id\":\"9276\"},\"toolbar\":{\"id\":\"9300\"},\"x_range\":{\"id\":\"9278\"},\"x_scale\":{\"id\":\"9282\"},\"y_range\":{\"id\":\"9280\"},\"y_scale\":{\"id\":\"9284\"}},\"id\":\"9275\",\"subtype\":\"Figure\",\"type\":\"Plot\"},{\"attributes\":{\"fill_color\":{\"value\":\"#1f77b4\"},\"line_color\":{\"value\":\"#1f77b4\"},\"top\":{\"field\":\"top\"},\"width\":{\"value\":0.9},\"x\":{\"field\":\"x\"}},\"id\":\"9308\",\"type\":\"VBar\"},{\"attributes\":{\"source\":{\"id\":\"9307\"}},\"id\":\"9312\",\"type\":\"CDSView\"},{\"attributes\":{},\"id\":\"9656\",\"type\":\"BasicTickFormatter\"},{\"attributes\":{\"data\":{\"top\":[103,97],\"x\":[\"HIGH\",\"NORMAL\"]},\"selected\":{\"id\":\"9662\"},\"selection_policy\":{\"id\":\"9661\"}},\"id\":\"9307\",\"type\":\"ColumnDataSource\"},{\"attributes\":{},\"id\":\"9297\",\"type\":\"ResetTool\"},{\"attributes\":{},\"id\":\"9657\",\"type\":\"AllLabels\"},{\"attributes\":{},\"id\":\"9659\",\"type\":\"CategoricalTickFormatter\"},{\"attributes\":{\"axis_label\":\"n Patients\",\"coordinates\":null,\"formatter\":{\"id\":\"9656\"},\"group\":null,\"major_label_policy\":{\"id\":\"9657\"},\"ticker\":{\"id\":\"9290\"}},\"id\":\"9289\",\"type\":\"LinearAxis\"},{\"attributes\":{\"bottom_units\":\"screen\",\"coordinates\":null,\"fill_alpha\":0.5,\"fill_color\":\"lightgrey\",\"group\":null,\"left_units\":\"screen\",\"level\":\"overlay\",\"line_alpha\":1.0,\"line_color\":\"black\",\"line_dash\":[4,4],\"line_width\":2,\"right_units\":\"screen\",\"syncable\":false,\"top_units\":\"screen\"},\"id\":\"9299\",\"type\":\"BoxAnnotation\"},{\"attributes\":{\"axis\":{\"id\":\"9286\"},\"coordinates\":null,\"group\":null,\"ticker\":null},\"id\":\"9288\",\"type\":\"Grid\"},{\"attributes\":{},\"id\":\"9660\",\"type\":\"AllLabels\"},{\"attributes\":{},\"id\":\"9287\",\"type\":\"CategoricalTicker\"},{\"attributes\":{},\"id\":\"9294\",\"type\":\"WheelZoomTool\"},{\"attributes\":{},\"id\":\"9290\",\"type\":\"BasicTicker\"},{\"attributes\":{\"coordinates\":null,\"data_source\":{\"id\":\"9307\"},\"glyph\":{\"id\":\"9308\"},\"group\":null,\"hover_glyph\":null,\"muted_glyph\":{\"id\":\"9310\"},\"nonselection_glyph\":{\"id\":\"9309\"},\"view\":{\"id\":\"9312\"}},\"id\":\"9311\",\"type\":\"GlyphRenderer\"},{\"attributes\":{\"axis\":{\"id\":\"9289\"},\"coordinates\":null,\"dimension\":1,\"group\":null,\"ticker\":null},\"id\":\"9292\",\"type\":\"Grid\"},{\"attributes\":{},\"id\":\"9298\",\"type\":\"HelpTool\"},{\"attributes\":{\"fill_alpha\":{\"value\":0.2},\"fill_color\":{\"value\":\"#1f77b4\"},\"hatch_alpha\":{\"value\":0.2},\"line_alpha\":{\"value\":0.2},\"line_color\":{\"value\":\"#1f77b4\"},\"top\":{\"field\":\"top\"},\"width\":{\"value\":0.9},\"x\":{\"field\":\"x\"}},\"id\":\"9310\",\"type\":\"VBar\"},{\"attributes\":{\"axis_label\":\"Cholesterol\",\"coordinates\":null,\"formatter\":{\"id\":\"9659\"},\"group\":null,\"major_label_policy\":{\"id\":\"9660\"},\"ticker\":{\"id\":\"9287\"}},\"id\":\"9286\",\"type\":\"CategoricalAxis\"},{\"attributes\":{\"overlay\":{\"id\":\"9299\"}},\"id\":\"9295\",\"type\":\"BoxZoomTool\"},{\"attributes\":{},\"id\":\"9661\",\"type\":\"UnionRenderers\"},{\"attributes\":{},\"id\":\"9296\",\"type\":\"SaveTool\"},{\"attributes\":{},\"id\":\"9293\",\"type\":\"PanTool\"},{\"attributes\":{\"coordinates\":null,\"group\":null,\"text\":\"Cholesterol\"},\"id\":\"9276\",\"type\":\"Title\"},{\"attributes\":{},\"id\":\"9662\",\"type\":\"Selection\"},{\"attributes\":{},\"id\":\"9284\",\"type\":\"LinearScale\"},{\"attributes\":{},\"id\":\"9282\",\"type\":\"CategoricalScale\"},{\"attributes\":{},\"id\":\"9280\",\"type\":\"DataRange1d\"},{\"attributes\":{\"factors\":[\"NORMAL\",\"HIGH\"]},\"id\":\"9278\",\"type\":\"FactorRange\"},{\"attributes\":{\"tools\":[{\"id\":\"9293\"},{\"id\":\"9294\"},{\"id\":\"9295\"},{\"id\":\"9296\"},{\"id\":\"9297\"},{\"id\":\"9298\"}]},\"id\":\"9300\",\"type\":\"Toolbar\"},{\"attributes\":{\"fill_alpha\":{\"value\":0.1},\"fill_color\":{\"value\":\"#1f77b4\"},\"hatch_alpha\":{\"value\":0.1},\"line_alpha\":{\"value\":0.1},\"line_color\":{\"value\":\"#1f77b4\"},\"top\":{\"field\":\"top\"},\"width\":{\"value\":0.9},\"x\":{\"field\":\"x\"}},\"id\":\"9309\",\"type\":\"VBar\"}],\"root_ids\":[\"9275\"]},\"title\":\"Bokeh Application\",\"version\":\"2.4.3\"}};\n  const render_items = [{\"docid\":\"f90ed250-f274-44b0-be49-c5d2e3128b1a\",\"root_ids\":[\"9275\"],\"roots\":{\"9275\":\"8c4fea9f-d064-4758-93c6-367d419c5dc0\"}}];\n  root.Bokeh.embed.embed_items_notebook(docs_json, render_items);\n  }\n  if (root.Bokeh !== undefined) {\n    embed_document(root);\n  } else {\n    let attempts = 0;\n    const timer = setInterval(function(root) {\n      if (root.Bokeh !== undefined) {\n        clearInterval(timer);\n        embed_document(root);\n      } else {\n        attempts++;\n        if (attempts > 100) {\n          clearInterval(timer);\n          console.log(\"Bokeh: ERROR: Unable to run BokehJS code because BokehJS library is missing\");\n        }\n      }\n    }, 10, root)\n  }\n})(window);",
      "application/vnd.bokehjs_exec.v0+json": ""
     },
     "metadata": {
      "application/vnd.bokehjs_exec.v0+json": {
       "id": "9275"
      }
     },
     "output_type": "display_data"
    }
   ],
   "source": [
    "plot_histogram(df_drug, \"Cholesterol\", \"Cholesterol\", \"Cholesterol\")"
   ]
  },
  {
   "cell_type": "code",
   "execution_count": 57,
   "metadata": {},
   "outputs": [
    {
     "data": {
      "text/html": [
       "\n",
       "  <div class=\"bk-root\" id=\"0b5fd7ad-2842-497c-a492-e65b20408f5f\" data-root-id=\"5391\"></div>\n"
      ]
     },
     "metadata": {},
     "output_type": "display_data"
    },
    {
     "data": {
      "application/javascript": "(function(root) {\n  function embed_document(root) {\n  const docs_json = {\"9d4cfff1-9113-426a-bdea-d8d94ac9e6d9\":{\"defs\":[],\"roots\":{\"references\":[{\"attributes\":{\"below\":[{\"id\":\"5402\"}],\"center\":[{\"id\":\"5404\"},{\"id\":\"5408\"}],\"height\":300,\"left\":[{\"id\":\"5405\"}],\"max_width\":800,\"renderers\":[{\"id\":\"5427\"}],\"sizing_mode\":\"stretch_width\",\"title\":{\"id\":\"5392\"},\"toolbar\":{\"id\":\"5416\"},\"x_range\":{\"id\":\"5394\"},\"x_scale\":{\"id\":\"5398\"},\"y_range\":{\"id\":\"5396\"},\"y_scale\":{\"id\":\"5400\"}},\"id\":\"5391\",\"subtype\":\"Figure\",\"type\":\"Plot\"},{\"attributes\":{\"factors\":[\"M\",\"F\"]},\"id\":\"5394\",\"type\":\"FactorRange\"},{\"attributes\":{\"data\":{\"top\":[104,96],\"x\":[\"M\",\"F\"]},\"selected\":{\"id\":\"5685\"},\"selection_policy\":{\"id\":\"5684\"}},\"id\":\"5423\",\"type\":\"ColumnDataSource\"},{\"attributes\":{},\"id\":\"5679\",\"type\":\"BasicTickFormatter\"},{\"attributes\":{\"fill_color\":{\"value\":\"#1f77b4\"},\"line_color\":{\"value\":\"#1f77b4\"},\"top\":{\"field\":\"top\"},\"width\":{\"value\":0.9},\"x\":{\"field\":\"x\"}},\"id\":\"5424\",\"type\":\"VBar\"},{\"attributes\":{},\"id\":\"5680\",\"type\":\"AllLabels\"},{\"attributes\":{},\"id\":\"5396\",\"type\":\"DataRange1d\"},{\"attributes\":{},\"id\":\"5400\",\"type\":\"LinearScale\"},{\"attributes\":{},\"id\":\"5682\",\"type\":\"CategoricalTickFormatter\"},{\"attributes\":{},\"id\":\"5398\",\"type\":\"CategoricalScale\"},{\"attributes\":{\"coordinates\":null,\"group\":null,\"text\":\"Sex\"},\"id\":\"5392\",\"type\":\"Title\"},{\"attributes\":{\"axis_label\":\"Sex\",\"coordinates\":null,\"formatter\":{\"id\":\"5682\"},\"group\":null,\"major_label_policy\":{\"id\":\"5683\"},\"ticker\":{\"id\":\"5403\"}},\"id\":\"5402\",\"type\":\"CategoricalAxis\"},{\"attributes\":{},\"id\":\"5683\",\"type\":\"AllLabels\"},{\"attributes\":{},\"id\":\"5410\",\"type\":\"WheelZoomTool\"},{\"attributes\":{},\"id\":\"5403\",\"type\":\"CategoricalTicker\"},{\"attributes\":{\"axis\":{\"id\":\"5402\"},\"coordinates\":null,\"group\":null,\"ticker\":null},\"id\":\"5404\",\"type\":\"Grid\"},{\"attributes\":{\"axis_label\":\"n Patients\",\"coordinates\":null,\"formatter\":{\"id\":\"5679\"},\"group\":null,\"major_label_policy\":{\"id\":\"5680\"},\"ticker\":{\"id\":\"5406\"}},\"id\":\"5405\",\"type\":\"LinearAxis\"},{\"attributes\":{\"axis\":{\"id\":\"5405\"},\"coordinates\":null,\"dimension\":1,\"group\":null,\"ticker\":null},\"id\":\"5408\",\"type\":\"Grid\"},{\"attributes\":{},\"id\":\"5406\",\"type\":\"BasicTicker\"},{\"attributes\":{\"fill_alpha\":{\"value\":0.1},\"fill_color\":{\"value\":\"#1f77b4\"},\"hatch_alpha\":{\"value\":0.1},\"line_alpha\":{\"value\":0.1},\"line_color\":{\"value\":\"#1f77b4\"},\"top\":{\"field\":\"top\"},\"width\":{\"value\":0.9},\"x\":{\"field\":\"x\"}},\"id\":\"5425\",\"type\":\"VBar\"},{\"attributes\":{},\"id\":\"5414\",\"type\":\"HelpTool\"},{\"attributes\":{},\"id\":\"5684\",\"type\":\"UnionRenderers\"},{\"attributes\":{},\"id\":\"5409\",\"type\":\"PanTool\"},{\"attributes\":{\"source\":{\"id\":\"5423\"}},\"id\":\"5428\",\"type\":\"CDSView\"},{\"attributes\":{\"overlay\":{\"id\":\"5415\"}},\"id\":\"5411\",\"type\":\"BoxZoomTool\"},{\"attributes\":{},\"id\":\"5412\",\"type\":\"SaveTool\"},{\"attributes\":{},\"id\":\"5685\",\"type\":\"Selection\"},{\"attributes\":{},\"id\":\"5413\",\"type\":\"ResetTool\"},{\"attributes\":{\"bottom_units\":\"screen\",\"coordinates\":null,\"fill_alpha\":0.5,\"fill_color\":\"lightgrey\",\"group\":null,\"left_units\":\"screen\",\"level\":\"overlay\",\"line_alpha\":1.0,\"line_color\":\"black\",\"line_dash\":[4,4],\"line_width\":2,\"right_units\":\"screen\",\"syncable\":false,\"top_units\":\"screen\"},\"id\":\"5415\",\"type\":\"BoxAnnotation\"},{\"attributes\":{\"fill_alpha\":{\"value\":0.2},\"fill_color\":{\"value\":\"#1f77b4\"},\"hatch_alpha\":{\"value\":0.2},\"line_alpha\":{\"value\":0.2},\"line_color\":{\"value\":\"#1f77b4\"},\"top\":{\"field\":\"top\"},\"width\":{\"value\":0.9},\"x\":{\"field\":\"x\"}},\"id\":\"5426\",\"type\":\"VBar\"},{\"attributes\":{\"coordinates\":null,\"data_source\":{\"id\":\"5423\"},\"glyph\":{\"id\":\"5424\"},\"group\":null,\"hover_glyph\":null,\"muted_glyph\":{\"id\":\"5426\"},\"nonselection_glyph\":{\"id\":\"5425\"},\"view\":{\"id\":\"5428\"}},\"id\":\"5427\",\"type\":\"GlyphRenderer\"},{\"attributes\":{\"tools\":[{\"id\":\"5409\"},{\"id\":\"5410\"},{\"id\":\"5411\"},{\"id\":\"5412\"},{\"id\":\"5413\"},{\"id\":\"5414\"}]},\"id\":\"5416\",\"type\":\"Toolbar\"}],\"root_ids\":[\"5391\"]},\"title\":\"Bokeh Application\",\"version\":\"2.4.3\"}};\n  const render_items = [{\"docid\":\"9d4cfff1-9113-426a-bdea-d8d94ac9e6d9\",\"root_ids\":[\"5391\"],\"roots\":{\"5391\":\"0b5fd7ad-2842-497c-a492-e65b20408f5f\"}}];\n  root.Bokeh.embed.embed_items_notebook(docs_json, render_items);\n  }\n  if (root.Bokeh !== undefined) {\n    embed_document(root);\n  } else {\n    let attempts = 0;\n    const timer = setInterval(function(root) {\n      if (root.Bokeh !== undefined) {\n        clearInterval(timer);\n        embed_document(root);\n      } else {\n        attempts++;\n        if (attempts > 100) {\n          clearInterval(timer);\n          console.log(\"Bokeh: ERROR: Unable to run BokehJS code because BokehJS library is missing\");\n        }\n      }\n    }, 10, root)\n  }\n})(window);",
      "application/vnd.bokehjs_exec.v0+json": ""
     },
     "metadata": {
      "application/vnd.bokehjs_exec.v0+json": {
       "id": "5391"
      }
     },
     "output_type": "display_data"
    }
   ],
   "source": [
    "plot_histogram(df_drug, \"Sex\", \"Sex\", \"Sex\")"
   ]
  },
  {
   "cell_type": "code",
   "execution_count": 13,
   "metadata": {},
   "outputs": [
    {
     "data": {
      "text/html": [
       "\n",
       "  <div class=\"bk-root\" id=\"28845c8a-b34f-4b86-9341-bca4b09287de\" data-root-id=\"1101\"></div>\n"
      ]
     },
     "metadata": {},
     "output_type": "display_data"
    },
    {
     "data": {
      "application/javascript": "(function(root) {\n  function embed_document(root) {\n  const docs_json = {\"45df59fa-6094-472f-be6d-64eb2c295f78\":{\"defs\":[],\"roots\":{\"references\":[{\"attributes\":{\"below\":[{\"id\":\"1112\"}],\"center\":[{\"id\":\"1115\"},{\"id\":\"1119\"}],\"height\":300,\"left\":[{\"id\":\"1116\"}],\"max_width\":800,\"renderers\":[{\"id\":\"1138\"}],\"sizing_mode\":\"stretch_width\",\"title\":{\"id\":\"1102\"},\"toolbar\":{\"id\":\"1127\"},\"x_range\":{\"id\":\"1104\"},\"x_scale\":{\"id\":\"1108\"},\"y_range\":{\"id\":\"1106\"},\"y_scale\":{\"id\":\"1110\"}},\"id\":\"1101\",\"subtype\":\"Figure\",\"type\":\"Plot\"},{\"attributes\":{},\"id\":\"1104\",\"type\":\"DataRange1d\"},{\"attributes\":{},\"id\":\"1157\",\"type\":\"UnionRenderers\"},{\"attributes\":{\"fill_alpha\":{\"value\":0.2},\"fill_color\":{\"value\":\"#1f77b4\"},\"hatch_alpha\":{\"value\":0.2},\"line_alpha\":{\"value\":0.2},\"line_color\":{\"value\":\"#1f77b4\"},\"top\":{\"field\":\"top\"},\"width\":{\"value\":0.9},\"x\":{\"field\":\"x\"}},\"id\":\"1137\",\"type\":\"VBar\"},{\"attributes\":{\"tools\":[{\"id\":\"1120\"},{\"id\":\"1121\"},{\"id\":\"1122\"},{\"id\":\"1123\"},{\"id\":\"1124\"},{\"id\":\"1125\"}]},\"id\":\"1127\",\"type\":\"Toolbar\"},{\"attributes\":{},\"id\":\"1158\",\"type\":\"Selection\"},{\"attributes\":{\"bottom_units\":\"screen\",\"coordinates\":null,\"fill_alpha\":0.5,\"fill_color\":\"lightgrey\",\"group\":null,\"left_units\":\"screen\",\"level\":\"overlay\",\"line_alpha\":1.0,\"line_color\":\"black\",\"line_dash\":[4,4],\"line_width\":2,\"right_units\":\"screen\",\"syncable\":false,\"top_units\":\"screen\"},\"id\":\"1126\",\"type\":\"BoxAnnotation\"},{\"attributes\":{\"fill_alpha\":{\"value\":0.1},\"fill_color\":{\"value\":\"#1f77b4\"},\"hatch_alpha\":{\"value\":0.1},\"line_alpha\":{\"value\":0.1},\"line_color\":{\"value\":\"#1f77b4\"},\"top\":{\"field\":\"top\"},\"width\":{\"value\":0.9},\"x\":{\"field\":\"x\"}},\"id\":\"1136\",\"type\":\"VBar\"},{\"attributes\":{},\"id\":\"1124\",\"type\":\"ResetTool\"},{\"attributes\":{},\"id\":\"1156\",\"type\":\"AllLabels\"},{\"attributes\":{},\"id\":\"1123\",\"type\":\"SaveTool\"},{\"attributes\":{\"overlay\":{\"id\":\"1126\"}},\"id\":\"1122\",\"type\":\"BoxZoomTool\"},{\"attributes\":{},\"id\":\"1152\",\"type\":\"BasicTickFormatter\"},{\"attributes\":{},\"id\":\"1120\",\"type\":\"PanTool\"},{\"attributes\":{},\"id\":\"1125\",\"type\":\"HelpTool\"},{\"attributes\":{},\"id\":\"1153\",\"type\":\"AllLabels\"},{\"attributes\":{},\"id\":\"1117\",\"type\":\"BasicTicker\"},{\"attributes\":{\"coordinates\":null,\"data_source\":{\"id\":\"1134\"},\"glyph\":{\"id\":\"1135\"},\"group\":null,\"hover_glyph\":null,\"muted_glyph\":{\"id\":\"1137\"},\"nonselection_glyph\":{\"id\":\"1136\"},\"view\":{\"id\":\"1139\"}},\"id\":\"1138\",\"type\":\"GlyphRenderer\"},{\"attributes\":{\"axis\":{\"id\":\"1116\"},\"coordinates\":null,\"dimension\":1,\"group\":null,\"ticker\":null},\"id\":\"1119\",\"type\":\"Grid\"},{\"attributes\":{\"axis_label\":\"n Patients\",\"coordinates\":null,\"formatter\":{\"id\":\"1152\"},\"group\":null,\"major_label_policy\":{\"id\":\"1153\"},\"ticker\":{\"id\":\"1117\"}},\"id\":\"1116\",\"type\":\"LinearAxis\"},{\"attributes\":{\"axis\":{\"id\":\"1112\"},\"coordinates\":null,\"group\":null,\"ticker\":null},\"id\":\"1115\",\"type\":\"Grid\"},{\"attributes\":{},\"id\":\"1110\",\"type\":\"LinearScale\"},{\"attributes\":{},\"id\":\"1155\",\"type\":\"BasicTickFormatter\"},{\"attributes\":{},\"id\":\"1113\",\"type\":\"BasicTicker\"},{\"attributes\":{},\"id\":\"1121\",\"type\":\"WheelZoomTool\"},{\"attributes\":{\"data\":{\"top\":[8,7,7,7,6,6,5,5,5,5,5,4,4,4,4,4,4,4,4,4,4,4,4,4,4,4,4,4,4,4,3,3,3,3,3,3,3,3,3,3,3,2,2,2,2,2,2,2,2,2,1,1,1,1,1,1,1],\"x\":[47,23,28,49,39,32,50,37,58,60,22,34,72,51,42,26,24,74,67,68,61,56,20,36,45,41,31,43,65,57,53,40,70,59,16,38,15,69,35,18,64,52,55,62,19,29,66,73,46,48,54,17,33,63,30,21,25]},\"selected\":{\"id\":\"1158\"},\"selection_policy\":{\"id\":\"1157\"}},\"id\":\"1134\",\"type\":\"ColumnDataSource\"},{\"attributes\":{\"coordinates\":null,\"group\":null,\"text\":\"Patient Age\"},\"id\":\"1102\",\"type\":\"Title\"},{\"attributes\":{\"source\":{\"id\":\"1134\"}},\"id\":\"1139\",\"type\":\"CDSView\"},{\"attributes\":{\"fill_color\":{\"value\":\"#1f77b4\"},\"line_color\":{\"value\":\"#1f77b4\"},\"top\":{\"field\":\"top\"},\"width\":{\"value\":0.9},\"x\":{\"field\":\"x\"}},\"id\":\"1135\",\"type\":\"VBar\"},{\"attributes\":{},\"id\":\"1108\",\"type\":\"LinearScale\"},{\"attributes\":{},\"id\":\"1106\",\"type\":\"DataRange1d\"},{\"attributes\":{\"axis_label\":\"Age\",\"coordinates\":null,\"formatter\":{\"id\":\"1155\"},\"group\":null,\"major_label_policy\":{\"id\":\"1156\"},\"ticker\":{\"id\":\"1113\"}},\"id\":\"1112\",\"type\":\"LinearAxis\"}],\"root_ids\":[\"1101\"]},\"title\":\"Bokeh Application\",\"version\":\"2.4.3\"}};\n  const render_items = [{\"docid\":\"45df59fa-6094-472f-be6d-64eb2c295f78\",\"root_ids\":[\"1101\"],\"roots\":{\"1101\":\"28845c8a-b34f-4b86-9341-bca4b09287de\"}}];\n  root.Bokeh.embed.embed_items_notebook(docs_json, render_items);\n  }\n  if (root.Bokeh !== undefined) {\n    embed_document(root);\n  } else {\n    let attempts = 0;\n    const timer = setInterval(function(root) {\n      if (root.Bokeh !== undefined) {\n        clearInterval(timer);\n        embed_document(root);\n      } else {\n        attempts++;\n        if (attempts > 100) {\n          clearInterval(timer);\n          console.log(\"Bokeh: ERROR: Unable to run BokehJS code because BokehJS library is missing\");\n        }\n      }\n    }, 10, root)\n  }\n})(window);",
      "application/vnd.bokehjs_exec.v0+json": ""
     },
     "metadata": {
      "application/vnd.bokehjs_exec.v0+json": {
       "id": "1101"
      }
     },
     "output_type": "display_data"
    }
   ],
   "source": [
    "plot_histogram(df_drug, \"Age\", \"Patient Age\", \"Age\")"
   ]
  },
  {
   "cell_type": "code",
   "execution_count": 64,
   "metadata": {},
   "outputs": [
    {
     "data": {
      "text/html": [
       "\n",
       "  <div class=\"bk-root\" id=\"bcfc8408-c573-473e-80f5-2dd4e98a42ad\" data-root-id=\"6093\"></div>\n"
      ]
     },
     "metadata": {},
     "output_type": "display_data"
    },
    {
     "data": {
      "application/javascript": "(function(root) {\n  function embed_document(root) {\n  const docs_json = {\"f6121773-a999-4a7b-90a8-f9325e3a0035\":{\"defs\":[],\"roots\":{\"references\":[{\"attributes\":{\"below\":[{\"id\":\"6104\"}],\"center\":[{\"id\":\"6106\"},{\"id\":\"6110\"}],\"height\":300,\"left\":[{\"id\":\"6107\"}],\"max_width\":800,\"renderers\":[{\"id\":\"6129\"}],\"sizing_mode\":\"stretch_width\",\"title\":{\"id\":\"6094\"},\"toolbar\":{\"id\":\"6118\"},\"x_range\":{\"id\":\"6096\"},\"x_scale\":{\"id\":\"6100\"},\"y_range\":{\"id\":\"6098\"},\"y_scale\":{\"id\":\"6102\"}},\"id\":\"6093\",\"subtype\":\"Figure\",\"type\":\"Plot\"},{\"attributes\":{},\"id\":\"6402\",\"type\":\"AllLabels\"},{\"attributes\":{},\"id\":\"6100\",\"type\":\"CategoricalScale\"},{\"attributes\":{\"fill_color\":{\"value\":\"#1f77b4\"},\"line_color\":{\"value\":\"#1f77b4\"},\"top\":{\"field\":\"top\"},\"width\":{\"value\":0.9},\"x\":{\"field\":\"x\"}},\"id\":\"6126\",\"type\":\"VBar\"},{\"attributes\":{},\"id\":\"6404\",\"type\":\"CategoricalTickFormatter\"},{\"attributes\":{\"tools\":[{\"id\":\"6111\"},{\"id\":\"6112\"},{\"id\":\"6113\"},{\"id\":\"6114\"},{\"id\":\"6115\"},{\"id\":\"6116\"}]},\"id\":\"6118\",\"type\":\"Toolbar\"},{\"attributes\":{\"bottom_units\":\"screen\",\"coordinates\":null,\"fill_alpha\":0.5,\"fill_color\":\"lightgrey\",\"group\":null,\"left_units\":\"screen\",\"level\":\"overlay\",\"line_alpha\":1.0,\"line_color\":\"black\",\"line_dash\":[4,4],\"line_width\":2,\"right_units\":\"screen\",\"syncable\":false,\"top_units\":\"screen\"},\"id\":\"6117\",\"type\":\"BoxAnnotation\"},{\"attributes\":{},\"id\":\"6405\",\"type\":\"AllLabels\"},{\"attributes\":{},\"id\":\"6105\",\"type\":\"CategoricalTicker\"},{\"attributes\":{\"axis_label\":\"Drug\",\"coordinates\":null,\"formatter\":{\"id\":\"6404\"},\"group\":null,\"major_label_policy\":{\"id\":\"6405\"},\"ticker\":{\"id\":\"6105\"}},\"id\":\"6104\",\"type\":\"CategoricalAxis\"},{\"attributes\":{},\"id\":\"6112\",\"type\":\"WheelZoomTool\"},{\"attributes\":{},\"id\":\"6111\",\"type\":\"PanTool\"},{\"attributes\":{\"axis_label\":\"n Patients\",\"coordinates\":null,\"formatter\":{\"id\":\"6401\"},\"group\":null,\"major_label_policy\":{\"id\":\"6402\"},\"ticker\":{\"id\":\"6108\"}},\"id\":\"6107\",\"type\":\"LinearAxis\"},{\"attributes\":{\"overlay\":{\"id\":\"6117\"}},\"id\":\"6113\",\"type\":\"BoxZoomTool\"},{\"attributes\":{\"axis\":{\"id\":\"6107\"},\"coordinates\":null,\"dimension\":1,\"group\":null,\"ticker\":null},\"id\":\"6110\",\"type\":\"Grid\"},{\"attributes\":{},\"id\":\"6115\",\"type\":\"ResetTool\"},{\"attributes\":{},\"id\":\"6108\",\"type\":\"BasicTicker\"},{\"attributes\":{\"fill_alpha\":{\"value\":0.1},\"fill_color\":{\"value\":\"#1f77b4\"},\"hatch_alpha\":{\"value\":0.1},\"line_alpha\":{\"value\":0.1},\"line_color\":{\"value\":\"#1f77b4\"},\"top\":{\"field\":\"top\"},\"width\":{\"value\":0.9},\"x\":{\"field\":\"x\"}},\"id\":\"6127\",\"type\":\"VBar\"},{\"attributes\":{},\"id\":\"6114\",\"type\":\"SaveTool\"},{\"attributes\":{},\"id\":\"6406\",\"type\":\"UnionRenderers\"},{\"attributes\":{},\"id\":\"6102\",\"type\":\"LinearScale\"},{\"attributes\":{\"coordinates\":null,\"data_source\":{\"id\":\"6125\"},\"glyph\":{\"id\":\"6126\"},\"group\":null,\"hover_glyph\":null,\"muted_glyph\":{\"id\":\"6128\"},\"nonselection_glyph\":{\"id\":\"6127\"},\"view\":{\"id\":\"6130\"}},\"id\":\"6129\",\"type\":\"GlyphRenderer\"},{\"attributes\":{\"factors\":[\"DrugY\",\"drugX\",\"drugA\",\"drugB\",\"drugC\"]},\"id\":\"6096\",\"type\":\"FactorRange\"},{\"attributes\":{},\"id\":\"6098\",\"type\":\"DataRange1d\"},{\"attributes\":{},\"id\":\"6116\",\"type\":\"HelpTool\"},{\"attributes\":{\"fill_alpha\":{\"value\":0.2},\"fill_color\":{\"value\":\"#1f77b4\"},\"hatch_alpha\":{\"value\":0.2},\"line_alpha\":{\"value\":0.2},\"line_color\":{\"value\":\"#1f77b4\"},\"top\":{\"field\":\"top\"},\"width\":{\"value\":0.9},\"x\":{\"field\":\"x\"}},\"id\":\"6128\",\"type\":\"VBar\"},{\"attributes\":{\"coordinates\":null,\"group\":null,\"text\":\"Drug\"},\"id\":\"6094\",\"type\":\"Title\"},{\"attributes\":{},\"id\":\"6407\",\"type\":\"Selection\"},{\"attributes\":{\"axis\":{\"id\":\"6104\"},\"coordinates\":null,\"group\":null,\"ticker\":null},\"id\":\"6106\",\"type\":\"Grid\"},{\"attributes\":{\"data\":{\"top\":[91,54,23,16,16],\"x\":[\"DrugY\",\"drugX\",\"drugA\",\"drugB\",\"drugC\"]},\"selected\":{\"id\":\"6407\"},\"selection_policy\":{\"id\":\"6406\"}},\"id\":\"6125\",\"type\":\"ColumnDataSource\"},{\"attributes\":{},\"id\":\"6401\",\"type\":\"BasicTickFormatter\"},{\"attributes\":{\"source\":{\"id\":\"6125\"}},\"id\":\"6130\",\"type\":\"CDSView\"}],\"root_ids\":[\"6093\"]},\"title\":\"Bokeh Application\",\"version\":\"2.4.3\"}};\n  const render_items = [{\"docid\":\"f6121773-a999-4a7b-90a8-f9325e3a0035\",\"root_ids\":[\"6093\"],\"roots\":{\"6093\":\"bcfc8408-c573-473e-80f5-2dd4e98a42ad\"}}];\n  root.Bokeh.embed.embed_items_notebook(docs_json, render_items);\n  }\n  if (root.Bokeh !== undefined) {\n    embed_document(root);\n  } else {\n    let attempts = 0;\n    const timer = setInterval(function(root) {\n      if (root.Bokeh !== undefined) {\n        clearInterval(timer);\n        embed_document(root);\n      } else {\n        attempts++;\n        if (attempts > 100) {\n          clearInterval(timer);\n          console.log(\"Bokeh: ERROR: Unable to run BokehJS code because BokehJS library is missing\");\n        }\n      }\n    }, 10, root)\n  }\n})(window);",
      "application/vnd.bokehjs_exec.v0+json": ""
     },
     "metadata": {
      "application/vnd.bokehjs_exec.v0+json": {
       "id": "6093"
      }
     },
     "output_type": "display_data"
    }
   ],
   "source": [
    "plot_histogram(df_drug, \"Drug\", \"Drug\", \"Drug\")"
   ]
  },
  {
   "cell_type": "code",
   "execution_count": 107,
   "metadata": {},
   "outputs": [],
   "source": [
    "def plot_pie(df, column, title):\n",
    "  data = df[column].value_counts()\n",
    "  data.index.name = column\n",
    "  data = data.reset_index(name='value')\n",
    "  data['angle'] = data['value']/data['value'].sum() * 2*pi\n",
    "  data['color'] = Blues[len(data)+1][0:len(data)]\n",
    "  p = figure(plot_height=350, title=title, toolbar_location=None,\n",
    "            tools=\"hover\", tooltips=\"@{}: @value\".format(column), sizing_mode='stretch_width', max_width=800)\n",
    "  p.wedge(x=0, y=1, radius=0.4,\n",
    "          start_angle=cumsum('angle', include_zero=True), end_angle=cumsum('angle'),\n",
    "          line_color=\"white\", fill_color='color', legend_group=column, source=data)\n",
    "  p.axis.axis_label=None\n",
    "  p.axis.visible=False\n",
    "  p.grid.grid_line_color = None\n",
    "  show(p)"
   ]
  },
  {
   "cell_type": "code",
   "execution_count": 108,
   "metadata": {},
   "outputs": [
    {
     "data": {
      "text/html": [
       "\n",
       "  <div class=\"bk-root\" id=\"51648cba-2439-42ce-b911-a089704264c8\" data-root-id=\"11090\"></div>\n"
      ]
     },
     "metadata": {},
     "output_type": "display_data"
    },
    {
     "data": {
      "application/javascript": "(function(root) {\n  function embed_document(root) {\n  const docs_json = {\"39cd0bb2-ef72-4db3-bbf5-9fa3458235c7\":{\"defs\":[],\"roots\":{\"references\":[{\"attributes\":{\"below\":[{\"id\":\"11101\"}],\"center\":[{\"id\":\"11104\"},{\"id\":\"11108\"},{\"id\":\"11130\"}],\"height\":350,\"left\":[{\"id\":\"11105\"}],\"max_width\":800,\"renderers\":[{\"id\":\"11119\"}],\"sizing_mode\":\"stretch_width\",\"title\":{\"id\":\"11091\"},\"toolbar\":{\"id\":\"11110\"},\"toolbar_location\":null,\"x_range\":{\"id\":\"11093\"},\"x_scale\":{\"id\":\"11097\"},\"y_range\":{\"id\":\"11095\"},\"y_scale\":{\"id\":\"11099\"}},\"id\":\"11090\",\"subtype\":\"Figure\",\"type\":\"Plot\"},{\"attributes\":{\"end_angle\":{\"expr\":{\"id\":\"11113\"}},\"fill_alpha\":{\"value\":0.1},\"fill_color\":{\"field\":\"color\"},\"hatch_alpha\":{\"value\":0.1},\"line_alpha\":{\"value\":0.1},\"line_color\":{\"value\":\"white\"},\"radius\":{\"value\":0.4},\"start_angle\":{\"expr\":{\"id\":\"11112\"}},\"x\":{\"value\":0},\"y\":{\"value\":1}},\"id\":\"11117\",\"type\":\"Wedge\"},{\"attributes\":{\"callback\":null,\"tooltips\":\"@BP: @value\"},\"id\":\"11109\",\"type\":\"HoverTool\"},{\"attributes\":{\"coordinates\":null,\"data_source\":{\"id\":\"11114\"},\"glyph\":{\"id\":\"11116\"},\"group\":null,\"hover_glyph\":null,\"muted_glyph\":{\"id\":\"11118\"},\"nonselection_glyph\":{\"id\":\"11117\"},\"view\":{\"id\":\"11120\"}},\"id\":\"11119\",\"type\":\"GlyphRenderer\"},{\"attributes\":{\"field\":\"angle\",\"include_zero\":true},\"id\":\"11112\",\"type\":\"CumSum\"},{\"attributes\":{},\"id\":\"11099\",\"type\":\"LinearScale\"},{\"attributes\":{\"data\":{\"BP\":[\"HIGH\",\"LOW\",\"NORMAL\"],\"angle\":{\"__ndarray__\":\"C9vDeypaA0AaJxeSvxUAQBewWjUZqP0/\",\"dtype\":\"float64\",\"order\":\"little\",\"shape\":[3]},\"color\":[\"#2171b5\",\"#6baed6\",\"#bdd7e7\"],\"index\":[0,1,2],\"value\":[77,64,59]},\"selected\":{\"id\":\"11129\"},\"selection_policy\":{\"id\":\"11128\"}},\"id\":\"11114\",\"type\":\"ColumnDataSource\"},{\"attributes\":{},\"id\":\"11123\",\"type\":\"BasicTickFormatter\"},{\"attributes\":{\"axis\":{\"id\":\"11101\"},\"coordinates\":null,\"grid_line_color\":null,\"group\":null,\"ticker\":null},\"id\":\"11104\",\"type\":\"Grid\"},{\"attributes\":{\"coordinates\":null,\"group\":null,\"text\":\"Blood Pressure\"},\"id\":\"11091\",\"type\":\"Title\"},{\"attributes\":{},\"id\":\"11124\",\"type\":\"AllLabels\"},{\"attributes\":{\"end_angle\":{\"expr\":{\"id\":\"11113\"}},\"fill_color\":{\"field\":\"color\"},\"line_color\":{\"value\":\"white\"},\"radius\":{\"value\":0.4},\"start_angle\":{\"expr\":{\"id\":\"11112\"}},\"x\":{\"value\":0},\"y\":{\"value\":1}},\"id\":\"11116\",\"type\":\"Wedge\"},{\"attributes\":{},\"id\":\"11097\",\"type\":\"LinearScale\"},{\"attributes\":{},\"id\":\"11126\",\"type\":\"BasicTickFormatter\"},{\"attributes\":{\"coordinates\":null,\"formatter\":{\"id\":\"11123\"},\"group\":null,\"major_label_policy\":{\"id\":\"11124\"},\"ticker\":{\"id\":\"11106\"},\"visible\":false},\"id\":\"11105\",\"type\":\"LinearAxis\"},{\"attributes\":{},\"id\":\"11127\",\"type\":\"AllLabels\"},{\"attributes\":{},\"id\":\"11102\",\"type\":\"BasicTicker\"},{\"attributes\":{\"field\":\"angle\"},\"id\":\"11113\",\"type\":\"CumSum\"},{\"attributes\":{\"coordinates\":null,\"group\":null,\"items\":[{\"id\":\"11131\"},{\"id\":\"11132\"},{\"id\":\"11133\"}]},\"id\":\"11130\",\"type\":\"Legend\"},{\"attributes\":{\"index\":2,\"label\":{\"value\":\"NORMAL\"},\"renderers\":[{\"id\":\"11119\"}]},\"id\":\"11133\",\"type\":\"LegendItem\"},{\"attributes\":{},\"id\":\"11093\",\"type\":\"DataRange1d\"},{\"attributes\":{},\"id\":\"11128\",\"type\":\"UnionRenderers\"},{\"attributes\":{\"tools\":[{\"id\":\"11109\"}]},\"id\":\"11110\",\"type\":\"Toolbar\"},{\"attributes\":{\"axis\":{\"id\":\"11105\"},\"coordinates\":null,\"dimension\":1,\"grid_line_color\":null,\"group\":null,\"ticker\":null},\"id\":\"11108\",\"type\":\"Grid\"},{\"attributes\":{\"index\":0,\"label\":{\"value\":\"HIGH\"},\"renderers\":[{\"id\":\"11119\"}]},\"id\":\"11131\",\"type\":\"LegendItem\"},{\"attributes\":{},\"id\":\"11129\",\"type\":\"Selection\"},{\"attributes\":{\"coordinates\":null,\"formatter\":{\"id\":\"11126\"},\"group\":null,\"major_label_policy\":{\"id\":\"11127\"},\"ticker\":{\"id\":\"11102\"},\"visible\":false},\"id\":\"11101\",\"type\":\"LinearAxis\"},{\"attributes\":{\"source\":{\"id\":\"11114\"}},\"id\":\"11120\",\"type\":\"CDSView\"},{\"attributes\":{},\"id\":\"11106\",\"type\":\"BasicTicker\"},{\"attributes\":{\"index\":1,\"label\":{\"value\":\"LOW\"},\"renderers\":[{\"id\":\"11119\"}]},\"id\":\"11132\",\"type\":\"LegendItem\"},{\"attributes\":{},\"id\":\"11095\",\"type\":\"DataRange1d\"},{\"attributes\":{\"end_angle\":{\"expr\":{\"id\":\"11113\"}},\"fill_alpha\":{\"value\":0.2},\"fill_color\":{\"field\":\"color\"},\"hatch_alpha\":{\"value\":0.2},\"line_alpha\":{\"value\":0.2},\"line_color\":{\"value\":\"white\"},\"radius\":{\"value\":0.4},\"start_angle\":{\"expr\":{\"id\":\"11112\"}},\"x\":{\"value\":0},\"y\":{\"value\":1}},\"id\":\"11118\",\"type\":\"Wedge\"}],\"root_ids\":[\"11090\"]},\"title\":\"Bokeh Application\",\"version\":\"2.4.3\"}};\n  const render_items = [{\"docid\":\"39cd0bb2-ef72-4db3-bbf5-9fa3458235c7\",\"root_ids\":[\"11090\"],\"roots\":{\"11090\":\"51648cba-2439-42ce-b911-a089704264c8\"}}];\n  root.Bokeh.embed.embed_items_notebook(docs_json, render_items);\n  }\n  if (root.Bokeh !== undefined) {\n    embed_document(root);\n  } else {\n    let attempts = 0;\n    const timer = setInterval(function(root) {\n      if (root.Bokeh !== undefined) {\n        clearInterval(timer);\n        embed_document(root);\n      } else {\n        attempts++;\n        if (attempts > 100) {\n          clearInterval(timer);\n          console.log(\"Bokeh: ERROR: Unable to run BokehJS code because BokehJS library is missing\");\n        }\n      }\n    }, 10, root)\n  }\n})(window);",
      "application/vnd.bokehjs_exec.v0+json": ""
     },
     "metadata": {
      "application/vnd.bokehjs_exec.v0+json": {
       "id": "11090"
      }
     },
     "output_type": "display_data"
    }
   ],
   "source": [
    "plot_pie(df_drug, \"BP\", \"Blood Pressure\")"
   ]
  },
  {
   "cell_type": "code",
   "execution_count": 109,
   "metadata": {},
   "outputs": [
    {
     "data": {
      "text/html": [
       "\n",
       "  <div class=\"bk-root\" id=\"35bfe397-eac6-4a68-9f26-3385023d4f82\" data-root-id=\"11566\"></div>\n"
      ]
     },
     "metadata": {},
     "output_type": "display_data"
    },
    {
     "data": {
      "application/javascript": "(function(root) {\n  function embed_document(root) {\n  const docs_json = {\"17f7364d-382c-436c-8402-4399d3f8f7cc\":{\"defs\":[],\"roots\":{\"references\":[{\"attributes\":{\"below\":[{\"id\":\"11577\"}],\"center\":[{\"id\":\"11580\"},{\"id\":\"11584\"},{\"id\":\"11606\"}],\"height\":350,\"left\":[{\"id\":\"11581\"}],\"max_width\":800,\"renderers\":[{\"id\":\"11595\"}],\"sizing_mode\":\"stretch_width\",\"title\":{\"id\":\"11567\"},\"toolbar\":{\"id\":\"11586\"},\"toolbar_location\":null,\"x_range\":{\"id\":\"11569\"},\"x_scale\":{\"id\":\"11573\"},\"y_range\":{\"id\":\"11571\"},\"y_scale\":{\"id\":\"11575\"}},\"id\":\"11566\",\"subtype\":\"Figure\",\"type\":\"Plot\"},{\"attributes\":{\"end_angle\":{\"expr\":{\"id\":\"11589\"}},\"fill_color\":{\"field\":\"color\"},\"line_color\":{\"value\":\"white\"},\"radius\":{\"value\":0.4},\"start_angle\":{\"expr\":{\"id\":\"11588\"}},\"x\":{\"value\":0},\"y\":{\"value\":1}},\"id\":\"11592\",\"type\":\"Wedge\"},{\"attributes\":{},\"id\":\"11600\",\"type\":\"AllLabels\"},{\"attributes\":{},\"id\":\"11602\",\"type\":\"BasicTickFormatter\"},{\"attributes\":{\"end_angle\":{\"expr\":{\"id\":\"11589\"}},\"fill_alpha\":{\"value\":0.1},\"fill_color\":{\"field\":\"color\"},\"hatch_alpha\":{\"value\":0.1},\"line_alpha\":{\"value\":0.1},\"line_color\":{\"value\":\"white\"},\"radius\":{\"value\":0.4},\"start_angle\":{\"expr\":{\"id\":\"11588\"}},\"x\":{\"value\":0},\"y\":{\"value\":1}},\"id\":\"11593\",\"type\":\"Wedge\"},{\"attributes\":{},\"id\":\"11569\",\"type\":\"DataRange1d\"},{\"attributes\":{\"data\":{\"Cholesterol\":[\"HIGH\",\"NORMAL\"],\"angle\":{\"__ndarray__\":\"7UIdTwDjCUBDF2tZ9mAIQA==\",\"dtype\":\"float64\",\"order\":\"little\",\"shape\":[2]},\"color\":[\"#3182bd\",\"#9ecae1\"],\"index\":[0,1],\"value\":[103,97]},\"selected\":{\"id\":\"11605\"},\"selection_policy\":{\"id\":\"11604\"}},\"id\":\"11590\",\"type\":\"ColumnDataSource\"},{\"attributes\":{},\"id\":\"11603\",\"type\":\"AllLabels\"},{\"attributes\":{\"field\":\"angle\",\"include_zero\":true},\"id\":\"11588\",\"type\":\"CumSum\"},{\"attributes\":{\"coordinates\":null,\"data_source\":{\"id\":\"11590\"},\"glyph\":{\"id\":\"11592\"},\"group\":null,\"hover_glyph\":null,\"muted_glyph\":{\"id\":\"11594\"},\"nonselection_glyph\":{\"id\":\"11593\"},\"view\":{\"id\":\"11596\"}},\"id\":\"11595\",\"type\":\"GlyphRenderer\"},{\"attributes\":{},\"id\":\"11571\",\"type\":\"DataRange1d\"},{\"attributes\":{\"field\":\"angle\"},\"id\":\"11589\",\"type\":\"CumSum\"},{\"attributes\":{\"coordinates\":null,\"formatter\":{\"id\":\"11599\"},\"group\":null,\"major_label_policy\":{\"id\":\"11600\"},\"ticker\":{\"id\":\"11582\"},\"visible\":false},\"id\":\"11581\",\"type\":\"LinearAxis\"},{\"attributes\":{\"index\":1,\"label\":{\"value\":\"NORMAL\"},\"renderers\":[{\"id\":\"11595\"}]},\"id\":\"11608\",\"type\":\"LegendItem\"},{\"attributes\":{},\"id\":\"11575\",\"type\":\"LinearScale\"},{\"attributes\":{\"axis\":{\"id\":\"11577\"},\"coordinates\":null,\"grid_line_color\":null,\"group\":null,\"ticker\":null},\"id\":\"11580\",\"type\":\"Grid\"},{\"attributes\":{\"coordinates\":null,\"group\":null,\"text\":\"Cholesterol\"},\"id\":\"11567\",\"type\":\"Title\"},{\"attributes\":{\"coordinates\":null,\"group\":null,\"items\":[{\"id\":\"11607\"},{\"id\":\"11608\"}]},\"id\":\"11606\",\"type\":\"Legend\"},{\"attributes\":{},\"id\":\"11604\",\"type\":\"UnionRenderers\"},{\"attributes\":{},\"id\":\"11578\",\"type\":\"BasicTicker\"},{\"attributes\":{},\"id\":\"11605\",\"type\":\"Selection\"},{\"attributes\":{},\"id\":\"11573\",\"type\":\"LinearScale\"},{\"attributes\":{\"coordinates\":null,\"formatter\":{\"id\":\"11602\"},\"group\":null,\"major_label_policy\":{\"id\":\"11603\"},\"ticker\":{\"id\":\"11578\"},\"visible\":false},\"id\":\"11577\",\"type\":\"LinearAxis\"},{\"attributes\":{\"end_angle\":{\"expr\":{\"id\":\"11589\"}},\"fill_alpha\":{\"value\":0.2},\"fill_color\":{\"field\":\"color\"},\"hatch_alpha\":{\"value\":0.2},\"line_alpha\":{\"value\":0.2},\"line_color\":{\"value\":\"white\"},\"radius\":{\"value\":0.4},\"start_angle\":{\"expr\":{\"id\":\"11588\"}},\"x\":{\"value\":0},\"y\":{\"value\":1}},\"id\":\"11594\",\"type\":\"Wedge\"},{\"attributes\":{\"axis\":{\"id\":\"11581\"},\"coordinates\":null,\"dimension\":1,\"grid_line_color\":null,\"group\":null,\"ticker\":null},\"id\":\"11584\",\"type\":\"Grid\"},{\"attributes\":{},\"id\":\"11582\",\"type\":\"BasicTicker\"},{\"attributes\":{},\"id\":\"11599\",\"type\":\"BasicTickFormatter\"},{\"attributes\":{\"callback\":null,\"tooltips\":\"@Cholesterol: @value\"},\"id\":\"11585\",\"type\":\"HoverTool\"},{\"attributes\":{\"index\":0,\"label\":{\"value\":\"HIGH\"},\"renderers\":[{\"id\":\"11595\"}]},\"id\":\"11607\",\"type\":\"LegendItem\"},{\"attributes\":{\"source\":{\"id\":\"11590\"}},\"id\":\"11596\",\"type\":\"CDSView\"},{\"attributes\":{\"tools\":[{\"id\":\"11585\"}]},\"id\":\"11586\",\"type\":\"Toolbar\"}],\"root_ids\":[\"11566\"]},\"title\":\"Bokeh Application\",\"version\":\"2.4.3\"}};\n  const render_items = [{\"docid\":\"17f7364d-382c-436c-8402-4399d3f8f7cc\",\"root_ids\":[\"11566\"],\"roots\":{\"11566\":\"35bfe397-eac6-4a68-9f26-3385023d4f82\"}}];\n  root.Bokeh.embed.embed_items_notebook(docs_json, render_items);\n  }\n  if (root.Bokeh !== undefined) {\n    embed_document(root);\n  } else {\n    let attempts = 0;\n    const timer = setInterval(function(root) {\n      if (root.Bokeh !== undefined) {\n        clearInterval(timer);\n        embed_document(root);\n      } else {\n        attempts++;\n        if (attempts > 100) {\n          clearInterval(timer);\n          console.log(\"Bokeh: ERROR: Unable to run BokehJS code because BokehJS library is missing\");\n        }\n      }\n    }, 10, root)\n  }\n})(window);",
      "application/vnd.bokehjs_exec.v0+json": ""
     },
     "metadata": {
      "application/vnd.bokehjs_exec.v0+json": {
       "id": "11566"
      }
     },
     "output_type": "display_data"
    }
   ],
   "source": [
    "plot_pie(df_drug, \"Cholesterol\", \"Cholesterol\")"
   ]
  },
  {
   "cell_type": "code",
   "execution_count": 110,
   "metadata": {},
   "outputs": [
    {
     "data": {
      "text/html": [
       "\n",
       "  <div class=\"bk-root\" id=\"a3a699de-2acf-4d4e-81f7-805e06be1dfb\" data-root-id=\"12050\"></div>\n"
      ]
     },
     "metadata": {},
     "output_type": "display_data"
    },
    {
     "data": {
      "application/javascript": "(function(root) {\n  function embed_document(root) {\n  const docs_json = {\"6bb4e850-223b-4288-86fd-e14e27f5b06c\":{\"defs\":[],\"roots\":{\"references\":[{\"attributes\":{\"below\":[{\"id\":\"12061\"}],\"center\":[{\"id\":\"12064\"},{\"id\":\"12068\"},{\"id\":\"12090\"}],\"height\":350,\"left\":[{\"id\":\"12065\"}],\"max_width\":800,\"renderers\":[{\"id\":\"12079\"}],\"sizing_mode\":\"stretch_width\",\"title\":{\"id\":\"12051\"},\"toolbar\":{\"id\":\"12070\"},\"toolbar_location\":null,\"x_range\":{\"id\":\"12053\"},\"x_scale\":{\"id\":\"12057\"},\"y_range\":{\"id\":\"12055\"},\"y_scale\":{\"id\":\"12059\"}},\"id\":\"12050\",\"subtype\":\"Figure\",\"type\":\"Plot\"},{\"attributes\":{},\"id\":\"12088\",\"type\":\"UnionRenderers\"},{\"attributes\":{},\"id\":\"12087\",\"type\":\"AllLabels\"},{\"attributes\":{\"coordinates\":null,\"formatter\":{\"id\":\"12083\"},\"group\":null,\"major_label_policy\":{\"id\":\"12084\"},\"ticker\":{\"id\":\"12066\"},\"visible\":false},\"id\":\"12065\",\"type\":\"LinearAxis\"},{\"attributes\":{},\"id\":\"12089\",\"type\":\"Selection\"},{\"attributes\":{\"end_angle\":{\"expr\":{\"id\":\"12073\"}},\"fill_color\":{\"field\":\"color\"},\"line_color\":{\"value\":\"white\"},\"radius\":{\"value\":0.4},\"start_angle\":{\"expr\":{\"id\":\"12072\"}},\"x\":{\"value\":0},\"y\":{\"value\":1}},\"id\":\"12076\",\"type\":\"Wedge\"},{\"attributes\":{\"axis\":{\"id\":\"12065\"},\"coordinates\":null,\"dimension\":1,\"grid_line_color\":null,\"group\":null,\"ticker\":null},\"id\":\"12068\",\"type\":\"Grid\"},{\"attributes\":{\"data\":{\"Drug\":[\"DrugY\",\"drugX\",\"drugA\",\"drugB\",\"drugC\"],\"angle\":{\"__ndarray__\":\"meu4Y+zeBkD8EYdGsyT7PzVIAWJDH+c/GicXkr8V4D8aJxeSvxXgPw==\",\"dtype\":\"float64\",\"order\":\"little\",\"shape\":[5]},\"color\":[\"#08519c\",\"#3182bd\",\"#6baed6\",\"#9ecae1\",\"#c6dbef\"],\"index\":[0,1,2,3,4],\"value\":[91,54,23,16,16]},\"selected\":{\"id\":\"12089\"},\"selection_policy\":{\"id\":\"12088\"}},\"id\":\"12074\",\"type\":\"ColumnDataSource\"},{\"attributes\":{},\"id\":\"12066\",\"type\":\"BasicTicker\"},{\"attributes\":{\"callback\":null,\"tooltips\":\"@Drug: @value\"},\"id\":\"12069\",\"type\":\"HoverTool\"},{\"attributes\":{\"index\":0,\"label\":{\"value\":\"DrugY\"},\"renderers\":[{\"id\":\"12079\"}]},\"id\":\"12091\",\"type\":\"LegendItem\"},{\"attributes\":{\"coordinates\":null,\"data_source\":{\"id\":\"12074\"},\"glyph\":{\"id\":\"12076\"},\"group\":null,\"hover_glyph\":null,\"muted_glyph\":{\"id\":\"12078\"},\"nonselection_glyph\":{\"id\":\"12077\"},\"view\":{\"id\":\"12080\"}},\"id\":\"12079\",\"type\":\"GlyphRenderer\"},{\"attributes\":{\"index\":2,\"label\":{\"value\":\"drugA\"},\"renderers\":[{\"id\":\"12079\"}]},\"id\":\"12092\",\"type\":\"LegendItem\"},{\"attributes\":{},\"id\":\"12086\",\"type\":\"BasicTickFormatter\"},{\"attributes\":{\"index\":1,\"label\":{\"value\":\"drugX\"},\"renderers\":[{\"id\":\"12079\"}]},\"id\":\"12095\",\"type\":\"LegendItem\"},{\"attributes\":{\"field\":\"angle\",\"include_zero\":true},\"id\":\"12072\",\"type\":\"CumSum\"},{\"attributes\":{\"end_angle\":{\"expr\":{\"id\":\"12073\"}},\"fill_alpha\":{\"value\":0.1},\"fill_color\":{\"field\":\"color\"},\"hatch_alpha\":{\"value\":0.1},\"line_alpha\":{\"value\":0.1},\"line_color\":{\"value\":\"white\"},\"radius\":{\"value\":0.4},\"start_angle\":{\"expr\":{\"id\":\"12072\"}},\"x\":{\"value\":0},\"y\":{\"value\":1}},\"id\":\"12077\",\"type\":\"Wedge\"},{\"attributes\":{\"source\":{\"id\":\"12074\"}},\"id\":\"12080\",\"type\":\"CDSView\"},{\"attributes\":{\"tools\":[{\"id\":\"12069\"}]},\"id\":\"12070\",\"type\":\"Toolbar\"},{\"attributes\":{\"index\":3,\"label\":{\"value\":\"drugB\"},\"renderers\":[{\"id\":\"12079\"}]},\"id\":\"12093\",\"type\":\"LegendItem\"},{\"attributes\":{},\"id\":\"12084\",\"type\":\"AllLabels\"},{\"attributes\":{\"index\":4,\"label\":{\"value\":\"drugC\"},\"renderers\":[{\"id\":\"12079\"}]},\"id\":\"12094\",\"type\":\"LegendItem\"},{\"attributes\":{},\"id\":\"12055\",\"type\":\"DataRange1d\"},{\"attributes\":{},\"id\":\"12083\",\"type\":\"BasicTickFormatter\"},{\"attributes\":{},\"id\":\"12057\",\"type\":\"LinearScale\"},{\"attributes\":{},\"id\":\"12059\",\"type\":\"LinearScale\"},{\"attributes\":{\"coordinates\":null,\"group\":null,\"items\":[{\"id\":\"12091\"},{\"id\":\"12092\"},{\"id\":\"12093\"},{\"id\":\"12094\"},{\"id\":\"12095\"}]},\"id\":\"12090\",\"type\":\"Legend\"},{\"attributes\":{\"field\":\"angle\"},\"id\":\"12073\",\"type\":\"CumSum\"},{\"attributes\":{\"end_angle\":{\"expr\":{\"id\":\"12073\"}},\"fill_alpha\":{\"value\":0.2},\"fill_color\":{\"field\":\"color\"},\"hatch_alpha\":{\"value\":0.2},\"line_alpha\":{\"value\":0.2},\"line_color\":{\"value\":\"white\"},\"radius\":{\"value\":0.4},\"start_angle\":{\"expr\":{\"id\":\"12072\"}},\"x\":{\"value\":0},\"y\":{\"value\":1}},\"id\":\"12078\",\"type\":\"Wedge\"},{\"attributes\":{\"coordinates\":null,\"group\":null,\"text\":\"Drug\"},\"id\":\"12051\",\"type\":\"Title\"},{\"attributes\":{\"coordinates\":null,\"formatter\":{\"id\":\"12086\"},\"group\":null,\"major_label_policy\":{\"id\":\"12087\"},\"ticker\":{\"id\":\"12062\"},\"visible\":false},\"id\":\"12061\",\"type\":\"LinearAxis\"},{\"attributes\":{},\"id\":\"12053\",\"type\":\"DataRange1d\"},{\"attributes\":{},\"id\":\"12062\",\"type\":\"BasicTicker\"},{\"attributes\":{\"axis\":{\"id\":\"12061\"},\"coordinates\":null,\"grid_line_color\":null,\"group\":null,\"ticker\":null},\"id\":\"12064\",\"type\":\"Grid\"}],\"root_ids\":[\"12050\"]},\"title\":\"Bokeh Application\",\"version\":\"2.4.3\"}};\n  const render_items = [{\"docid\":\"6bb4e850-223b-4288-86fd-e14e27f5b06c\",\"root_ids\":[\"12050\"],\"roots\":{\"12050\":\"a3a699de-2acf-4d4e-81f7-805e06be1dfb\"}}];\n  root.Bokeh.embed.embed_items_notebook(docs_json, render_items);\n  }\n  if (root.Bokeh !== undefined) {\n    embed_document(root);\n  } else {\n    let attempts = 0;\n    const timer = setInterval(function(root) {\n      if (root.Bokeh !== undefined) {\n        clearInterval(timer);\n        embed_document(root);\n      } else {\n        attempts++;\n        if (attempts > 100) {\n          clearInterval(timer);\n          console.log(\"Bokeh: ERROR: Unable to run BokehJS code because BokehJS library is missing\");\n        }\n      }\n    }, 10, root)\n  }\n})(window);",
      "application/vnd.bokehjs_exec.v0+json": ""
     },
     "metadata": {
      "application/vnd.bokehjs_exec.v0+json": {
       "id": "12050"
      }
     },
     "output_type": "display_data"
    }
   ],
   "source": [
    "plot_pie(df_drug, \"Drug\", \"Drug\")"
   ]
  },
  {
   "cell_type": "code",
   "execution_count": 14,
   "metadata": {},
   "outputs": [],
   "source": [
    "# copiar dataframe df_drug para no modificar el original\n",
    "df_drug_copy = df_drug.copy()\n",
    "\n",
    "# convertir categorías a números\n",
    "df_drug_copy[\"BP\"] = df_drug_copy[\"BP\"].cat.codes\n",
    "df_drug_copy[\"Cholesterol\"] = df_drug_copy[\"Cholesterol\"].cat.codes\n",
    "df_drug_copy[\"Drug\"] = df_drug_copy[\"Drug\"].cat.codes\n",
    "df_drug_copy[\"Sex\"] = df_drug_copy[\"Sex\"].cat.codes"
   ]
  },
  {
   "cell_type": "code",
   "execution_count": 15,
   "metadata": {},
   "outputs": [
    {
     "data": {
      "text/html": [
       "<div>\n",
       "<style scoped>\n",
       "    .dataframe tbody tr th:only-of-type {\n",
       "        vertical-align: middle;\n",
       "    }\n",
       "\n",
       "    .dataframe tbody tr th {\n",
       "        vertical-align: top;\n",
       "    }\n",
       "\n",
       "    .dataframe thead th {\n",
       "        text-align: right;\n",
       "    }\n",
       "</style>\n",
       "<table border=\"1\" class=\"dataframe\">\n",
       "  <thead>\n",
       "    <tr style=\"text-align: right;\">\n",
       "      <th></th>\n",
       "      <th>Age</th>\n",
       "      <th>Sex</th>\n",
       "      <th>BP</th>\n",
       "      <th>Cholesterol</th>\n",
       "      <th>Na_to_K</th>\n",
       "      <th>Drug</th>\n",
       "    </tr>\n",
       "  </thead>\n",
       "  <tbody>\n",
       "    <tr>\n",
       "      <th>0</th>\n",
       "      <td>0.135593</td>\n",
       "      <td>1.0</td>\n",
       "      <td>1.0</td>\n",
       "      <td>1.0</td>\n",
       "      <td>0.596848</td>\n",
       "      <td>0.00</td>\n",
       "    </tr>\n",
       "    <tr>\n",
       "      <th>1</th>\n",
       "      <td>0.542373</td>\n",
       "      <td>0.0</td>\n",
       "      <td>0.0</td>\n",
       "      <td>1.0</td>\n",
       "      <td>0.213397</td>\n",
       "      <td>1.00</td>\n",
       "    </tr>\n",
       "    <tr>\n",
       "      <th>2</th>\n",
       "      <td>0.542373</td>\n",
       "      <td>0.0</td>\n",
       "      <td>0.0</td>\n",
       "      <td>1.0</td>\n",
       "      <td>0.120239</td>\n",
       "      <td>1.00</td>\n",
       "    </tr>\n",
       "    <tr>\n",
       "      <th>3</th>\n",
       "      <td>0.220339</td>\n",
       "      <td>1.0</td>\n",
       "      <td>0.5</td>\n",
       "      <td>1.0</td>\n",
       "      <td>0.047814</td>\n",
       "      <td>0.25</td>\n",
       "    </tr>\n",
       "    <tr>\n",
       "      <th>4</th>\n",
       "      <td>0.779661</td>\n",
       "      <td>1.0</td>\n",
       "      <td>0.0</td>\n",
       "      <td>1.0</td>\n",
       "      <td>0.368191</td>\n",
       "      <td>0.00</td>\n",
       "    </tr>\n",
       "  </tbody>\n",
       "</table>\n",
       "</div>"
      ],
      "text/plain": [
       "        Age  Sex   BP  Cholesterol   Na_to_K  Drug\n",
       "0  0.135593  1.0  1.0          1.0  0.596848  0.00\n",
       "1  0.542373  0.0  0.0          1.0  0.213397  1.00\n",
       "2  0.542373  0.0  0.0          1.0  0.120239  1.00\n",
       "3  0.220339  1.0  0.5          1.0  0.047814  0.25\n",
       "4  0.779661  1.0  0.0          1.0  0.368191  0.00"
      ]
     },
     "execution_count": 15,
     "metadata": {},
     "output_type": "execute_result"
    }
   ],
   "source": [
    "# convertir valores del dataframe df_drug_copy entre 0 y 1\n",
    "df_drug_copy = (df_drug_copy - df_drug_copy.min()) / (df_drug_copy.max() - df_drug_copy.min())\n",
    "df_drug_copy.head()"
   ]
  },
  {
   "cell_type": "code",
   "execution_count": 99,
   "metadata": {},
   "outputs": [],
   "source": [
    "# calcular matriz de correlación\n",
    "corr = df_drug_copy.corr()\n",
    "\n",
    "data = {'x': [], 'y': [], 'value': []}\n",
    "for i, row_name in enumerate(corr.index):\n",
    "    for j, col_name in enumerate(corr.columns):\n",
    "        data['x'].append(row_name)\n",
    "        data['y'].append(col_name)\n",
    "        data['value'].append(corr.iloc[i, j])\n",
    "\n",
    "source = ColumnDataSource(data=data)"
   ]
  },
  {
   "cell_type": "code",
   "execution_count": 109,
   "metadata": {},
   "outputs": [
    {
     "data": {
      "text/html": [
       "\n",
       "  <div class=\"bk-root\" id=\"fa05034b-aa20-48dc-9087-41d1154c8804\" data-root-id=\"5733\"></div>\n"
      ]
     },
     "metadata": {},
     "output_type": "display_data"
    },
    {
     "data": {
      "application/javascript": "(function(root) {\n  function embed_document(root) {\n  const docs_json = {\"11149a49-7a35-4459-88e6-24d20a6ab78f\":{\"defs\":[],\"roots\":{\"references\":[{\"attributes\":{\"above\":[{\"id\":\"5744\"}],\"below\":[{\"id\":\"5763\"}],\"center\":[{\"id\":\"5746\"},{\"id\":\"5749\"}],\"height\":800,\"left\":[{\"id\":\"5747\"}],\"renderers\":[{\"id\":\"5758\"}],\"title\":{\"id\":\"5734\"},\"toolbar\":{\"id\":\"5751\"},\"toolbar_location\":null,\"width\":800,\"x_range\":{\"id\":\"5736\"},\"x_scale\":{\"id\":\"5740\"},\"y_range\":{\"id\":\"5738\"},\"y_scale\":{\"id\":\"5742\"}},\"id\":\"5733\",\"subtype\":\"Figure\",\"type\":\"Plot\"},{\"attributes\":{},\"id\":\"5761\",\"type\":\"BasicTickFormatter\"},{\"attributes\":{\"factors\":[\"Age\",\"Sex\",\"BP\",\"Cholesterol\",\"Na_to_K\",\"Drug\"]},\"id\":\"5736\",\"type\":\"FactorRange\"},{\"attributes\":{\"data\":{\"value\":[1.0,-0.10202736073161894,-0.12091783405913645,0.06823386810675439,-0.06311949726772591,0.08419704471637479,-0.10202736073161894,1.0,0.04495171428714518,-0.008811014308235356,0.12500849289526267,-0.08496364534306798,-0.12091783405913645,0.04495171428714518,1.0,-0.032208091401128326,0.03687102334025649,-0.008388298158410693,0.06823386810675439,-0.008811014308235356,-0.032208091401128326,1.0,-0.010000451730312521,0.18012927990590732,-0.06311949726772591,0.12500849289526267,0.03687102334025649,-0.010000451730312521,1.0,-0.6015475937092776,0.08419704471637479,-0.08496364534306798,-0.008388298158410693,0.18012927990590732,-0.6015475937092776,1.0],\"x\":[\"Age\",\"Age\",\"Age\",\"Age\",\"Age\",\"Age\",\"Sex\",\"Sex\",\"Sex\",\"Sex\",\"Sex\",\"Sex\",\"BP\",\"BP\",\"BP\",\"BP\",\"BP\",\"BP\",\"Cholesterol\",\"Cholesterol\",\"Cholesterol\",\"Cholesterol\",\"Cholesterol\",\"Cholesterol\",\"Na_to_K\",\"Na_to_K\",\"Na_to_K\",\"Na_to_K\",\"Na_to_K\",\"Na_to_K\",\"Drug\",\"Drug\",\"Drug\",\"Drug\",\"Drug\",\"Drug\"],\"y\":[\"Age\",\"Sex\",\"BP\",\"Cholesterol\",\"Na_to_K\",\"Drug\",\"Age\",\"Sex\",\"BP\",\"Cholesterol\",\"Na_to_K\",\"Drug\",\"Age\",\"Sex\",\"BP\",\"Cholesterol\",\"Na_to_K\",\"Drug\",\"Age\",\"Sex\",\"BP\",\"Cholesterol\",\"Na_to_K\",\"Drug\",\"Age\",\"Sex\",\"BP\",\"Cholesterol\",\"Na_to_K\",\"Drug\",\"Age\",\"Sex\",\"BP\",\"Cholesterol\",\"Na_to_K\",\"Drug\"]},\"selected\":{\"id\":\"4614\"},\"selection_policy\":{\"id\":\"4613\"}},\"id\":\"4578\",\"type\":\"ColumnDataSource\"},{\"attributes\":{},\"id\":\"5976\",\"type\":\"AllLabels\"},{\"attributes\":{},\"id\":\"5972\",\"type\":\"CategoricalTickFormatter\"},{\"attributes\":{},\"id\":\"5975\",\"type\":\"CategoricalTickFormatter\"},{\"attributes\":{\"fill_alpha\":{\"value\":0.2},\"fill_color\":{\"field\":\"value\",\"transform\":{\"id\":\"5753\"}},\"hatch_alpha\":{\"value\":0.2},\"height\":{\"value\":1},\"line_alpha\":{\"value\":0.2},\"line_color\":{\"value\":null},\"width\":{\"value\":1},\"x\":{\"field\":\"x\"},\"y\":{\"field\":\"y\"}},\"id\":\"5757\",\"type\":\"Rect\"},{\"attributes\":{},\"id\":\"5762\",\"type\":\"BasicTicker\"},{\"attributes\":{\"callback\":null,\"tooltips\":[[\"value\",\"@value\"]]},\"id\":\"5750\",\"type\":\"HoverTool\"},{\"attributes\":{\"tools\":[{\"id\":\"5750\"}]},\"id\":\"5751\",\"type\":\"Toolbar\"},{\"attributes\":{},\"id\":\"4613\",\"type\":\"UnionRenderers\"},{\"attributes\":{},\"id\":\"4614\",\"type\":\"Selection\"},{\"attributes\":{\"source\":{\"id\":\"4578\"}},\"id\":\"5759\",\"type\":\"CDSView\"},{\"attributes\":{\"coordinates\":null,\"data_source\":{\"id\":\"4578\"},\"glyph\":{\"id\":\"5755\"},\"group\":null,\"hover_glyph\":null,\"muted_glyph\":{\"id\":\"5757\"},\"nonselection_glyph\":{\"id\":\"5756\"},\"view\":{\"id\":\"5759\"}},\"id\":\"5758\",\"type\":\"GlyphRenderer\"},{\"attributes\":{},\"id\":\"5748\",\"type\":\"CategoricalTicker\"},{\"attributes\":{\"high\":1.0,\"low\":-0.6015475937092776,\"palette\":[\"#440154\",\"#440255\",\"#440357\",\"#450558\",\"#45065A\",\"#45085B\",\"#46095C\",\"#460B5E\",\"#460C5F\",\"#460E61\",\"#470F62\",\"#471163\",\"#471265\",\"#471466\",\"#471567\",\"#471669\",\"#47186A\",\"#48196B\",\"#481A6C\",\"#481C6E\",\"#481D6F\",\"#481E70\",\"#482071\",\"#482172\",\"#482273\",\"#482374\",\"#472575\",\"#472676\",\"#472777\",\"#472878\",\"#472A79\",\"#472B7A\",\"#472C7B\",\"#462D7C\",\"#462F7C\",\"#46307D\",\"#46317E\",\"#45327F\",\"#45347F\",\"#453580\",\"#453681\",\"#443781\",\"#443982\",\"#433A83\",\"#433B83\",\"#433C84\",\"#423D84\",\"#423E85\",\"#424085\",\"#414186\",\"#414286\",\"#404387\",\"#404487\",\"#3F4587\",\"#3F4788\",\"#3E4888\",\"#3E4989\",\"#3D4A89\",\"#3D4B89\",\"#3D4C89\",\"#3C4D8A\",\"#3C4E8A\",\"#3B508A\",\"#3B518A\",\"#3A528B\",\"#3A538B\",\"#39548B\",\"#39558B\",\"#38568B\",\"#38578C\",\"#37588C\",\"#37598C\",\"#365A8C\",\"#365B8C\",\"#355C8C\",\"#355D8C\",\"#345E8D\",\"#345F8D\",\"#33608D\",\"#33618D\",\"#32628D\",\"#32638D\",\"#31648D\",\"#31658D\",\"#31668D\",\"#30678D\",\"#30688D\",\"#2F698D\",\"#2F6A8D\",\"#2E6B8E\",\"#2E6C8E\",\"#2E6D8E\",\"#2D6E8E\",\"#2D6F8E\",\"#2C708E\",\"#2C718E\",\"#2C728E\",\"#2B738E\",\"#2B748E\",\"#2A758E\",\"#2A768E\",\"#2A778E\",\"#29788E\",\"#29798E\",\"#287A8E\",\"#287A8E\",\"#287B8E\",\"#277C8E\",\"#277D8E\",\"#277E8E\",\"#267F8E\",\"#26808E\",\"#26818E\",\"#25828E\",\"#25838D\",\"#24848D\",\"#24858D\",\"#24868D\",\"#23878D\",\"#23888D\",\"#23898D\",\"#22898D\",\"#228A8D\",\"#228B8D\",\"#218C8D\",\"#218D8C\",\"#218E8C\",\"#208F8C\",\"#20908C\",\"#20918C\",\"#1F928C\",\"#1F938B\",\"#1F948B\",\"#1F958B\",\"#1F968B\",\"#1E978A\",\"#1E988A\",\"#1E998A\",\"#1E998A\",\"#1E9A89\",\"#1E9B89\",\"#1E9C89\",\"#1E9D88\",\"#1E9E88\",\"#1E9F88\",\"#1EA087\",\"#1FA187\",\"#1FA286\",\"#1FA386\",\"#20A485\",\"#20A585\",\"#21A685\",\"#21A784\",\"#22A784\",\"#23A883\",\"#23A982\",\"#24AA82\",\"#25AB81\",\"#26AC81\",\"#27AD80\",\"#28AE7F\",\"#29AF7F\",\"#2AB07E\",\"#2BB17D\",\"#2CB17D\",\"#2EB27C\",\"#2FB37B\",\"#30B47A\",\"#32B57A\",\"#33B679\",\"#35B778\",\"#36B877\",\"#38B976\",\"#39B976\",\"#3BBA75\",\"#3DBB74\",\"#3EBC73\",\"#40BD72\",\"#42BE71\",\"#44BE70\",\"#45BF6F\",\"#47C06E\",\"#49C16D\",\"#4BC26C\",\"#4DC26B\",\"#4FC369\",\"#51C468\",\"#53C567\",\"#55C666\",\"#57C665\",\"#59C764\",\"#5BC862\",\"#5EC961\",\"#60C960\",\"#62CA5F\",\"#64CB5D\",\"#67CC5C\",\"#69CC5B\",\"#6BCD59\",\"#6DCE58\",\"#70CE56\",\"#72CF55\",\"#74D054\",\"#77D052\",\"#79D151\",\"#7CD24F\",\"#7ED24E\",\"#81D34C\",\"#83D34B\",\"#86D449\",\"#88D547\",\"#8BD546\",\"#8DD644\",\"#90D643\",\"#92D741\",\"#95D73F\",\"#97D83E\",\"#9AD83C\",\"#9DD93A\",\"#9FD938\",\"#A2DA37\",\"#A5DA35\",\"#A7DB33\",\"#AADB32\",\"#ADDC30\",\"#AFDC2E\",\"#B2DD2C\",\"#B5DD2B\",\"#B7DD29\",\"#BADE27\",\"#BDDE26\",\"#BFDF24\",\"#C2DF22\",\"#C5DF21\",\"#C7E01F\",\"#CAE01E\",\"#CDE01D\",\"#CFE11C\",\"#D2E11B\",\"#D4E11A\",\"#D7E219\",\"#DAE218\",\"#DCE218\",\"#DFE318\",\"#E1E318\",\"#E4E318\",\"#E7E419\",\"#E9E419\",\"#ECE41A\",\"#EEE51B\",\"#F1E51C\",\"#F3E51E\",\"#F6E61F\",\"#F8E621\",\"#FAE622\",\"#FDE724\"]},\"id\":\"5753\",\"type\":\"LinearColorMapper\"},{\"attributes\":{\"axis\":{\"id\":\"5747\"},\"coordinates\":null,\"dimension\":1,\"grid_line_color\":null,\"group\":null,\"ticker\":null},\"id\":\"5749\",\"type\":\"Grid\"},{\"attributes\":{\"fill_color\":{\"field\":\"value\",\"transform\":{\"id\":\"5753\"}},\"height\":{\"value\":1},\"line_color\":{\"value\":null},\"width\":{\"value\":1},\"x\":{\"field\":\"x\"},\"y\":{\"field\":\"y\"}},\"id\":\"5755\",\"type\":\"Rect\"},{\"attributes\":{\"bar_line_color\":\"black\",\"color_mapper\":{\"id\":\"5760\"},\"coordinates\":null,\"formatter\":{\"id\":\"5761\"},\"group\":null,\"label_standoff\":12,\"location\":[0,0],\"major_label_policy\":{\"id\":\"5977\"},\"major_label_text_font_size\":\"10pt\",\"orientation\":\"horizontal\",\"ticker\":{\"id\":\"5762\"}},\"id\":\"5763\",\"type\":\"ColorBar\"},{\"attributes\":{\"axis_line_color\":null,\"coordinates\":null,\"formatter\":{\"id\":\"5975\"},\"group\":null,\"major_label_orientation\":1.0471975511965976,\"major_label_policy\":{\"id\":\"5976\"},\"major_label_standoff\":0,\"major_label_text_font_size\":\"10pt\",\"major_tick_line_color\":null,\"ticker\":{\"id\":\"5745\"}},\"id\":\"5744\",\"type\":\"CategoricalAxis\"},{\"attributes\":{},\"id\":\"5740\",\"type\":\"CategoricalScale\"},{\"attributes\":{},\"id\":\"5977\",\"type\":\"NoOverlap\"},{\"attributes\":{\"factors\":[\"Drug\",\"Na_to_K\",\"Cholesterol\",\"BP\",\"Sex\",\"Age\"]},\"id\":\"5738\",\"type\":\"FactorRange\"},{\"attributes\":{\"high\":1.0,\"low\":-0.6015475937092776,\"palette\":[\"#440154\",\"#440255\",\"#440357\",\"#450558\",\"#45065A\",\"#45085B\",\"#46095C\",\"#460B5E\",\"#460C5F\",\"#460E61\",\"#470F62\",\"#471163\",\"#471265\",\"#471466\",\"#471567\",\"#471669\",\"#47186A\",\"#48196B\",\"#481A6C\",\"#481C6E\",\"#481D6F\",\"#481E70\",\"#482071\",\"#482172\",\"#482273\",\"#482374\",\"#472575\",\"#472676\",\"#472777\",\"#472878\",\"#472A79\",\"#472B7A\",\"#472C7B\",\"#462D7C\",\"#462F7C\",\"#46307D\",\"#46317E\",\"#45327F\",\"#45347F\",\"#453580\",\"#453681\",\"#443781\",\"#443982\",\"#433A83\",\"#433B83\",\"#433C84\",\"#423D84\",\"#423E85\",\"#424085\",\"#414186\",\"#414286\",\"#404387\",\"#404487\",\"#3F4587\",\"#3F4788\",\"#3E4888\",\"#3E4989\",\"#3D4A89\",\"#3D4B89\",\"#3D4C89\",\"#3C4D8A\",\"#3C4E8A\",\"#3B508A\",\"#3B518A\",\"#3A528B\",\"#3A538B\",\"#39548B\",\"#39558B\",\"#38568B\",\"#38578C\",\"#37588C\",\"#37598C\",\"#365A8C\",\"#365B8C\",\"#355C8C\",\"#355D8C\",\"#345E8D\",\"#345F8D\",\"#33608D\",\"#33618D\",\"#32628D\",\"#32638D\",\"#31648D\",\"#31658D\",\"#31668D\",\"#30678D\",\"#30688D\",\"#2F698D\",\"#2F6A8D\",\"#2E6B8E\",\"#2E6C8E\",\"#2E6D8E\",\"#2D6E8E\",\"#2D6F8E\",\"#2C708E\",\"#2C718E\",\"#2C728E\",\"#2B738E\",\"#2B748E\",\"#2A758E\",\"#2A768E\",\"#2A778E\",\"#29788E\",\"#29798E\",\"#287A8E\",\"#287A8E\",\"#287B8E\",\"#277C8E\",\"#277D8E\",\"#277E8E\",\"#267F8E\",\"#26808E\",\"#26818E\",\"#25828E\",\"#25838D\",\"#24848D\",\"#24858D\",\"#24868D\",\"#23878D\",\"#23888D\",\"#23898D\",\"#22898D\",\"#228A8D\",\"#228B8D\",\"#218C8D\",\"#218D8C\",\"#218E8C\",\"#208F8C\",\"#20908C\",\"#20918C\",\"#1F928C\",\"#1F938B\",\"#1F948B\",\"#1F958B\",\"#1F968B\",\"#1E978A\",\"#1E988A\",\"#1E998A\",\"#1E998A\",\"#1E9A89\",\"#1E9B89\",\"#1E9C89\",\"#1E9D88\",\"#1E9E88\",\"#1E9F88\",\"#1EA087\",\"#1FA187\",\"#1FA286\",\"#1FA386\",\"#20A485\",\"#20A585\",\"#21A685\",\"#21A784\",\"#22A784\",\"#23A883\",\"#23A982\",\"#24AA82\",\"#25AB81\",\"#26AC81\",\"#27AD80\",\"#28AE7F\",\"#29AF7F\",\"#2AB07E\",\"#2BB17D\",\"#2CB17D\",\"#2EB27C\",\"#2FB37B\",\"#30B47A\",\"#32B57A\",\"#33B679\",\"#35B778\",\"#36B877\",\"#38B976\",\"#39B976\",\"#3BBA75\",\"#3DBB74\",\"#3EBC73\",\"#40BD72\",\"#42BE71\",\"#44BE70\",\"#45BF6F\",\"#47C06E\",\"#49C16D\",\"#4BC26C\",\"#4DC26B\",\"#4FC369\",\"#51C468\",\"#53C567\",\"#55C666\",\"#57C665\",\"#59C764\",\"#5BC862\",\"#5EC961\",\"#60C960\",\"#62CA5F\",\"#64CB5D\",\"#67CC5C\",\"#69CC5B\",\"#6BCD59\",\"#6DCE58\",\"#70CE56\",\"#72CF55\",\"#74D054\",\"#77D052\",\"#79D151\",\"#7CD24F\",\"#7ED24E\",\"#81D34C\",\"#83D34B\",\"#86D449\",\"#88D547\",\"#8BD546\",\"#8DD644\",\"#90D643\",\"#92D741\",\"#95D73F\",\"#97D83E\",\"#9AD83C\",\"#9DD93A\",\"#9FD938\",\"#A2DA37\",\"#A5DA35\",\"#A7DB33\",\"#AADB32\",\"#ADDC30\",\"#AFDC2E\",\"#B2DD2C\",\"#B5DD2B\",\"#B7DD29\",\"#BADE27\",\"#BDDE26\",\"#BFDF24\",\"#C2DF22\",\"#C5DF21\",\"#C7E01F\",\"#CAE01E\",\"#CDE01D\",\"#CFE11C\",\"#D2E11B\",\"#D4E11A\",\"#D7E219\",\"#DAE218\",\"#DCE218\",\"#DFE318\",\"#E1E318\",\"#E4E318\",\"#E7E419\",\"#E9E419\",\"#ECE41A\",\"#EEE51B\",\"#F1E51C\",\"#F3E51E\",\"#F6E61F\",\"#F8E621\",\"#FAE622\",\"#FDE724\"]},\"id\":\"5760\",\"type\":\"LinearColorMapper\"},{\"attributes\":{\"axis\":{\"id\":\"5744\"},\"coordinates\":null,\"grid_line_color\":null,\"group\":null,\"ticker\":null},\"id\":\"5746\",\"type\":\"Grid\"},{\"attributes\":{},\"id\":\"5745\",\"type\":\"CategoricalTicker\"},{\"attributes\":{\"axis_line_color\":null,\"coordinates\":null,\"formatter\":{\"id\":\"5972\"},\"group\":null,\"major_label_policy\":{\"id\":\"5973\"},\"major_label_standoff\":0,\"major_label_text_font_size\":\"10pt\",\"major_tick_line_color\":null,\"ticker\":{\"id\":\"5748\"}},\"id\":\"5747\",\"type\":\"CategoricalAxis\"},{\"attributes\":{\"coordinates\":null,\"group\":null,\"text\":\"Correlation Heatmap\"},\"id\":\"5734\",\"type\":\"Title\"},{\"attributes\":{},\"id\":\"5742\",\"type\":\"CategoricalScale\"},{\"attributes\":{\"fill_alpha\":{\"value\":0.1},\"fill_color\":{\"field\":\"value\",\"transform\":{\"id\":\"5753\"}},\"hatch_alpha\":{\"value\":0.1},\"height\":{\"value\":1},\"line_alpha\":{\"value\":0.1},\"line_color\":{\"value\":null},\"width\":{\"value\":1},\"x\":{\"field\":\"x\"},\"y\":{\"field\":\"y\"}},\"id\":\"5756\",\"type\":\"Rect\"},{\"attributes\":{},\"id\":\"5973\",\"type\":\"AllLabels\"}],\"root_ids\":[\"5733\"]},\"title\":\"Bokeh Application\",\"version\":\"2.4.3\"}};\n  const render_items = [{\"docid\":\"11149a49-7a35-4459-88e6-24d20a6ab78f\",\"root_ids\":[\"5733\"],\"roots\":{\"5733\":\"fa05034b-aa20-48dc-9087-41d1154c8804\"}}];\n  root.Bokeh.embed.embed_items_notebook(docs_json, render_items);\n  }\n  if (root.Bokeh !== undefined) {\n    embed_document(root);\n  } else {\n    let attempts = 0;\n    const timer = setInterval(function(root) {\n      if (root.Bokeh !== undefined) {\n        clearInterval(timer);\n        embed_document(root);\n      } else {\n        attempts++;\n        if (attempts > 100) {\n          clearInterval(timer);\n          console.log(\"Bokeh: ERROR: Unable to run BokehJS code because BokehJS library is missing\");\n        }\n      }\n    }, 10, root)\n  }\n})(window);",
      "application/vnd.bokehjs_exec.v0+json": ""
     },
     "metadata": {
      "application/vnd.bokehjs_exec.v0+json": {
       "id": "5733"
      }
     },
     "output_type": "display_data"
    }
   ],
   "source": [
    "p = figure(\n",
    "  title=\"Correlation Heatmap\",\n",
    "  x_range=list(corr.index),\n",
    "  y_range=list(reversed(corr.index)),\n",
    "  x_axis_location=\"above\",\n",
    "  plot_width=800,\n",
    "  plot_height=800,\n",
    "  toolbar_location=None,\n",
    "  tools=\"hover\",\n",
    "  tooltips=[(\"value\", \"@value\")],\n",
    ")\n",
    "p.grid.grid_line_color = None\n",
    "p.axis.axis_line_color = None\n",
    "p.axis.major_tick_line_color = None\n",
    "p.axis.major_label_text_font_size = \"10pt\"\n",
    "p.axis.major_label_standoff = 0\n",
    "p.xaxis.major_label_orientation = pi / 3\n",
    "\n",
    "p.rect(\n",
    "  x=\"x\",\n",
    "  y=\"y\",\n",
    "  width=1,\n",
    "  height=1,\n",
    "  source=source,\n",
    "  fill_color={\n",
    "    \"field\": \"value\",\n",
    "    \"transform\": LinearColorMapper(palette=Viridis256, low=corr.values.min(), high=corr.values.max())\n",
    "  },\n",
    "  line_color=None,\n",
    ")\n",
    "\n",
    "color_bar = ColorBar(\n",
    "  color_mapper=LinearColorMapper(palette=Viridis256, low=corr.values.min(), high=corr.values.max()),\n",
    "  location=(0, 0),\n",
    "  orientation=\"horizontal\",\n",
    "  formatter=BasicTickFormatter(),\n",
    "  ticker=BasicTicker(),\n",
    "  label_standoff=12,\n",
    "  border_line_color=None,\n",
    "  major_label_text_font_size=\"10pt\",\n",
    "  bar_line_color='black',\n",
    "  bar_line_width=1,\n",
    ")\n",
    "p.add_layout(color_bar, 'below')\n",
    "\n",
    "show(p)"
   ]
  },
  {
   "cell_type": "code",
   "execution_count": 103,
   "metadata": {},
   "outputs": [
    {
     "data": {
      "text/plain": [
       "<bound method Model.select_one of LinearColorMapper(id='4599', ...)>"
      ]
     },
     "execution_count": 103,
     "metadata": {},
     "output_type": "execute_result"
    }
   ],
   "source": []
  },
  {
   "attachments": {},
   "cell_type": "markdown",
   "metadata": {},
   "source": [
    "## Conclusiones"
   ]
  },
  {
   "cell_type": "code",
   "execution_count": 7,
   "metadata": {},
   "outputs": [
    {
     "data": {
      "text/html": [
       "\n",
       "  <div class=\"bk-root\" id=\"916cfd5d-bfd3-4298-b611-a78390a486f8\" data-root-id=\"1433\"></div>\n"
      ]
     },
     "metadata": {},
     "output_type": "display_data"
    },
    {
     "data": {
      "application/javascript": "(function(root) {\n  function embed_document(root) {\n  const docs_json = {\"4735df0e-449c-4f71-ace4-26ee11ef1bf2\":{\"defs\":[],\"roots\":{\"references\":[{\"attributes\":{\"below\":[{\"id\":\"1444\"}],\"center\":[{\"id\":\"1447\"},{\"id\":\"1451\"},{\"id\":\"1482\"}],\"height\":300,\"left\":[{\"id\":\"1448\"}],\"max_width\":800,\"renderers\":[{\"id\":\"1470\"}],\"sizing_mode\":\"stretch_width\",\"title\":{\"id\":\"1434\"},\"toolbar\":{\"id\":\"1459\"},\"x_range\":{\"id\":\"1436\"},\"x_scale\":{\"id\":\"1440\"},\"y_range\":{\"id\":\"1438\"},\"y_scale\":{\"id\":\"1442\"}},\"id\":\"1433\",\"subtype\":\"Figure\",\"type\":\"Plot\"},{\"attributes\":{\"overlay\":{\"id\":\"1458\"}},\"id\":\"1454\",\"type\":\"BoxZoomTool\"},{\"attributes\":{},\"id\":\"1452\",\"type\":\"PanTool\"},{\"attributes\":{\"coordinates\":null,\"group\":null,\"items\":[{\"id\":\"1483\"}]},\"id\":\"1482\",\"type\":\"Legend\"},{\"attributes\":{\"bottom_units\":\"screen\",\"coordinates\":null,\"fill_alpha\":0.5,\"fill_color\":\"lightgrey\",\"group\":null,\"left_units\":\"screen\",\"level\":\"overlay\",\"line_alpha\":1.0,\"line_color\":\"black\",\"line_dash\":[4,4],\"line_width\":2,\"right_units\":\"screen\",\"syncable\":false,\"top_units\":\"screen\"},\"id\":\"1458\",\"type\":\"BoxAnnotation\"},{\"attributes\":{},\"id\":\"1477\",\"type\":\"BasicTickFormatter\"},{\"attributes\":{},\"id\":\"1453\",\"type\":\"WheelZoomTool\"},{\"attributes\":{\"source\":{\"id\":\"1466\"}},\"id\":\"1471\",\"type\":\"CDSView\"},{\"attributes\":{},\"id\":\"1479\",\"type\":\"UnionRenderers\"},{\"attributes\":{\"label\":{\"value\":\"Age.\"},\"renderers\":[{\"id\":\"1470\"}]},\"id\":\"1483\",\"type\":\"LegendItem\"},{\"attributes\":{},\"id\":\"1480\",\"type\":\"Selection\"},{\"attributes\":{\"fill_alpha\":{\"value\":0.1},\"fill_color\":{\"value\":\"white\"},\"hatch_alpha\":{\"value\":0.1},\"line_alpha\":{\"value\":0.1},\"line_color\":{\"value\":\"#1f77b4\"},\"size\":{\"value\":8},\"x\":{\"field\":\"x\"},\"y\":{\"field\":\"y\"}},\"id\":\"1468\",\"type\":\"Circle\"},{\"attributes\":{\"tools\":[{\"id\":\"1452\"},{\"id\":\"1453\"},{\"id\":\"1454\"},{\"id\":\"1455\"},{\"id\":\"1456\"},{\"id\":\"1457\"}]},\"id\":\"1459\",\"type\":\"Toolbar\"},{\"attributes\":{},\"id\":\"1445\",\"type\":\"BasicTicker\"},{\"attributes\":{\"fill_alpha\":{\"value\":0.2},\"fill_color\":{\"value\":\"white\"},\"hatch_alpha\":{\"value\":0.2},\"line_alpha\":{\"value\":0.2},\"line_color\":{\"value\":\"#1f77b4\"},\"size\":{\"value\":8},\"x\":{\"field\":\"x\"},\"y\":{\"field\":\"y\"}},\"id\":\"1469\",\"type\":\"Circle\"},{\"attributes\":{},\"id\":\"1436\",\"type\":\"DataRange1d\"},{\"attributes\":{\"axis\":{\"id\":\"1444\"},\"coordinates\":null,\"group\":null,\"ticker\":null},\"id\":\"1447\",\"type\":\"Grid\"},{\"attributes\":{\"axis_label\":\"Age\",\"coordinates\":null,\"formatter\":{\"id\":\"1477\"},\"group\":null,\"major_label_policy\":{\"id\":\"1478\"},\"ticker\":{\"id\":\"1445\"}},\"id\":\"1444\",\"type\":\"LinearAxis\"},{\"attributes\":{\"coordinates\":null,\"data_source\":{\"id\":\"1466\"},\"glyph\":{\"id\":\"1467\"},\"group\":null,\"hover_glyph\":null,\"muted_glyph\":{\"id\":\"1469\"},\"nonselection_glyph\":{\"id\":\"1468\"},\"view\":{\"id\":\"1471\"}},\"id\":\"1470\",\"type\":\"GlyphRenderer\"},{\"attributes\":{},\"id\":\"1440\",\"type\":\"LinearScale\"},{\"attributes\":{\"end\":80},\"id\":\"1438\",\"type\":\"Range1d\"},{\"attributes\":{\"coordinates\":null,\"group\":null,\"text\":\"Patient Age\"},\"id\":\"1434\",\"type\":\"Title\"},{\"attributes\":{\"axis\":{\"id\":\"1448\"},\"coordinates\":null,\"dimension\":1,\"group\":null,\"ticker\":null},\"id\":\"1451\",\"type\":\"Grid\"},{\"attributes\":{},\"id\":\"1455\",\"type\":\"SaveTool\"},{\"attributes\":{},\"id\":\"1449\",\"type\":\"BasicTicker\"},{\"attributes\":{},\"id\":\"1456\",\"type\":\"ResetTool\"},{\"attributes\":{\"data\":{\"x\":[0,1,2,3,4,5,6,7,8,9,10,11,12,13,14,15,16,17,18,19,20,21,22,23,24,25,26,27,28,29,30,31,32,33,34,35,36,37,38,39,40,41,42,43,44,45,46,47,48,49,50,51,52,53,54,55,56,57,58,59,60,61,62,63,64,65,66,67,68,69,70,71,72,73,74,75,76,77,78,79,80,81,82,83,84,85,86,87,88,89,90,91,92,93,94,95,96,97,98,99,100,101,102,103,104,105,106,107,108,109,110,111,112,113,114,115,116,117,118,119,120,121,122,123,124,125,126,127,128,129,130,131,132,133,134,135,136,137,138,139,140,141,142,143,144,145,146,147,148,149,150,151,152,153,154,155,156,157,158,159,160,161,162,163,164,165,166,167,168,169,170,171,172,173,174,175,176,177,178,179,180,181,182,183,184,185,186,187,188,189,190,191,192,193,194,195,196,197,198,199],\"y\":[23,47,47,28,61,22,49,41,60,43,47,34,43,74,50,16,69,43,23,32,57,63,47,48,33,28,31,49,39,45,18,74,49,65,53,46,32,39,39,15,73,58,50,23,50,66,37,68,23,28,58,67,62,24,68,26,65,40,60,34,38,24,67,45,60,68,29,17,54,18,70,28,24,41,31,26,36,26,19,32,60,64,32,38,47,59,51,69,37,50,62,41,29,42,56,36,58,56,20,15,31,45,28,56,22,37,22,42,72,23,50,47,35,65,20,51,67,40,32,61,28,15,34,36,53,19,66,35,47,32,70,52,49,24,42,74,55,35,51,69,49,64,60,74,39,61,37,26,61,22,49,68,55,72,37,49,31,53,59,34,30,57,43,21,16,38,58,57,51,20,28,45,39,41,42,73,48,25,39,67,22,59,20,36,18,57,70,47,65,64,58,23,72,72,46,56,16,52,23,40]},\"selected\":{\"id\":\"1480\"},\"selection_policy\":{\"id\":\"1479\"}},\"id\":\"1466\",\"type\":\"ColumnDataSource\"},{\"attributes\":{\"fill_color\":{\"value\":\"white\"},\"line_color\":{\"value\":\"#1f77b4\"},\"size\":{\"value\":8},\"x\":{\"field\":\"x\"},\"y\":{\"field\":\"y\"}},\"id\":\"1467\",\"type\":\"Circle\"},{\"attributes\":{},\"id\":\"1457\",\"type\":\"HelpTool\"},{\"attributes\":{\"axis_label\":\"Pacient\",\"coordinates\":null,\"formatter\":{\"id\":\"1474\"},\"group\":null,\"major_label_policy\":{\"id\":\"1475\"},\"ticker\":{\"id\":\"1449\"}},\"id\":\"1448\",\"type\":\"LinearAxis\"},{\"attributes\":{},\"id\":\"1442\",\"type\":\"LinearScale\"},{\"attributes\":{},\"id\":\"1474\",\"type\":\"BasicTickFormatter\"},{\"attributes\":{},\"id\":\"1478\",\"type\":\"AllLabels\"},{\"attributes\":{},\"id\":\"1475\",\"type\":\"AllLabels\"}],\"root_ids\":[\"1433\"]},\"title\":\"Bokeh Application\",\"version\":\"2.4.3\"}};\n  const render_items = [{\"docid\":\"4735df0e-449c-4f71-ace4-26ee11ef1bf2\",\"root_ids\":[\"1433\"],\"roots\":{\"1433\":\"916cfd5d-bfd3-4298-b611-a78390a486f8\"}}];\n  root.Bokeh.embed.embed_items_notebook(docs_json, render_items);\n  }\n  if (root.Bokeh !== undefined) {\n    embed_document(root);\n  } else {\n    let attempts = 0;\n    const timer = setInterval(function(root) {\n      if (root.Bokeh !== undefined) {\n        clearInterval(timer);\n        embed_document(root);\n      } else {\n        attempts++;\n        if (attempts > 100) {\n          clearInterval(timer);\n          console.log(\"Bokeh: ERROR: Unable to run BokehJS code because BokehJS library is missing\");\n        }\n      }\n    }, 10, root)\n  }\n})(window);",
      "application/vnd.bokehjs_exec.v0+json": ""
     },
     "metadata": {
      "application/vnd.bokehjs_exec.v0+json": {
       "id": "1433"
      }
     },
     "output_type": "display_data"
    }
   ],
   "source": [
    "p = figure(\n",
    "  title=\"Patient Age\",\n",
    "  x_axis_label='Age',\n",
    "  y_axis_label='Pacient',\n",
    "  sizing_mode='stretch_width',\n",
    "  y_range=(0, 80),\n",
    "  max_width=800,\n",
    "  height=300,\n",
    ")\n",
    "#p.y_range = Range1d(0, 80)\n",
    "#p.line(df[\"Age\"].index, df[\"Age\"].values, legend=\"Age.\", line_width=2)\n",
    "p.circle(df[\"Age\"].index, df[\"Age\"].values, legend_label=\"Age.\", fill_color=\"white\", size=8)\n",
    "show(p)"
   ]
  },
  {
   "attachments": {},
   "cell_type": "markdown",
   "metadata": {},
   "source": [
    "<a name=\"referencias\"></a>\n",
    "## Referencias\n",
    "\n",
    "- Pajankar, A. (2020). Practical Python Data Visualization: A Fast Track Approach To Learning Data Visualization With Python. Apress.\n",
    "- Wilke, C. O. (2019). Fundamentals of Data Visualization: A Primer on Making Informative and Compelling Figures (1.). O’Reilly Media.\n",
    "- Iliinsky, N., & Steele, J. (2011). Designing Data Visualizations: Representing Informational Relationships. Van Duuren Media.\n",
    "- Sahay, A. (2016). Data visualization, volume i : Recent trends and applications using conventional and big data. Business Expert Press.\n",
    "- Guía de visualización de datos: definición, ejemplos y recursos de aprendizaje. (s. f.). Tableau. https://www.tableau.com/es-es/learn/articles/data-visualization\n",
    "- A Complete Guide to Data Visualization in Python With Libraries, Chart, Graphs & More. (s. f.). Simplilearn. https://www.simplilearn.com/tutorials/python-tutorial/data-visualization-in-python\n",
    "- Cómo mejorar tu web gracias a los mapas de calor. (s. f.). Devservice.es. https://www.devservice.es/blog/mapas-calor-web/"
   ]
  },
  {
   "cell_type": "code",
   "execution_count": null,
   "metadata": {},
   "outputs": [],
   "source": [
    "# Enero 2023\n",
    "# Mario Ruano Fernández\n",
    "# Machine Learning Engineer (curso 2022-2023)\n",
    "# Máster en Ingeniería del Software: Cloud, Datos y Gestión TI\n",
    "# Universidad de Sevilla\n",
    "https://docs.bokeh.org/en/latest/docs/first_steps.html\n",
    "https://www.codecademy.com/article/eda-data-visualization\n",
    "https://docs.bokeh.org/en/latest/docs/gallery/boxplot.html"
   ]
  }
 ],
 "metadata": {
  "kernelspec": {
   "display_name": "base",
   "language": "python",
   "name": "python3"
  },
  "language_info": {
   "codemirror_mode": {
    "name": "ipython",
    "version": 3
   },
   "file_extension": ".py",
   "mimetype": "text/x-python",
   "name": "python",
   "nbconvert_exporter": "python",
   "pygments_lexer": "ipython3",
   "version": "3.9.13"
  },
  "orig_nbformat": 4,
  "vscode": {
   "interpreter": {
    "hash": "e06ff7da33dc9620448857a90ad8b5f428f0d573d205a934d2841c8aee45ea32"
   }
  }
 },
 "nbformat": 4,
 "nbformat_minor": 2
}
