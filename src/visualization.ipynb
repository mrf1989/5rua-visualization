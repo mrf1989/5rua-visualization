{
 "cells": [
  {
   "attachments": {},
   "cell_type": "markdown",
   "metadata": {},
   "source": [
    "# Visualización\n",
    "\n",
    "Este *notebook* trata sobre visualización de datos, presente en todo proceso KDD. Aquí se presenta el desarrollo del trabajo realizado para la asignatura Machine Learning Engineering, del Máster en Ingeniería del Software: Cloud, Datos y Gestión TI de la Universidad de Sevilla, curso académico 2022-23.\n",
    "\n",
    "## Tabla de contenidos\n",
    "\n",
    "* [Autor](#autor)\n",
    "* [Introducción](#introduccion)\n",
    "* [Definición](#definicion)\n",
    "* [Elementos para la visualización](#elementos)\n",
    "* [Criterio de uso](#criterios)\n",
    "* [Caso práctico: Bokeh library](#bokeh)\n",
    "* [Conclusiones](#conclusiones)\n",
    "* [Referencias](#referencias)\n",
    "\n",
    "___"
   ]
  },
  {
   "attachments": {},
   "cell_type": "markdown",
   "metadata": {},
   "source": [
    "<a name=\"autor\"></a>\n",
    "## Autor\n",
    "\n",
    "Este trabajo y este *notebook* han sido desarrollados por **Mario Ruano Fernández** ([mruano@us.es](mailto:mruano@us.es))."
   ]
  },
  {
   "attachments": {},
   "cell_type": "markdown",
   "metadata": {},
   "source": [
    "<a name=\"introduccion\"></a>\n",
    "## Introducción\n",
    "\n",
    "En este trabajo se pretende realizar un estudio del estado del arte de la visualización de datos, marcando como objetivos.\n",
    "\n",
    "- Describir los diferentes tipos de formas gráficas que se utilizan para la visualización de datos.\n",
    "- Establecer una serie de criterios para el correcto uso de la visualización.\n",
    "- Desarrollo de ejemplos y casos de uso.\n",
    "\n",
    "Para dar cumplimiento a estos objetivos, en la sección [Elementos para la visualización](#elementos) se especifican algunas características importantes que deben tenerse en cuenta en toda representación gráfica, de modo que pueda obtenerse, como resultado, una buena visualización de datos. En la sección [Criterios de uso](#criterios) se incluye una descripción de los diferentes tipos de visualizaciones que se pueden encontrar según en qué situaciones dentro de un análisis exploratorio de datos. Por último, en la sección [Caso práctico](#bokeh), se pondrán en práctica los aspectos teóricos estudiados, realizándose ejemplos con la librería [Bokeh](https://bokeh.org/)."
   ]
  },
  {
   "attachments": {},
   "cell_type": "markdown",
   "metadata": {},
   "source": [
    "<a name=\"definicion\"></a>\n",
    "## Definición\n",
    "\n",
    "La visualización de los datos puede definirse como una forma gráfica y visual de representar información y datos a través de tablas, gráficos, mapas y otros elementos visuales (Tableau, s.f.). Gracias a la visualización, las personas pueden acceder a la información de los datos de manera más sencilla y comprensible (Sahay, 2016).\n",
    "\n",
    "Frente a grandes cantidades y conjuntos de datos, la visualización ayuda a sintetizar y detectar de manera efectiva características que los datos esconden, relaciones entre variables, patrones, tendencias, etc. Por esta razón, la visualización se utiliza en la gran mayoría de fases o etapas de cualquier proceso KDD. Desde la selección de datos hasta la comunicación del conocimiento extraído de los mismo, pasando por el preprocesamiento, el análisis y la aplicación de técnicas de Machine Learning y Data Mining.\n",
    "\n",
    "La visualización de datos es un proceso, en esencia, simple: tomamos los valores de los datos y los convertimos sistemática y lógicamente en elementos visuales que conforman una representación gráfica o visual (Wilke, 2019).\n",
    "\n",
    "Sin embargo, el campo de la visualización es extremadamente amplio. Aquí convergen una serie de disciplinas, como el diseño gráfico, el arte, la ciencia cognitiva, las matemáticas, la geometría, etc.\n",
    "\n",
    "Siguiendo a Sahay (2016), encontramos dos categorías dentro de la visualización de datos: la exploración y la explicación. Estas atienden a momentos distintos y existen técnicas y herramientas que se ajustan mejor a cada una de ellas.\n",
    "\n",
    "La exploración de datos consiste en la búsqueda del significado y el sentido de los datos cuando realmente no se sabe qué aportan, frente a la explicación, cuando sí se tiene conocimiento sobre los datos y se trata de contar y transmitir el conocimiento de estos. Aun así, se suelen dar casos híbridos, ya que estas categorías no se ven representadas de manera exacta siempre (Sahay, 2016).\n",
    "\n",
    "En definitiva, en todo caso será determinante el contexto en el que se realiza la visualización y con qué enfoque se desarrolla. Por lo general, en este trabajo, se trabaja en la línea de la visualización aplicada al campo del Machine Learning."
   ]
  },
  {
   "attachments": {},
   "cell_type": "markdown",
   "metadata": {},
   "source": [
    "<a name=\"elementos\"></a>\n",
    "## Elementos para la visualización\n",
    "\n",
    "Tal y como define Wilke (2019) en su libro Fundamentals of Data Visualization, la visualización de datos comprende una parte de arte y otra parte de ciencia. Se debe buscar un equilibrio entre ambas partes para cumplir con su propósito de uso: comunicar una información correcta, comprensible, sin ambigüedades, útil y de interés. En definitiva, la visualización de datos no es más que una forma de comunicación visual que presenta los datos de forma gráfica (Sahay, 2016).\n",
    "\n",
    "Por esta razón, y debido a esa necesidad de equilibrar las creaciones gráficas, aquí se identifican una serie de elementos y aspectos a tener en cuenta a la hora de generar visualizaciones. Es un amplio campo de trabajo y todos estos elementos pueden ser estudiados con gran profundidad y detalle. En este *notebook* solo se van a identificar y se indicarán algunas buenas prácticas, especialmente en aquellos elementos que pueden ser manipulados a través de las librerías de visualización, en general, y de los que permite personalizar la librería Bokeh, en particular.\n",
    "\n",
    "En definitiva, cuando se pretende generar gráficos a partir de datos, se está tratando de desarrollar un procedimiento de mapeo, mediante el cual se pasa de una serie de datos en bruto, normalmente numéricos, a una representación estética y visual de los mismos. Aquí entran en juego aspectos como la posición, las formas, el tamaño, el color, etc.\n",
    "\n",
    "Es, en ese procedimiento de mapeo, donde se detectan los elementos que darán identidad visual a la realidad intrínseca de los propios datos que representan, y que se enuncian a continuación.\n",
    "\n",
    "### Ejes\n",
    "\n",
    "En este trabajo se hace referencia a gráficos en 2D, generalmente aquellos que utilizan un sistema de coordenadas cartesianas para sus ejes.\n",
    "\n",
    "Respecto a los ejes hay que tener en cuenta un par de aspectos:\n",
    "\n",
    "- La ratio de aspecto del eje horizontal frente al vertical. Esto está relacionado con el ancho y alto de la gráfica que se visualiza. Afecta a cómo se visualizan los resultados, aunque sean diferentes versiones correctas.\n",
    "- La escala numérica de los ejes. Pueden seguir una escala lineal, logarítmica o de raíz cuadrada, entre otras. Esto afectará a la forma de visualizar los datos y de dar una correcta interpretación de los ellos.\n",
    "\n",
    "Es recomendable hacer uso de la escala logarítmica en aquellos casos en los que se quieren representar valores en los que hay una gran diferencia en cuanto a magnitudes (Wilke, 2019).\n",
    "\n",
    "Otro tipo de sistema de representación es el sistema de coordenadas polares, con eje curvo. Es óptimo hacer uso de este tipo de ejes cuando se quieren representar datos de naturaleza periódica.\n",
    "\n",
    "### Color\n",
    "\n",
    "El color es uno de los principales elementos visuales que captan la atención en un gráfico. Por tanto, si se hace una correcta elección y aplicación del mismo puede ser de gran utilidad para comunicar la información. De manera general, el color cubre los siguientes requisitos (Wilke, 2019):\n",
    "\n",
    "- Distinción de elementos discretos o grupos: mediante el uso de escalas cualitativas de color, el objetivo es poder distinguir de forma clara entre distintos conjuntos, evitando que algún color destaque por encima de otros o que den sensación de ordenación. Por ejemplo, esto es muy importante a la hora de representar clusters.\n",
    "- Representación de valores: generalmente se busca representar una escala de valores o un rango, por lo que se aplica una escala secuencial de color. Esta debe presentar un rango uniforme perceptible, que puede bien puede ser monocromático o multicromático, pero lo importante es que en todo momento se pueda comprender ya apreciar con facilidad la diferencia de magnitud entre los valores de los datos.\n",
    "- Resaltar algún valor o elemento de los datos: con la intención de llamar la atención o resaltar un aspecto concreto, usar un color que destaca sobre el resto hace resaltar una idea. Para conseguir este efecto, es muy importante que el resto de los colores que acompañen al color de resaltado no distraigan. Una buena técnica es dejar sin color o utilizar un tono gris para todos los elementos, frente a un color para el elemento a resaltar, aumentando el efecto.\n",
    "\n",
    "Con esto, en todo caso se debe tratar de hacer una elección de color correcta, evitando algunos problemas que pueden derivar de un mal uso del color:\n",
    "\n",
    "- Codificar (colorear) demasiada información de forma irrelevante, no solo no llegando a aportar nada, sino haciendo absolutamente compleja la tarea de distinguir elementos. Cuando se quiere diferenciar más de ocho elementos categóricos, se recomienda usar etiquetas textuales, siempre y cuando no saturen tampoco.\n",
    "- Utilizar demasiados colores muy saturados o intensos dificulta la visión y provoca una lectura estresante del gráfico. Estos colores pueden tener cabida, pero de forma mínima y para resaltar algún aspecto.\n",
    "- Seleccionar escalas de color que hacen compleja la comprensión para aquellas personas tienen deficiencias cognitivas de visión. Se recomienda utilizar algún simulador que simula estas patologías para testear los colores elegidos y certificar que funcionan en todos los casos.\n",
    "- Elegir escalas de colores que no permiten diferenciar las magnitudes de los valores, qué es mayor o qué es menor. Esto suele pasar si se utilizan escalas como la escala arcoíris, en la que hay más de un color y donde hay tonalidades monótonas.\n",
    "\n",
    "### Títulos, subtítulos y etiquetas\n",
    "\n",
    "Por lo general, en la visualización de datos los títulos, subtítulos y etiquetas se encargan de ofrecer contexto.\n",
    "\n",
    "Todas las gráficas necesitan tener un título, el que marca el significado y el asunto principal de la figura. Además, si se genera más de una gráfica en el mismo contexto, el título debe seguir el mismo criterio, esto es: puede ir tanto integrado, normalmente en la cabecera de la gráfica, como al pie, en lo que se considera el subtítulo. Sea de una forma u otra, siempre se debe seguir el mismo criterio para todas las gráficas.\n",
    "\n",
    "En cuanto a los subtítulos, pueden apartar un mayor detalle de contexto, aclarando alguno de los aspectos que, a simple vista, no queden totalmente claros a través del resto de elementos. No debe ser redundante, sino complementar al gráfico.\n",
    "\n",
    "En cuanto a las etiquetas, se pueden localizar en distintos lugares de una gráfica. Aparecen como los identificadores de los valores de los ejes, en las leyendas o como denominadores de los ejes. Para este último caso, es altamente recomendable indicar la unidad de medida junto a la etiqueta, si el eje represente una medición. Si de lo contrario el eje representa valores categóricos, simplemente se aplica una etiqueta que dé título a dicho eje.\n",
    "\n",
    "Por último, en relación con esto, no hay que despreciar los tamaños. De nada sirve disponer de todos estos elementos textuales si tienen un tamaño difícil de leer. Se debe aplicar un tamaño apto para la lectura, sin necesidad de realizar zoom sobre la gráfica.\n",
    "\n",
    "### Tipos de gráficos\n",
    "\n",
    "Por último, en este apartado se enuncian y definen las principales formas gráficas y los tipos de gráficos más utilizados dentro del contexto de trabajo del análisis exploratorio de datos en Machine Learning (Sahay, 2016). Esta tipología será la referencia de partida para establecer el criterio de uso, según qué situaciones y contextos, y la base para el caso práctico que se implementa en este trabajo con la librería Bokeh.\n",
    "\n",
    "#### Tablas\n",
    "\n",
    "Aunque el concepto y la definición de visualización de datos se acerca más al hecho de representación mediante elementos gráficos como puntos, líneas, colores, etc., las tablas también son una forma más de visualización. Una de las formas más primitivas de visualizar datos y quizás una de las menos intuitivas, a menos que se cuente con una buena descripción de contexto, que pueda ofrecer información sobre cómo leer e interpretar los datos.\n",
    "\n",
    "<div style=\"display: flex; align-items: center; justify-content: center;\">\n",
    "  <div style=\"max-width: 500px;\">\n",
    "    <img src=\"../assets/tabla.png\"/>\n",
    "    <p style=\"position: relative; top:-20px; left: 10px;\"><small>(Sahay, 2016)</small></p>\n",
    "  </div>\n",
    "</div>\n",
    "\n",
    "#### Diagrama de puntos\n",
    "\n",
    "Los diagramas de puntos consisten en nubes de puntos que relacionan dos variables, haciendo uso de los ejes x e y. Cada eje corresponde al rango de valores de cada una de las variables, por lo que cada uno de los puntos corresponde a una medición concreta. Esto significa que los puntos pueden apilarse, ya que algunas mediciones pueden coincidir.\n",
    "\n",
    "<div style=\"display: flex; align-items: center; justify-content: center;\">\n",
    "  <div style=\"max-width: 500px;\">\n",
    "    <img src=\"../assets/puntos.png\"/>\n",
    "    <p style=\"position: relative; top:-20px; left: 10px;\"><small>(Sahay, 2016)</small></p>\n",
    "  </div>\n",
    "</div>\n",
    "\n",
    "#### Diagrama de barras\n",
    "\n",
    "Es, quizás, uno de los diagramas más conocidos y utilizados para la visualización de datos. Ideal para relacionar un rango de valores categóricos con una variable cuantitativa numérica, como puede ser el precio, la temperatura, etc. En el diagrama de barras, por lo general, el eje x representa el rango de valores, normalmente categórico, frente al eje y, donde se tiene el rango de valores cuantitativo. Además, existen variaciones de este tipo de gráfico, pudiéndose usarse con grupos de barras o en orientación horizontal.\n",
    "\n",
    "<div style=\"display: flex; align-items: center; justify-content: center;\">\n",
    "  <div style=\"max-width: 500px;\">\n",
    "    <img src=\"../assets/barras.png\"/>\n",
    "    <p style=\"position: relative; top:-20px; left: 10px;\"><small>(Sahay, 2016)</small></p>\n",
    "  </div>\n",
    "</div>\n",
    "\n",
    "#### Diagrama de caja\n",
    "\n",
    "El diagrama de caja muestra, para una variable determinada, el valor más pequeño, el más grande y sus tres cuartiles. Esto se hace mediante un segmento, cuyos extremos representan el valor mínimo y el valor máximo, dada una variable de un conjunto de datos. Los cuartiles, por otro lado, quedan representados mediante una figura rectangular, superpuesta sobre el segmento. El cuartil 1 es aquel lado de la figura que está más cercano al extremo correspondiente al valor mínimo, mientras que el cuartil 3 es el lado opuesto. Generalmente se visualiza el cuartil 2 mediante un punto dentro del rectángulo, lo que también corresponde a la mediana. Es una buena forma de representación visual para tener un resumen de estos valores.\n",
    "\n",
    "<div style=\"display: flex; align-items: center; justify-content: center;\">\n",
    "  <div style=\"max-width: 500px;\">\n",
    "    <img src=\"../assets/box.png\"/>\n",
    "    <p style=\"position: relative; top:-20px; left: 10px;\"><small>(Sahay, 2016)</small></p>\n",
    "  </div>\n",
    "</div>\n",
    "\n",
    "#### Mapa de calor\n",
    "\n",
    "Utilizado para representar, mediante colores, el valor de una magnitud en dos dimensiones. El color cambiará su tonalidad o su intensidad conforme el valor de la variable representada. Este tipo de representación es muy útil cuando se quiere representar algo en el espacio 2D. Por ejemplo, la ubicación del puntero del ratón del usuario en una web. El eje x representaría el ancho de la web, mientras que el eje y correspondería al alto. El color podría cambiar en función del tiempo que pasa el puntero del ratón en una coordenada. Se puede usar, por tanto, para identificar los \"puntos calientes\" de una página web.\n",
    "\n",
    "<div style=\"display: flex; align-items: center; justify-content: center;\">\n",
    "  <div style=\"max-width: 500px;\">\n",
    "    <img src=\"../assets/click-heatmap.jpg\"/>\n",
    "    <p style=\"position: relative; top:-20px; left: 10px;\"><small>(Devservice.es, s. f.)</small></p>\n",
    "  </div>\n",
    "</div>\n",
    "\n",
    "#### Gráfico circular\n",
    "\n",
    "El diagrama circular, también conocido como gráfica o diagrama de tarta, representa las magnitudes relativas de las partes como un todo. Esto significa que, dadas unas series de grupos de valores, se visualiza la frecuencia relativa con la que se dan cada uno de estos. En definitiva, representan porcentajes y ratios, como, por ejemplo, la dedicación porcentual de un presupuesto a distintos capítulos o asuntos económicos. Por lo general, suelen emplearse colores distintos para cada una de las porciones del gráfico, no siendo muy recomendable particionarla en exceso, ya que es complejo de leer. Para estos casos, se pude utilizar una extensión de una de las porciones, representándola en otro gráfico circular o en una barra.\n",
    "\n",
    "<div style=\"display: flex; align-items: center; justify-content: center;\">\n",
    "  <div style=\"max-width: 500px;\">\n",
    "    <img src=\"../assets/pie1.png\"/>\n",
    "    <p style=\"position: relative; top:-20px; left: 10px;\"><small>(Sahay, 2016)</small></p>\n",
    "  </div>\n",
    "  <div style=\"max-width: 500px;\">\n",
    "    <img src=\"../assets/pie2.png\"/>\n",
    "    <p style=\"position: relative; top:-20px; left: 10px;\"><small>(Sahay, 2016)</small></p>\n",
    "  </div>\n",
    "</div>\n",
    "\n",
    "#### Gráfico de líneas\n",
    "\n",
    "El gráfico de líneas es una forma de representación gráfica sencilla. Generalmente se utiliza para reflejar el cambio de un valor en el tiempo, siendo el eje x una secuencia de valores temporales (horas, días, meses, años, etc.), y el eje y la medición de una variable en ese momento temporal concreto. Al final, se obtiene un punto, como el diagrama de puntos, pero estos puntos quedan unidos de manera secuencial, formando una línea. En estos gráficos se pueden incluir más de una línea de distinto color, que representen la misma medición en diferentes condiciones. Esta forma es muy útil para hacer comparativas de la evolución y la tendencia de una variable en el tiempo.\n",
    "\n",
    "<div style=\"display: flex; align-items: center; justify-content: center;\">\n",
    "  <div style=\"max-width: 500px;\">\n",
    "    <img src=\"../assets/line1.png\"/>\n",
    "    <p style=\"position: relative; top:-20px; left: 10px;\"><small>(Sahay, 2016)</small></p>\n",
    "  </div>\n",
    "  <div style=\"max-width: 500px;\">\n",
    "    <img src=\"../assets/line2.png\"/>\n",
    "    <p style=\"position: relative; top:-20px; left: 10px;\"><small>(Sahay, 2016)</small></p>\n",
    "  </div>\n",
    "</div>\n",
    "\n",
    "#### Gráfico de área\n",
    "\n",
    "Es un tipo de combinación de gráfico de líneas y diagrama de barras, muy utilizado en series temporales. Representa la variación de las cantidades de una variable conforme pasa el tiempo, por lo que se puede utilizar para conocer la evolución o la tendencia de dicho cambio. La línea marca la unión de los momentos de medición, por ejemplo, los meses o años, en el eje x; mientras que el área coloreada que queda encerrada bajo la línea, corresponde a la cantidad de la variable que se mide. Podría decirse que es un tipo de gráfico de barras continuo. Suele usarse mucho mediante áreas apiladas, asignado un color a cada una de estas, e interpretándose como un todo, pudiéndose observar las diferencias. Por ejemplo, representando la producción de barriles de petróleo a lo largo de los meses, durante varios años, para distintas empresas estadounidenses.\n",
    "\n",
    "<div style=\"display: flex; align-items: center; justify-content: center;\">\n",
    "  <div style=\"max-width: 500px;\">\n",
    "    <img src=\"../assets/area.png\"/>\n",
    "    <p style=\"position: relative; top:-20px; left: 10px;\"><small>(Sahay, 2016)</small></p>\n",
    "  </div>\n",
    "</div>"
   ]
  },
  {
   "attachments": {},
   "cell_type": "markdown",
   "metadata": {},
   "source": [
    "<a name=\"criterios\"></a>\n",
    "## Criterio de uso\n",
    "\n",
    "Tras conocer los principales elementos que entran en juego en la visualización de datos y que deben tenerse en cuenta para realizar una correcta interpretación y comunicación de estos, en esta sección se establecen criterios que se pueden implementar en cualquier análisis exploratorio de datos para cualquier dataset.\n",
    "\n",
    "### Visualización del dataset en tabla\n",
    "\n",
    "En primer lugar, cualquier análisis dará comienzo con la lectura de un dataset. El primer paso en visualización debe ser observar los datos en su conjunto, esto es, la tabla en la que se pueden ver todas las columnas y ejemplos. A través de esto, utilizando una representación tabular, se puede hacer una comprobación rápida del número de variables, conocer sus nombres, el tipo de dato de cada una y hacer una revisión general del volumen de casos.\n",
    "\n",
    "Muchas librerías permiten la generación de data frames a partir de la fuente de los datos (generalmente un archivo csv). A través de estas librerías se puede visualizar el data frame, el cual ya está presentado de manera tabular y se puede establecer un parámetro para ver solo los *n* primeros ejemplos del conjunto de datos.\n",
    "\n",
    "### Búsqueda de outliers con diagramas de caja\n",
    "\n",
    "Una vez se conocen las dimensiones del dataset, lo normal es comenzar a preprocesar el conjunto de datos limpiando aquellos ejemplos en los que se detectan datos nulos y outliers. Para poder localizar los outliers, los diagramas de caja son muy recomendables. Con ellos se pueden detectar los valores atípicos, los consideramos como outliers, y eliminarlos.\n",
    "\n",
    "Se establece un diagrama de caja por cada variable o columna del dataset que vaya a ser tenida en cuenta en el análisis exploratorio. También se pueden visualizar todas juntas, en un multidiagrama.\n",
    "\n",
    "### Histogramas de barras\n",
    "\n",
    "A través de los histogramas, representados mediante diagramas de barras, se puede conocer la distribución de las variables del conjunto de datos y qué frecuente es que se dé un valor u otro. Con esto se podrá valorar si se van a disponer ejemplos sesgados, porque no existe cierto equilibrio entre las distintas muestras, por ejemplo, para entrenar un modelo predictivo.\n",
    "\n",
    "El histograma se genera para cada una de las variables del dataset que se vayan a tener en cuenta.\n",
    "\n",
    "### Proporción de casos con gráficos circulares\n",
    "\n",
    "En el caso de variables categóricas, se pueden establecer sumatorios que cuenten el total de casos de cada tipo y puedan ser representados en gráficos circulares, junto al porcentaje correspondiente para cada dato. Con este tipo de gráficas también será posible conocer el volumen de casos para determinados valores y detectar algunas descompensaciones en el dataset. Además, en la fase de análisis, gracias a estas gráficas se pueden obtener respuestas interesantes a preguntas que se puedan ir planteando.\n",
    "\n",
    "### Relación de variables con diagramas de puntos\n",
    "\n",
    "Una forma de comprobar el tipo de relación que puede existir entre variables del dataset es a través del diagrama de puntos. Enfrentando dos variables, cada una de ellas asignada a los ejes x e y, se puede obtener la forma que sigue la distribución. De manera visual se puede valorar si siguen una relación lineal o logarítmica, o simplemente no se puede certificar relación alguna. Gracias a este análisis se pueden seleccionar atributos que serán usados para entrenar un modelo predictivo, por ejemplo.\n",
    "\n",
    "También se puede hacer uso de este diagrama de puntos para tratar de representar la misma relación teniendo en cuenta distintos casos categóricos, los cuales se diferencian por el color de los puntos. Gracias a esto, se pueden detectar clusters de ejemplos.\n",
    "\n",
    "### Correlación con mapas de calor\n",
    "\n",
    "Otra forma de estudiar y analizar la relación entre variables de un conjunto de datos es a través del estudio de la correlación. Para esto, una vez se hace el cálculo de la correlación de variables, esta puede representarse mediante un mapa de calor, siendo muy fácil interpretarla de forma visual. Gracias a esta gráfica se puede hacer la selección de variables que se usarán para entrenar modelos predictivos."
   ]
  },
  {
   "attachments": {},
   "cell_type": "markdown",
   "metadata": {},
   "source": [
    "<a name=\"bokeh\"></a>\n",
    "## Caso práctico: Bokeh library\n",
    "\n",
    "A partir del marco teórico esbozado, donde se han descrito los elementos gráficos que protagonizan la visualización de datos y se han trazado una serie de criterios de uso para la realización de una análisis exploratorio, ahora se ponen en práctica con la librería de visualización Bokeh.\n",
    "\n",
    "Se comienza importando todas las librerías necesarias para la realización del caso práctico."
   ]
  },
  {
   "cell_type": "code",
   "execution_count": 2,
   "metadata": {},
   "outputs": [],
   "source": [
    "# versión 2.4.3 de Bokeh \n",
    "# Incluida en el entorno de Anaconda\n",
    "# (https://bokeh.pydata.org/en/latest/docs/releases.html)"
   ]
  },
  {
   "cell_type": "code",
   "execution_count": 1,
   "metadata": {},
   "outputs": [
    {
     "data": {
      "text/html": [
       "<div class=\"bk-root\">\n",
       "        <a href=\"https://bokeh.org\" target=\"_blank\" class=\"bk-logo bk-logo-small bk-logo-notebook\"></a>\n",
       "        <span id=\"1002\">Loading BokehJS ...</span>\n",
       "    </div>\n"
      ]
     },
     "metadata": {},
     "output_type": "display_data"
    },
    {
     "data": {
      "application/javascript": "(function(root) {\n  function now() {\n    return new Date();\n  }\n\n  const force = true;\n\n  if (typeof root._bokeh_onload_callbacks === \"undefined\" || force === true) {\n    root._bokeh_onload_callbacks = [];\n    root._bokeh_is_loading = undefined;\n  }\n\nconst JS_MIME_TYPE = 'application/javascript';\n  const HTML_MIME_TYPE = 'text/html';\n  const EXEC_MIME_TYPE = 'application/vnd.bokehjs_exec.v0+json';\n  const CLASS_NAME = 'output_bokeh rendered_html';\n\n  /**\n   * Render data to the DOM node\n   */\n  function render(props, node) {\n    const script = document.createElement(\"script\");\n    node.appendChild(script);\n  }\n\n  /**\n   * Handle when an output is cleared or removed\n   */\n  function handleClearOutput(event, handle) {\n    const cell = handle.cell;\n\n    const id = cell.output_area._bokeh_element_id;\n    const server_id = cell.output_area._bokeh_server_id;\n    // Clean up Bokeh references\n    if (id != null && id in Bokeh.index) {\n      Bokeh.index[id].model.document.clear();\n      delete Bokeh.index[id];\n    }\n\n    if (server_id !== undefined) {\n      // Clean up Bokeh references\n      const cmd_clean = \"from bokeh.io.state import curstate; print(curstate().uuid_to_server['\" + server_id + \"'].get_sessions()[0].document.roots[0]._id)\";\n      cell.notebook.kernel.execute(cmd_clean, {\n        iopub: {\n          output: function(msg) {\n            const id = msg.content.text.trim();\n            if (id in Bokeh.index) {\n              Bokeh.index[id].model.document.clear();\n              delete Bokeh.index[id];\n            }\n          }\n        }\n      });\n      // Destroy server and session\n      const cmd_destroy = \"import bokeh.io.notebook as ion; ion.destroy_server('\" + server_id + \"')\";\n      cell.notebook.kernel.execute(cmd_destroy);\n    }\n  }\n\n  /**\n   * Handle when a new output is added\n   */\n  function handleAddOutput(event, handle) {\n    const output_area = handle.output_area;\n    const output = handle.output;\n\n    // limit handleAddOutput to display_data with EXEC_MIME_TYPE content only\n    if ((output.output_type != \"display_data\") || (!Object.prototype.hasOwnProperty.call(output.data, EXEC_MIME_TYPE))) {\n      return\n    }\n\n    const toinsert = output_area.element.find(\".\" + CLASS_NAME.split(' ')[0]);\n\n    if (output.metadata[EXEC_MIME_TYPE][\"id\"] !== undefined) {\n      toinsert[toinsert.length - 1].firstChild.textContent = output.data[JS_MIME_TYPE];\n      // store reference to embed id on output_area\n      output_area._bokeh_element_id = output.metadata[EXEC_MIME_TYPE][\"id\"];\n    }\n    if (output.metadata[EXEC_MIME_TYPE][\"server_id\"] !== undefined) {\n      const bk_div = document.createElement(\"div\");\n      bk_div.innerHTML = output.data[HTML_MIME_TYPE];\n      const script_attrs = bk_div.children[0].attributes;\n      for (let i = 0; i < script_attrs.length; i++) {\n        toinsert[toinsert.length - 1].firstChild.setAttribute(script_attrs[i].name, script_attrs[i].value);\n        toinsert[toinsert.length - 1].firstChild.textContent = bk_div.children[0].textContent\n      }\n      // store reference to server id on output_area\n      output_area._bokeh_server_id = output.metadata[EXEC_MIME_TYPE][\"server_id\"];\n    }\n  }\n\n  function register_renderer(events, OutputArea) {\n\n    function append_mime(data, metadata, element) {\n      // create a DOM node to render to\n      const toinsert = this.create_output_subarea(\n        metadata,\n        CLASS_NAME,\n        EXEC_MIME_TYPE\n      );\n      this.keyboard_manager.register_events(toinsert);\n      // Render to node\n      const props = {data: data, metadata: metadata[EXEC_MIME_TYPE]};\n      render(props, toinsert[toinsert.length - 1]);\n      element.append(toinsert);\n      return toinsert\n    }\n\n    /* Handle when an output is cleared or removed */\n    events.on('clear_output.CodeCell', handleClearOutput);\n    events.on('delete.Cell', handleClearOutput);\n\n    /* Handle when a new output is added */\n    events.on('output_added.OutputArea', handleAddOutput);\n\n    /**\n     * Register the mime type and append_mime function with output_area\n     */\n    OutputArea.prototype.register_mime_type(EXEC_MIME_TYPE, append_mime, {\n      /* Is output safe? */\n      safe: true,\n      /* Index of renderer in `output_area.display_order` */\n      index: 0\n    });\n  }\n\n  // register the mime type if in Jupyter Notebook environment and previously unregistered\n  if (root.Jupyter !== undefined) {\n    const events = require('base/js/events');\n    const OutputArea = require('notebook/js/outputarea').OutputArea;\n\n    if (OutputArea.prototype.mime_types().indexOf(EXEC_MIME_TYPE) == -1) {\n      register_renderer(events, OutputArea);\n    }\n  }\n  if (typeof (root._bokeh_timeout) === \"undefined\" || force === true) {\n    root._bokeh_timeout = Date.now() + 5000;\n    root._bokeh_failed_load = false;\n  }\n\n  const NB_LOAD_WARNING = {'data': {'text/html':\n     \"<div style='background-color: #fdd'>\\n\"+\n     \"<p>\\n\"+\n     \"BokehJS does not appear to have successfully loaded. If loading BokehJS from CDN, this \\n\"+\n     \"may be due to a slow or bad network connection. Possible fixes:\\n\"+\n     \"</p>\\n\"+\n     \"<ul>\\n\"+\n     \"<li>re-rerun `output_notebook()` to attempt to load from CDN again, or</li>\\n\"+\n     \"<li>use INLINE resources instead, as so:</li>\\n\"+\n     \"</ul>\\n\"+\n     \"<code>\\n\"+\n     \"from bokeh.resources import INLINE\\n\"+\n     \"output_notebook(resources=INLINE)\\n\"+\n     \"</code>\\n\"+\n     \"</div>\"}};\n\n  function display_loaded() {\n    const el = document.getElementById(\"1002\");\n    if (el != null) {\n      el.textContent = \"BokehJS is loading...\";\n    }\n    if (root.Bokeh !== undefined) {\n      if (el != null) {\n        el.textContent = \"BokehJS \" + root.Bokeh.version + \" successfully loaded.\";\n      }\n    } else if (Date.now() < root._bokeh_timeout) {\n      setTimeout(display_loaded, 100)\n    }\n  }\n\n  function run_callbacks() {\n    try {\n      root._bokeh_onload_callbacks.forEach(function(callback) {\n        if (callback != null)\n          callback();\n      });\n    } finally {\n      delete root._bokeh_onload_callbacks\n    }\n    console.debug(\"Bokeh: all callbacks have finished\");\n  }\n\n  function load_libs(css_urls, js_urls, callback) {\n    if (css_urls == null) css_urls = [];\n    if (js_urls == null) js_urls = [];\n\n    root._bokeh_onload_callbacks.push(callback);\n    if (root._bokeh_is_loading > 0) {\n      console.debug(\"Bokeh: BokehJS is being loaded, scheduling callback at\", now());\n      return null;\n    }\n    if (js_urls == null || js_urls.length === 0) {\n      run_callbacks();\n      return null;\n    }\n    console.debug(\"Bokeh: BokehJS not loaded, scheduling load and callback at\", now());\n    root._bokeh_is_loading = css_urls.length + js_urls.length;\n\n    function on_load() {\n      root._bokeh_is_loading--;\n      if (root._bokeh_is_loading === 0) {\n        console.debug(\"Bokeh: all BokehJS libraries/stylesheets loaded\");\n        run_callbacks()\n      }\n    }\n\n    function on_error(url) {\n      console.error(\"failed to load \" + url);\n    }\n\n    for (let i = 0; i < css_urls.length; i++) {\n      const url = css_urls[i];\n      const element = document.createElement(\"link\");\n      element.onload = on_load;\n      element.onerror = on_error.bind(null, url);\n      element.rel = \"stylesheet\";\n      element.type = \"text/css\";\n      element.href = url;\n      console.debug(\"Bokeh: injecting link tag for BokehJS stylesheet: \", url);\n      document.body.appendChild(element);\n    }\n\n    for (let i = 0; i < js_urls.length; i++) {\n      const url = js_urls[i];\n      const element = document.createElement('script');\n      element.onload = on_load;\n      element.onerror = on_error.bind(null, url);\n      element.async = false;\n      element.src = url;\n      console.debug(\"Bokeh: injecting script tag for BokehJS library: \", url);\n      document.head.appendChild(element);\n    }\n  };\n\n  function inject_raw_css(css) {\n    const element = document.createElement(\"style\");\n    element.appendChild(document.createTextNode(css));\n    document.body.appendChild(element);\n  }\n\n  const js_urls = [\"https://cdn.bokeh.org/bokeh/release/bokeh-2.4.3.min.js\", \"https://cdn.bokeh.org/bokeh/release/bokeh-gl-2.4.3.min.js\", \"https://cdn.bokeh.org/bokeh/release/bokeh-widgets-2.4.3.min.js\", \"https://cdn.bokeh.org/bokeh/release/bokeh-tables-2.4.3.min.js\", \"https://cdn.bokeh.org/bokeh/release/bokeh-mathjax-2.4.3.min.js\"];\n  const css_urls = [];\n\n  const inline_js = [    function(Bokeh) {\n      Bokeh.set_log_level(\"info\");\n    },\nfunction(Bokeh) {\n    }\n  ];\n\n  function run_inline_js() {\n    if (root.Bokeh !== undefined || force === true) {\n          for (let i = 0; i < inline_js.length; i++) {\n      inline_js[i].call(root, root.Bokeh);\n    }\nif (force === true) {\n        display_loaded();\n      }} else if (Date.now() < root._bokeh_timeout) {\n      setTimeout(run_inline_js, 100);\n    } else if (!root._bokeh_failed_load) {\n      console.log(\"Bokeh: BokehJS failed to load within specified timeout.\");\n      root._bokeh_failed_load = true;\n    } else if (force !== true) {\n      const cell = $(document.getElementById(\"1002\")).parents('.cell').data().cell;\n      cell.output_area.append_execute_result(NB_LOAD_WARNING)\n    }\n  }\n\n  if (root._bokeh_is_loading === 0) {\n    console.debug(\"Bokeh: BokehJS loaded, going straight to plotting\");\n    run_inline_js();\n  } else {\n    load_libs(css_urls, js_urls, function() {\n      console.debug(\"Bokeh: BokehJS plotting callback run at\", now());\n      run_inline_js();\n    });\n  }\n}(window));",
      "application/vnd.bokehjs_load.v0+json": ""
     },
     "metadata": {},
     "output_type": "display_data"
    }
   ],
   "source": [
    "import numpy as np\n",
    "import pandas as pd\n",
    "from math import pi\n",
    "\n",
    "from bokeh.palettes import Blues, Cividis256\n",
    "from bokeh.transform import cumsum\n",
    "from bokeh.plotting import figure, show\n",
    "from bokeh.models import \\\n",
    "  ColumnDataSource,\\\n",
    "  BasicTicker,\\\n",
    "  ColorBar,\\\n",
    "  LinearColorMapper,\\\n",
    "  ColorMapper,\\\n",
    "  BasicTickFormatter\n",
    "from bokeh.io import output_notebook\n",
    "\n",
    "output_notebook()"
   ]
  },
  {
   "attachments": {},
   "cell_type": "markdown",
   "metadata": {},
   "source": [
    "A continuación, se cargan en memoria los datasets seleccionados para realizar las representaciones gráficas."
   ]
  },
  {
   "cell_type": "code",
   "execution_count": 2,
   "metadata": {},
   "outputs": [],
   "source": [
    "df_drug = pd.read_csv(\"../data/drug200.csv\")"
   ]
  },
  {
   "attachments": {},
   "cell_type": "markdown",
   "metadata": {},
   "source": [
    "En primer lugar, como se comenta en los criterios de uso, se pueden hacer visualizaciones rápidas en forma tabular. ¿Qué dataset se tiene para trabajar? ¿Cuánta columnas tiene y qué representan? ¿Qué tipos de datos se observan? Este es un buen punto de partida."
   ]
  },
  {
   "cell_type": "code",
   "execution_count": 3,
   "metadata": {},
   "outputs": [
    {
     "data": {
      "text/html": [
       "<div>\n",
       "<style scoped>\n",
       "    .dataframe tbody tr th:only-of-type {\n",
       "        vertical-align: middle;\n",
       "    }\n",
       "\n",
       "    .dataframe tbody tr th {\n",
       "        vertical-align: top;\n",
       "    }\n",
       "\n",
       "    .dataframe thead th {\n",
       "        text-align: right;\n",
       "    }\n",
       "</style>\n",
       "<table border=\"1\" class=\"dataframe\">\n",
       "  <thead>\n",
       "    <tr style=\"text-align: right;\">\n",
       "      <th></th>\n",
       "      <th>Age</th>\n",
       "      <th>Sex</th>\n",
       "      <th>BP</th>\n",
       "      <th>Cholesterol</th>\n",
       "      <th>Na_to_K</th>\n",
       "      <th>Drug</th>\n",
       "    </tr>\n",
       "  </thead>\n",
       "  <tbody>\n",
       "    <tr>\n",
       "      <th>0</th>\n",
       "      <td>23</td>\n",
       "      <td>F</td>\n",
       "      <td>HIGH</td>\n",
       "      <td>HIGH</td>\n",
       "      <td>25.355</td>\n",
       "      <td>DrugY</td>\n",
       "    </tr>\n",
       "    <tr>\n",
       "      <th>1</th>\n",
       "      <td>47</td>\n",
       "      <td>M</td>\n",
       "      <td>LOW</td>\n",
       "      <td>HIGH</td>\n",
       "      <td>13.093</td>\n",
       "      <td>drugC</td>\n",
       "    </tr>\n",
       "    <tr>\n",
       "      <th>2</th>\n",
       "      <td>47</td>\n",
       "      <td>M</td>\n",
       "      <td>LOW</td>\n",
       "      <td>HIGH</td>\n",
       "      <td>10.114</td>\n",
       "      <td>drugC</td>\n",
       "    </tr>\n",
       "    <tr>\n",
       "      <th>3</th>\n",
       "      <td>28</td>\n",
       "      <td>F</td>\n",
       "      <td>NORMAL</td>\n",
       "      <td>HIGH</td>\n",
       "      <td>7.798</td>\n",
       "      <td>drugX</td>\n",
       "    </tr>\n",
       "    <tr>\n",
       "      <th>4</th>\n",
       "      <td>61</td>\n",
       "      <td>F</td>\n",
       "      <td>LOW</td>\n",
       "      <td>HIGH</td>\n",
       "      <td>18.043</td>\n",
       "      <td>DrugY</td>\n",
       "    </tr>\n",
       "  </tbody>\n",
       "</table>\n",
       "</div>"
      ],
      "text/plain": [
       "   Age Sex      BP Cholesterol  Na_to_K   Drug\n",
       "0   23   F    HIGH        HIGH   25.355  DrugY\n",
       "1   47   M     LOW        HIGH   13.093  drugC\n",
       "2   47   M     LOW        HIGH   10.114  drugC\n",
       "3   28   F  NORMAL        HIGH    7.798  drugX\n",
       "4   61   F     LOW        HIGH   18.043  DrugY"
      ]
     },
     "execution_count": 3,
     "metadata": {},
     "output_type": "execute_result"
    }
   ],
   "source": [
    "df_drug.head()"
   ]
  },
  {
   "attachments": {},
   "cell_type": "markdown",
   "metadata": {},
   "source": [
    "Además, se puede consultar la tipología de los datos de cada columna del dataset. De esta forma se puede saber a ciencia cierta qué operaciones pueden soportar y qué transformaciones serán necesarias para poder manipularlos posteriormente."
   ]
  },
  {
   "cell_type": "code",
   "execution_count": 4,
   "metadata": {},
   "outputs": [
    {
     "data": {
      "text/plain": [
       "Age              int64\n",
       "Sex             object\n",
       "BP              object\n",
       "Cholesterol     object\n",
       "Na_to_K        float64\n",
       "Drug            object\n",
       "dtype: object"
      ]
     },
     "execution_count": 4,
     "metadata": {},
     "output_type": "execute_result"
    }
   ],
   "source": [
    "df_drug.dtypes"
   ]
  },
  {
   "attachments": {},
   "cell_type": "markdown",
   "metadata": {},
   "source": [
    "También se puede variar el tamaño de la muestra. Se visualiza un mayor o menor volumen de ejemplos según el parámetro que se pase al método `head`."
   ]
  },
  {
   "cell_type": "code",
   "execution_count": 5,
   "metadata": {},
   "outputs": [
    {
     "data": {
      "text/html": [
       "<div>\n",
       "<style scoped>\n",
       "    .dataframe tbody tr th:only-of-type {\n",
       "        vertical-align: middle;\n",
       "    }\n",
       "\n",
       "    .dataframe tbody tr th {\n",
       "        vertical-align: top;\n",
       "    }\n",
       "\n",
       "    .dataframe thead th {\n",
       "        text-align: right;\n",
       "    }\n",
       "</style>\n",
       "<table border=\"1\" class=\"dataframe\">\n",
       "  <thead>\n",
       "    <tr style=\"text-align: right;\">\n",
       "      <th></th>\n",
       "      <th>Age</th>\n",
       "      <th>Sex</th>\n",
       "      <th>BP</th>\n",
       "      <th>Cholesterol</th>\n",
       "      <th>Na_to_K</th>\n",
       "      <th>Drug</th>\n",
       "    </tr>\n",
       "  </thead>\n",
       "  <tbody>\n",
       "    <tr>\n",
       "      <th>0</th>\n",
       "      <td>23</td>\n",
       "      <td>F</td>\n",
       "      <td>HIGH</td>\n",
       "      <td>HIGH</td>\n",
       "      <td>25.355</td>\n",
       "      <td>DrugY</td>\n",
       "    </tr>\n",
       "    <tr>\n",
       "      <th>1</th>\n",
       "      <td>47</td>\n",
       "      <td>M</td>\n",
       "      <td>LOW</td>\n",
       "      <td>HIGH</td>\n",
       "      <td>13.093</td>\n",
       "      <td>drugC</td>\n",
       "    </tr>\n",
       "    <tr>\n",
       "      <th>2</th>\n",
       "      <td>47</td>\n",
       "      <td>M</td>\n",
       "      <td>LOW</td>\n",
       "      <td>HIGH</td>\n",
       "      <td>10.114</td>\n",
       "      <td>drugC</td>\n",
       "    </tr>\n",
       "    <tr>\n",
       "      <th>3</th>\n",
       "      <td>28</td>\n",
       "      <td>F</td>\n",
       "      <td>NORMAL</td>\n",
       "      <td>HIGH</td>\n",
       "      <td>7.798</td>\n",
       "      <td>drugX</td>\n",
       "    </tr>\n",
       "    <tr>\n",
       "      <th>4</th>\n",
       "      <td>61</td>\n",
       "      <td>F</td>\n",
       "      <td>LOW</td>\n",
       "      <td>HIGH</td>\n",
       "      <td>18.043</td>\n",
       "      <td>DrugY</td>\n",
       "    </tr>\n",
       "    <tr>\n",
       "      <th>5</th>\n",
       "      <td>22</td>\n",
       "      <td>F</td>\n",
       "      <td>NORMAL</td>\n",
       "      <td>HIGH</td>\n",
       "      <td>8.607</td>\n",
       "      <td>drugX</td>\n",
       "    </tr>\n",
       "    <tr>\n",
       "      <th>6</th>\n",
       "      <td>49</td>\n",
       "      <td>F</td>\n",
       "      <td>NORMAL</td>\n",
       "      <td>HIGH</td>\n",
       "      <td>16.275</td>\n",
       "      <td>DrugY</td>\n",
       "    </tr>\n",
       "    <tr>\n",
       "      <th>7</th>\n",
       "      <td>41</td>\n",
       "      <td>M</td>\n",
       "      <td>LOW</td>\n",
       "      <td>HIGH</td>\n",
       "      <td>11.037</td>\n",
       "      <td>drugC</td>\n",
       "    </tr>\n",
       "    <tr>\n",
       "      <th>8</th>\n",
       "      <td>60</td>\n",
       "      <td>M</td>\n",
       "      <td>NORMAL</td>\n",
       "      <td>HIGH</td>\n",
       "      <td>15.171</td>\n",
       "      <td>DrugY</td>\n",
       "    </tr>\n",
       "    <tr>\n",
       "      <th>9</th>\n",
       "      <td>43</td>\n",
       "      <td>M</td>\n",
       "      <td>LOW</td>\n",
       "      <td>NORMAL</td>\n",
       "      <td>19.368</td>\n",
       "      <td>DrugY</td>\n",
       "    </tr>\n",
       "    <tr>\n",
       "      <th>10</th>\n",
       "      <td>47</td>\n",
       "      <td>F</td>\n",
       "      <td>LOW</td>\n",
       "      <td>HIGH</td>\n",
       "      <td>11.767</td>\n",
       "      <td>drugC</td>\n",
       "    </tr>\n",
       "    <tr>\n",
       "      <th>11</th>\n",
       "      <td>34</td>\n",
       "      <td>F</td>\n",
       "      <td>HIGH</td>\n",
       "      <td>NORMAL</td>\n",
       "      <td>19.199</td>\n",
       "      <td>DrugY</td>\n",
       "    </tr>\n",
       "    <tr>\n",
       "      <th>12</th>\n",
       "      <td>43</td>\n",
       "      <td>M</td>\n",
       "      <td>LOW</td>\n",
       "      <td>HIGH</td>\n",
       "      <td>15.376</td>\n",
       "      <td>DrugY</td>\n",
       "    </tr>\n",
       "    <tr>\n",
       "      <th>13</th>\n",
       "      <td>74</td>\n",
       "      <td>F</td>\n",
       "      <td>LOW</td>\n",
       "      <td>HIGH</td>\n",
       "      <td>20.942</td>\n",
       "      <td>DrugY</td>\n",
       "    </tr>\n",
       "    <tr>\n",
       "      <th>14</th>\n",
       "      <td>50</td>\n",
       "      <td>F</td>\n",
       "      <td>NORMAL</td>\n",
       "      <td>HIGH</td>\n",
       "      <td>12.703</td>\n",
       "      <td>drugX</td>\n",
       "    </tr>\n",
       "    <tr>\n",
       "      <th>15</th>\n",
       "      <td>16</td>\n",
       "      <td>F</td>\n",
       "      <td>HIGH</td>\n",
       "      <td>NORMAL</td>\n",
       "      <td>15.516</td>\n",
       "      <td>DrugY</td>\n",
       "    </tr>\n",
       "    <tr>\n",
       "      <th>16</th>\n",
       "      <td>69</td>\n",
       "      <td>M</td>\n",
       "      <td>LOW</td>\n",
       "      <td>NORMAL</td>\n",
       "      <td>11.455</td>\n",
       "      <td>drugX</td>\n",
       "    </tr>\n",
       "    <tr>\n",
       "      <th>17</th>\n",
       "      <td>43</td>\n",
       "      <td>M</td>\n",
       "      <td>HIGH</td>\n",
       "      <td>HIGH</td>\n",
       "      <td>13.972</td>\n",
       "      <td>drugA</td>\n",
       "    </tr>\n",
       "    <tr>\n",
       "      <th>18</th>\n",
       "      <td>23</td>\n",
       "      <td>M</td>\n",
       "      <td>LOW</td>\n",
       "      <td>HIGH</td>\n",
       "      <td>7.298</td>\n",
       "      <td>drugC</td>\n",
       "    </tr>\n",
       "    <tr>\n",
       "      <th>19</th>\n",
       "      <td>32</td>\n",
       "      <td>F</td>\n",
       "      <td>HIGH</td>\n",
       "      <td>NORMAL</td>\n",
       "      <td>25.974</td>\n",
       "      <td>DrugY</td>\n",
       "    </tr>\n",
       "  </tbody>\n",
       "</table>\n",
       "</div>"
      ],
      "text/plain": [
       "    Age Sex      BP Cholesterol  Na_to_K   Drug\n",
       "0    23   F    HIGH        HIGH   25.355  DrugY\n",
       "1    47   M     LOW        HIGH   13.093  drugC\n",
       "2    47   M     LOW        HIGH   10.114  drugC\n",
       "3    28   F  NORMAL        HIGH    7.798  drugX\n",
       "4    61   F     LOW        HIGH   18.043  DrugY\n",
       "5    22   F  NORMAL        HIGH    8.607  drugX\n",
       "6    49   F  NORMAL        HIGH   16.275  DrugY\n",
       "7    41   M     LOW        HIGH   11.037  drugC\n",
       "8    60   M  NORMAL        HIGH   15.171  DrugY\n",
       "9    43   M     LOW      NORMAL   19.368  DrugY\n",
       "10   47   F     LOW        HIGH   11.767  drugC\n",
       "11   34   F    HIGH      NORMAL   19.199  DrugY\n",
       "12   43   M     LOW        HIGH   15.376  DrugY\n",
       "13   74   F     LOW        HIGH   20.942  DrugY\n",
       "14   50   F  NORMAL        HIGH   12.703  drugX\n",
       "15   16   F    HIGH      NORMAL   15.516  DrugY\n",
       "16   69   M     LOW      NORMAL   11.455  drugX\n",
       "17   43   M    HIGH        HIGH   13.972  drugA\n",
       "18   23   M     LOW        HIGH    7.298  drugC\n",
       "19   32   F    HIGH      NORMAL   25.974  DrugY"
      ]
     },
     "execution_count": 5,
     "metadata": {},
     "output_type": "execute_result"
    }
   ],
   "source": [
    "df_drug.head(n=20)"
   ]
  },
  {
   "attachments": {},
   "cell_type": "markdown",
   "metadata": {},
   "source": [
    "Esta forma de visualización es fundamental en todo análisis exploratorio. Es una primera aproximación al conjunto de datos con el que se va a trabajar. Es en este punto cuando se empieza a interpretar, de forma razonada, algunas de las transformaciones que serán necesarias realizar, cómo se han incluido valores numéricos referentes a precios, fechas u otras mediciones, qué columnas representan variables categóricas, cuántos tipos hay, etc.\n",
    "\n",
    "A continuación, antes de proceder con el análisis exploratorio, se realizan una serie de transformaciones en el conjunto de datos `df_drug`, convirtiendo aquellas variables categóricas a su correspondiente tipo e indicando cuáles tienen orden y cuales no."
   ]
  },
  {
   "cell_type": "code",
   "execution_count": 6,
   "metadata": {},
   "outputs": [],
   "source": [
    "df_drug[\"BP\"] = pd.Categorical(df_drug[\"BP\"], categories=[\"LOW\", \"NORMAL\", \"HIGH\"], ordered=True)\n",
    "df_drug[\"Cholesterol\"] = pd.Categorical(df_drug[\"Cholesterol\"], categories=[\"NORMAL\", \"HIGH\"], ordered=True)\n",
    "df_drug[\"Sex\"] = pd.Categorical(df_drug[\"Sex\"], categories=[\"M\", \"F\"], ordered=False)\n",
    "df_drug[\"Drug\"] = pd.Categorical(df_drug[\"Drug\"], categories=[\"DrugY\", \"drugX\", \"drugA\", \"drugB\", \"drugC\"], ordered=False)"
   ]
  },
  {
   "attachments": {},
   "cell_type": "markdown",
   "metadata": {},
   "source": [
    "Como puede observarse, el conjunto de datos es un registro de pacientes, donde se recogen la edad, el sexo, el nivel de presión en sangre (BP), el nivel de colesterol, el ratio de sodio/potasio y el tipo de medicamento que se le asigna. Este dataset, en concreto, está orientado a la clasificación de casos, con el que se podría entrenar un modelo predictivo en el, dado los valores de edad, sexo, presión en sangre, etc., se resuelva qué medicamento debe tomar.\n",
    "\n",
    "Por tanto, el primer paso tras conocer el tipo de datos que se disponen, sería realizar un análisis exploratorio. Aquí la visualización juega un papel fundamental de apoyo.\n",
    "\n",
    "En este trabajo práctico se proponen una serie de funciones que hace uso de la librería Bokeh, para implementar métodos que puedan aplicarse en un análisis exploratorio de datos."
   ]
  },
  {
   "attachments": {},
   "cell_type": "markdown",
   "metadata": {},
   "source": [
    "### Diagrama de caja\n",
    "\n",
    "Se implementa la función `plot_box`, la cual recibe el DataFrame y el nombre exacto de la columna para la que se quiere representar el diagrama de caja."
   ]
  },
  {
   "cell_type": "code",
   "execution_count": 7,
   "metadata": {},
   "outputs": [],
   "source": [
    "def plot_box(df, column):\n",
    "  quartiles = df.quantile([0.25, 0.5, 0.75])\n",
    "  IQR = quartiles.iloc[2] - quartiles.iloc[0]\n",
    "  q1 = quartiles.iloc[0][column]\n",
    "  q2 = quartiles.iloc[1][column]\n",
    "  q3 = quartiles.iloc[2][column]\n",
    "  upper = q3 + 1.5*IQR[column]\n",
    "  lower = q1 - 1.5*IQR[column]\n",
    "  \n",
    "  outliers = df[(df[column] < lower) | (df[column] > upper)]\n",
    "\n",
    "  p = figure(background_fill_color=\"#efefef\", toolbar_location=None, width=450, height=450, title=column)\n",
    "\n",
    "  p.segment(0, upper, 0, q3, line_color=\"black\")\n",
    "  p.segment(0, lower, 0, q1, line_color=\"black\")\n",
    "\n",
    "  p.vbar(0, 0.5, q2, q3, fill_color=Blues[3][2], line_color=\"black\")\n",
    "  p.vbar(0, 0.5, q1, q2, fill_color=Blues[3][1], line_color=\"black\")\n",
    "  p.circle(0, q2, size=10, color=\"black\", fill_alpha=0.9)\n",
    "\n",
    "  p.rect(0, lower, 0.1, 0.01, line_color=\"black\")\n",
    "  p.rect(0, upper, 0.1, 0.01, line_color=\"black\")\n",
    "\n",
    "  if not outliers.empty:\n",
    "    p.circle(0, outliers[column], size=8, color=Blues[3][0], fill_alpha=0.6)\n",
    "\n",
    "  p.xgrid.grid_line_color = None\n",
    "  p.ygrid.grid_line_color = \"white\"\n",
    "  p.grid.grid_line_width = 1\n",
    "  \n",
    "  show(p)"
   ]
  },
  {
   "attachments": {},
   "cell_type": "markdown",
   "metadata": {},
   "source": [
    "Se prueba la función para la variable \"Age\" y \"Na_to_K\"."
   ]
  },
  {
   "cell_type": "code",
   "execution_count": 8,
   "metadata": {},
   "outputs": [
    {
     "data": {
      "text/html": [
       "\n",
       "  <div class=\"bk-root\" id=\"0ac23a4e-04f1-4242-8e72-8ef94f86b4b8\" data-root-id=\"1003\"></div>\n"
      ]
     },
     "metadata": {},
     "output_type": "display_data"
    },
    {
     "data": {
      "application/javascript": "(function(root) {\n  function embed_document(root) {\n  const docs_json = {\"6c6700a3-4f63-4b7d-bdd3-06e1bab4d449\":{\"defs\":[],\"roots\":{\"references\":[{\"attributes\":{\"background_fill_color\":\"#efefef\",\"below\":[{\"id\":\"1014\"}],\"center\":[{\"id\":\"1017\"},{\"id\":\"1021\"}],\"height\":450,\"left\":[{\"id\":\"1018\"}],\"renderers\":[{\"id\":\"1040\"},{\"id\":\"1046\"},{\"id\":\"1052\"},{\"id\":\"1058\"},{\"id\":\"1064\"},{\"id\":\"1070\"},{\"id\":\"1076\"}],\"title\":{\"id\":\"1004\"},\"toolbar\":{\"id\":\"1029\"},\"toolbar_location\":null,\"width\":450,\"x_range\":{\"id\":\"1006\"},\"x_scale\":{\"id\":\"1010\"},\"y_range\":{\"id\":\"1008\"},\"y_scale\":{\"id\":\"1012\"}},\"id\":\"1003\",\"subtype\":\"Figure\",\"type\":\"Plot\"},{\"attributes\":{},\"id\":\"1081\",\"type\":\"AllLabels\"},{\"attributes\":{},\"id\":\"1083\",\"type\":\"BasicTickFormatter\"},{\"attributes\":{},\"id\":\"1084\",\"type\":\"AllLabels\"},{\"attributes\":{\"coordinates\":null,\"data_source\":{\"id\":\"1036\"},\"glyph\":{\"id\":\"1037\"},\"group\":null,\"hover_glyph\":null,\"muted_glyph\":{\"id\":\"1039\"},\"nonselection_glyph\":{\"id\":\"1038\"},\"view\":{\"id\":\"1041\"}},\"id\":\"1040\",\"type\":\"GlyphRenderer\"},{\"attributes\":{\"line_alpha\":{\"value\":0.2},\"x0\":{\"value\":0},\"x1\":{\"value\":0},\"y0\":{\"value\":98.5},\"y1\":{\"value\":58.0}},\"id\":\"1039\",\"type\":\"Segment\"},{\"attributes\":{\"fill_alpha\":{\"value\":0.1},\"fill_color\":{\"value\":\"#1f77b4\"},\"hatch_alpha\":{\"value\":0.1},\"height\":{\"value\":0.01},\"line_alpha\":{\"value\":0.1},\"width\":{\"value\":0.1},\"x\":{\"value\":0},\"y\":{\"value\":98.5}},\"id\":\"1074\",\"type\":\"Rect\"},{\"attributes\":{\"fill_alpha\":{\"value\":0.2},\"fill_color\":{\"value\":\"#1f77b4\"},\"hatch_alpha\":{\"value\":0.2},\"height\":{\"value\":0.01},\"line_alpha\":{\"value\":0.2},\"width\":{\"value\":0.1},\"x\":{\"value\":0},\"y\":{\"value\":98.5}},\"id\":\"1075\",\"type\":\"Rect\"},{\"attributes\":{\"source\":{\"id\":\"1072\"}},\"id\":\"1077\",\"type\":\"CDSView\"},{\"attributes\":{\"coordinates\":null,\"data_source\":{\"id\":\"1072\"},\"glyph\":{\"id\":\"1073\"},\"group\":null,\"hover_glyph\":null,\"muted_glyph\":{\"id\":\"1075\"},\"nonselection_glyph\":{\"id\":\"1074\"},\"view\":{\"id\":\"1077\"}},\"id\":\"1076\",\"type\":\"GlyphRenderer\"},{\"attributes\":{\"source\":{\"id\":\"1066\"}},\"id\":\"1071\",\"type\":\"CDSView\"},{\"attributes\":{},\"id\":\"1080\",\"type\":\"BasicTickFormatter\"},{\"attributes\":{\"fill_color\":{\"value\":\"#1f77b4\"},\"height\":{\"value\":0.01},\"width\":{\"value\":0.1},\"x\":{\"value\":0},\"y\":{\"value\":98.5}},\"id\":\"1073\",\"type\":\"Rect\"},{\"attributes\":{\"data\":{},\"selected\":{\"id\":\"1098\"},\"selection_policy\":{\"id\":\"1097\"}},\"id\":\"1072\",\"type\":\"ColumnDataSource\"},{\"attributes\":{},\"id\":\"1008\",\"type\":\"DataRange1d\"},{\"attributes\":{},\"id\":\"1085\",\"type\":\"UnionRenderers\"},{\"attributes\":{},\"id\":\"1086\",\"type\":\"Selection\"},{\"attributes\":{\"tools\":[{\"id\":\"1022\"},{\"id\":\"1023\"},{\"id\":\"1024\"},{\"id\":\"1025\"},{\"id\":\"1026\"},{\"id\":\"1027\"}]},\"id\":\"1029\",\"type\":\"Toolbar\"},{\"attributes\":{\"coordinates\":null,\"group\":null,\"text\":\"Age\"},\"id\":\"1004\",\"type\":\"Title\"},{\"attributes\":{\"data\":{},\"selected\":{\"id\":\"1086\"},\"selection_policy\":{\"id\":\"1085\"}},\"id\":\"1036\",\"type\":\"ColumnDataSource\"},{\"attributes\":{\"line_alpha\":{\"value\":0.1},\"x0\":{\"value\":0},\"x1\":{\"value\":0},\"y0\":{\"value\":98.5},\"y1\":{\"value\":58.0}},\"id\":\"1038\",\"type\":\"Segment\"},{\"attributes\":{},\"id\":\"1027\",\"type\":\"HelpTool\"},{\"attributes\":{\"bottom\":{\"value\":45.0},\"fill_alpha\":{\"value\":0.2},\"fill_color\":{\"value\":\"#9ecae1\"},\"hatch_alpha\":{\"value\":0.2},\"line_alpha\":{\"value\":0.2},\"top\":{\"value\":31.0},\"width\":{\"value\":0.5},\"x\":{\"value\":0}},\"id\":\"1057\",\"type\":\"VBar\"},{\"attributes\":{},\"id\":\"1087\",\"type\":\"UnionRenderers\"},{\"attributes\":{},\"id\":\"1095\",\"type\":\"UnionRenderers\"},{\"attributes\":{\"coordinates\":null,\"data_source\":{\"id\":\"1042\"},\"glyph\":{\"id\":\"1043\"},\"group\":null,\"hover_glyph\":null,\"muted_glyph\":{\"id\":\"1045\"},\"nonselection_glyph\":{\"id\":\"1044\"},\"view\":{\"id\":\"1047\"}},\"id\":\"1046\",\"type\":\"GlyphRenderer\"},{\"attributes\":{\"bottom\":{\"value\":58.0},\"fill_alpha\":{\"value\":0.2},\"fill_color\":{\"value\":\"#deebf7\"},\"hatch_alpha\":{\"value\":0.2},\"line_alpha\":{\"value\":0.2},\"top\":{\"value\":45.0},\"width\":{\"value\":0.5},\"x\":{\"value\":0}},\"id\":\"1051\",\"type\":\"VBar\"},{\"attributes\":{},\"id\":\"1096\",\"type\":\"Selection\"},{\"attributes\":{},\"id\":\"1088\",\"type\":\"Selection\"},{\"attributes\":{\"coordinates\":null,\"formatter\":{\"id\":\"1083\"},\"group\":null,\"major_label_policy\":{\"id\":\"1084\"},\"ticker\":{\"id\":\"1015\"}},\"id\":\"1014\",\"type\":\"LinearAxis\"},{\"attributes\":{},\"id\":\"1019\",\"type\":\"BasicTicker\"},{\"attributes\":{\"bottom\":{\"value\":58.0},\"fill_color\":{\"value\":\"#deebf7\"},\"top\":{\"value\":45.0},\"width\":{\"value\":0.5},\"x\":{\"value\":0}},\"id\":\"1049\",\"type\":\"VBar\"},{\"attributes\":{\"fill_alpha\":{\"value\":0.1},\"fill_color\":{\"value\":\"#1f77b4\"},\"hatch_alpha\":{\"value\":0.1},\"height\":{\"value\":0.01},\"line_alpha\":{\"value\":0.1},\"width\":{\"value\":0.1},\"x\":{\"value\":0},\"y\":{\"value\":-9.5}},\"id\":\"1068\",\"type\":\"Rect\"},{\"attributes\":{\"fill_alpha\":{\"value\":0.9},\"fill_color\":{\"value\":\"black\"},\"size\":{\"value\":10},\"x\":{\"value\":0},\"y\":{\"value\":45.0}},\"id\":\"1061\",\"type\":\"Circle\"},{\"attributes\":{},\"id\":\"1015\",\"type\":\"BasicTicker\"},{\"attributes\":{\"bottom\":{\"value\":45.0},\"fill_alpha\":{\"value\":0.1},\"fill_color\":{\"value\":\"#9ecae1\"},\"hatch_alpha\":{\"value\":0.1},\"line_alpha\":{\"value\":0.1},\"top\":{\"value\":31.0},\"width\":{\"value\":0.5},\"x\":{\"value\":0}},\"id\":\"1056\",\"type\":\"VBar\"},{\"attributes\":{\"coordinates\":null,\"data_source\":{\"id\":\"1054\"},\"glyph\":{\"id\":\"1055\"},\"group\":null,\"hover_glyph\":null,\"muted_glyph\":{\"id\":\"1057\"},\"nonselection_glyph\":{\"id\":\"1056\"},\"view\":{\"id\":\"1059\"}},\"id\":\"1058\",\"type\":\"GlyphRenderer\"},{\"attributes\":{\"coordinates\":null,\"data_source\":{\"id\":\"1060\"},\"glyph\":{\"id\":\"1061\"},\"group\":null,\"hover_glyph\":null,\"muted_glyph\":{\"id\":\"1063\"},\"nonselection_glyph\":{\"id\":\"1062\"},\"view\":{\"id\":\"1065\"}},\"id\":\"1064\",\"type\":\"GlyphRenderer\"},{\"attributes\":{\"data\":{},\"selected\":{\"id\":\"1088\"},\"selection_policy\":{\"id\":\"1087\"}},\"id\":\"1042\",\"type\":\"ColumnDataSource\"},{\"attributes\":{\"coordinates\":null,\"data_source\":{\"id\":\"1066\"},\"glyph\":{\"id\":\"1067\"},\"group\":null,\"hover_glyph\":null,\"muted_glyph\":{\"id\":\"1069\"},\"nonselection_glyph\":{\"id\":\"1068\"},\"view\":{\"id\":\"1071\"}},\"id\":\"1070\",\"type\":\"GlyphRenderer\"},{\"attributes\":{},\"id\":\"1089\",\"type\":\"UnionRenderers\"},{\"attributes\":{\"data\":{},\"selected\":{\"id\":\"1094\"},\"selection_policy\":{\"id\":\"1093\"}},\"id\":\"1060\",\"type\":\"ColumnDataSource\"},{\"attributes\":{},\"id\":\"1090\",\"type\":\"Selection\"},{\"attributes\":{},\"id\":\"1010\",\"type\":\"LinearScale\"},{\"attributes\":{},\"id\":\"1097\",\"type\":\"UnionRenderers\"},{\"attributes\":{\"source\":{\"id\":\"1048\"}},\"id\":\"1053\",\"type\":\"CDSView\"},{\"attributes\":{},\"id\":\"1098\",\"type\":\"Selection\"},{\"attributes\":{\"x0\":{\"value\":0},\"x1\":{\"value\":0},\"y0\":{\"value\":98.5},\"y1\":{\"value\":58.0}},\"id\":\"1037\",\"type\":\"Segment\"},{\"attributes\":{\"line_alpha\":{\"value\":0.1},\"x0\":{\"value\":0},\"x1\":{\"value\":0},\"y0\":{\"value\":-9.5},\"y1\":{\"value\":31.0}},\"id\":\"1044\",\"type\":\"Segment\"},{\"attributes\":{\"line_alpha\":{\"value\":0.2},\"x0\":{\"value\":0},\"x1\":{\"value\":0},\"y0\":{\"value\":-9.5},\"y1\":{\"value\":31.0}},\"id\":\"1045\",\"type\":\"Segment\"},{\"attributes\":{\"fill_alpha\":{\"value\":0.2},\"fill_color\":{\"value\":\"#1f77b4\"},\"hatch_alpha\":{\"value\":0.2},\"height\":{\"value\":0.01},\"line_alpha\":{\"value\":0.2},\"width\":{\"value\":0.1},\"x\":{\"value\":0},\"y\":{\"value\":-9.5}},\"id\":\"1069\",\"type\":\"Rect\"},{\"attributes\":{\"bottom_units\":\"screen\",\"coordinates\":null,\"fill_alpha\":0.5,\"fill_color\":\"lightgrey\",\"group\":null,\"left_units\":\"screen\",\"level\":\"overlay\",\"line_alpha\":1.0,\"line_color\":\"black\",\"line_dash\":[4,4],\"line_width\":2,\"right_units\":\"screen\",\"syncable\":false,\"top_units\":\"screen\"},\"id\":\"1028\",\"type\":\"BoxAnnotation\"},{\"attributes\":{\"bottom\":{\"value\":58.0},\"fill_alpha\":{\"value\":0.1},\"fill_color\":{\"value\":\"#deebf7\"},\"hatch_alpha\":{\"value\":0.1},\"line_alpha\":{\"value\":0.1},\"top\":{\"value\":45.0},\"width\":{\"value\":0.5},\"x\":{\"value\":0}},\"id\":\"1050\",\"type\":\"VBar\"},{\"attributes\":{\"coordinates\":null,\"formatter\":{\"id\":\"1080\"},\"group\":null,\"major_label_policy\":{\"id\":\"1081\"},\"ticker\":{\"id\":\"1019\"}},\"id\":\"1018\",\"type\":\"LinearAxis\"},{\"attributes\":{\"bottom\":{\"value\":45.0},\"fill_color\":{\"value\":\"#9ecae1\"},\"top\":{\"value\":31.0},\"width\":{\"value\":0.5},\"x\":{\"value\":0}},\"id\":\"1055\",\"type\":\"VBar\"},{\"attributes\":{\"data\":{},\"selected\":{\"id\":\"1096\"},\"selection_policy\":{\"id\":\"1095\"}},\"id\":\"1066\",\"type\":\"ColumnDataSource\"},{\"attributes\":{\"axis\":{\"id\":\"1018\"},\"coordinates\":null,\"dimension\":1,\"grid_line_color\":\"white\",\"group\":null,\"ticker\":null},\"id\":\"1021\",\"type\":\"Grid\"},{\"attributes\":{\"source\":{\"id\":\"1054\"}},\"id\":\"1059\",\"type\":\"CDSView\"},{\"attributes\":{\"source\":{\"id\":\"1042\"}},\"id\":\"1047\",\"type\":\"CDSView\"},{\"attributes\":{\"data\":{},\"selected\":{\"id\":\"1090\"},\"selection_policy\":{\"id\":\"1089\"}},\"id\":\"1048\",\"type\":\"ColumnDataSource\"},{\"attributes\":{},\"id\":\"1023\",\"type\":\"WheelZoomTool\"},{\"attributes\":{},\"id\":\"1006\",\"type\":\"DataRange1d\"},{\"attributes\":{},\"id\":\"1022\",\"type\":\"PanTool\"},{\"attributes\":{},\"id\":\"1012\",\"type\":\"LinearScale\"},{\"attributes\":{\"fill_color\":{\"value\":\"#1f77b4\"},\"height\":{\"value\":0.01},\"width\":{\"value\":0.1},\"x\":{\"value\":0},\"y\":{\"value\":-9.5}},\"id\":\"1067\",\"type\":\"Rect\"},{\"attributes\":{},\"id\":\"1091\",\"type\":\"UnionRenderers\"},{\"attributes\":{},\"id\":\"1026\",\"type\":\"ResetTool\"},{\"attributes\":{\"source\":{\"id\":\"1060\"}},\"id\":\"1065\",\"type\":\"CDSView\"},{\"attributes\":{},\"id\":\"1092\",\"type\":\"Selection\"},{\"attributes\":{\"overlay\":{\"id\":\"1028\"}},\"id\":\"1024\",\"type\":\"BoxZoomTool\"},{\"attributes\":{},\"id\":\"1025\",\"type\":\"SaveTool\"},{\"attributes\":{\"source\":{\"id\":\"1036\"}},\"id\":\"1041\",\"type\":\"CDSView\"},{\"attributes\":{\"axis\":{\"id\":\"1014\"},\"coordinates\":null,\"grid_line_color\":null,\"group\":null,\"ticker\":null},\"id\":\"1017\",\"type\":\"Grid\"},{\"attributes\":{\"fill_alpha\":{\"value\":0.1},\"fill_color\":{\"value\":\"black\"},\"hatch_alpha\":{\"value\":0.1},\"line_alpha\":{\"value\":0.1},\"size\":{\"value\":10},\"x\":{\"value\":0},\"y\":{\"value\":45.0}},\"id\":\"1062\",\"type\":\"Circle\"},{\"attributes\":{\"coordinates\":null,\"data_source\":{\"id\":\"1048\"},\"glyph\":{\"id\":\"1049\"},\"group\":null,\"hover_glyph\":null,\"muted_glyph\":{\"id\":\"1051\"},\"nonselection_glyph\":{\"id\":\"1050\"},\"view\":{\"id\":\"1053\"}},\"id\":\"1052\",\"type\":\"GlyphRenderer\"},{\"attributes\":{\"data\":{},\"selected\":{\"id\":\"1092\"},\"selection_policy\":{\"id\":\"1091\"}},\"id\":\"1054\",\"type\":\"ColumnDataSource\"},{\"attributes\":{},\"id\":\"1093\",\"type\":\"UnionRenderers\"},{\"attributes\":{\"fill_alpha\":{\"value\":0.2},\"fill_color\":{\"value\":\"black\"},\"hatch_alpha\":{\"value\":0.2},\"line_alpha\":{\"value\":0.2},\"size\":{\"value\":10},\"x\":{\"value\":0},\"y\":{\"value\":45.0}},\"id\":\"1063\",\"type\":\"Circle\"},{\"attributes\":{\"x0\":{\"value\":0},\"x1\":{\"value\":0},\"y0\":{\"value\":-9.5},\"y1\":{\"value\":31.0}},\"id\":\"1043\",\"type\":\"Segment\"},{\"attributes\":{},\"id\":\"1094\",\"type\":\"Selection\"}],\"root_ids\":[\"1003\"]},\"title\":\"Bokeh Application\",\"version\":\"2.4.3\"}};\n  const render_items = [{\"docid\":\"6c6700a3-4f63-4b7d-bdd3-06e1bab4d449\",\"root_ids\":[\"1003\"],\"roots\":{\"1003\":\"0ac23a4e-04f1-4242-8e72-8ef94f86b4b8\"}}];\n  root.Bokeh.embed.embed_items_notebook(docs_json, render_items);\n  }\n  if (root.Bokeh !== undefined) {\n    embed_document(root);\n  } else {\n    let attempts = 0;\n    const timer = setInterval(function(root) {\n      if (root.Bokeh !== undefined) {\n        clearInterval(timer);\n        embed_document(root);\n      } else {\n        attempts++;\n        if (attempts > 100) {\n          clearInterval(timer);\n          console.log(\"Bokeh: ERROR: Unable to run BokehJS code because BokehJS library is missing\");\n        }\n      }\n    }, 10, root)\n  }\n})(window);",
      "application/vnd.bokehjs_exec.v0+json": ""
     },
     "metadata": {
      "application/vnd.bokehjs_exec.v0+json": {
       "id": "1003"
      }
     },
     "output_type": "display_data"
    }
   ],
   "source": [
    "plot_box(df_drug, \"Age\")"
   ]
  },
  {
   "cell_type": "code",
   "execution_count": 9,
   "metadata": {},
   "outputs": [
    {
     "data": {
      "text/html": [
       "\n",
       "  <div class=\"bk-root\" id=\"f48d9126-94a4-4313-89f0-ed939b654d85\" data-root-id=\"1210\"></div>\n"
      ]
     },
     "metadata": {},
     "output_type": "display_data"
    },
    {
     "data": {
      "application/javascript": "(function(root) {\n  function embed_document(root) {\n  const docs_json = {\"4058cc52-4376-4919-8c04-4805341b28d4\":{\"defs\":[],\"roots\":{\"references\":[{\"attributes\":{\"background_fill_color\":\"#efefef\",\"below\":[{\"id\":\"1221\"}],\"center\":[{\"id\":\"1224\"},{\"id\":\"1228\"}],\"height\":450,\"left\":[{\"id\":\"1225\"}],\"renderers\":[{\"id\":\"1247\"},{\"id\":\"1253\"},{\"id\":\"1259\"},{\"id\":\"1265\"},{\"id\":\"1271\"},{\"id\":\"1277\"},{\"id\":\"1283\"},{\"id\":\"1289\"}],\"title\":{\"id\":\"1211\"},\"toolbar\":{\"id\":\"1236\"},\"toolbar_location\":null,\"width\":450,\"x_range\":{\"id\":\"1213\"},\"x_scale\":{\"id\":\"1217\"},\"y_range\":{\"id\":\"1215\"},\"y_scale\":{\"id\":\"1219\"}},\"id\":\"1210\",\"subtype\":\"Figure\",\"type\":\"Plot\"},{\"attributes\":{},\"id\":\"1334\",\"type\":\"UnionRenderers\"},{\"attributes\":{\"line_alpha\":{\"value\":0.2},\"x0\":{\"value\":0},\"x1\":{\"value\":0},\"y0\":{\"value\":-2.9562500000000007},\"y1\":{\"value\":10.4455}},\"id\":\"1252\",\"type\":\"Segment\"},{\"attributes\":{\"bottom\":{\"value\":19.38},\"fill_alpha\":{\"value\":0.1},\"fill_color\":{\"value\":\"#deebf7\"},\"hatch_alpha\":{\"value\":0.1},\"line_alpha\":{\"value\":0.1},\"top\":{\"value\":13.9365},\"width\":{\"value\":0.5},\"x\":{\"value\":0}},\"id\":\"1257\",\"type\":\"VBar\"},{\"attributes\":{},\"id\":\"1335\",\"type\":\"Selection\"},{\"attributes\":{\"coordinates\":null,\"data_source\":{\"id\":\"1249\"},\"glyph\":{\"id\":\"1250\"},\"group\":null,\"hover_glyph\":null,\"muted_glyph\":{\"id\":\"1252\"},\"nonselection_glyph\":{\"id\":\"1251\"},\"view\":{\"id\":\"1254\"}},\"id\":\"1253\",\"type\":\"GlyphRenderer\"},{\"attributes\":{\"line_alpha\":{\"value\":0.1},\"x0\":{\"value\":0},\"x1\":{\"value\":0},\"y0\":{\"value\":-2.9562500000000007},\"y1\":{\"value\":10.4455}},\"id\":\"1251\",\"type\":\"Segment\"},{\"attributes\":{\"bottom\":{\"value\":19.38},\"fill_color\":{\"value\":\"#deebf7\"},\"top\":{\"value\":13.9365},\"width\":{\"value\":0.5},\"x\":{\"value\":0}},\"id\":\"1256\",\"type\":\"VBar\"},{\"attributes\":{\"source\":{\"id\":\"1249\"}},\"id\":\"1254\",\"type\":\"CDSView\"},{\"attributes\":{},\"id\":\"1222\",\"type\":\"BasicTicker\"},{\"attributes\":{\"data\":{},\"selected\":{\"id\":\"1325\"},\"selection_policy\":{\"id\":\"1324\"}},\"id\":\"1255\",\"type\":\"ColumnDataSource\"},{\"attributes\":{\"bottom\":{\"value\":13.9365},\"fill_color\":{\"value\":\"#9ecae1\"},\"top\":{\"value\":10.4455},\"width\":{\"value\":0.5},\"x\":{\"value\":0}},\"id\":\"1262\",\"type\":\"VBar\"},{\"attributes\":{\"source\":{\"id\":\"1255\"}},\"id\":\"1260\",\"type\":\"CDSView\"},{\"attributes\":{\"coordinates\":null,\"data_source\":{\"id\":\"1255\"},\"glyph\":{\"id\":\"1256\"},\"group\":null,\"hover_glyph\":null,\"muted_glyph\":{\"id\":\"1258\"},\"nonselection_glyph\":{\"id\":\"1257\"},\"view\":{\"id\":\"1260\"}},\"id\":\"1259\",\"type\":\"GlyphRenderer\"},{\"attributes\":{\"bottom\":{\"value\":19.38},\"fill_alpha\":{\"value\":0.2},\"fill_color\":{\"value\":\"#deebf7\"},\"hatch_alpha\":{\"value\":0.2},\"line_alpha\":{\"value\":0.2},\"top\":{\"value\":13.9365},\"width\":{\"value\":0.5},\"x\":{\"value\":0}},\"id\":\"1258\",\"type\":\"VBar\"},{\"attributes\":{\"data\":{},\"selected\":{\"id\":\"1333\"},\"selection_policy\":{\"id\":\"1332\"}},\"id\":\"1279\",\"type\":\"ColumnDataSource\"},{\"attributes\":{\"bottom\":{\"value\":13.9365},\"fill_alpha\":{\"value\":0.1},\"fill_color\":{\"value\":\"#9ecae1\"},\"hatch_alpha\":{\"value\":0.1},\"line_alpha\":{\"value\":0.1},\"top\":{\"value\":10.4455},\"width\":{\"value\":0.5},\"x\":{\"value\":0}},\"id\":\"1263\",\"type\":\"VBar\"},{\"attributes\":{\"data\":{},\"selected\":{\"id\":\"1327\"},\"selection_policy\":{\"id\":\"1326\"}},\"id\":\"1261\",\"type\":\"ColumnDataSource\"},{\"attributes\":{\"line_alpha\":{\"value\":0.2},\"x0\":{\"value\":0},\"x1\":{\"value\":0},\"y0\":{\"value\":32.78175},\"y1\":{\"value\":19.38}},\"id\":\"1246\",\"type\":\"Segment\"},{\"attributes\":{\"source\":{\"id\":\"1261\"}},\"id\":\"1266\",\"type\":\"CDSView\"},{\"attributes\":{\"coordinates\":null,\"data_source\":{\"id\":\"1261\"},\"glyph\":{\"id\":\"1262\"},\"group\":null,\"hover_glyph\":null,\"muted_glyph\":{\"id\":\"1264\"},\"nonselection_glyph\":{\"id\":\"1263\"},\"view\":{\"id\":\"1266\"}},\"id\":\"1265\",\"type\":\"GlyphRenderer\"},{\"attributes\":{\"fill_alpha\":{\"value\":0.9},\"fill_color\":{\"value\":\"black\"},\"size\":{\"value\":10},\"x\":{\"value\":0},\"y\":{\"value\":13.9365}},\"id\":\"1268\",\"type\":\"Circle\"},{\"attributes\":{\"bottom\":{\"value\":13.9365},\"fill_alpha\":{\"value\":0.2},\"fill_color\":{\"value\":\"#9ecae1\"},\"hatch_alpha\":{\"value\":0.2},\"line_alpha\":{\"value\":0.2},\"top\":{\"value\":10.4455},\"width\":{\"value\":0.5},\"x\":{\"value\":0}},\"id\":\"1264\",\"type\":\"VBar\"},{\"attributes\":{\"fill_alpha\":{\"value\":0.1},\"fill_color\":{\"value\":\"black\"},\"hatch_alpha\":{\"value\":0.1},\"line_alpha\":{\"value\":0.1},\"size\":{\"value\":10},\"x\":{\"value\":0},\"y\":{\"value\":13.9365}},\"id\":\"1269\",\"type\":\"Circle\"},{\"attributes\":{\"data\":{},\"selected\":{\"id\":\"1329\"},\"selection_policy\":{\"id\":\"1328\"}},\"id\":\"1267\",\"type\":\"ColumnDataSource\"},{\"attributes\":{\"fill_alpha\":{\"value\":0.2},\"fill_color\":{\"value\":\"black\"},\"hatch_alpha\":{\"value\":0.2},\"line_alpha\":{\"value\":0.2},\"size\":{\"value\":10},\"x\":{\"value\":0},\"y\":{\"value\":13.9365}},\"id\":\"1270\",\"type\":\"Circle\"},{\"attributes\":{\"source\":{\"id\":\"1279\"}},\"id\":\"1284\",\"type\":\"CDSView\"},{\"attributes\":{\"source\":{\"id\":\"1273\"}},\"id\":\"1278\",\"type\":\"CDSView\"},{\"attributes\":{\"coordinates\":null,\"data_source\":{\"id\":\"1273\"},\"glyph\":{\"id\":\"1274\"},\"group\":null,\"hover_glyph\":null,\"muted_glyph\":{\"id\":\"1276\"},\"nonselection_glyph\":{\"id\":\"1275\"},\"view\":{\"id\":\"1278\"}},\"id\":\"1277\",\"type\":\"GlyphRenderer\"},{\"attributes\":{\"fill_alpha\":{\"value\":0.2},\"fill_color\":{\"value\":\"#1f77b4\"},\"hatch_alpha\":{\"value\":0.2},\"height\":{\"value\":0.01},\"line_alpha\":{\"value\":0.2},\"width\":{\"value\":0.1},\"x\":{\"value\":0},\"y\":{\"value\":-2.9562500000000007}},\"id\":\"1276\",\"type\":\"Rect\"},{\"attributes\":{\"fill_alpha\":{\"value\":0.1},\"fill_color\":{\"value\":\"#1f77b4\"},\"hatch_alpha\":{\"value\":0.1},\"height\":{\"value\":0.01},\"line_alpha\":{\"value\":0.1},\"width\":{\"value\":0.1},\"x\":{\"value\":0},\"y\":{\"value\":32.78175}},\"id\":\"1281\",\"type\":\"Rect\"},{\"attributes\":{\"data\":{\"y\":{\"__ndarray__\":\"ke18PzW+QEBWDi2ynR9DQG8Sg8DK0UFATDeJQWDFQEC8dJMYBHZAQPLSTWIQmEJAVg4tsp1/QUArhxbZzldBQA==\",\"dtype\":\"float64\",\"order\":\"little\",\"shape\":[8]}},\"selected\":{\"id\":\"1335\"},\"selection_policy\":{\"id\":\"1334\"}},\"id\":\"1285\",\"type\":\"ColumnDataSource\"},{\"attributes\":{\"coordinates\":null,\"data_source\":{\"id\":\"1243\"},\"glyph\":{\"id\":\"1244\"},\"group\":null,\"hover_glyph\":null,\"muted_glyph\":{\"id\":\"1246\"},\"nonselection_glyph\":{\"id\":\"1245\"},\"view\":{\"id\":\"1248\"}},\"id\":\"1247\",\"type\":\"GlyphRenderer\"},{\"attributes\":{\"fill_alpha\":{\"value\":0.6},\"fill_color\":{\"value\":\"#3182bd\"},\"hatch_color\":{\"value\":\"#3182bd\"},\"line_color\":{\"value\":\"#3182bd\"},\"size\":{\"value\":8},\"x\":{\"value\":0},\"y\":{\"field\":\"y\"}},\"id\":\"1286\",\"type\":\"Circle\"},{\"attributes\":{\"fill_alpha\":{\"value\":0.1},\"fill_color\":{\"value\":\"#3182bd\"},\"hatch_alpha\":{\"value\":0.1},\"hatch_color\":{\"value\":\"#3182bd\"},\"line_alpha\":{\"value\":0.1},\"line_color\":{\"value\":\"#3182bd\"},\"size\":{\"value\":8},\"x\":{\"value\":0},\"y\":{\"field\":\"y\"}},\"id\":\"1287\",\"type\":\"Circle\"},{\"attributes\":{},\"id\":\"1233\",\"type\":\"ResetTool\"},{\"attributes\":{\"fill_alpha\":{\"value\":0.2},\"fill_color\":{\"value\":\"#3182bd\"},\"hatch_alpha\":{\"value\":0.2},\"hatch_color\":{\"value\":\"#3182bd\"},\"line_alpha\":{\"value\":0.2},\"line_color\":{\"value\":\"#3182bd\"},\"size\":{\"value\":8},\"x\":{\"value\":0},\"y\":{\"field\":\"y\"}},\"id\":\"1288\",\"type\":\"Circle\"},{\"attributes\":{},\"id\":\"1232\",\"type\":\"SaveTool\"},{\"attributes\":{\"coordinates\":null,\"data_source\":{\"id\":\"1285\"},\"glyph\":{\"id\":\"1286\"},\"group\":null,\"hover_glyph\":null,\"muted_glyph\":{\"id\":\"1288\"},\"nonselection_glyph\":{\"id\":\"1287\"},\"view\":{\"id\":\"1290\"}},\"id\":\"1289\",\"type\":\"GlyphRenderer\"},{\"attributes\":{\"overlay\":{\"id\":\"1235\"}},\"id\":\"1231\",\"type\":\"BoxZoomTool\"},{\"attributes\":{},\"id\":\"1229\",\"type\":\"PanTool\"},{\"attributes\":{\"source\":{\"id\":\"1285\"}},\"id\":\"1290\",\"type\":\"CDSView\"},{\"attributes\":{},\"id\":\"1230\",\"type\":\"WheelZoomTool\"},{\"attributes\":{\"tools\":[{\"id\":\"1229\"},{\"id\":\"1230\"},{\"id\":\"1231\"},{\"id\":\"1232\"},{\"id\":\"1233\"},{\"id\":\"1234\"}]},\"id\":\"1236\",\"type\":\"Toolbar\"},{\"attributes\":{},\"id\":\"1226\",\"type\":\"BasicTicker\"},{\"attributes\":{\"axis\":{\"id\":\"1225\"},\"coordinates\":null,\"dimension\":1,\"grid_line_color\":\"white\",\"group\":null,\"ticker\":null},\"id\":\"1228\",\"type\":\"Grid\"},{\"attributes\":{\"axis\":{\"id\":\"1221\"},\"coordinates\":null,\"grid_line_color\":null,\"group\":null,\"ticker\":null},\"id\":\"1224\",\"type\":\"Grid\"},{\"attributes\":{},\"id\":\"1219\",\"type\":\"LinearScale\"},{\"attributes\":{\"coordinates\":null,\"formatter\":{\"id\":\"1315\"},\"group\":null,\"major_label_policy\":{\"id\":\"1316\"},\"ticker\":{\"id\":\"1226\"}},\"id\":\"1225\",\"type\":\"LinearAxis\"},{\"attributes\":{\"coordinates\":null,\"group\":null,\"text\":\"Na_to_K\"},\"id\":\"1211\",\"type\":\"Title\"},{\"attributes\":{},\"id\":\"1213\",\"type\":\"DataRange1d\"},{\"attributes\":{\"data\":{},\"selected\":{\"id\":\"1321\"},\"selection_policy\":{\"id\":\"1320\"}},\"id\":\"1243\",\"type\":\"ColumnDataSource\"},{\"attributes\":{},\"id\":\"1215\",\"type\":\"DataRange1d\"},{\"attributes\":{\"line_alpha\":{\"value\":0.1},\"x0\":{\"value\":0},\"x1\":{\"value\":0},\"y0\":{\"value\":32.78175},\"y1\":{\"value\":19.38}},\"id\":\"1245\",\"type\":\"Segment\"},{\"attributes\":{\"coordinates\":null,\"formatter\":{\"id\":\"1318\"},\"group\":null,\"major_label_policy\":{\"id\":\"1319\"},\"ticker\":{\"id\":\"1222\"}},\"id\":\"1221\",\"type\":\"LinearAxis\"},{\"attributes\":{},\"id\":\"1217\",\"type\":\"LinearScale\"},{\"attributes\":{\"source\":{\"id\":\"1243\"}},\"id\":\"1248\",\"type\":\"CDSView\"},{\"attributes\":{},\"id\":\"1234\",\"type\":\"HelpTool\"},{\"attributes\":{},\"id\":\"1326\",\"type\":\"UnionRenderers\"},{\"attributes\":{},\"id\":\"1327\",\"type\":\"Selection\"},{\"attributes\":{\"source\":{\"id\":\"1267\"}},\"id\":\"1272\",\"type\":\"CDSView\"},{\"attributes\":{},\"id\":\"1315\",\"type\":\"BasicTickFormatter\"},{\"attributes\":{},\"id\":\"1316\",\"type\":\"AllLabels\"},{\"attributes\":{},\"id\":\"1318\",\"type\":\"BasicTickFormatter\"},{\"attributes\":{},\"id\":\"1319\",\"type\":\"AllLabels\"},{\"attributes\":{\"x0\":{\"value\":0},\"x1\":{\"value\":0},\"y0\":{\"value\":-2.9562500000000007},\"y1\":{\"value\":10.4455}},\"id\":\"1250\",\"type\":\"Segment\"},{\"attributes\":{},\"id\":\"1328\",\"type\":\"UnionRenderers\"},{\"attributes\":{},\"id\":\"1329\",\"type\":\"Selection\"},{\"attributes\":{},\"id\":\"1320\",\"type\":\"UnionRenderers\"},{\"attributes\":{},\"id\":\"1321\",\"type\":\"Selection\"},{\"attributes\":{\"data\":{},\"selected\":{\"id\":\"1331\"},\"selection_policy\":{\"id\":\"1330\"}},\"id\":\"1273\",\"type\":\"ColumnDataSource\"},{\"attributes\":{},\"id\":\"1330\",\"type\":\"UnionRenderers\"},{\"attributes\":{},\"id\":\"1331\",\"type\":\"Selection\"},{\"attributes\":{},\"id\":\"1322\",\"type\":\"UnionRenderers\"},{\"attributes\":{},\"id\":\"1323\",\"type\":\"Selection\"},{\"attributes\":{\"fill_color\":{\"value\":\"#1f77b4\"},\"height\":{\"value\":0.01},\"width\":{\"value\":0.1},\"x\":{\"value\":0},\"y\":{\"value\":32.78175}},\"id\":\"1280\",\"type\":\"Rect\"},{\"attributes\":{},\"id\":\"1324\",\"type\":\"UnionRenderers\"},{\"attributes\":{},\"id\":\"1332\",\"type\":\"UnionRenderers\"},{\"attributes\":{},\"id\":\"1333\",\"type\":\"Selection\"},{\"attributes\":{\"fill_alpha\":{\"value\":0.2},\"fill_color\":{\"value\":\"#1f77b4\"},\"hatch_alpha\":{\"value\":0.2},\"height\":{\"value\":0.01},\"line_alpha\":{\"value\":0.2},\"width\":{\"value\":0.1},\"x\":{\"value\":0},\"y\":{\"value\":32.78175}},\"id\":\"1282\",\"type\":\"Rect\"},{\"attributes\":{},\"id\":\"1325\",\"type\":\"Selection\"},{\"attributes\":{\"coordinates\":null,\"data_source\":{\"id\":\"1267\"},\"glyph\":{\"id\":\"1268\"},\"group\":null,\"hover_glyph\":null,\"muted_glyph\":{\"id\":\"1270\"},\"nonselection_glyph\":{\"id\":\"1269\"},\"view\":{\"id\":\"1272\"}},\"id\":\"1271\",\"type\":\"GlyphRenderer\"},{\"attributes\":{\"coordinates\":null,\"data_source\":{\"id\":\"1279\"},\"glyph\":{\"id\":\"1280\"},\"group\":null,\"hover_glyph\":null,\"muted_glyph\":{\"id\":\"1282\"},\"nonselection_glyph\":{\"id\":\"1281\"},\"view\":{\"id\":\"1284\"}},\"id\":\"1283\",\"type\":\"GlyphRenderer\"},{\"attributes\":{\"bottom_units\":\"screen\",\"coordinates\":null,\"fill_alpha\":0.5,\"fill_color\":\"lightgrey\",\"group\":null,\"left_units\":\"screen\",\"level\":\"overlay\",\"line_alpha\":1.0,\"line_color\":\"black\",\"line_dash\":[4,4],\"line_width\":2,\"right_units\":\"screen\",\"syncable\":false,\"top_units\":\"screen\"},\"id\":\"1235\",\"type\":\"BoxAnnotation\"},{\"attributes\":{\"x0\":{\"value\":0},\"x1\":{\"value\":0},\"y0\":{\"value\":32.78175},\"y1\":{\"value\":19.38}},\"id\":\"1244\",\"type\":\"Segment\"},{\"attributes\":{\"fill_color\":{\"value\":\"#1f77b4\"},\"height\":{\"value\":0.01},\"width\":{\"value\":0.1},\"x\":{\"value\":0},\"y\":{\"value\":-2.9562500000000007}},\"id\":\"1274\",\"type\":\"Rect\"},{\"attributes\":{\"fill_alpha\":{\"value\":0.1},\"fill_color\":{\"value\":\"#1f77b4\"},\"hatch_alpha\":{\"value\":0.1},\"height\":{\"value\":0.01},\"line_alpha\":{\"value\":0.1},\"width\":{\"value\":0.1},\"x\":{\"value\":0},\"y\":{\"value\":-2.9562500000000007}},\"id\":\"1275\",\"type\":\"Rect\"},{\"attributes\":{\"data\":{},\"selected\":{\"id\":\"1323\"},\"selection_policy\":{\"id\":\"1322\"}},\"id\":\"1249\",\"type\":\"ColumnDataSource\"}],\"root_ids\":[\"1210\"]},\"title\":\"Bokeh Application\",\"version\":\"2.4.3\"}};\n  const render_items = [{\"docid\":\"4058cc52-4376-4919-8c04-4805341b28d4\",\"root_ids\":[\"1210\"],\"roots\":{\"1210\":\"f48d9126-94a4-4313-89f0-ed939b654d85\"}}];\n  root.Bokeh.embed.embed_items_notebook(docs_json, render_items);\n  }\n  if (root.Bokeh !== undefined) {\n    embed_document(root);\n  } else {\n    let attempts = 0;\n    const timer = setInterval(function(root) {\n      if (root.Bokeh !== undefined) {\n        clearInterval(timer);\n        embed_document(root);\n      } else {\n        attempts++;\n        if (attempts > 100) {\n          clearInterval(timer);\n          console.log(\"Bokeh: ERROR: Unable to run BokehJS code because BokehJS library is missing\");\n        }\n      }\n    }, 10, root)\n  }\n})(window);",
      "application/vnd.bokehjs_exec.v0+json": ""
     },
     "metadata": {
      "application/vnd.bokehjs_exec.v0+json": {
       "id": "1210"
      }
     },
     "output_type": "display_data"
    }
   ],
   "source": [
    "plot_box(df_drug, \"Na_to_K\")"
   ]
  },
  {
   "attachments": {},
   "cell_type": "markdown",
   "metadata": {},
   "source": [
    "Para el caso de la variable \"Na_to_K\" se observan algunos outliers. Se deberían eliminar del dataset los ejemplos que corresponden a estos valores."
   ]
  },
  {
   "attachments": {},
   "cell_type": "markdown",
   "metadata": {},
   "source": [
    "### Histogramas\n",
    "\n",
    "Se implementa la función `plot_histogram`, la cual recibe el DataFrame, el nombre exacto de la columna para la que se quiere calcular su histograma, un título para la gráfica y las etiquetas de los ejes x e y.\n",
    "\n",
    "Esta es una de las gráficas más utilizadas en un análisis exploratorio. "
   ]
  },
  {
   "cell_type": "code",
   "execution_count": 10,
   "metadata": {},
   "outputs": [],
   "source": [
    "def plot_histogram(df, column, title, x_label, y_label):\n",
    "  hist = df[column].value_counts()\n",
    "  x_range = None\n",
    "  if df[column].dtype.name == \"category\":\n",
    "    x_range = df[column].cat.categories.tolist()\n",
    "  else:\n",
    "    x_range = hist.index.tolist().sort()\n",
    "  p = figure(\n",
    "    x_range=x_range,\n",
    "    title=title,\n",
    "    x_axis_label=x_label,\n",
    "    y_axis_label=y_label,\n",
    "    sizing_mode='stretch_width',\n",
    "    max_width=800,\n",
    "    height=300,\n",
    "  )\n",
    "  p.vbar(x=hist.index.tolist(), top=hist.values, width=0.9)\n",
    "  show(p)"
   ]
  },
  {
   "cell_type": "code",
   "execution_count": 11,
   "metadata": {},
   "outputs": [
    {
     "data": {
      "text/html": [
       "\n",
       "  <div class=\"bk-root\" id=\"3b82a989-b320-46ac-94ba-d8618b05cdb8\" data-root-id=\"1457\"></div>\n"
      ]
     },
     "metadata": {},
     "output_type": "display_data"
    },
    {
     "data": {
      "application/javascript": "(function(root) {\n  function embed_document(root) {\n  const docs_json = {\"e974c437-65e2-4367-b216-3279820b36f3\":{\"defs\":[],\"roots\":{\"references\":[{\"attributes\":{\"below\":[{\"id\":\"1468\"}],\"center\":[{\"id\":\"1470\"},{\"id\":\"1474\"}],\"height\":300,\"left\":[{\"id\":\"1471\"}],\"max_width\":800,\"renderers\":[{\"id\":\"1493\"}],\"sizing_mode\":\"stretch_width\",\"title\":{\"id\":\"1458\"},\"toolbar\":{\"id\":\"1482\"},\"x_range\":{\"id\":\"1460\"},\"x_scale\":{\"id\":\"1464\"},\"y_range\":{\"id\":\"1462\"},\"y_scale\":{\"id\":\"1466\"}},\"id\":\"1457\",\"subtype\":\"Figure\",\"type\":\"Plot\"},{\"attributes\":{\"axis_label\":\"n Patients\",\"coordinates\":null,\"formatter\":{\"id\":\"1543\"},\"group\":null,\"major_label_policy\":{\"id\":\"1544\"},\"ticker\":{\"id\":\"1472\"}},\"id\":\"1471\",\"type\":\"LinearAxis\"},{\"attributes\":{},\"id\":\"1543\",\"type\":\"BasicTickFormatter\"},{\"attributes\":{\"fill_alpha\":{\"value\":0.1},\"fill_color\":{\"value\":\"#1f77b4\"},\"hatch_alpha\":{\"value\":0.1},\"line_alpha\":{\"value\":0.1},\"line_color\":{\"value\":\"#1f77b4\"},\"top\":{\"field\":\"top\"},\"width\":{\"value\":0.9},\"x\":{\"field\":\"x\"}},\"id\":\"1491\",\"type\":\"VBar\"},{\"attributes\":{\"fill_color\":{\"value\":\"#1f77b4\"},\"line_color\":{\"value\":\"#1f77b4\"},\"top\":{\"field\":\"top\"},\"width\":{\"value\":0.9},\"x\":{\"field\":\"x\"}},\"id\":\"1490\",\"type\":\"VBar\"},{\"attributes\":{\"axis\":{\"id\":\"1468\"},\"coordinates\":null,\"group\":null,\"ticker\":null},\"id\":\"1470\",\"type\":\"Grid\"},{\"attributes\":{},\"id\":\"1478\",\"type\":\"SaveTool\"},{\"attributes\":{},\"id\":\"1544\",\"type\":\"AllLabels\"},{\"attributes\":{},\"id\":\"1479\",\"type\":\"ResetTool\"},{\"attributes\":{},\"id\":\"1469\",\"type\":\"CategoricalTicker\"},{\"attributes\":{},\"id\":\"1472\",\"type\":\"BasicTicker\"},{\"attributes\":{},\"id\":\"1546\",\"type\":\"CategoricalTickFormatter\"},{\"attributes\":{\"axis\":{\"id\":\"1471\"},\"coordinates\":null,\"dimension\":1,\"group\":null,\"ticker\":null},\"id\":\"1474\",\"type\":\"Grid\"},{\"attributes\":{},\"id\":\"1464\",\"type\":\"CategoricalScale\"},{\"attributes\":{},\"id\":\"1547\",\"type\":\"AllLabels\"},{\"attributes\":{},\"id\":\"1476\",\"type\":\"WheelZoomTool\"},{\"attributes\":{},\"id\":\"1480\",\"type\":\"HelpTool\"},{\"attributes\":{\"axis_label\":\"Blood Pressure\",\"coordinates\":null,\"formatter\":{\"id\":\"1546\"},\"group\":null,\"major_label_policy\":{\"id\":\"1547\"},\"ticker\":{\"id\":\"1469\"}},\"id\":\"1468\",\"type\":\"CategoricalAxis\"},{\"attributes\":{\"coordinates\":null,\"group\":null,\"text\":\"Blood Pressure\"},\"id\":\"1458\",\"type\":\"Title\"},{\"attributes\":{},\"id\":\"1466\",\"type\":\"LinearScale\"},{\"attributes\":{},\"id\":\"1462\",\"type\":\"DataRange1d\"},{\"attributes\":{},\"id\":\"1548\",\"type\":\"UnionRenderers\"},{\"attributes\":{\"fill_alpha\":{\"value\":0.2},\"fill_color\":{\"value\":\"#1f77b4\"},\"hatch_alpha\":{\"value\":0.2},\"line_alpha\":{\"value\":0.2},\"line_color\":{\"value\":\"#1f77b4\"},\"top\":{\"field\":\"top\"},\"width\":{\"value\":0.9},\"x\":{\"field\":\"x\"}},\"id\":\"1492\",\"type\":\"VBar\"},{\"attributes\":{},\"id\":\"1549\",\"type\":\"Selection\"},{\"attributes\":{\"source\":{\"id\":\"1489\"}},\"id\":\"1494\",\"type\":\"CDSView\"},{\"attributes\":{\"bottom_units\":\"screen\",\"coordinates\":null,\"fill_alpha\":0.5,\"fill_color\":\"lightgrey\",\"group\":null,\"left_units\":\"screen\",\"level\":\"overlay\",\"line_alpha\":1.0,\"line_color\":\"black\",\"line_dash\":[4,4],\"line_width\":2,\"right_units\":\"screen\",\"syncable\":false,\"top_units\":\"screen\"},\"id\":\"1481\",\"type\":\"BoxAnnotation\"},{\"attributes\":{\"factors\":[\"LOW\",\"NORMAL\",\"HIGH\"]},\"id\":\"1460\",\"type\":\"FactorRange\"},{\"attributes\":{},\"id\":\"1475\",\"type\":\"PanTool\"},{\"attributes\":{\"overlay\":{\"id\":\"1481\"}},\"id\":\"1477\",\"type\":\"BoxZoomTool\"},{\"attributes\":{\"data\":{\"top\":[77,64,59],\"x\":[\"HIGH\",\"LOW\",\"NORMAL\"]},\"selected\":{\"id\":\"1549\"},\"selection_policy\":{\"id\":\"1548\"}},\"id\":\"1489\",\"type\":\"ColumnDataSource\"},{\"attributes\":{\"coordinates\":null,\"data_source\":{\"id\":\"1489\"},\"glyph\":{\"id\":\"1490\"},\"group\":null,\"hover_glyph\":null,\"muted_glyph\":{\"id\":\"1492\"},\"nonselection_glyph\":{\"id\":\"1491\"},\"view\":{\"id\":\"1494\"}},\"id\":\"1493\",\"type\":\"GlyphRenderer\"},{\"attributes\":{\"tools\":[{\"id\":\"1475\"},{\"id\":\"1476\"},{\"id\":\"1477\"},{\"id\":\"1478\"},{\"id\":\"1479\"},{\"id\":\"1480\"}]},\"id\":\"1482\",\"type\":\"Toolbar\"}],\"root_ids\":[\"1457\"]},\"title\":\"Bokeh Application\",\"version\":\"2.4.3\"}};\n  const render_items = [{\"docid\":\"e974c437-65e2-4367-b216-3279820b36f3\",\"root_ids\":[\"1457\"],\"roots\":{\"1457\":\"3b82a989-b320-46ac-94ba-d8618b05cdb8\"}}];\n  root.Bokeh.embed.embed_items_notebook(docs_json, render_items);\n  }\n  if (root.Bokeh !== undefined) {\n    embed_document(root);\n  } else {\n    let attempts = 0;\n    const timer = setInterval(function(root) {\n      if (root.Bokeh !== undefined) {\n        clearInterval(timer);\n        embed_document(root);\n      } else {\n        attempts++;\n        if (attempts > 100) {\n          clearInterval(timer);\n          console.log(\"Bokeh: ERROR: Unable to run BokehJS code because BokehJS library is missing\");\n        }\n      }\n    }, 10, root)\n  }\n})(window);",
      "application/vnd.bokehjs_exec.v0+json": ""
     },
     "metadata": {
      "application/vnd.bokehjs_exec.v0+json": {
       "id": "1457"
      }
     },
     "output_type": "display_data"
    }
   ],
   "source": [
    "plot_histogram(df_drug, \"BP\", \"Blood Pressure\", \"Blood Pressure\", \"n Patients\")"
   ]
  },
  {
   "cell_type": "code",
   "execution_count": 12,
   "metadata": {},
   "outputs": [
    {
     "data": {
      "text/html": [
       "\n",
       "  <div class=\"bk-root\" id=\"8d82543d-3cec-443d-abd9-741e29a04d5b\" data-root-id=\"1601\"></div>\n"
      ]
     },
     "metadata": {},
     "output_type": "display_data"
    },
    {
     "data": {
      "application/javascript": "(function(root) {\n  function embed_document(root) {\n  const docs_json = {\"cdd04fd8-87c4-4e9f-9a18-f9c1582cf446\":{\"defs\":[],\"roots\":{\"references\":[{\"attributes\":{\"below\":[{\"id\":\"1612\"}],\"center\":[{\"id\":\"1614\"},{\"id\":\"1618\"}],\"height\":300,\"left\":[{\"id\":\"1615\"}],\"max_width\":800,\"renderers\":[{\"id\":\"1637\"}],\"sizing_mode\":\"stretch_width\",\"title\":{\"id\":\"1602\"},\"toolbar\":{\"id\":\"1626\"},\"x_range\":{\"id\":\"1604\"},\"x_scale\":{\"id\":\"1608\"},\"y_range\":{\"id\":\"1606\"},\"y_scale\":{\"id\":\"1610\"}},\"id\":\"1601\",\"subtype\":\"Figure\",\"type\":\"Plot\"},{\"attributes\":{},\"id\":\"1697\",\"type\":\"BasicTickFormatter\"},{\"attributes\":{},\"id\":\"1610\",\"type\":\"LinearScale\"},{\"attributes\":{\"data\":{\"top\":[103,97],\"x\":[\"HIGH\",\"NORMAL\"]},\"selected\":{\"id\":\"1703\"},\"selection_policy\":{\"id\":\"1702\"}},\"id\":\"1633\",\"type\":\"ColumnDataSource\"},{\"attributes\":{},\"id\":\"1608\",\"type\":\"CategoricalScale\"},{\"attributes\":{},\"id\":\"1698\",\"type\":\"AllLabels\"},{\"attributes\":{\"coordinates\":null,\"group\":null,\"text\":\"Cholesterol\"},\"id\":\"1602\",\"type\":\"Title\"},{\"attributes\":{\"axis_label\":\"Cholesterol\",\"coordinates\":null,\"formatter\":{\"id\":\"1700\"},\"group\":null,\"major_label_policy\":{\"id\":\"1701\"},\"ticker\":{\"id\":\"1613\"}},\"id\":\"1612\",\"type\":\"CategoricalAxis\"},{\"attributes\":{},\"id\":\"1700\",\"type\":\"CategoricalTickFormatter\"},{\"attributes\":{},\"id\":\"1620\",\"type\":\"WheelZoomTool\"},{\"attributes\":{},\"id\":\"1613\",\"type\":\"CategoricalTicker\"},{\"attributes\":{},\"id\":\"1701\",\"type\":\"AllLabels\"},{\"attributes\":{\"axis\":{\"id\":\"1612\"},\"coordinates\":null,\"group\":null,\"ticker\":null},\"id\":\"1614\",\"type\":\"Grid\"},{\"attributes\":{\"axis_label\":\"n Patients\",\"coordinates\":null,\"formatter\":{\"id\":\"1697\"},\"group\":null,\"major_label_policy\":{\"id\":\"1698\"},\"ticker\":{\"id\":\"1616\"}},\"id\":\"1615\",\"type\":\"LinearAxis\"},{\"attributes\":{\"axis\":{\"id\":\"1615\"},\"coordinates\":null,\"dimension\":1,\"group\":null,\"ticker\":null},\"id\":\"1618\",\"type\":\"Grid\"},{\"attributes\":{\"fill_color\":{\"value\":\"#1f77b4\"},\"line_color\":{\"value\":\"#1f77b4\"},\"top\":{\"field\":\"top\"},\"width\":{\"value\":0.9},\"x\":{\"field\":\"x\"}},\"id\":\"1634\",\"type\":\"VBar\"},{\"attributes\":{},\"id\":\"1616\",\"type\":\"BasicTicker\"},{\"attributes\":{},\"id\":\"1624\",\"type\":\"HelpTool\"},{\"attributes\":{},\"id\":\"1619\",\"type\":\"PanTool\"},{\"attributes\":{\"overlay\":{\"id\":\"1625\"}},\"id\":\"1621\",\"type\":\"BoxZoomTool\"},{\"attributes\":{},\"id\":\"1622\",\"type\":\"SaveTool\"},{\"attributes\":{},\"id\":\"1623\",\"type\":\"ResetTool\"},{\"attributes\":{},\"id\":\"1702\",\"type\":\"UnionRenderers\"},{\"attributes\":{},\"id\":\"1703\",\"type\":\"Selection\"},{\"attributes\":{\"bottom_units\":\"screen\",\"coordinates\":null,\"fill_alpha\":0.5,\"fill_color\":\"lightgrey\",\"group\":null,\"left_units\":\"screen\",\"level\":\"overlay\",\"line_alpha\":1.0,\"line_color\":\"black\",\"line_dash\":[4,4],\"line_width\":2,\"right_units\":\"screen\",\"syncable\":false,\"top_units\":\"screen\"},\"id\":\"1625\",\"type\":\"BoxAnnotation\"},{\"attributes\":{\"tools\":[{\"id\":\"1619\"},{\"id\":\"1620\"},{\"id\":\"1621\"},{\"id\":\"1622\"},{\"id\":\"1623\"},{\"id\":\"1624\"}]},\"id\":\"1626\",\"type\":\"Toolbar\"},{\"attributes\":{\"fill_alpha\":{\"value\":0.2},\"fill_color\":{\"value\":\"#1f77b4\"},\"hatch_alpha\":{\"value\":0.2},\"line_alpha\":{\"value\":0.2},\"line_color\":{\"value\":\"#1f77b4\"},\"top\":{\"field\":\"top\"},\"width\":{\"value\":0.9},\"x\":{\"field\":\"x\"}},\"id\":\"1636\",\"type\":\"VBar\"},{\"attributes\":{\"factors\":[\"NORMAL\",\"HIGH\"]},\"id\":\"1604\",\"type\":\"FactorRange\"},{\"attributes\":{},\"id\":\"1606\",\"type\":\"DataRange1d\"},{\"attributes\":{\"coordinates\":null,\"data_source\":{\"id\":\"1633\"},\"glyph\":{\"id\":\"1634\"},\"group\":null,\"hover_glyph\":null,\"muted_glyph\":{\"id\":\"1636\"},\"nonselection_glyph\":{\"id\":\"1635\"},\"view\":{\"id\":\"1638\"}},\"id\":\"1637\",\"type\":\"GlyphRenderer\"},{\"attributes\":{\"source\":{\"id\":\"1633\"}},\"id\":\"1638\",\"type\":\"CDSView\"},{\"attributes\":{\"fill_alpha\":{\"value\":0.1},\"fill_color\":{\"value\":\"#1f77b4\"},\"hatch_alpha\":{\"value\":0.1},\"line_alpha\":{\"value\":0.1},\"line_color\":{\"value\":\"#1f77b4\"},\"top\":{\"field\":\"top\"},\"width\":{\"value\":0.9},\"x\":{\"field\":\"x\"}},\"id\":\"1635\",\"type\":\"VBar\"}],\"root_ids\":[\"1601\"]},\"title\":\"Bokeh Application\",\"version\":\"2.4.3\"}};\n  const render_items = [{\"docid\":\"cdd04fd8-87c4-4e9f-9a18-f9c1582cf446\",\"root_ids\":[\"1601\"],\"roots\":{\"1601\":\"8d82543d-3cec-443d-abd9-741e29a04d5b\"}}];\n  root.Bokeh.embed.embed_items_notebook(docs_json, render_items);\n  }\n  if (root.Bokeh !== undefined) {\n    embed_document(root);\n  } else {\n    let attempts = 0;\n    const timer = setInterval(function(root) {\n      if (root.Bokeh !== undefined) {\n        clearInterval(timer);\n        embed_document(root);\n      } else {\n        attempts++;\n        if (attempts > 100) {\n          clearInterval(timer);\n          console.log(\"Bokeh: ERROR: Unable to run BokehJS code because BokehJS library is missing\");\n        }\n      }\n    }, 10, root)\n  }\n})(window);",
      "application/vnd.bokehjs_exec.v0+json": ""
     },
     "metadata": {
      "application/vnd.bokehjs_exec.v0+json": {
       "id": "1601"
      }
     },
     "output_type": "display_data"
    }
   ],
   "source": [
    "plot_histogram(df_drug, \"Cholesterol\", \"Cholesterol\", \"Cholesterol\", \"n Patients\")"
   ]
  },
  {
   "cell_type": "code",
   "execution_count": 13,
   "metadata": {},
   "outputs": [
    {
     "data": {
      "text/html": [
       "\n",
       "  <div class=\"bk-root\" id=\"e5f3b4e3-1600-4a74-9171-c48786349b4d\" data-root-id=\"1755\"></div>\n"
      ]
     },
     "metadata": {},
     "output_type": "display_data"
    },
    {
     "data": {
      "application/javascript": "(function(root) {\n  function embed_document(root) {\n  const docs_json = {\"14249643-125f-47cb-904e-99131d15bff9\":{\"defs\":[],\"roots\":{\"references\":[{\"attributes\":{\"below\":[{\"id\":\"1766\"}],\"center\":[{\"id\":\"1768\"},{\"id\":\"1772\"}],\"height\":300,\"left\":[{\"id\":\"1769\"}],\"max_width\":800,\"renderers\":[{\"id\":\"1791\"}],\"sizing_mode\":\"stretch_width\",\"title\":{\"id\":\"1756\"},\"toolbar\":{\"id\":\"1780\"},\"x_range\":{\"id\":\"1758\"},\"x_scale\":{\"id\":\"1762\"},\"y_range\":{\"id\":\"1760\"},\"y_scale\":{\"id\":\"1764\"}},\"id\":\"1755\",\"subtype\":\"Figure\",\"type\":\"Plot\"},{\"attributes\":{\"bottom_units\":\"screen\",\"coordinates\":null,\"fill_alpha\":0.5,\"fill_color\":\"lightgrey\",\"group\":null,\"left_units\":\"screen\",\"level\":\"overlay\",\"line_alpha\":1.0,\"line_color\":\"black\",\"line_dash\":[4,4],\"line_width\":2,\"right_units\":\"screen\",\"syncable\":false,\"top_units\":\"screen\"},\"id\":\"1779\",\"type\":\"BoxAnnotation\"},{\"attributes\":{},\"id\":\"1861\",\"type\":\"BasicTickFormatter\"},{\"attributes\":{\"factors\":[\"M\",\"F\"]},\"id\":\"1758\",\"type\":\"FactorRange\"},{\"attributes\":{\"data\":{\"top\":[104,96],\"x\":[\"M\",\"F\"]},\"selected\":{\"id\":\"1867\"},\"selection_policy\":{\"id\":\"1866\"}},\"id\":\"1787\",\"type\":\"ColumnDataSource\"},{\"attributes\":{},\"id\":\"1862\",\"type\":\"AllLabels\"},{\"attributes\":{\"fill_color\":{\"value\":\"#1f77b4\"},\"line_color\":{\"value\":\"#1f77b4\"},\"top\":{\"field\":\"top\"},\"width\":{\"value\":0.9},\"x\":{\"field\":\"x\"}},\"id\":\"1788\",\"type\":\"VBar\"},{\"attributes\":{},\"id\":\"1864\",\"type\":\"CategoricalTickFormatter\"},{\"attributes\":{},\"id\":\"1865\",\"type\":\"AllLabels\"},{\"attributes\":{},\"id\":\"1760\",\"type\":\"DataRange1d\"},{\"attributes\":{},\"id\":\"1764\",\"type\":\"LinearScale\"},{\"attributes\":{},\"id\":\"1762\",\"type\":\"CategoricalScale\"},{\"attributes\":{\"coordinates\":null,\"group\":null,\"text\":\"Sex\"},\"id\":\"1756\",\"type\":\"Title\"},{\"attributes\":{\"axis_label\":\"Sex\",\"coordinates\":null,\"formatter\":{\"id\":\"1864\"},\"group\":null,\"major_label_policy\":{\"id\":\"1865\"},\"ticker\":{\"id\":\"1767\"}},\"id\":\"1766\",\"type\":\"CategoricalAxis\"},{\"attributes\":{\"source\":{\"id\":\"1787\"}},\"id\":\"1792\",\"type\":\"CDSView\"},{\"attributes\":{\"tools\":[{\"id\":\"1773\"},{\"id\":\"1774\"},{\"id\":\"1775\"},{\"id\":\"1776\"},{\"id\":\"1777\"},{\"id\":\"1778\"}]},\"id\":\"1780\",\"type\":\"Toolbar\"},{\"attributes\":{},\"id\":\"1774\",\"type\":\"WheelZoomTool\"},{\"attributes\":{},\"id\":\"1866\",\"type\":\"UnionRenderers\"},{\"attributes\":{},\"id\":\"1767\",\"type\":\"CategoricalTicker\"},{\"attributes\":{\"axis\":{\"id\":\"1766\"},\"coordinates\":null,\"group\":null,\"ticker\":null},\"id\":\"1768\",\"type\":\"Grid\"},{\"attributes\":{},\"id\":\"1867\",\"type\":\"Selection\"},{\"attributes\":{\"fill_alpha\":{\"value\":0.2},\"fill_color\":{\"value\":\"#1f77b4\"},\"hatch_alpha\":{\"value\":0.2},\"line_alpha\":{\"value\":0.2},\"line_color\":{\"value\":\"#1f77b4\"},\"top\":{\"field\":\"top\"},\"width\":{\"value\":0.9},\"x\":{\"field\":\"x\"}},\"id\":\"1790\",\"type\":\"VBar\"},{\"attributes\":{\"coordinates\":null,\"data_source\":{\"id\":\"1787\"},\"glyph\":{\"id\":\"1788\"},\"group\":null,\"hover_glyph\":null,\"muted_glyph\":{\"id\":\"1790\"},\"nonselection_glyph\":{\"id\":\"1789\"},\"view\":{\"id\":\"1792\"}},\"id\":\"1791\",\"type\":\"GlyphRenderer\"},{\"attributes\":{\"axis_label\":\"n Patients\",\"coordinates\":null,\"formatter\":{\"id\":\"1861\"},\"group\":null,\"major_label_policy\":{\"id\":\"1862\"},\"ticker\":{\"id\":\"1770\"}},\"id\":\"1769\",\"type\":\"LinearAxis\"},{\"attributes\":{\"axis\":{\"id\":\"1769\"},\"coordinates\":null,\"dimension\":1,\"group\":null,\"ticker\":null},\"id\":\"1772\",\"type\":\"Grid\"},{\"attributes\":{},\"id\":\"1770\",\"type\":\"BasicTicker\"},{\"attributes\":{},\"id\":\"1778\",\"type\":\"HelpTool\"},{\"attributes\":{},\"id\":\"1773\",\"type\":\"PanTool\"},{\"attributes\":{\"overlay\":{\"id\":\"1779\"}},\"id\":\"1775\",\"type\":\"BoxZoomTool\"},{\"attributes\":{},\"id\":\"1776\",\"type\":\"SaveTool\"},{\"attributes\":{},\"id\":\"1777\",\"type\":\"ResetTool\"},{\"attributes\":{\"fill_alpha\":{\"value\":0.1},\"fill_color\":{\"value\":\"#1f77b4\"},\"hatch_alpha\":{\"value\":0.1},\"line_alpha\":{\"value\":0.1},\"line_color\":{\"value\":\"#1f77b4\"},\"top\":{\"field\":\"top\"},\"width\":{\"value\":0.9},\"x\":{\"field\":\"x\"}},\"id\":\"1789\",\"type\":\"VBar\"}],\"root_ids\":[\"1755\"]},\"title\":\"Bokeh Application\",\"version\":\"2.4.3\"}};\n  const render_items = [{\"docid\":\"14249643-125f-47cb-904e-99131d15bff9\",\"root_ids\":[\"1755\"],\"roots\":{\"1755\":\"e5f3b4e3-1600-4a74-9171-c48786349b4d\"}}];\n  root.Bokeh.embed.embed_items_notebook(docs_json, render_items);\n  }\n  if (root.Bokeh !== undefined) {\n    embed_document(root);\n  } else {\n    let attempts = 0;\n    const timer = setInterval(function(root) {\n      if (root.Bokeh !== undefined) {\n        clearInterval(timer);\n        embed_document(root);\n      } else {\n        attempts++;\n        if (attempts > 100) {\n          clearInterval(timer);\n          console.log(\"Bokeh: ERROR: Unable to run BokehJS code because BokehJS library is missing\");\n        }\n      }\n    }, 10, root)\n  }\n})(window);",
      "application/vnd.bokehjs_exec.v0+json": ""
     },
     "metadata": {
      "application/vnd.bokehjs_exec.v0+json": {
       "id": "1755"
      }
     },
     "output_type": "display_data"
    }
   ],
   "source": [
    "plot_histogram(df_drug, \"Sex\", \"Sex\", \"Sex\", \"n Patients\")"
   ]
  },
  {
   "attachments": {},
   "cell_type": "markdown",
   "metadata": {},
   "source": [
    "Hasta aquí, según los histogramas para las variables de presión en sangre (BP), nivel de colesterol (Cholesterol) y sexo, se observa que el dataset está bastante balanceado, no existiendo déficit de ejemplos para determinados valores de las citadas variables.\n",
    "\n",
    "Se continúa calculado el histograma para la edad de los pacientes y el tipo de medicamento asignado."
   ]
  },
  {
   "cell_type": "code",
   "execution_count": 14,
   "metadata": {},
   "outputs": [
    {
     "data": {
      "text/html": [
       "\n",
       "  <div class=\"bk-root\" id=\"c9964625-fe20-4f0c-a71b-b4af583c9771\" data-root-id=\"1919\"></div>\n"
      ]
     },
     "metadata": {},
     "output_type": "display_data"
    },
    {
     "data": {
      "application/javascript": "(function(root) {\n  function embed_document(root) {\n  const docs_json = {\"1a3f169f-f2b9-4ddc-9921-cde84dd2ed8c\":{\"defs\":[],\"roots\":{\"references\":[{\"attributes\":{\"below\":[{\"id\":\"1930\"}],\"center\":[{\"id\":\"1933\"},{\"id\":\"1937\"}],\"height\":300,\"left\":[{\"id\":\"1934\"}],\"max_width\":800,\"renderers\":[{\"id\":\"1956\"}],\"sizing_mode\":\"stretch_width\",\"title\":{\"id\":\"1920\"},\"toolbar\":{\"id\":\"1945\"},\"x_range\":{\"id\":\"1922\"},\"x_scale\":{\"id\":\"1926\"},\"y_range\":{\"id\":\"1924\"},\"y_scale\":{\"id\":\"1928\"}},\"id\":\"1919\",\"subtype\":\"Figure\",\"type\":\"Plot\"},{\"attributes\":{},\"id\":\"1922\",\"type\":\"DataRange1d\"},{\"attributes\":{},\"id\":\"1924\",\"type\":\"DataRange1d\"},{\"attributes\":{\"data\":{\"top\":[8,7,7,7,6,6,5,5,5,5,5,4,4,4,4,4,4,4,4,4,4,4,4,4,4,4,4,4,4,4,3,3,3,3,3,3,3,3,3,3,3,2,2,2,2,2,2,2,2,2,1,1,1,1,1,1,1],\"x\":[47,23,28,49,39,32,50,37,58,60,22,34,72,51,42,26,24,74,67,68,61,56,20,36,45,41,31,43,65,57,53,40,70,59,16,38,15,69,35,18,64,52,55,62,19,29,66,73,46,48,54,17,33,63,30,21,25]},\"selected\":{\"id\":\"2042\"},\"selection_policy\":{\"id\":\"2041\"}},\"id\":\"1952\",\"type\":\"ColumnDataSource\"},{\"attributes\":{},\"id\":\"1926\",\"type\":\"LinearScale\"},{\"attributes\":{},\"id\":\"2036\",\"type\":\"BasicTickFormatter\"},{\"attributes\":{\"source\":{\"id\":\"1952\"}},\"id\":\"1957\",\"type\":\"CDSView\"},{\"attributes\":{\"axis_label\":\"Age\",\"coordinates\":null,\"formatter\":{\"id\":\"2039\"},\"group\":null,\"major_label_policy\":{\"id\":\"2040\"},\"ticker\":{\"id\":\"1931\"}},\"id\":\"1930\",\"type\":\"LinearAxis\"},{\"attributes\":{},\"id\":\"2037\",\"type\":\"AllLabels\"},{\"attributes\":{\"fill_color\":{\"value\":\"#1f77b4\"},\"line_color\":{\"value\":\"#1f77b4\"},\"top\":{\"field\":\"top\"},\"width\":{\"value\":0.9},\"x\":{\"field\":\"x\"}},\"id\":\"1953\",\"type\":\"VBar\"},{\"attributes\":{\"fill_alpha\":{\"value\":0.1},\"fill_color\":{\"value\":\"#1f77b4\"},\"hatch_alpha\":{\"value\":0.1},\"line_alpha\":{\"value\":0.1},\"line_color\":{\"value\":\"#1f77b4\"},\"top\":{\"field\":\"top\"},\"width\":{\"value\":0.9},\"x\":{\"field\":\"x\"}},\"id\":\"1954\",\"type\":\"VBar\"},{\"attributes\":{},\"id\":\"2039\",\"type\":\"BasicTickFormatter\"},{\"attributes\":{},\"id\":\"2040\",\"type\":\"AllLabels\"},{\"attributes\":{\"coordinates\":null,\"group\":null,\"text\":\"Patient Age\"},\"id\":\"1920\",\"type\":\"Title\"},{\"attributes\":{\"fill_alpha\":{\"value\":0.2},\"fill_color\":{\"value\":\"#1f77b4\"},\"hatch_alpha\":{\"value\":0.2},\"line_alpha\":{\"value\":0.2},\"line_color\":{\"value\":\"#1f77b4\"},\"top\":{\"field\":\"top\"},\"width\":{\"value\":0.9},\"x\":{\"field\":\"x\"}},\"id\":\"1955\",\"type\":\"VBar\"},{\"attributes\":{},\"id\":\"1939\",\"type\":\"WheelZoomTool\"},{\"attributes\":{},\"id\":\"1931\",\"type\":\"BasicTicker\"},{\"attributes\":{},\"id\":\"1928\",\"type\":\"LinearScale\"},{\"attributes\":{\"axis\":{\"id\":\"1930\"},\"coordinates\":null,\"group\":null,\"ticker\":null},\"id\":\"1933\",\"type\":\"Grid\"},{\"attributes\":{\"tools\":[{\"id\":\"1938\"},{\"id\":\"1939\"},{\"id\":\"1940\"},{\"id\":\"1941\"},{\"id\":\"1942\"},{\"id\":\"1943\"}]},\"id\":\"1945\",\"type\":\"Toolbar\"},{\"attributes\":{\"axis_label\":\"n Patients\",\"coordinates\":null,\"formatter\":{\"id\":\"2036\"},\"group\":null,\"major_label_policy\":{\"id\":\"2037\"},\"ticker\":{\"id\":\"1935\"}},\"id\":\"1934\",\"type\":\"LinearAxis\"},{\"attributes\":{\"axis\":{\"id\":\"1934\"},\"coordinates\":null,\"dimension\":1,\"group\":null,\"ticker\":null},\"id\":\"1937\",\"type\":\"Grid\"},{\"attributes\":{},\"id\":\"1935\",\"type\":\"BasicTicker\"},{\"attributes\":{},\"id\":\"2041\",\"type\":\"UnionRenderers\"},{\"attributes\":{},\"id\":\"1943\",\"type\":\"HelpTool\"},{\"attributes\":{},\"id\":\"2042\",\"type\":\"Selection\"},{\"attributes\":{},\"id\":\"1938\",\"type\":\"PanTool\"},{\"attributes\":{\"overlay\":{\"id\":\"1944\"}},\"id\":\"1940\",\"type\":\"BoxZoomTool\"},{\"attributes\":{},\"id\":\"1941\",\"type\":\"SaveTool\"},{\"attributes\":{},\"id\":\"1942\",\"type\":\"ResetTool\"},{\"attributes\":{\"bottom_units\":\"screen\",\"coordinates\":null,\"fill_alpha\":0.5,\"fill_color\":\"lightgrey\",\"group\":null,\"left_units\":\"screen\",\"level\":\"overlay\",\"line_alpha\":1.0,\"line_color\":\"black\",\"line_dash\":[4,4],\"line_width\":2,\"right_units\":\"screen\",\"syncable\":false,\"top_units\":\"screen\"},\"id\":\"1944\",\"type\":\"BoxAnnotation\"},{\"attributes\":{\"coordinates\":null,\"data_source\":{\"id\":\"1952\"},\"glyph\":{\"id\":\"1953\"},\"group\":null,\"hover_glyph\":null,\"muted_glyph\":{\"id\":\"1955\"},\"nonselection_glyph\":{\"id\":\"1954\"},\"view\":{\"id\":\"1957\"}},\"id\":\"1956\",\"type\":\"GlyphRenderer\"}],\"root_ids\":[\"1919\"]},\"title\":\"Bokeh Application\",\"version\":\"2.4.3\"}};\n  const render_items = [{\"docid\":\"1a3f169f-f2b9-4ddc-9921-cde84dd2ed8c\",\"root_ids\":[\"1919\"],\"roots\":{\"1919\":\"c9964625-fe20-4f0c-a71b-b4af583c9771\"}}];\n  root.Bokeh.embed.embed_items_notebook(docs_json, render_items);\n  }\n  if (root.Bokeh !== undefined) {\n    embed_document(root);\n  } else {\n    let attempts = 0;\n    const timer = setInterval(function(root) {\n      if (root.Bokeh !== undefined) {\n        clearInterval(timer);\n        embed_document(root);\n      } else {\n        attempts++;\n        if (attempts > 100) {\n          clearInterval(timer);\n          console.log(\"Bokeh: ERROR: Unable to run BokehJS code because BokehJS library is missing\");\n        }\n      }\n    }, 10, root)\n  }\n})(window);",
      "application/vnd.bokehjs_exec.v0+json": ""
     },
     "metadata": {
      "application/vnd.bokehjs_exec.v0+json": {
       "id": "1919"
      }
     },
     "output_type": "display_data"
    }
   ],
   "source": [
    "plot_histogram(df_drug, \"Age\", \"Patient Age\", \"Age\", \"n Patients\")"
   ]
  },
  {
   "cell_type": "code",
   "execution_count": 15,
   "metadata": {},
   "outputs": [
    {
     "data": {
      "text/html": [
       "\n",
       "  <div class=\"bk-root\" id=\"f68f60fe-f50d-404f-aff3-f7ca579d6acd\" data-root-id=\"2094\"></div>\n"
      ]
     },
     "metadata": {},
     "output_type": "display_data"
    },
    {
     "data": {
      "application/javascript": "(function(root) {\n  function embed_document(root) {\n  const docs_json = {\"18ecb3c7-4af5-486c-95ad-2ce54a93ee35\":{\"defs\":[],\"roots\":{\"references\":[{\"attributes\":{\"below\":[{\"id\":\"2105\"}],\"center\":[{\"id\":\"2107\"},{\"id\":\"2111\"}],\"height\":300,\"left\":[{\"id\":\"2108\"}],\"max_width\":800,\"renderers\":[{\"id\":\"2130\"}],\"sizing_mode\":\"stretch_width\",\"title\":{\"id\":\"2095\"},\"toolbar\":{\"id\":\"2119\"},\"x_range\":{\"id\":\"2097\"},\"x_scale\":{\"id\":\"2101\"},\"y_range\":{\"id\":\"2099\"},\"y_scale\":{\"id\":\"2103\"}},\"id\":\"2094\",\"subtype\":\"Figure\",\"type\":\"Plot\"},{\"attributes\":{},\"id\":\"2220\",\"type\":\"BasicTickFormatter\"},{\"attributes\":{\"data\":{\"top\":[91,54,23,16,16],\"x\":[\"DrugY\",\"drugX\",\"drugA\",\"drugB\",\"drugC\"]},\"selected\":{\"id\":\"2226\"},\"selection_policy\":{\"id\":\"2225\"}},\"id\":\"2126\",\"type\":\"ColumnDataSource\"},{\"attributes\":{},\"id\":\"2099\",\"type\":\"DataRange1d\"},{\"attributes\":{},\"id\":\"2103\",\"type\":\"LinearScale\"},{\"attributes\":{\"factors\":[\"DrugY\",\"drugX\",\"drugA\",\"drugB\",\"drugC\"]},\"id\":\"2097\",\"type\":\"FactorRange\"},{\"attributes\":{},\"id\":\"2221\",\"type\":\"AllLabels\"},{\"attributes\":{\"tools\":[{\"id\":\"2112\"},{\"id\":\"2113\"},{\"id\":\"2114\"},{\"id\":\"2115\"},{\"id\":\"2116\"},{\"id\":\"2117\"}]},\"id\":\"2119\",\"type\":\"Toolbar\"},{\"attributes\":{\"coordinates\":null,\"group\":null,\"text\":\"Drug\"},\"id\":\"2095\",\"type\":\"Title\"},{\"attributes\":{},\"id\":\"2223\",\"type\":\"CategoricalTickFormatter\"},{\"attributes\":{\"axis\":{\"id\":\"2105\"},\"coordinates\":null,\"group\":null,\"ticker\":null},\"id\":\"2107\",\"type\":\"Grid\"},{\"attributes\":{\"axis_label\":\"Drug\",\"coordinates\":null,\"formatter\":{\"id\":\"2223\"},\"group\":null,\"major_label_policy\":{\"id\":\"2224\"},\"ticker\":{\"id\":\"2106\"}},\"id\":\"2105\",\"type\":\"CategoricalAxis\"},{\"attributes\":{},\"id\":\"2224\",\"type\":\"AllLabels\"},{\"attributes\":{},\"id\":\"2101\",\"type\":\"CategoricalScale\"},{\"attributes\":{\"fill_alpha\":{\"value\":0.2},\"fill_color\":{\"value\":\"#1f77b4\"},\"hatch_alpha\":{\"value\":0.2},\"line_alpha\":{\"value\":0.2},\"line_color\":{\"value\":\"#1f77b4\"},\"top\":{\"field\":\"top\"},\"width\":{\"value\":0.9},\"x\":{\"field\":\"x\"}},\"id\":\"2129\",\"type\":\"VBar\"},{\"attributes\":{},\"id\":\"2106\",\"type\":\"CategoricalTicker\"},{\"attributes\":{},\"id\":\"2113\",\"type\":\"WheelZoomTool\"},{\"attributes\":{\"axis_label\":\"n Patients\",\"coordinates\":null,\"formatter\":{\"id\":\"2220\"},\"group\":null,\"major_label_policy\":{\"id\":\"2221\"},\"ticker\":{\"id\":\"2109\"}},\"id\":\"2108\",\"type\":\"LinearAxis\"},{\"attributes\":{\"axis\":{\"id\":\"2108\"},\"coordinates\":null,\"dimension\":1,\"group\":null,\"ticker\":null},\"id\":\"2111\",\"type\":\"Grid\"},{\"attributes\":{},\"id\":\"2109\",\"type\":\"BasicTicker\"},{\"attributes\":{},\"id\":\"2117\",\"type\":\"HelpTool\"},{\"attributes\":{},\"id\":\"2112\",\"type\":\"PanTool\"},{\"attributes\":{\"overlay\":{\"id\":\"2118\"}},\"id\":\"2114\",\"type\":\"BoxZoomTool\"},{\"attributes\":{},\"id\":\"2225\",\"type\":\"UnionRenderers\"},{\"attributes\":{},\"id\":\"2115\",\"type\":\"SaveTool\"},{\"attributes\":{},\"id\":\"2116\",\"type\":\"ResetTool\"},{\"attributes\":{},\"id\":\"2226\",\"type\":\"Selection\"},{\"attributes\":{\"coordinates\":null,\"data_source\":{\"id\":\"2126\"},\"glyph\":{\"id\":\"2127\"},\"group\":null,\"hover_glyph\":null,\"muted_glyph\":{\"id\":\"2129\"},\"nonselection_glyph\":{\"id\":\"2128\"},\"view\":{\"id\":\"2131\"}},\"id\":\"2130\",\"type\":\"GlyphRenderer\"},{\"attributes\":{\"fill_alpha\":{\"value\":0.1},\"fill_color\":{\"value\":\"#1f77b4\"},\"hatch_alpha\":{\"value\":0.1},\"line_alpha\":{\"value\":0.1},\"line_color\":{\"value\":\"#1f77b4\"},\"top\":{\"field\":\"top\"},\"width\":{\"value\":0.9},\"x\":{\"field\":\"x\"}},\"id\":\"2128\",\"type\":\"VBar\"},{\"attributes\":{\"bottom_units\":\"screen\",\"coordinates\":null,\"fill_alpha\":0.5,\"fill_color\":\"lightgrey\",\"group\":null,\"left_units\":\"screen\",\"level\":\"overlay\",\"line_alpha\":1.0,\"line_color\":\"black\",\"line_dash\":[4,4],\"line_width\":2,\"right_units\":\"screen\",\"syncable\":false,\"top_units\":\"screen\"},\"id\":\"2118\",\"type\":\"BoxAnnotation\"},{\"attributes\":{\"fill_color\":{\"value\":\"#1f77b4\"},\"line_color\":{\"value\":\"#1f77b4\"},\"top\":{\"field\":\"top\"},\"width\":{\"value\":0.9},\"x\":{\"field\":\"x\"}},\"id\":\"2127\",\"type\":\"VBar\"},{\"attributes\":{\"source\":{\"id\":\"2126\"}},\"id\":\"2131\",\"type\":\"CDSView\"}],\"root_ids\":[\"2094\"]},\"title\":\"Bokeh Application\",\"version\":\"2.4.3\"}};\n  const render_items = [{\"docid\":\"18ecb3c7-4af5-486c-95ad-2ce54a93ee35\",\"root_ids\":[\"2094\"],\"roots\":{\"2094\":\"f68f60fe-f50d-404f-aff3-f7ca579d6acd\"}}];\n  root.Bokeh.embed.embed_items_notebook(docs_json, render_items);\n  }\n  if (root.Bokeh !== undefined) {\n    embed_document(root);\n  } else {\n    let attempts = 0;\n    const timer = setInterval(function(root) {\n      if (root.Bokeh !== undefined) {\n        clearInterval(timer);\n        embed_document(root);\n      } else {\n        attempts++;\n        if (attempts > 100) {\n          clearInterval(timer);\n          console.log(\"Bokeh: ERROR: Unable to run BokehJS code because BokehJS library is missing\");\n        }\n      }\n    }, 10, root)\n  }\n})(window);",
      "application/vnd.bokehjs_exec.v0+json": ""
     },
     "metadata": {
      "application/vnd.bokehjs_exec.v0+json": {
       "id": "2094"
      }
     },
     "output_type": "display_data"
    }
   ],
   "source": [
    "plot_histogram(df_drug, \"Drug\", \"Drug\", \"Drug\", \"n Patients\")"
   ]
  },
  {
   "attachments": {},
   "cell_type": "markdown",
   "metadata": {},
   "source": [
    "Al parecer, los medicamentos \"DrugY\" y \"drugX\" son los más asignados. Posteriormente se puede estudiar la proporción de estos a través de gráficos circulares o \"gráficas de tarta\"."
   ]
  },
  {
   "attachments": {},
   "cell_type": "markdown",
   "metadata": {},
   "source": [
    "### Gráficas circulares\n",
    "\n",
    "Se implementa la función `plot_pie`, la cual recibe el DataFrame, el nombre exacto de la columna para la que se va a representar un gráfico circular y un título."
   ]
  },
  {
   "cell_type": "code",
   "execution_count": 16,
   "metadata": {},
   "outputs": [],
   "source": [
    "def plot_pie(df, column, title):\n",
    "  data = df[column].value_counts()\n",
    "  data.index.name = column\n",
    "  data = data.reset_index(name='value')\n",
    "  data['angle'] = data['value']/data['value'].sum() * 2*pi\n",
    "  data['color'] = Blues[len(data)+1][0:len(data)]\n",
    "\n",
    "  p = figure(plot_height=350, title=title, toolbar_location=None,\n",
    "            tools=\"hover\", tooltips=\"@{}: @value\".format(column), sizing_mode='stretch_width', max_width=800)\n",
    "\n",
    "  p.wedge(x=0, y=1, radius=0.4,\n",
    "          start_angle=cumsum('angle', include_zero=True), end_angle=cumsum('angle'),\n",
    "          line_color=\"white\", fill_color='color', legend_group=column, source=data)\n",
    "\n",
    "  p.axis.axis_label=None\n",
    "  p.axis.visible=False\n",
    "  p.grid.grid_line_color = None\n",
    "  show(p)"
   ]
  },
  {
   "cell_type": "code",
   "execution_count": 17,
   "metadata": {},
   "outputs": [
    {
     "data": {
      "text/html": [
       "\n",
       "  <div class=\"bk-root\" id=\"879d6c5c-2b2b-4a63-9328-381516cc1565\" data-root-id=\"2278\"></div>\n"
      ]
     },
     "metadata": {},
     "output_type": "display_data"
    },
    {
     "data": {
      "application/javascript": "(function(root) {\n  function embed_document(root) {\n  const docs_json = {\"912775f3-f17a-4655-80b2-27a9aee74a01\":{\"defs\":[],\"roots\":{\"references\":[{\"attributes\":{\"below\":[{\"id\":\"2289\"}],\"center\":[{\"id\":\"2292\"},{\"id\":\"2296\"},{\"id\":\"2318\"}],\"height\":350,\"left\":[{\"id\":\"2293\"}],\"max_width\":800,\"renderers\":[{\"id\":\"2307\"}],\"sizing_mode\":\"stretch_width\",\"title\":{\"id\":\"2279\"},\"toolbar\":{\"id\":\"2298\"},\"toolbar_location\":null,\"x_range\":{\"id\":\"2281\"},\"x_scale\":{\"id\":\"2285\"},\"y_range\":{\"id\":\"2283\"},\"y_scale\":{\"id\":\"2287\"}},\"id\":\"2278\",\"subtype\":\"Figure\",\"type\":\"Plot\"},{\"attributes\":{\"callback\":null,\"tooltips\":\"@BP: @value\"},\"id\":\"2297\",\"type\":\"HoverTool\"},{\"attributes\":{\"axis\":{\"id\":\"2289\"},\"coordinates\":null,\"grid_line_color\":null,\"group\":null,\"ticker\":null},\"id\":\"2292\",\"type\":\"Grid\"},{\"attributes\":{\"field\":\"angle\"},\"id\":\"2301\",\"type\":\"CumSum\"},{\"attributes\":{\"index\":0,\"label\":{\"value\":\"HIGH\"},\"renderers\":[{\"id\":\"2307\"}]},\"id\":\"2319\",\"type\":\"LegendItem\"},{\"attributes\":{},\"id\":\"2315\",\"type\":\"AllLabels\"},{\"attributes\":{\"data\":{\"BP\":[\"HIGH\",\"LOW\",\"NORMAL\"],\"angle\":{\"__ndarray__\":\"C9vDeypaA0AaJxeSvxUAQBewWjUZqP0/\",\"dtype\":\"float64\",\"order\":\"little\",\"shape\":[3]},\"color\":[\"#2171b5\",\"#6baed6\",\"#bdd7e7\"],\"index\":[0,1,2],\"value\":[77,64,59]},\"selected\":{\"id\":\"2317\"},\"selection_policy\":{\"id\":\"2316\"}},\"id\":\"2302\",\"type\":\"ColumnDataSource\"},{\"attributes\":{},\"id\":\"2294\",\"type\":\"BasicTicker\"},{\"attributes\":{\"index\":1,\"label\":{\"value\":\"LOW\"},\"renderers\":[{\"id\":\"2307\"}]},\"id\":\"2320\",\"type\":\"LegendItem\"},{\"attributes\":{\"end_angle\":{\"expr\":{\"id\":\"2301\"}},\"fill_alpha\":{\"value\":0.1},\"fill_color\":{\"field\":\"color\"},\"hatch_alpha\":{\"value\":0.1},\"line_alpha\":{\"value\":0.1},\"line_color\":{\"value\":\"white\"},\"radius\":{\"value\":0.4},\"start_angle\":{\"expr\":{\"id\":\"2300\"}},\"x\":{\"value\":0},\"y\":{\"value\":1}},\"id\":\"2305\",\"type\":\"Wedge\"},{\"attributes\":{\"coordinates\":null,\"formatter\":{\"id\":\"2314\"},\"group\":null,\"major_label_policy\":{\"id\":\"2315\"},\"ticker\":{\"id\":\"2290\"},\"visible\":false},\"id\":\"2289\",\"type\":\"LinearAxis\"},{\"attributes\":{},\"id\":\"2314\",\"type\":\"BasicTickFormatter\"},{\"attributes\":{\"index\":2,\"label\":{\"value\":\"NORMAL\"},\"renderers\":[{\"id\":\"2307\"}]},\"id\":\"2321\",\"type\":\"LegendItem\"},{\"attributes\":{\"coordinates\":null,\"formatter\":{\"id\":\"2311\"},\"group\":null,\"major_label_policy\":{\"id\":\"2312\"},\"ticker\":{\"id\":\"2294\"},\"visible\":false},\"id\":\"2293\",\"type\":\"LinearAxis\"},{\"attributes\":{},\"id\":\"2290\",\"type\":\"BasicTicker\"},{\"attributes\":{\"tools\":[{\"id\":\"2297\"}]},\"id\":\"2298\",\"type\":\"Toolbar\"},{\"attributes\":{},\"id\":\"2281\",\"type\":\"DataRange1d\"},{\"attributes\":{\"coordinates\":null,\"group\":null,\"items\":[{\"id\":\"2319\"},{\"id\":\"2320\"},{\"id\":\"2321\"}]},\"id\":\"2318\",\"type\":\"Legend\"},{\"attributes\":{\"axis\":{\"id\":\"2293\"},\"coordinates\":null,\"dimension\":1,\"grid_line_color\":null,\"group\":null,\"ticker\":null},\"id\":\"2296\",\"type\":\"Grid\"},{\"attributes\":{\"end_angle\":{\"expr\":{\"id\":\"2301\"}},\"fill_alpha\":{\"value\":0.2},\"fill_color\":{\"field\":\"color\"},\"hatch_alpha\":{\"value\":0.2},\"line_alpha\":{\"value\":0.2},\"line_color\":{\"value\":\"white\"},\"radius\":{\"value\":0.4},\"start_angle\":{\"expr\":{\"id\":\"2300\"}},\"x\":{\"value\":0},\"y\":{\"value\":1}},\"id\":\"2306\",\"type\":\"Wedge\"},{\"attributes\":{},\"id\":\"2285\",\"type\":\"LinearScale\"},{\"attributes\":{},\"id\":\"2316\",\"type\":\"UnionRenderers\"},{\"attributes\":{},\"id\":\"2287\",\"type\":\"LinearScale\"},{\"attributes\":{},\"id\":\"2317\",\"type\":\"Selection\"},{\"attributes\":{\"source\":{\"id\":\"2302\"}},\"id\":\"2308\",\"type\":\"CDSView\"},{\"attributes\":{\"end_angle\":{\"expr\":{\"id\":\"2301\"}},\"fill_color\":{\"field\":\"color\"},\"line_color\":{\"value\":\"white\"},\"radius\":{\"value\":0.4},\"start_angle\":{\"expr\":{\"id\":\"2300\"}},\"x\":{\"value\":0},\"y\":{\"value\":1}},\"id\":\"2304\",\"type\":\"Wedge\"},{\"attributes\":{\"coordinates\":null,\"data_source\":{\"id\":\"2302\"},\"glyph\":{\"id\":\"2304\"},\"group\":null,\"hover_glyph\":null,\"muted_glyph\":{\"id\":\"2306\"},\"nonselection_glyph\":{\"id\":\"2305\"},\"view\":{\"id\":\"2308\"}},\"id\":\"2307\",\"type\":\"GlyphRenderer\"},{\"attributes\":{\"coordinates\":null,\"group\":null,\"text\":\"Blood Pressure Levels\"},\"id\":\"2279\",\"type\":\"Title\"},{\"attributes\":{},\"id\":\"2283\",\"type\":\"DataRange1d\"},{\"attributes\":{\"field\":\"angle\",\"include_zero\":true},\"id\":\"2300\",\"type\":\"CumSum\"},{\"attributes\":{},\"id\":\"2312\",\"type\":\"AllLabels\"},{\"attributes\":{},\"id\":\"2311\",\"type\":\"BasicTickFormatter\"}],\"root_ids\":[\"2278\"]},\"title\":\"Bokeh Application\",\"version\":\"2.4.3\"}};\n  const render_items = [{\"docid\":\"912775f3-f17a-4655-80b2-27a9aee74a01\",\"root_ids\":[\"2278\"],\"roots\":{\"2278\":\"879d6c5c-2b2b-4a63-9328-381516cc1565\"}}];\n  root.Bokeh.embed.embed_items_notebook(docs_json, render_items);\n  }\n  if (root.Bokeh !== undefined) {\n    embed_document(root);\n  } else {\n    let attempts = 0;\n    const timer = setInterval(function(root) {\n      if (root.Bokeh !== undefined) {\n        clearInterval(timer);\n        embed_document(root);\n      } else {\n        attempts++;\n        if (attempts > 100) {\n          clearInterval(timer);\n          console.log(\"Bokeh: ERROR: Unable to run BokehJS code because BokehJS library is missing\");\n        }\n      }\n    }, 10, root)\n  }\n})(window);",
      "application/vnd.bokehjs_exec.v0+json": ""
     },
     "metadata": {
      "application/vnd.bokehjs_exec.v0+json": {
       "id": "2278"
      }
     },
     "output_type": "display_data"
    }
   ],
   "source": [
    "plot_pie(df_drug, \"BP\", \"Blood Pressure Levels\")"
   ]
  },
  {
   "cell_type": "code",
   "execution_count": 18,
   "metadata": {},
   "outputs": [
    {
     "data": {
      "text/html": [
       "\n",
       "  <div class=\"bk-root\" id=\"db2aebdc-eb02-46cb-be4c-af247ab8def0\" data-root-id=\"2472\"></div>\n"
      ]
     },
     "metadata": {},
     "output_type": "display_data"
    },
    {
     "data": {
      "application/javascript": "(function(root) {\n  function embed_document(root) {\n  const docs_json = {\"053b26f2-383b-4caa-bf45-33f07fb5ae44\":{\"defs\":[],\"roots\":{\"references\":[{\"attributes\":{\"below\":[{\"id\":\"2483\"}],\"center\":[{\"id\":\"2486\"},{\"id\":\"2490\"},{\"id\":\"2512\"}],\"height\":350,\"left\":[{\"id\":\"2487\"}],\"max_width\":800,\"renderers\":[{\"id\":\"2501\"}],\"sizing_mode\":\"stretch_width\",\"title\":{\"id\":\"2473\"},\"toolbar\":{\"id\":\"2492\"},\"toolbar_location\":null,\"x_range\":{\"id\":\"2475\"},\"x_scale\":{\"id\":\"2479\"},\"y_range\":{\"id\":\"2477\"},\"y_scale\":{\"id\":\"2481\"}},\"id\":\"2472\",\"subtype\":\"Figure\",\"type\":\"Plot\"},{\"attributes\":{\"coordinates\":null,\"data_source\":{\"id\":\"2496\"},\"glyph\":{\"id\":\"2498\"},\"group\":null,\"hover_glyph\":null,\"muted_glyph\":{\"id\":\"2500\"},\"nonselection_glyph\":{\"id\":\"2499\"},\"view\":{\"id\":\"2502\"}},\"id\":\"2501\",\"type\":\"GlyphRenderer\"},{\"attributes\":{\"coordinates\":null,\"group\":null,\"items\":[{\"id\":\"2513\"},{\"id\":\"2514\"}]},\"id\":\"2512\",\"type\":\"Legend\"},{\"attributes\":{},\"id\":\"2510\",\"type\":\"UnionRenderers\"},{\"attributes\":{},\"id\":\"2509\",\"type\":\"AllLabels\"},{\"attributes\":{\"coordinates\":null,\"formatter\":{\"id\":\"2505\"},\"group\":null,\"major_label_policy\":{\"id\":\"2506\"},\"ticker\":{\"id\":\"2488\"},\"visible\":false},\"id\":\"2487\",\"type\":\"LinearAxis\"},{\"attributes\":{\"data\":{\"Cholesterol\":[\"HIGH\",\"NORMAL\"],\"angle\":{\"__ndarray__\":\"7UIdTwDjCUBDF2tZ9mAIQA==\",\"dtype\":\"float64\",\"order\":\"little\",\"shape\":[2]},\"color\":[\"#3182bd\",\"#9ecae1\"],\"index\":[0,1],\"value\":[103,97]},\"selected\":{\"id\":\"2511\"},\"selection_policy\":{\"id\":\"2510\"}},\"id\":\"2496\",\"type\":\"ColumnDataSource\"},{\"attributes\":{},\"id\":\"2511\",\"type\":\"Selection\"},{\"attributes\":{\"axis\":{\"id\":\"2487\"},\"coordinates\":null,\"dimension\":1,\"grid_line_color\":null,\"group\":null,\"ticker\":null},\"id\":\"2490\",\"type\":\"Grid\"},{\"attributes\":{},\"id\":\"2488\",\"type\":\"BasicTicker\"},{\"attributes\":{},\"id\":\"2505\",\"type\":\"BasicTickFormatter\"},{\"attributes\":{\"callback\":null,\"tooltips\":\"@Cholesterol: @value\"},\"id\":\"2491\",\"type\":\"HoverTool\"},{\"attributes\":{\"end_angle\":{\"expr\":{\"id\":\"2495\"}},\"fill_alpha\":{\"value\":0.2},\"fill_color\":{\"field\":\"color\"},\"hatch_alpha\":{\"value\":0.2},\"line_alpha\":{\"value\":0.2},\"line_color\":{\"value\":\"white\"},\"radius\":{\"value\":0.4},\"start_angle\":{\"expr\":{\"id\":\"2494\"}},\"x\":{\"value\":0},\"y\":{\"value\":1}},\"id\":\"2500\",\"type\":\"Wedge\"},{\"attributes\":{\"index\":0,\"label\":{\"value\":\"HIGH\"},\"renderers\":[{\"id\":\"2501\"}]},\"id\":\"2513\",\"type\":\"LegendItem\"},{\"attributes\":{\"field\":\"angle\",\"include_zero\":true},\"id\":\"2494\",\"type\":\"CumSum\"},{\"attributes\":{\"end_angle\":{\"expr\":{\"id\":\"2495\"}},\"fill_color\":{\"field\":\"color\"},\"line_color\":{\"value\":\"white\"},\"radius\":{\"value\":0.4},\"start_angle\":{\"expr\":{\"id\":\"2494\"}},\"x\":{\"value\":0},\"y\":{\"value\":1}},\"id\":\"2498\",\"type\":\"Wedge\"},{\"attributes\":{\"end_angle\":{\"expr\":{\"id\":\"2495\"}},\"fill_alpha\":{\"value\":0.1},\"fill_color\":{\"field\":\"color\"},\"hatch_alpha\":{\"value\":0.1},\"line_alpha\":{\"value\":0.1},\"line_color\":{\"value\":\"white\"},\"radius\":{\"value\":0.4},\"start_angle\":{\"expr\":{\"id\":\"2494\"}},\"x\":{\"value\":0},\"y\":{\"value\":1}},\"id\":\"2499\",\"type\":\"Wedge\"},{\"attributes\":{\"index\":1,\"label\":{\"value\":\"NORMAL\"},\"renderers\":[{\"id\":\"2501\"}]},\"id\":\"2514\",\"type\":\"LegendItem\"},{\"attributes\":{\"tools\":[{\"id\":\"2491\"}]},\"id\":\"2492\",\"type\":\"Toolbar\"},{\"attributes\":{},\"id\":\"2475\",\"type\":\"DataRange1d\"},{\"attributes\":{\"coordinates\":null,\"formatter\":{\"id\":\"2508\"},\"group\":null,\"major_label_policy\":{\"id\":\"2509\"},\"ticker\":{\"id\":\"2484\"},\"visible\":false},\"id\":\"2483\",\"type\":\"LinearAxis\"},{\"attributes\":{\"field\":\"angle\"},\"id\":\"2495\",\"type\":\"CumSum\"},{\"attributes\":{\"source\":{\"id\":\"2496\"}},\"id\":\"2502\",\"type\":\"CDSView\"},{\"attributes\":{},\"id\":\"2479\",\"type\":\"LinearScale\"},{\"attributes\":{\"coordinates\":null,\"group\":null,\"text\":\"Cholesterol Levels\"},\"id\":\"2473\",\"type\":\"Title\"},{\"attributes\":{},\"id\":\"2506\",\"type\":\"AllLabels\"},{\"attributes\":{\"axis\":{\"id\":\"2483\"},\"coordinates\":null,\"grid_line_color\":null,\"group\":null,\"ticker\":null},\"id\":\"2486\",\"type\":\"Grid\"},{\"attributes\":{},\"id\":\"2508\",\"type\":\"BasicTickFormatter\"},{\"attributes\":{},\"id\":\"2477\",\"type\":\"DataRange1d\"},{\"attributes\":{},\"id\":\"2481\",\"type\":\"LinearScale\"},{\"attributes\":{},\"id\":\"2484\",\"type\":\"BasicTicker\"}],\"root_ids\":[\"2472\"]},\"title\":\"Bokeh Application\",\"version\":\"2.4.3\"}};\n  const render_items = [{\"docid\":\"053b26f2-383b-4caa-bf45-33f07fb5ae44\",\"root_ids\":[\"2472\"],\"roots\":{\"2472\":\"db2aebdc-eb02-46cb-be4c-af247ab8def0\"}}];\n  root.Bokeh.embed.embed_items_notebook(docs_json, render_items);\n  }\n  if (root.Bokeh !== undefined) {\n    embed_document(root);\n  } else {\n    let attempts = 0;\n    const timer = setInterval(function(root) {\n      if (root.Bokeh !== undefined) {\n        clearInterval(timer);\n        embed_document(root);\n      } else {\n        attempts++;\n        if (attempts > 100) {\n          clearInterval(timer);\n          console.log(\"Bokeh: ERROR: Unable to run BokehJS code because BokehJS library is missing\");\n        }\n      }\n    }, 10, root)\n  }\n})(window);",
      "application/vnd.bokehjs_exec.v0+json": ""
     },
     "metadata": {
      "application/vnd.bokehjs_exec.v0+json": {
       "id": "2472"
      }
     },
     "output_type": "display_data"
    }
   ],
   "source": [
    "plot_pie(df_drug, \"Cholesterol\", \"Cholesterol Levels\")"
   ]
  },
  {
   "cell_type": "code",
   "execution_count": 19,
   "metadata": {},
   "outputs": [
    {
     "data": {
      "text/html": [
       "\n",
       "  <div class=\"bk-root\" id=\"5a7b69e4-37a3-43fe-915d-8acdc74c09e5\" data-root-id=\"2674\"></div>\n"
      ]
     },
     "metadata": {},
     "output_type": "display_data"
    },
    {
     "data": {
      "application/javascript": "(function(root) {\n  function embed_document(root) {\n  const docs_json = {\"db2c2376-2c73-455f-986f-62f71c6a09c5\":{\"defs\":[],\"roots\":{\"references\":[{\"attributes\":{\"below\":[{\"id\":\"2685\"}],\"center\":[{\"id\":\"2688\"},{\"id\":\"2692\"},{\"id\":\"2714\"}],\"height\":350,\"left\":[{\"id\":\"2689\"}],\"max_width\":800,\"renderers\":[{\"id\":\"2703\"}],\"sizing_mode\":\"stretch_width\",\"title\":{\"id\":\"2675\"},\"toolbar\":{\"id\":\"2694\"},\"toolbar_location\":null,\"x_range\":{\"id\":\"2677\"},\"x_scale\":{\"id\":\"2681\"},\"y_range\":{\"id\":\"2679\"},\"y_scale\":{\"id\":\"2683\"}},\"id\":\"2674\",\"subtype\":\"Figure\",\"type\":\"Plot\"},{\"attributes\":{\"coordinates\":null,\"formatter\":{\"id\":\"2707\"},\"group\":null,\"major_label_policy\":{\"id\":\"2708\"},\"ticker\":{\"id\":\"2690\"},\"visible\":false},\"id\":\"2689\",\"type\":\"LinearAxis\"},{\"attributes\":{},\"id\":\"2713\",\"type\":\"Selection\"},{\"attributes\":{\"axis\":{\"id\":\"2689\"},\"coordinates\":null,\"dimension\":1,\"grid_line_color\":null,\"group\":null,\"ticker\":null},\"id\":\"2692\",\"type\":\"Grid\"},{\"attributes\":{\"end_angle\":{\"expr\":{\"id\":\"2697\"}},\"fill_alpha\":{\"value\":0.1},\"fill_color\":{\"field\":\"color\"},\"hatch_alpha\":{\"value\":0.1},\"line_alpha\":{\"value\":0.1},\"line_color\":{\"value\":\"white\"},\"radius\":{\"value\":0.4},\"start_angle\":{\"expr\":{\"id\":\"2696\"}},\"x\":{\"value\":0},\"y\":{\"value\":1}},\"id\":\"2701\",\"type\":\"Wedge\"},{\"attributes\":{},\"id\":\"2690\",\"type\":\"BasicTicker\"},{\"attributes\":{\"coordinates\":null,\"group\":null,\"items\":[{\"id\":\"2715\"},{\"id\":\"2716\"},{\"id\":\"2717\"},{\"id\":\"2718\"},{\"id\":\"2719\"}]},\"id\":\"2714\",\"type\":\"Legend\"},{\"attributes\":{\"data\":{\"Drug\":[\"DrugY\",\"drugX\",\"drugA\",\"drugB\",\"drugC\"],\"angle\":{\"__ndarray__\":\"meu4Y+zeBkD8EYdGsyT7PzVIAWJDH+c/GicXkr8V4D8aJxeSvxXgPw==\",\"dtype\":\"float64\",\"order\":\"little\",\"shape\":[5]},\"color\":[\"#08519c\",\"#3182bd\",\"#6baed6\",\"#9ecae1\",\"#c6dbef\"],\"index\":[0,1,2,3,4],\"value\":[91,54,23,16,16]},\"selected\":{\"id\":\"2713\"},\"selection_policy\":{\"id\":\"2712\"}},\"id\":\"2698\",\"type\":\"ColumnDataSource\"},{\"attributes\":{\"callback\":null,\"tooltips\":\"@Drug: @value\"},\"id\":\"2693\",\"type\":\"HoverTool\"},{\"attributes\":{\"index\":0,\"label\":{\"value\":\"DrugY\"},\"renderers\":[{\"id\":\"2703\"}]},\"id\":\"2715\",\"type\":\"LegendItem\"},{\"attributes\":{},\"id\":\"2683\",\"type\":\"LinearScale\"},{\"attributes\":{\"index\":2,\"label\":{\"value\":\"drugA\"},\"renderers\":[{\"id\":\"2703\"}]},\"id\":\"2716\",\"type\":\"LegendItem\"},{\"attributes\":{\"coordinates\":null,\"group\":null,\"text\":\"Drugs Prescribed\"},\"id\":\"2675\",\"type\":\"Title\"},{\"attributes\":{},\"id\":\"2711\",\"type\":\"AllLabels\"},{\"attributes\":{\"tools\":[{\"id\":\"2693\"}]},\"id\":\"2694\",\"type\":\"Toolbar\"},{\"attributes\":{\"end_angle\":{\"expr\":{\"id\":\"2697\"}},\"fill_color\":{\"field\":\"color\"},\"line_color\":{\"value\":\"white\"},\"radius\":{\"value\":0.4},\"start_angle\":{\"expr\":{\"id\":\"2696\"}},\"x\":{\"value\":0},\"y\":{\"value\":1}},\"id\":\"2700\",\"type\":\"Wedge\"},{\"attributes\":{\"index\":3,\"label\":{\"value\":\"drugB\"},\"renderers\":[{\"id\":\"2703\"}]},\"id\":\"2717\",\"type\":\"LegendItem\"},{\"attributes\":{\"index\":4,\"label\":{\"value\":\"drugC\"},\"renderers\":[{\"id\":\"2703\"}]},\"id\":\"2718\",\"type\":\"LegendItem\"},{\"attributes\":{},\"id\":\"2710\",\"type\":\"BasicTickFormatter\"},{\"attributes\":{\"index\":1,\"label\":{\"value\":\"drugX\"},\"renderers\":[{\"id\":\"2703\"}]},\"id\":\"2719\",\"type\":\"LegendItem\"},{\"attributes\":{\"source\":{\"id\":\"2698\"}},\"id\":\"2704\",\"type\":\"CDSView\"},{\"attributes\":{},\"id\":\"2708\",\"type\":\"AllLabels\"},{\"attributes\":{},\"id\":\"2677\",\"type\":\"DataRange1d\"},{\"attributes\":{\"coordinates\":null,\"data_source\":{\"id\":\"2698\"},\"glyph\":{\"id\":\"2700\"},\"group\":null,\"hover_glyph\":null,\"muted_glyph\":{\"id\":\"2702\"},\"nonselection_glyph\":{\"id\":\"2701\"},\"view\":{\"id\":\"2704\"}},\"id\":\"2703\",\"type\":\"GlyphRenderer\"},{\"attributes\":{\"axis\":{\"id\":\"2685\"},\"coordinates\":null,\"grid_line_color\":null,\"group\":null,\"ticker\":null},\"id\":\"2688\",\"type\":\"Grid\"},{\"attributes\":{\"end_angle\":{\"expr\":{\"id\":\"2697\"}},\"fill_alpha\":{\"value\":0.2},\"fill_color\":{\"field\":\"color\"},\"hatch_alpha\":{\"value\":0.2},\"line_alpha\":{\"value\":0.2},\"line_color\":{\"value\":\"white\"},\"radius\":{\"value\":0.4},\"start_angle\":{\"expr\":{\"id\":\"2696\"}},\"x\":{\"value\":0},\"y\":{\"value\":1}},\"id\":\"2702\",\"type\":\"Wedge\"},{\"attributes\":{},\"id\":\"2681\",\"type\":\"LinearScale\"},{\"attributes\":{},\"id\":\"2712\",\"type\":\"UnionRenderers\"},{\"attributes\":{\"field\":\"angle\",\"include_zero\":true},\"id\":\"2696\",\"type\":\"CumSum\"},{\"attributes\":{\"coordinates\":null,\"formatter\":{\"id\":\"2710\"},\"group\":null,\"major_label_policy\":{\"id\":\"2711\"},\"ticker\":{\"id\":\"2686\"},\"visible\":false},\"id\":\"2685\",\"type\":\"LinearAxis\"},{\"attributes\":{},\"id\":\"2679\",\"type\":\"DataRange1d\"},{\"attributes\":{},\"id\":\"2707\",\"type\":\"BasicTickFormatter\"},{\"attributes\":{\"field\":\"angle\"},\"id\":\"2697\",\"type\":\"CumSum\"},{\"attributes\":{},\"id\":\"2686\",\"type\":\"BasicTicker\"}],\"root_ids\":[\"2674\"]},\"title\":\"Bokeh Application\",\"version\":\"2.4.3\"}};\n  const render_items = [{\"docid\":\"db2c2376-2c73-455f-986f-62f71c6a09c5\",\"root_ids\":[\"2674\"],\"roots\":{\"2674\":\"5a7b69e4-37a3-43fe-915d-8acdc74c09e5\"}}];\n  root.Bokeh.embed.embed_items_notebook(docs_json, render_items);\n  }\n  if (root.Bokeh !== undefined) {\n    embed_document(root);\n  } else {\n    let attempts = 0;\n    const timer = setInterval(function(root) {\n      if (root.Bokeh !== undefined) {\n        clearInterval(timer);\n        embed_document(root);\n      } else {\n        attempts++;\n        if (attempts > 100) {\n          clearInterval(timer);\n          console.log(\"Bokeh: ERROR: Unable to run BokehJS code because BokehJS library is missing\");\n        }\n      }\n    }, 10, root)\n  }\n})(window);",
      "application/vnd.bokehjs_exec.v0+json": ""
     },
     "metadata": {
      "application/vnd.bokehjs_exec.v0+json": {
       "id": "2674"
      }
     },
     "output_type": "display_data"
    }
   ],
   "source": [
    "plot_pie(df_drug, \"Drug\", \"Drugs Prescribed\")"
   ]
  },
  {
   "attachments": {},
   "cell_type": "markdown",
   "metadata": {},
   "source": [
    "Llegado este punto del análisis, será necesario realizar algunas transformaciones de preprocesamiento del conjunto de datos para poder continuar con la representación de otros gráficos como el diagrama de puntos o la matriz de correlación.\n",
    "\n",
    "Para ello, con la intención de no perder el conjunto de datos original, se hace una copia que será la que se transferme a valores exclusivamente numéricos."
   ]
  },
  {
   "cell_type": "code",
   "execution_count": 31,
   "metadata": {},
   "outputs": [
    {
     "data": {
      "text/html": [
       "<div>\n",
       "<style scoped>\n",
       "    .dataframe tbody tr th:only-of-type {\n",
       "        vertical-align: middle;\n",
       "    }\n",
       "\n",
       "    .dataframe tbody tr th {\n",
       "        vertical-align: top;\n",
       "    }\n",
       "\n",
       "    .dataframe thead th {\n",
       "        text-align: right;\n",
       "    }\n",
       "</style>\n",
       "<table border=\"1\" class=\"dataframe\">\n",
       "  <thead>\n",
       "    <tr style=\"text-align: right;\">\n",
       "      <th></th>\n",
       "      <th>Age</th>\n",
       "      <th>Sex</th>\n",
       "      <th>BP</th>\n",
       "      <th>Cholesterol</th>\n",
       "      <th>Na_to_K</th>\n",
       "      <th>Drug</th>\n",
       "    </tr>\n",
       "  </thead>\n",
       "  <tbody>\n",
       "    <tr>\n",
       "      <th>0</th>\n",
       "      <td>23</td>\n",
       "      <td>1</td>\n",
       "      <td>2</td>\n",
       "      <td>1</td>\n",
       "      <td>25.355</td>\n",
       "      <td>0</td>\n",
       "    </tr>\n",
       "    <tr>\n",
       "      <th>1</th>\n",
       "      <td>47</td>\n",
       "      <td>0</td>\n",
       "      <td>0</td>\n",
       "      <td>1</td>\n",
       "      <td>13.093</td>\n",
       "      <td>4</td>\n",
       "    </tr>\n",
       "    <tr>\n",
       "      <th>2</th>\n",
       "      <td>47</td>\n",
       "      <td>0</td>\n",
       "      <td>0</td>\n",
       "      <td>1</td>\n",
       "      <td>10.114</td>\n",
       "      <td>4</td>\n",
       "    </tr>\n",
       "    <tr>\n",
       "      <th>3</th>\n",
       "      <td>28</td>\n",
       "      <td>1</td>\n",
       "      <td>1</td>\n",
       "      <td>1</td>\n",
       "      <td>7.798</td>\n",
       "      <td>1</td>\n",
       "    </tr>\n",
       "    <tr>\n",
       "      <th>4</th>\n",
       "      <td>61</td>\n",
       "      <td>1</td>\n",
       "      <td>0</td>\n",
       "      <td>1</td>\n",
       "      <td>18.043</td>\n",
       "      <td>0</td>\n",
       "    </tr>\n",
       "    <tr>\n",
       "      <th>5</th>\n",
       "      <td>22</td>\n",
       "      <td>1</td>\n",
       "      <td>1</td>\n",
       "      <td>1</td>\n",
       "      <td>8.607</td>\n",
       "      <td>1</td>\n",
       "    </tr>\n",
       "    <tr>\n",
       "      <th>6</th>\n",
       "      <td>49</td>\n",
       "      <td>1</td>\n",
       "      <td>1</td>\n",
       "      <td>1</td>\n",
       "      <td>16.275</td>\n",
       "      <td>0</td>\n",
       "    </tr>\n",
       "    <tr>\n",
       "      <th>7</th>\n",
       "      <td>41</td>\n",
       "      <td>0</td>\n",
       "      <td>0</td>\n",
       "      <td>1</td>\n",
       "      <td>11.037</td>\n",
       "      <td>4</td>\n",
       "    </tr>\n",
       "    <tr>\n",
       "      <th>8</th>\n",
       "      <td>60</td>\n",
       "      <td>0</td>\n",
       "      <td>1</td>\n",
       "      <td>1</td>\n",
       "      <td>15.171</td>\n",
       "      <td>0</td>\n",
       "    </tr>\n",
       "    <tr>\n",
       "      <th>9</th>\n",
       "      <td>43</td>\n",
       "      <td>0</td>\n",
       "      <td>0</td>\n",
       "      <td>0</td>\n",
       "      <td>19.368</td>\n",
       "      <td>0</td>\n",
       "    </tr>\n",
       "  </tbody>\n",
       "</table>\n",
       "</div>"
      ],
      "text/plain": [
       "   Age  Sex  BP  Cholesterol  Na_to_K  Drug\n",
       "0   23    1   2            1   25.355     0\n",
       "1   47    0   0            1   13.093     4\n",
       "2   47    0   0            1   10.114     4\n",
       "3   28    1   1            1    7.798     1\n",
       "4   61    1   0            1   18.043     0\n",
       "5   22    1   1            1    8.607     1\n",
       "6   49    1   1            1   16.275     0\n",
       "7   41    0   0            1   11.037     4\n",
       "8   60    0   1            1   15.171     0\n",
       "9   43    0   0            0   19.368     0"
      ]
     },
     "execution_count": 31,
     "metadata": {},
     "output_type": "execute_result"
    }
   ],
   "source": [
    "df_drug_copy = df_drug.copy()\n",
    "\n",
    "df_drug_copy[\"BP\"] = df_drug_copy[\"BP\"].cat.codes\n",
    "df_drug_copy[\"Cholesterol\"] = df_drug_copy[\"Cholesterol\"].cat.codes\n",
    "df_drug_copy[\"Drug\"] = df_drug_copy[\"Drug\"].cat.codes\n",
    "df_drug_copy[\"Sex\"] = df_drug_copy[\"Sex\"].cat.codes\n",
    "\n",
    "df_drug_copy.head(n=10)"
   ]
  },
  {
   "attachments": {},
   "cell_type": "markdown",
   "metadata": {},
   "source": [
    "### Diagrama de puntos\n",
    "\n",
    "Se implementa la función `plot_scatter`, la cual recibe el DataFrame, el nombre exacto de las dos variables para las que se va graficar una nube de puntos de dispersión de valores y un título para la gráfica.\n",
    "\n",
    "A través de esta función se pretende la observación de la dispersión de valores para detectar algunas relaciones lineales entre variables."
   ]
  },
  {
   "cell_type": "code",
   "execution_count": 32,
   "metadata": {},
   "outputs": [],
   "source": [
    "def plot_scatter(df, x, y, title):\n",
    "  p = figure(\n",
    "    title=title,\n",
    "    x_axis_label=x,\n",
    "    y_axis_label=y,\n",
    "    sizing_mode='stretch_width',\n",
    "    max_width=800,\n",
    "    height=300,\n",
    "  )\n",
    "  p.circle(\n",
    "    x=df[x],\n",
    "    y=df[y],\n",
    "    size=10,\n",
    "    color=Blues[3][0],\n",
    "    alpha=0.6,\n",
    "  )\n",
    "  show(p)"
   ]
  },
  {
   "attachments": {},
   "cell_type": "markdown",
   "metadata": {},
   "source": [
    "En el análisis exploratorio del presente caso práctico, se estudia la relación entre el tipo de medicación asignada a cada paciente, la cual puede ser la variable objetivo en un problema de predicción, y otras variables como el nivel de presión en sangre, la edad y el ratio de sodio/potasio."
   ]
  },
  {
   "cell_type": "code",
   "execution_count": 22,
   "metadata": {},
   "outputs": [
    {
     "data": {
      "text/html": [
       "\n",
       "  <div class=\"bk-root\" id=\"cd54bc65-8ee4-4e11-9ce0-05636a5d1468\" data-root-id=\"2888\"></div>\n"
      ]
     },
     "metadata": {},
     "output_type": "display_data"
    },
    {
     "data": {
      "application/javascript": "(function(root) {\n  function embed_document(root) {\n  const docs_json = {\"0dbfd134-f38d-4b1f-906d-b82c407133e0\":{\"defs\":[],\"roots\":{\"references\":[{\"attributes\":{\"below\":[{\"id\":\"2899\"}],\"center\":[{\"id\":\"2902\"},{\"id\":\"2906\"}],\"height\":300,\"left\":[{\"id\":\"2903\"}],\"max_width\":800,\"renderers\":[{\"id\":\"2925\"}],\"sizing_mode\":\"stretch_width\",\"title\":{\"id\":\"2889\"},\"toolbar\":{\"id\":\"2914\"},\"x_range\":{\"id\":\"2891\"},\"x_scale\":{\"id\":\"2895\"},\"y_range\":{\"id\":\"2893\"},\"y_scale\":{\"id\":\"2897\"}},\"id\":\"2888\",\"subtype\":\"Figure\",\"type\":\"Plot\"},{\"attributes\":{},\"id\":\"3055\",\"type\":\"BasicTickFormatter\"},{\"attributes\":{},\"id\":\"3058\",\"type\":\"Selection\"},{\"attributes\":{\"axis_label\":\"BP\",\"coordinates\":null,\"formatter\":{\"id\":\"3055\"},\"group\":null,\"major_label_policy\":{\"id\":\"3056\"},\"ticker\":{\"id\":\"2900\"}},\"id\":\"2899\",\"type\":\"LinearAxis\"},{\"attributes\":{},\"id\":\"2897\",\"type\":\"LinearScale\"},{\"attributes\":{},\"id\":\"3053\",\"type\":\"AllLabels\"},{\"attributes\":{},\"id\":\"3052\",\"type\":\"BasicTickFormatter\"},{\"attributes\":{},\"id\":\"2911\",\"type\":\"ResetTool\"},{\"attributes\":{},\"id\":\"2904\",\"type\":\"BasicTicker\"},{\"attributes\":{\"axis_label\":\"Drug\",\"coordinates\":null,\"formatter\":{\"id\":\"3052\"},\"group\":null,\"major_label_policy\":{\"id\":\"3053\"},\"ticker\":{\"id\":\"2904\"}},\"id\":\"2903\",\"type\":\"LinearAxis\"},{\"attributes\":{\"axis\":{\"id\":\"2899\"},\"coordinates\":null,\"group\":null,\"ticker\":null},\"id\":\"2902\",\"type\":\"Grid\"},{\"attributes\":{},\"id\":\"2900\",\"type\":\"BasicTicker\"},{\"attributes\":{},\"id\":\"2895\",\"type\":\"LinearScale\"},{\"attributes\":{\"fill_alpha\":{\"value\":0.2},\"fill_color\":{\"value\":\"#3182bd\"},\"hatch_alpha\":{\"value\":0.2},\"hatch_color\":{\"value\":\"#3182bd\"},\"line_alpha\":{\"value\":0.2},\"line_color\":{\"value\":\"#3182bd\"},\"size\":{\"value\":10},\"x\":{\"field\":\"x\"},\"y\":{\"field\":\"y\"}},\"id\":\"2924\",\"type\":\"Circle\"},{\"attributes\":{\"bottom_units\":\"screen\",\"coordinates\":null,\"fill_alpha\":0.5,\"fill_color\":\"lightgrey\",\"group\":null,\"left_units\":\"screen\",\"level\":\"overlay\",\"line_alpha\":1.0,\"line_color\":\"black\",\"line_dash\":[4,4],\"line_width\":2,\"right_units\":\"screen\",\"syncable\":false,\"top_units\":\"screen\"},\"id\":\"2913\",\"type\":\"BoxAnnotation\"},{\"attributes\":{\"axis\":{\"id\":\"2903\"},\"coordinates\":null,\"dimension\":1,\"group\":null,\"ticker\":null},\"id\":\"2906\",\"type\":\"Grid\"},{\"attributes\":{},\"id\":\"3056\",\"type\":\"AllLabels\"},{\"attributes\":{\"source\":{\"id\":\"2921\"}},\"id\":\"2926\",\"type\":\"CDSView\"},{\"attributes\":{\"data\":{\"x\":{\"__ndarray__\":\"AgAAAQABAQABAAACAAABAgACAAIAAQAAAAICAQAAAQIAAgEBAgABAQECAQEBAQIAAQACAQACAgACAgECAAIAAAIBAgEBAgIBAQECAAICAgACAQACAAIBAAIBAQICAAAAAAICAgICAAECAAEAAgECAQAAAQIBAQICAQIBAQICAgEAAQEAAAECAAICAgECAAICAgEAAgAAAgIBAAAAAgAAAAECAQICAAABAAIBAAEAAgICAQEBAgEAAgIBAgICAgICAAACAAABAQA=\",\"dtype\":\"int8\",\"order\":\"little\",\"shape\":[200]},\"y\":{\"__ndarray__\":\"AAQEAQABAAQAAAQAAAABAAECBAAAAAAAAAAAAQAAAQMBAAEBAgEBAQADAAEBAQIEAAAAAQAAAwQDAAEAAAIAAQMAAgEAAAMAAQAAAAIAAgEDAQQCBAMBAAAAAAAAAAABAAAAAAICBAEAAQEAAwACAQEBAQABAQIAAAAAAAMAAAEAAQAAAQAAAQMCAwECAAMAAgEBAgEEAgMBAQAEAgAEAQEDAQAAAAABAAIBAQAAAgACAAAAAAEBAAAAAwIAAAACAAQABAQBAQE=\",\"dtype\":\"int8\",\"order\":\"little\",\"shape\":[200]}},\"selected\":{\"id\":\"3058\"},\"selection_policy\":{\"id\":\"3057\"}},\"id\":\"2921\",\"type\":\"ColumnDataSource\"},{\"attributes\":{\"coordinates\":null,\"data_source\":{\"id\":\"2921\"},\"glyph\":{\"id\":\"2922\"},\"group\":null,\"hover_glyph\":null,\"muted_glyph\":{\"id\":\"2924\"},\"nonselection_glyph\":{\"id\":\"2923\"},\"view\":{\"id\":\"2926\"}},\"id\":\"2925\",\"type\":\"GlyphRenderer\"},{\"attributes\":{},\"id\":\"2891\",\"type\":\"DataRange1d\"},{\"attributes\":{},\"id\":\"3057\",\"type\":\"UnionRenderers\"},{\"attributes\":{\"fill_alpha\":{\"value\":0.1},\"fill_color\":{\"value\":\"#3182bd\"},\"hatch_alpha\":{\"value\":0.1},\"hatch_color\":{\"value\":\"#3182bd\"},\"line_alpha\":{\"value\":0.1},\"line_color\":{\"value\":\"#3182bd\"},\"size\":{\"value\":10},\"x\":{\"field\":\"x\"},\"y\":{\"field\":\"y\"}},\"id\":\"2923\",\"type\":\"Circle\"},{\"attributes\":{\"fill_alpha\":{\"value\":0.6},\"fill_color\":{\"value\":\"#3182bd\"},\"hatch_alpha\":{\"value\":0.6},\"hatch_color\":{\"value\":\"#3182bd\"},\"line_alpha\":{\"value\":0.6},\"line_color\":{\"value\":\"#3182bd\"},\"size\":{\"value\":10},\"x\":{\"field\":\"x\"},\"y\":{\"field\":\"y\"}},\"id\":\"2922\",\"type\":\"Circle\"},{\"attributes\":{},\"id\":\"2910\",\"type\":\"SaveTool\"},{\"attributes\":{},\"id\":\"2893\",\"type\":\"DataRange1d\"},{\"attributes\":{\"overlay\":{\"id\":\"2913\"}},\"id\":\"2909\",\"type\":\"BoxZoomTool\"},{\"attributes\":{},\"id\":\"2908\",\"type\":\"WheelZoomTool\"},{\"attributes\":{\"coordinates\":null,\"group\":null,\"text\":\"BP vs Drug\"},\"id\":\"2889\",\"type\":\"Title\"},{\"attributes\":{},\"id\":\"2907\",\"type\":\"PanTool\"},{\"attributes\":{\"tools\":[{\"id\":\"2907\"},{\"id\":\"2908\"},{\"id\":\"2909\"},{\"id\":\"2910\"},{\"id\":\"2911\"},{\"id\":\"2912\"}]},\"id\":\"2914\",\"type\":\"Toolbar\"},{\"attributes\":{},\"id\":\"2912\",\"type\":\"HelpTool\"}],\"root_ids\":[\"2888\"]},\"title\":\"Bokeh Application\",\"version\":\"2.4.3\"}};\n  const render_items = [{\"docid\":\"0dbfd134-f38d-4b1f-906d-b82c407133e0\",\"root_ids\":[\"2888\"],\"roots\":{\"2888\":\"cd54bc65-8ee4-4e11-9ce0-05636a5d1468\"}}];\n  root.Bokeh.embed.embed_items_notebook(docs_json, render_items);\n  }\n  if (root.Bokeh !== undefined) {\n    embed_document(root);\n  } else {\n    let attempts = 0;\n    const timer = setInterval(function(root) {\n      if (root.Bokeh !== undefined) {\n        clearInterval(timer);\n        embed_document(root);\n      } else {\n        attempts++;\n        if (attempts > 100) {\n          clearInterval(timer);\n          console.log(\"Bokeh: ERROR: Unable to run BokehJS code because BokehJS library is missing\");\n        }\n      }\n    }, 10, root)\n  }\n})(window);",
      "application/vnd.bokehjs_exec.v0+json": ""
     },
     "metadata": {
      "application/vnd.bokehjs_exec.v0+json": {
       "id": "2888"
      }
     },
     "output_type": "display_data"
    }
   ],
   "source": [
    "plot_scatter(df_drug_copy, \"BP\", \"Drug\", \"BP vs Drug\")"
   ]
  },
  {
   "cell_type": "code",
   "execution_count": 23,
   "metadata": {},
   "outputs": [
    {
     "data": {
      "text/html": [
       "\n",
       "  <div class=\"bk-root\" id=\"801ea4aa-5386-41b6-857a-e3eede54a75f\" data-root-id=\"3110\"></div>\n"
      ]
     },
     "metadata": {},
     "output_type": "display_data"
    },
    {
     "data": {
      "application/javascript": "(function(root) {\n  function embed_document(root) {\n  const docs_json = {\"cc50be15-204c-44ff-af34-77fe46cac07a\":{\"defs\":[],\"roots\":{\"references\":[{\"attributes\":{\"below\":[{\"id\":\"3121\"}],\"center\":[{\"id\":\"3124\"},{\"id\":\"3128\"}],\"height\":300,\"left\":[{\"id\":\"3125\"}],\"max_width\":800,\"renderers\":[{\"id\":\"3147\"}],\"sizing_mode\":\"stretch_width\",\"title\":{\"id\":\"3111\"},\"toolbar\":{\"id\":\"3136\"},\"x_range\":{\"id\":\"3113\"},\"x_scale\":{\"id\":\"3117\"},\"y_range\":{\"id\":\"3115\"},\"y_scale\":{\"id\":\"3119\"}},\"id\":\"3110\",\"subtype\":\"Figure\",\"type\":\"Plot\"},{\"attributes\":{},\"id\":\"3284\",\"type\":\"BasicTickFormatter\"},{\"attributes\":{\"data\":{\"x\":[23,47,47,28,61,22,49,41,60,43,47,34,43,74,50,16,69,43,23,32,57,63,47,48,33,28,31,49,39,45,18,74,49,65,53,46,32,39,39,15,73,58,50,23,50,66,37,68,23,28,58,67,62,24,68,26,65,40,60,34,38,24,67,45,60,68,29,17,54,18,70,28,24,41,31,26,36,26,19,32,60,64,32,38,47,59,51,69,37,50,62,41,29,42,56,36,58,56,20,15,31,45,28,56,22,37,22,42,72,23,50,47,35,65,20,51,67,40,32,61,28,15,34,36,53,19,66,35,47,32,70,52,49,24,42,74,55,35,51,69,49,64,60,74,39,61,37,26,61,22,49,68,55,72,37,49,31,53,59,34,30,57,43,21,16,38,58,57,51,20,28,45,39,41,42,73,48,25,39,67,22,59,20,36,18,57,70,47,65,64,58,23,72,72,46,56,16,52,23,40],\"y\":{\"__ndarray__\":\"AAQEAQABAAQAAAQAAAABAAECBAAAAAAAAAAAAQAAAQMBAAEBAgEBAQADAAEBAQIEAAAAAQAAAwQDAAEAAAIAAQMAAgEAAAMAAQAAAAIAAgEDAQQCBAMBAAAAAAAAAAABAAAAAAICBAEAAQEAAwACAQEBAQABAQIAAAAAAAMAAAEAAQAAAQAAAQMCAwECAAMAAgEBAgEEAgMBAQAEAgAEAQEDAQAAAAABAAIBAQAAAgACAAAAAAEBAAAAAwIAAAACAAQABAQBAQE=\",\"dtype\":\"int8\",\"order\":\"little\",\"shape\":[200]}},\"selected\":{\"id\":\"3290\"},\"selection_policy\":{\"id\":\"3289\"}},\"id\":\"3143\",\"type\":\"ColumnDataSource\"},{\"attributes\":{},\"id\":\"3117\",\"type\":\"LinearScale\"},{\"attributes\":{\"axis_label\":\"Age\",\"coordinates\":null,\"formatter\":{\"id\":\"3287\"},\"group\":null,\"major_label_policy\":{\"id\":\"3288\"},\"ticker\":{\"id\":\"3122\"}},\"id\":\"3121\",\"type\":\"LinearAxis\"},{\"attributes\":{},\"id\":\"3115\",\"type\":\"DataRange1d\"},{\"attributes\":{},\"id\":\"3285\",\"type\":\"AllLabels\"},{\"attributes\":{\"fill_alpha\":{\"value\":0.2},\"fill_color\":{\"value\":\"#3182bd\"},\"hatch_alpha\":{\"value\":0.2},\"hatch_color\":{\"value\":\"#3182bd\"},\"line_alpha\":{\"value\":0.2},\"line_color\":{\"value\":\"#3182bd\"},\"size\":{\"value\":10},\"x\":{\"field\":\"x\"},\"y\":{\"field\":\"y\"}},\"id\":\"3146\",\"type\":\"Circle\"},{\"attributes\":{\"axis\":{\"id\":\"3121\"},\"coordinates\":null,\"group\":null,\"ticker\":null},\"id\":\"3124\",\"type\":\"Grid\"},{\"attributes\":{},\"id\":\"3287\",\"type\":\"BasicTickFormatter\"},{\"attributes\":{},\"id\":\"3133\",\"type\":\"ResetTool\"},{\"attributes\":{\"coordinates\":null,\"data_source\":{\"id\":\"3143\"},\"glyph\":{\"id\":\"3144\"},\"group\":null,\"hover_glyph\":null,\"muted_glyph\":{\"id\":\"3146\"},\"nonselection_glyph\":{\"id\":\"3145\"},\"view\":{\"id\":\"3148\"}},\"id\":\"3147\",\"type\":\"GlyphRenderer\"},{\"attributes\":{},\"id\":\"3288\",\"type\":\"AllLabels\"},{\"attributes\":{\"fill_alpha\":{\"value\":0.1},\"fill_color\":{\"value\":\"#3182bd\"},\"hatch_alpha\":{\"value\":0.1},\"hatch_color\":{\"value\":\"#3182bd\"},\"line_alpha\":{\"value\":0.1},\"line_color\":{\"value\":\"#3182bd\"},\"size\":{\"value\":10},\"x\":{\"field\":\"x\"},\"y\":{\"field\":\"y\"}},\"id\":\"3145\",\"type\":\"Circle\"},{\"attributes\":{\"source\":{\"id\":\"3143\"}},\"id\":\"3148\",\"type\":\"CDSView\"},{\"attributes\":{},\"id\":\"3129\",\"type\":\"PanTool\"},{\"attributes\":{\"coordinates\":null,\"group\":null,\"text\":\"Age vs Drug\"},\"id\":\"3111\",\"type\":\"Title\"},{\"attributes\":{},\"id\":\"3134\",\"type\":\"HelpTool\"},{\"attributes\":{},\"id\":\"3132\",\"type\":\"SaveTool\"},{\"attributes\":{},\"id\":\"3289\",\"type\":\"UnionRenderers\"},{\"attributes\":{\"fill_alpha\":{\"value\":0.6},\"fill_color\":{\"value\":\"#3182bd\"},\"hatch_alpha\":{\"value\":0.6},\"hatch_color\":{\"value\":\"#3182bd\"},\"line_alpha\":{\"value\":0.6},\"line_color\":{\"value\":\"#3182bd\"},\"size\":{\"value\":10},\"x\":{\"field\":\"x\"},\"y\":{\"field\":\"y\"}},\"id\":\"3144\",\"type\":\"Circle\"},{\"attributes\":{\"bottom_units\":\"screen\",\"coordinates\":null,\"fill_alpha\":0.5,\"fill_color\":\"lightgrey\",\"group\":null,\"left_units\":\"screen\",\"level\":\"overlay\",\"line_alpha\":1.0,\"line_color\":\"black\",\"line_dash\":[4,4],\"line_width\":2,\"right_units\":\"screen\",\"syncable\":false,\"top_units\":\"screen\"},\"id\":\"3135\",\"type\":\"BoxAnnotation\"},{\"attributes\":{},\"id\":\"3290\",\"type\":\"Selection\"},{\"attributes\":{},\"id\":\"3119\",\"type\":\"LinearScale\"},{\"attributes\":{\"axis_label\":\"Drug\",\"coordinates\":null,\"formatter\":{\"id\":\"3284\"},\"group\":null,\"major_label_policy\":{\"id\":\"3285\"},\"ticker\":{\"id\":\"3126\"}},\"id\":\"3125\",\"type\":\"LinearAxis\"},{\"attributes\":{},\"id\":\"3122\",\"type\":\"BasicTicker\"},{\"attributes\":{\"overlay\":{\"id\":\"3135\"}},\"id\":\"3131\",\"type\":\"BoxZoomTool\"},{\"attributes\":{},\"id\":\"3113\",\"type\":\"DataRange1d\"},{\"attributes\":{},\"id\":\"3130\",\"type\":\"WheelZoomTool\"},{\"attributes\":{},\"id\":\"3126\",\"type\":\"BasicTicker\"},{\"attributes\":{\"tools\":[{\"id\":\"3129\"},{\"id\":\"3130\"},{\"id\":\"3131\"},{\"id\":\"3132\"},{\"id\":\"3133\"},{\"id\":\"3134\"}]},\"id\":\"3136\",\"type\":\"Toolbar\"},{\"attributes\":{\"axis\":{\"id\":\"3125\"},\"coordinates\":null,\"dimension\":1,\"group\":null,\"ticker\":null},\"id\":\"3128\",\"type\":\"Grid\"}],\"root_ids\":[\"3110\"]},\"title\":\"Bokeh Application\",\"version\":\"2.4.3\"}};\n  const render_items = [{\"docid\":\"cc50be15-204c-44ff-af34-77fe46cac07a\",\"root_ids\":[\"3110\"],\"roots\":{\"3110\":\"801ea4aa-5386-41b6-857a-e3eede54a75f\"}}];\n  root.Bokeh.embed.embed_items_notebook(docs_json, render_items);\n  }\n  if (root.Bokeh !== undefined) {\n    embed_document(root);\n  } else {\n    let attempts = 0;\n    const timer = setInterval(function(root) {\n      if (root.Bokeh !== undefined) {\n        clearInterval(timer);\n        embed_document(root);\n      } else {\n        attempts++;\n        if (attempts > 100) {\n          clearInterval(timer);\n          console.log(\"Bokeh: ERROR: Unable to run BokehJS code because BokehJS library is missing\");\n        }\n      }\n    }, 10, root)\n  }\n})(window);",
      "application/vnd.bokehjs_exec.v0+json": ""
     },
     "metadata": {
      "application/vnd.bokehjs_exec.v0+json": {
       "id": "3110"
      }
     },
     "output_type": "display_data"
    }
   ],
   "source": [
    "plot_scatter(df_drug_copy, \"Age\", \"Drug\", \"Age vs Drug\")"
   ]
  },
  {
   "cell_type": "code",
   "execution_count": 24,
   "metadata": {},
   "outputs": [
    {
     "data": {
      "text/html": [
       "\n",
       "  <div class=\"bk-root\" id=\"6ce739f7-ba8c-4799-a007-393c798e45c2\" data-root-id=\"3342\"></div>\n"
      ]
     },
     "metadata": {},
     "output_type": "display_data"
    },
    {
     "data": {
      "application/javascript": "(function(root) {\n  function embed_document(root) {\n  const docs_json = {\"62506229-64a5-42d0-b0f7-463331b2565f\":{\"defs\":[],\"roots\":{\"references\":[{\"attributes\":{\"below\":[{\"id\":\"3353\"}],\"center\":[{\"id\":\"3356\"},{\"id\":\"3360\"}],\"height\":300,\"left\":[{\"id\":\"3357\"}],\"max_width\":800,\"renderers\":[{\"id\":\"3379\"}],\"sizing_mode\":\"stretch_width\",\"title\":{\"id\":\"3343\"},\"toolbar\":{\"id\":\"3368\"},\"x_range\":{\"id\":\"3345\"},\"x_scale\":{\"id\":\"3349\"},\"y_range\":{\"id\":\"3347\"},\"y_scale\":{\"id\":\"3351\"}},\"id\":\"3342\",\"subtype\":\"Figure\",\"type\":\"Plot\"},{\"attributes\":{\"overlay\":{\"id\":\"3367\"}},\"id\":\"3363\",\"type\":\"BoxZoomTool\"},{\"attributes\":{},\"id\":\"3364\",\"type\":\"SaveTool\"},{\"attributes\":{},\"id\":\"3530\",\"type\":\"AllLabels\"},{\"attributes\":{},\"id\":\"3365\",\"type\":\"ResetTool\"},{\"attributes\":{},\"id\":\"3345\",\"type\":\"DataRange1d\"},{\"attributes\":{\"bottom_units\":\"screen\",\"coordinates\":null,\"fill_alpha\":0.5,\"fill_color\":\"lightgrey\",\"group\":null,\"left_units\":\"screen\",\"level\":\"overlay\",\"line_alpha\":1.0,\"line_color\":\"black\",\"line_dash\":[4,4],\"line_width\":2,\"right_units\":\"screen\",\"syncable\":false,\"top_units\":\"screen\"},\"id\":\"3367\",\"type\":\"BoxAnnotation\"},{\"attributes\":{\"data\":{\"x\":{\"__ndarray__\":\"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\",\"dtype\":\"float64\",\"order\":\"little\",\"shape\":[200]},\"y\":{\"__ndarray__\":\"AAQEAQABAAQAAAQAAAABAAECBAAAAAAAAAAAAQAAAQMBAAEBAgEBAQADAAEBAQIEAAAAAQAAAwQDAAEAAAIAAQMAAgEAAAMAAQAAAAIAAgEDAQQCBAMBAAAAAAAAAAABAAAAAAICBAEAAQEAAwACAQEBAQABAQIAAAAAAAMAAAEAAQAAAQAAAQMCAwECAAMAAgEBAgEEAgMBAQAEAgAEAQEDAQAAAAABAAIBAQAAAgACAAAAAAEBAAAAAwIAAAACAAQABAQBAQE=\",\"dtype\":\"int8\",\"order\":\"little\",\"shape\":[200]}},\"selected\":{\"id\":\"3532\"},\"selection_policy\":{\"id\":\"3531\"}},\"id\":\"3375\",\"type\":\"ColumnDataSource\"},{\"attributes\":{\"source\":{\"id\":\"3375\"}},\"id\":\"3380\",\"type\":\"CDSView\"},{\"attributes\":{\"fill_alpha\":{\"value\":0.6},\"fill_color\":{\"value\":\"#3182bd\"},\"hatch_alpha\":{\"value\":0.6},\"hatch_color\":{\"value\":\"#3182bd\"},\"line_alpha\":{\"value\":0.6},\"line_color\":{\"value\":\"#3182bd\"},\"size\":{\"value\":10},\"x\":{\"field\":\"x\"},\"y\":{\"field\":\"y\"}},\"id\":\"3376\",\"type\":\"Circle\"},{\"attributes\":{\"fill_alpha\":{\"value\":0.2},\"fill_color\":{\"value\":\"#3182bd\"},\"hatch_alpha\":{\"value\":0.2},\"hatch_color\":{\"value\":\"#3182bd\"},\"line_alpha\":{\"value\":0.2},\"line_color\":{\"value\":\"#3182bd\"},\"size\":{\"value\":10},\"x\":{\"field\":\"x\"},\"y\":{\"field\":\"y\"}},\"id\":\"3378\",\"type\":\"Circle\"},{\"attributes\":{},\"id\":\"3531\",\"type\":\"UnionRenderers\"},{\"attributes\":{},\"id\":\"3532\",\"type\":\"Selection\"},{\"attributes\":{\"tools\":[{\"id\":\"3361\"},{\"id\":\"3362\"},{\"id\":\"3363\"},{\"id\":\"3364\"},{\"id\":\"3365\"},{\"id\":\"3366\"}]},\"id\":\"3368\",\"type\":\"Toolbar\"},{\"attributes\":{},\"id\":\"3362\",\"type\":\"WheelZoomTool\"},{\"attributes\":{\"fill_alpha\":{\"value\":0.1},\"fill_color\":{\"value\":\"#3182bd\"},\"hatch_alpha\":{\"value\":0.1},\"hatch_color\":{\"value\":\"#3182bd\"},\"line_alpha\":{\"value\":0.1},\"line_color\":{\"value\":\"#3182bd\"},\"size\":{\"value\":10},\"x\":{\"field\":\"x\"},\"y\":{\"field\":\"y\"}},\"id\":\"3377\",\"type\":\"Circle\"},{\"attributes\":{\"axis\":{\"id\":\"3357\"},\"coordinates\":null,\"dimension\":1,\"group\":null,\"ticker\":null},\"id\":\"3360\",\"type\":\"Grid\"},{\"attributes\":{\"coordinates\":null,\"group\":null,\"text\":\"Na_to_K vs Drug\"},\"id\":\"3343\",\"type\":\"Title\"},{\"attributes\":{},\"id\":\"3347\",\"type\":\"DataRange1d\"},{\"attributes\":{\"axis_label\":\"Drug\",\"coordinates\":null,\"formatter\":{\"id\":\"3526\"},\"group\":null,\"major_label_policy\":{\"id\":\"3527\"},\"ticker\":{\"id\":\"3358\"}},\"id\":\"3357\",\"type\":\"LinearAxis\"},{\"attributes\":{\"coordinates\":null,\"data_source\":{\"id\":\"3375\"},\"glyph\":{\"id\":\"3376\"},\"group\":null,\"hover_glyph\":null,\"muted_glyph\":{\"id\":\"3378\"},\"nonselection_glyph\":{\"id\":\"3377\"},\"view\":{\"id\":\"3380\"}},\"id\":\"3379\",\"type\":\"GlyphRenderer\"},{\"attributes\":{},\"id\":\"3349\",\"type\":\"LinearScale\"},{\"attributes\":{\"axis_label\":\"Na_to_K\",\"coordinates\":null,\"formatter\":{\"id\":\"3529\"},\"group\":null,\"major_label_policy\":{\"id\":\"3530\"},\"ticker\":{\"id\":\"3354\"}},\"id\":\"3353\",\"type\":\"LinearAxis\"},{\"attributes\":{},\"id\":\"3358\",\"type\":\"BasicTicker\"},{\"attributes\":{},\"id\":\"3526\",\"type\":\"BasicTickFormatter\"},{\"attributes\":{\"axis\":{\"id\":\"3353\"},\"coordinates\":null,\"group\":null,\"ticker\":null},\"id\":\"3356\",\"type\":\"Grid\"},{\"attributes\":{},\"id\":\"3366\",\"type\":\"HelpTool\"},{\"attributes\":{},\"id\":\"3527\",\"type\":\"AllLabels\"},{\"attributes\":{},\"id\":\"3354\",\"type\":\"BasicTicker\"},{\"attributes\":{},\"id\":\"3351\",\"type\":\"LinearScale\"},{\"attributes\":{},\"id\":\"3529\",\"type\":\"BasicTickFormatter\"},{\"attributes\":{},\"id\":\"3361\",\"type\":\"PanTool\"}],\"root_ids\":[\"3342\"]},\"title\":\"Bokeh Application\",\"version\":\"2.4.3\"}};\n  const render_items = [{\"docid\":\"62506229-64a5-42d0-b0f7-463331b2565f\",\"root_ids\":[\"3342\"],\"roots\":{\"3342\":\"6ce739f7-ba8c-4799-a007-393c798e45c2\"}}];\n  root.Bokeh.embed.embed_items_notebook(docs_json, render_items);\n  }\n  if (root.Bokeh !== undefined) {\n    embed_document(root);\n  } else {\n    let attempts = 0;\n    const timer = setInterval(function(root) {\n      if (root.Bokeh !== undefined) {\n        clearInterval(timer);\n        embed_document(root);\n      } else {\n        attempts++;\n        if (attempts > 100) {\n          clearInterval(timer);\n          console.log(\"Bokeh: ERROR: Unable to run BokehJS code because BokehJS library is missing\");\n        }\n      }\n    }, 10, root)\n  }\n})(window);",
      "application/vnd.bokehjs_exec.v0+json": ""
     },
     "metadata": {
      "application/vnd.bokehjs_exec.v0+json": {
       "id": "3342"
      }
     },
     "output_type": "display_data"
    }
   ],
   "source": [
    "plot_scatter(df_drug_copy, \"Na_to_K\", \"Drug\", \"Na_to_K vs Drug\")"
   ]
  },
  {
   "attachments": {},
   "cell_type": "markdown",
   "metadata": {},
   "source": [
    "Tras esto, puede observarse claramente que, a partir de valores de 15.0 para el ratio de sodio/potasio, el medicamente asignado es DrugY. Además, el medicamente drugB solo se prescribe a personas mayores de 50 años, mientras que el drugA se asigna a personas menores de 50. Tanto el medicamento drugA como el drugB solo se prescribe a personas con un nivel de presión en sangre alto. Para niveles de presión en sangre normales solo se prescriben los medicamentos DrugY y drugX.\n",
    "\n",
    "Ya se va obteniendo mayor conocimiento sobre el contexto del problema y se pueden plantear algunas hipótesis gracias al apoyo de la visualización.\n",
    "\n",
    "Por último, se va a estudiar la correlación, calculando la matriz de correlación y graficándola mediante un mapa de calor."
   ]
  },
  {
   "attachments": {},
   "cell_type": "markdown",
   "metadata": {},
   "source": [
    "### Mapa de calor para el estudio de la correlación\n",
    "\n",
    "Se implementa la función `plot_corr_heatmap`, la cual recibe el DataFrame para el cual se calculará la matriz de correlación y que será posteriormente graficada."
   ]
  },
  {
   "cell_type": "code",
   "execution_count": 35,
   "metadata": {},
   "outputs": [],
   "source": [
    "def plot_corr_heatmap(df):\n",
    "  corr = df.corr()\n",
    "  data = {'x': [], 'y': [], 'value': []}\n",
    "  for i, row_name in enumerate(corr.index):\n",
    "      for j, col_name in enumerate(corr.columns):\n",
    "          data['x'].append(row_name)\n",
    "          data['y'].append(col_name)\n",
    "          data['value'].append(corr.iloc[i, j])\n",
    "\n",
    "  source = ColumnDataSource(data=data)\n",
    "  \n",
    "  p = figure(\n",
    "    title=\"Correlation Heatmap\",\n",
    "    x_range=list(corr.index),\n",
    "    y_range=list(reversed(corr.index)),\n",
    "    x_axis_location=\"above\",\n",
    "    plot_width=500,\n",
    "    plot_height=500,\n",
    "    toolbar_location=None,\n",
    "    tools=\"hover\",\n",
    "    tooltips=[(\"value\", \"@value\")],\n",
    "  )\n",
    "  p.grid.grid_line_color = None\n",
    "  p.axis.axis_line_color = None\n",
    "  p.axis.major_tick_line_color = None\n",
    "  p.axis.major_label_text_font_size = \"10pt\"\n",
    "  p.axis.major_label_standoff = 0\n",
    "  p.xaxis.major_label_orientation = pi / 3\n",
    "\n",
    "  p.rect(\n",
    "    x=\"x\",\n",
    "    y=\"y\",\n",
    "    width=1,\n",
    "    height=1,\n",
    "    source=source,\n",
    "    fill_color={\n",
    "      \"field\": \"value\",\n",
    "      \"transform\": LinearColorMapper(palette=Cividis256, low=corr.values.min(), high=corr.values.max())\n",
    "    },\n",
    "    line_color=None,\n",
    "  )\n",
    "\n",
    "  color_bar = ColorBar(\n",
    "    color_mapper=LinearColorMapper(palette=Cividis256, low=corr.values.max()*(-1), high=corr.values.max()),\n",
    "    location=(0, 0),\n",
    "    orientation=\"horizontal\",\n",
    "    formatter=BasicTickFormatter(),\n",
    "    ticker=BasicTicker(),\n",
    "    label_standoff=12,\n",
    "    border_line_color=None,\n",
    "    major_label_text_font_size=\"10pt\",\n",
    "    bar_line_color='black',\n",
    "    bar_line_width=1,\n",
    "  )\n",
    "  p.add_layout(color_bar, 'below')\n",
    "\n",
    "  show(p)"
   ]
  },
  {
   "attachments": {},
   "cell_type": "markdown",
   "metadata": {},
   "source": [
    "Antes, se vuelve a modificar el dataset, transformando los valores numéricos para que estén en el rango [0,1]."
   ]
  },
  {
   "cell_type": "code",
   "execution_count": 36,
   "metadata": {},
   "outputs": [
    {
     "data": {
      "text/html": [
       "<div>\n",
       "<style scoped>\n",
       "    .dataframe tbody tr th:only-of-type {\n",
       "        vertical-align: middle;\n",
       "    }\n",
       "\n",
       "    .dataframe tbody tr th {\n",
       "        vertical-align: top;\n",
       "    }\n",
       "\n",
       "    .dataframe thead th {\n",
       "        text-align: right;\n",
       "    }\n",
       "</style>\n",
       "<table border=\"1\" class=\"dataframe\">\n",
       "  <thead>\n",
       "    <tr style=\"text-align: right;\">\n",
       "      <th></th>\n",
       "      <th>Age</th>\n",
       "      <th>Sex</th>\n",
       "      <th>BP</th>\n",
       "      <th>Cholesterol</th>\n",
       "      <th>Na_to_K</th>\n",
       "      <th>Drug</th>\n",
       "    </tr>\n",
       "  </thead>\n",
       "  <tbody>\n",
       "    <tr>\n",
       "      <th>0</th>\n",
       "      <td>0.135593</td>\n",
       "      <td>1.0</td>\n",
       "      <td>1.0</td>\n",
       "      <td>1.0</td>\n",
       "      <td>0.596848</td>\n",
       "      <td>0.00</td>\n",
       "    </tr>\n",
       "    <tr>\n",
       "      <th>1</th>\n",
       "      <td>0.542373</td>\n",
       "      <td>0.0</td>\n",
       "      <td>0.0</td>\n",
       "      <td>1.0</td>\n",
       "      <td>0.213397</td>\n",
       "      <td>1.00</td>\n",
       "    </tr>\n",
       "    <tr>\n",
       "      <th>2</th>\n",
       "      <td>0.542373</td>\n",
       "      <td>0.0</td>\n",
       "      <td>0.0</td>\n",
       "      <td>1.0</td>\n",
       "      <td>0.120239</td>\n",
       "      <td>1.00</td>\n",
       "    </tr>\n",
       "    <tr>\n",
       "      <th>3</th>\n",
       "      <td>0.220339</td>\n",
       "      <td>1.0</td>\n",
       "      <td>0.5</td>\n",
       "      <td>1.0</td>\n",
       "      <td>0.047814</td>\n",
       "      <td>0.25</td>\n",
       "    </tr>\n",
       "    <tr>\n",
       "      <th>4</th>\n",
       "      <td>0.779661</td>\n",
       "      <td>1.0</td>\n",
       "      <td>0.0</td>\n",
       "      <td>1.0</td>\n",
       "      <td>0.368191</td>\n",
       "      <td>0.00</td>\n",
       "    </tr>\n",
       "  </tbody>\n",
       "</table>\n",
       "</div>"
      ],
      "text/plain": [
       "        Age  Sex   BP  Cholesterol   Na_to_K  Drug\n",
       "0  0.135593  1.0  1.0          1.0  0.596848  0.00\n",
       "1  0.542373  0.0  0.0          1.0  0.213397  1.00\n",
       "2  0.542373  0.0  0.0          1.0  0.120239  1.00\n",
       "3  0.220339  1.0  0.5          1.0  0.047814  0.25\n",
       "4  0.779661  1.0  0.0          1.0  0.368191  0.00"
      ]
     },
     "execution_count": 36,
     "metadata": {},
     "output_type": "execute_result"
    }
   ],
   "source": [
    "df_drug_copy = (df_drug_copy - df_drug_copy.min()) / (df_drug_copy.max() - df_drug_copy.min())\n",
    "df_drug_copy.head()"
   ]
  },
  {
   "cell_type": "code",
   "execution_count": 37,
   "metadata": {},
   "outputs": [
    {
     "data": {
      "text/html": [
       "\n",
       "  <div class=\"bk-root\" id=\"e56f38ce-0c43-4446-b0c3-655225953bf0\" data-root-id=\"4364\"></div>\n"
      ]
     },
     "metadata": {},
     "output_type": "display_data"
    },
    {
     "data": {
      "application/javascript": "(function(root) {\n  function embed_document(root) {\n  const docs_json = {\"df5295a4-2451-41d0-b54f-fa04b15d0824\":{\"defs\":[],\"roots\":{\"references\":[{\"attributes\":{\"above\":[{\"id\":\"4375\"}],\"below\":[{\"id\":\"4394\"}],\"center\":[{\"id\":\"4377\"},{\"id\":\"4380\"}],\"height\":500,\"left\":[{\"id\":\"4378\"}],\"renderers\":[{\"id\":\"4389\"}],\"title\":{\"id\":\"4365\"},\"toolbar\":{\"id\":\"4382\"},\"toolbar_location\":null,\"width\":500,\"x_range\":{\"id\":\"4367\"},\"x_scale\":{\"id\":\"4371\"},\"y_range\":{\"id\":\"4369\"},\"y_scale\":{\"id\":\"4373\"}},\"id\":\"4364\",\"subtype\":\"Figure\",\"type\":\"Plot\"},{\"attributes\":{},\"id\":\"4379\",\"type\":\"CategoricalTicker\"},{\"attributes\":{},\"id\":\"4580\",\"type\":\"CategoricalTickFormatter\"},{\"attributes\":{},\"id\":\"4581\",\"type\":\"AllLabels\"},{\"attributes\":{\"callback\":null,\"tooltips\":[[\"value\",\"@value\"]]},\"id\":\"4381\",\"type\":\"HoverTool\"},{\"attributes\":{},\"id\":\"4583\",\"type\":\"CategoricalTickFormatter\"},{\"attributes\":{\"fill_color\":{\"field\":\"value\",\"transform\":{\"id\":\"4384\"}},\"height\":{\"value\":1},\"line_color\":{\"value\":null},\"width\":{\"value\":1},\"x\":{\"field\":\"x\"},\"y\":{\"field\":\"y\"}},\"id\":\"4386\",\"type\":\"Rect\"},{\"attributes\":{},\"id\":\"4584\",\"type\":\"AllLabels\"},{\"attributes\":{\"bar_line_color\":\"black\",\"color_mapper\":{\"id\":\"4391\"},\"coordinates\":null,\"formatter\":{\"id\":\"4392\"},\"group\":null,\"label_standoff\":12,\"location\":[0,0],\"major_label_policy\":{\"id\":\"4585\"},\"major_label_text_font_size\":\"10pt\",\"orientation\":\"horizontal\",\"ticker\":{\"id\":\"4393\"}},\"id\":\"4394\",\"type\":\"ColorBar\"},{\"attributes\":{\"factors\":[\"Age\",\"Sex\",\"BP\",\"Cholesterol\",\"Na_to_K\",\"Drug\"]},\"id\":\"4367\",\"type\":\"FactorRange\"},{\"attributes\":{},\"id\":\"4393\",\"type\":\"BasicTicker\"},{\"attributes\":{},\"id\":\"4585\",\"type\":\"NoOverlap\"},{\"attributes\":{\"high\":1.0,\"low\":-0.6015475937092776,\"palette\":[\"#00204C\",\"#00204E\",\"#002150\",\"#002251\",\"#002353\",\"#002355\",\"#002456\",\"#002558\",\"#00265A\",\"#00265B\",\"#00275D\",\"#00285F\",\"#002861\",\"#002963\",\"#002A64\",\"#002A66\",\"#002B68\",\"#002C6A\",\"#002D6C\",\"#002D6D\",\"#002E6E\",\"#002E6F\",\"#002F6F\",\"#002F6F\",\"#00306F\",\"#00316F\",\"#00316F\",\"#00326E\",\"#00336E\",\"#00346E\",\"#00346E\",\"#01356E\",\"#06366E\",\"#0A376D\",\"#0E376D\",\"#12386D\",\"#15396D\",\"#17396D\",\"#1A3A6C\",\"#1C3B6C\",\"#1E3C6C\",\"#203C6C\",\"#223D6C\",\"#243E6C\",\"#263E6C\",\"#273F6C\",\"#29406B\",\"#2B416B\",\"#2C416B\",\"#2E426B\",\"#2F436B\",\"#31446B\",\"#32446B\",\"#33456B\",\"#35466B\",\"#36466B\",\"#37476B\",\"#38486B\",\"#3A496B\",\"#3B496B\",\"#3C4A6B\",\"#3D4B6B\",\"#3E4B6B\",\"#404C6B\",\"#414D6B\",\"#424E6B\",\"#434E6B\",\"#444F6B\",\"#45506B\",\"#46506B\",\"#47516B\",\"#48526B\",\"#49536B\",\"#4A536B\",\"#4B546B\",\"#4C556B\",\"#4D556B\",\"#4E566B\",\"#4F576C\",\"#50586C\",\"#51586C\",\"#52596C\",\"#535A6C\",\"#545A6C\",\"#555B6C\",\"#565C6C\",\"#575D6D\",\"#585D6D\",\"#595E6D\",\"#5A5F6D\",\"#5B5F6D\",\"#5C606D\",\"#5D616E\",\"#5E626E\",\"#5F626E\",\"#5F636E\",\"#60646E\",\"#61656F\",\"#62656F\",\"#63666F\",\"#64676F\",\"#65676F\",\"#666870\",\"#676970\",\"#686A70\",\"#686A70\",\"#696B71\",\"#6A6C71\",\"#6B6D71\",\"#6C6D72\",\"#6D6E72\",\"#6E6F72\",\"#6F6F72\",\"#6F7073\",\"#707173\",\"#717273\",\"#727274\",\"#737374\",\"#747475\",\"#757575\",\"#757575\",\"#767676\",\"#777776\",\"#787876\",\"#797877\",\"#7A7977\",\"#7B7A77\",\"#7B7B78\",\"#7C7B78\",\"#7D7C78\",\"#7E7D78\",\"#7F7E78\",\"#807E78\",\"#817F78\",\"#828078\",\"#838178\",\"#848178\",\"#858278\",\"#868378\",\"#878478\",\"#888578\",\"#898578\",\"#8A8678\",\"#8B8778\",\"#8C8878\",\"#8D8878\",\"#8E8978\",\"#8F8A78\",\"#908B78\",\"#918C78\",\"#928C78\",\"#938D78\",\"#948E78\",\"#958F78\",\"#968F77\",\"#979077\",\"#989177\",\"#999277\",\"#9A9377\",\"#9B9377\",\"#9C9477\",\"#9D9577\",\"#9E9676\",\"#9F9776\",\"#A09876\",\"#A19876\",\"#A29976\",\"#A39A75\",\"#A49B75\",\"#A59C75\",\"#A69C75\",\"#A79D75\",\"#A89E74\",\"#A99F74\",\"#AAA074\",\"#ABA174\",\"#ACA173\",\"#ADA273\",\"#AEA373\",\"#AFA473\",\"#B0A572\",\"#B1A672\",\"#B2A672\",\"#B4A771\",\"#B5A871\",\"#B6A971\",\"#B7AA70\",\"#B8AB70\",\"#B9AB70\",\"#BAAC6F\",\"#BBAD6F\",\"#BCAE6E\",\"#BDAF6E\",\"#BEB06E\",\"#BFB16D\",\"#C0B16D\",\"#C1B26C\",\"#C2B36C\",\"#C3B46C\",\"#C5B56B\",\"#C6B66B\",\"#C7B76A\",\"#C8B86A\",\"#C9B869\",\"#CAB969\",\"#CBBA68\",\"#CCBB68\",\"#CDBC67\",\"#CEBD67\",\"#D0BE66\",\"#D1BF66\",\"#D2C065\",\"#D3C065\",\"#D4C164\",\"#D5C263\",\"#D6C363\",\"#D7C462\",\"#D8C561\",\"#D9C661\",\"#DBC760\",\"#DCC860\",\"#DDC95F\",\"#DECA5E\",\"#DFCB5D\",\"#E0CB5D\",\"#E1CC5C\",\"#E3CD5B\",\"#E4CE5B\",\"#E5CF5A\",\"#E6D059\",\"#E7D158\",\"#E8D257\",\"#E9D356\",\"#EBD456\",\"#ECD555\",\"#EDD654\",\"#EED753\",\"#EFD852\",\"#F0D951\",\"#F1DA50\",\"#F3DB4F\",\"#F4DC4E\",\"#F5DD4D\",\"#F6DE4C\",\"#F7DF4B\",\"#F9E049\",\"#FAE048\",\"#FBE147\",\"#FCE246\",\"#FDE345\",\"#FFE443\",\"#FFE542\",\"#FFE642\",\"#FFE743\",\"#FFE844\",\"#FFE945\"]},\"id\":\"4384\",\"type\":\"LinearColorMapper\"},{\"attributes\":{\"axis_line_color\":null,\"coordinates\":null,\"formatter\":{\"id\":\"4580\"},\"group\":null,\"major_label_policy\":{\"id\":\"4581\"},\"major_label_standoff\":0,\"major_label_text_font_size\":\"10pt\",\"major_tick_line_color\":null,\"ticker\":{\"id\":\"4379\"}},\"id\":\"4378\",\"type\":\"CategoricalAxis\"},{\"attributes\":{\"coordinates\":null,\"group\":null,\"text\":\"Correlation Heatmap\"},\"id\":\"4365\",\"type\":\"Title\"},{\"attributes\":{\"tools\":[{\"id\":\"4381\"}]},\"id\":\"4382\",\"type\":\"Toolbar\"},{\"attributes\":{},\"id\":\"4392\",\"type\":\"BasicTickFormatter\"},{\"attributes\":{},\"id\":\"4376\",\"type\":\"CategoricalTicker\"},{\"attributes\":{},\"id\":\"4586\",\"type\":\"UnionRenderers\"},{\"attributes\":{},\"id\":\"4587\",\"type\":\"Selection\"},{\"attributes\":{\"source\":{\"id\":\"4363\"}},\"id\":\"4390\",\"type\":\"CDSView\"},{\"attributes\":{},\"id\":\"4373\",\"type\":\"CategoricalScale\"},{\"attributes\":{\"axis\":{\"id\":\"4375\"},\"coordinates\":null,\"grid_line_color\":null,\"group\":null,\"ticker\":null},\"id\":\"4377\",\"type\":\"Grid\"},{\"attributes\":{\"factors\":[\"Drug\",\"Na_to_K\",\"Cholesterol\",\"BP\",\"Sex\",\"Age\"]},\"id\":\"4369\",\"type\":\"FactorRange\"},{\"attributes\":{},\"id\":\"4371\",\"type\":\"CategoricalScale\"},{\"attributes\":{\"axis_line_color\":null,\"coordinates\":null,\"formatter\":{\"id\":\"4583\"},\"group\":null,\"major_label_orientation\":1.0471975511965976,\"major_label_policy\":{\"id\":\"4584\"},\"major_label_standoff\":0,\"major_label_text_font_size\":\"10pt\",\"major_tick_line_color\":null,\"ticker\":{\"id\":\"4376\"}},\"id\":\"4375\",\"type\":\"CategoricalAxis\"},{\"attributes\":{\"coordinates\":null,\"data_source\":{\"id\":\"4363\"},\"glyph\":{\"id\":\"4386\"},\"group\":null,\"hover_glyph\":null,\"muted_glyph\":{\"id\":\"4388\"},\"nonselection_glyph\":{\"id\":\"4387\"},\"view\":{\"id\":\"4390\"}},\"id\":\"4389\",\"type\":\"GlyphRenderer\"},{\"attributes\":{\"data\":{\"value\":[1.0,-0.10202736073161894,-0.12091783405913645,0.06823386810675439,-0.06311949726772591,0.08419704471637479,-0.10202736073161894,1.0,0.04495171428714518,-0.008811014308235356,0.12500849289526267,-0.08496364534306798,-0.12091783405913645,0.04495171428714518,1.0,-0.032208091401128326,0.03687102334025649,-0.008388298158410693,0.06823386810675439,-0.008811014308235356,-0.032208091401128326,1.0,-0.010000451730312521,0.18012927990590732,-0.06311949726772591,0.12500849289526267,0.03687102334025649,-0.010000451730312521,1.0,-0.6015475937092776,0.08419704471637479,-0.08496364534306798,-0.008388298158410693,0.18012927990590732,-0.6015475937092776,1.0],\"x\":[\"Age\",\"Age\",\"Age\",\"Age\",\"Age\",\"Age\",\"Sex\",\"Sex\",\"Sex\",\"Sex\",\"Sex\",\"Sex\",\"BP\",\"BP\",\"BP\",\"BP\",\"BP\",\"BP\",\"Cholesterol\",\"Cholesterol\",\"Cholesterol\",\"Cholesterol\",\"Cholesterol\",\"Cholesterol\",\"Na_to_K\",\"Na_to_K\",\"Na_to_K\",\"Na_to_K\",\"Na_to_K\",\"Na_to_K\",\"Drug\",\"Drug\",\"Drug\",\"Drug\",\"Drug\",\"Drug\"],\"y\":[\"Age\",\"Sex\",\"BP\",\"Cholesterol\",\"Na_to_K\",\"Drug\",\"Age\",\"Sex\",\"BP\",\"Cholesterol\",\"Na_to_K\",\"Drug\",\"Age\",\"Sex\",\"BP\",\"Cholesterol\",\"Na_to_K\",\"Drug\",\"Age\",\"Sex\",\"BP\",\"Cholesterol\",\"Na_to_K\",\"Drug\",\"Age\",\"Sex\",\"BP\",\"Cholesterol\",\"Na_to_K\",\"Drug\",\"Age\",\"Sex\",\"BP\",\"Cholesterol\",\"Na_to_K\",\"Drug\"]},\"selected\":{\"id\":\"4587\"},\"selection_policy\":{\"id\":\"4586\"}},\"id\":\"4363\",\"type\":\"ColumnDataSource\"},{\"attributes\":{\"high\":1.0,\"low\":-1.0,\"palette\":[\"#00204C\",\"#00204E\",\"#002150\",\"#002251\",\"#002353\",\"#002355\",\"#002456\",\"#002558\",\"#00265A\",\"#00265B\",\"#00275D\",\"#00285F\",\"#002861\",\"#002963\",\"#002A64\",\"#002A66\",\"#002B68\",\"#002C6A\",\"#002D6C\",\"#002D6D\",\"#002E6E\",\"#002E6F\",\"#002F6F\",\"#002F6F\",\"#00306F\",\"#00316F\",\"#00316F\",\"#00326E\",\"#00336E\",\"#00346E\",\"#00346E\",\"#01356E\",\"#06366E\",\"#0A376D\",\"#0E376D\",\"#12386D\",\"#15396D\",\"#17396D\",\"#1A3A6C\",\"#1C3B6C\",\"#1E3C6C\",\"#203C6C\",\"#223D6C\",\"#243E6C\",\"#263E6C\",\"#273F6C\",\"#29406B\",\"#2B416B\",\"#2C416B\",\"#2E426B\",\"#2F436B\",\"#31446B\",\"#32446B\",\"#33456B\",\"#35466B\",\"#36466B\",\"#37476B\",\"#38486B\",\"#3A496B\",\"#3B496B\",\"#3C4A6B\",\"#3D4B6B\",\"#3E4B6B\",\"#404C6B\",\"#414D6B\",\"#424E6B\",\"#434E6B\",\"#444F6B\",\"#45506B\",\"#46506B\",\"#47516B\",\"#48526B\",\"#49536B\",\"#4A536B\",\"#4B546B\",\"#4C556B\",\"#4D556B\",\"#4E566B\",\"#4F576C\",\"#50586C\",\"#51586C\",\"#52596C\",\"#535A6C\",\"#545A6C\",\"#555B6C\",\"#565C6C\",\"#575D6D\",\"#585D6D\",\"#595E6D\",\"#5A5F6D\",\"#5B5F6D\",\"#5C606D\",\"#5D616E\",\"#5E626E\",\"#5F626E\",\"#5F636E\",\"#60646E\",\"#61656F\",\"#62656F\",\"#63666F\",\"#64676F\",\"#65676F\",\"#666870\",\"#676970\",\"#686A70\",\"#686A70\",\"#696B71\",\"#6A6C71\",\"#6B6D71\",\"#6C6D72\",\"#6D6E72\",\"#6E6F72\",\"#6F6F72\",\"#6F7073\",\"#707173\",\"#717273\",\"#727274\",\"#737374\",\"#747475\",\"#757575\",\"#757575\",\"#767676\",\"#777776\",\"#787876\",\"#797877\",\"#7A7977\",\"#7B7A77\",\"#7B7B78\",\"#7C7B78\",\"#7D7C78\",\"#7E7D78\",\"#7F7E78\",\"#807E78\",\"#817F78\",\"#828078\",\"#838178\",\"#848178\",\"#858278\",\"#868378\",\"#878478\",\"#888578\",\"#898578\",\"#8A8678\",\"#8B8778\",\"#8C8878\",\"#8D8878\",\"#8E8978\",\"#8F8A78\",\"#908B78\",\"#918C78\",\"#928C78\",\"#938D78\",\"#948E78\",\"#958F78\",\"#968F77\",\"#979077\",\"#989177\",\"#999277\",\"#9A9377\",\"#9B9377\",\"#9C9477\",\"#9D9577\",\"#9E9676\",\"#9F9776\",\"#A09876\",\"#A19876\",\"#A29976\",\"#A39A75\",\"#A49B75\",\"#A59C75\",\"#A69C75\",\"#A79D75\",\"#A89E74\",\"#A99F74\",\"#AAA074\",\"#ABA174\",\"#ACA173\",\"#ADA273\",\"#AEA373\",\"#AFA473\",\"#B0A572\",\"#B1A672\",\"#B2A672\",\"#B4A771\",\"#B5A871\",\"#B6A971\",\"#B7AA70\",\"#B8AB70\",\"#B9AB70\",\"#BAAC6F\",\"#BBAD6F\",\"#BCAE6E\",\"#BDAF6E\",\"#BEB06E\",\"#BFB16D\",\"#C0B16D\",\"#C1B26C\",\"#C2B36C\",\"#C3B46C\",\"#C5B56B\",\"#C6B66B\",\"#C7B76A\",\"#C8B86A\",\"#C9B869\",\"#CAB969\",\"#CBBA68\",\"#CCBB68\",\"#CDBC67\",\"#CEBD67\",\"#D0BE66\",\"#D1BF66\",\"#D2C065\",\"#D3C065\",\"#D4C164\",\"#D5C263\",\"#D6C363\",\"#D7C462\",\"#D8C561\",\"#D9C661\",\"#DBC760\",\"#DCC860\",\"#DDC95F\",\"#DECA5E\",\"#DFCB5D\",\"#E0CB5D\",\"#E1CC5C\",\"#E3CD5B\",\"#E4CE5B\",\"#E5CF5A\",\"#E6D059\",\"#E7D158\",\"#E8D257\",\"#E9D356\",\"#EBD456\",\"#ECD555\",\"#EDD654\",\"#EED753\",\"#EFD852\",\"#F0D951\",\"#F1DA50\",\"#F3DB4F\",\"#F4DC4E\",\"#F5DD4D\",\"#F6DE4C\",\"#F7DF4B\",\"#F9E049\",\"#FAE048\",\"#FBE147\",\"#FCE246\",\"#FDE345\",\"#FFE443\",\"#FFE542\",\"#FFE642\",\"#FFE743\",\"#FFE844\",\"#FFE945\"]},\"id\":\"4391\",\"type\":\"LinearColorMapper\"},{\"attributes\":{\"fill_alpha\":{\"value\":0.2},\"fill_color\":{\"field\":\"value\",\"transform\":{\"id\":\"4384\"}},\"hatch_alpha\":{\"value\":0.2},\"height\":{\"value\":1},\"line_alpha\":{\"value\":0.2},\"line_color\":{\"value\":null},\"width\":{\"value\":1},\"x\":{\"field\":\"x\"},\"y\":{\"field\":\"y\"}},\"id\":\"4388\",\"type\":\"Rect\"},{\"attributes\":{\"fill_alpha\":{\"value\":0.1},\"fill_color\":{\"field\":\"value\",\"transform\":{\"id\":\"4384\"}},\"hatch_alpha\":{\"value\":0.1},\"height\":{\"value\":1},\"line_alpha\":{\"value\":0.1},\"line_color\":{\"value\":null},\"width\":{\"value\":1},\"x\":{\"field\":\"x\"},\"y\":{\"field\":\"y\"}},\"id\":\"4387\",\"type\":\"Rect\"},{\"attributes\":{\"axis\":{\"id\":\"4378\"},\"coordinates\":null,\"dimension\":1,\"grid_line_color\":null,\"group\":null,\"ticker\":null},\"id\":\"4380\",\"type\":\"Grid\"}],\"root_ids\":[\"4364\"]},\"title\":\"Bokeh Application\",\"version\":\"2.4.3\"}};\n  const render_items = [{\"docid\":\"df5295a4-2451-41d0-b54f-fa04b15d0824\",\"root_ids\":[\"4364\"],\"roots\":{\"4364\":\"e56f38ce-0c43-4446-b0c3-655225953bf0\"}}];\n  root.Bokeh.embed.embed_items_notebook(docs_json, render_items);\n  }\n  if (root.Bokeh !== undefined) {\n    embed_document(root);\n  } else {\n    let attempts = 0;\n    const timer = setInterval(function(root) {\n      if (root.Bokeh !== undefined) {\n        clearInterval(timer);\n        embed_document(root);\n      } else {\n        attempts++;\n        if (attempts > 100) {\n          clearInterval(timer);\n          console.log(\"Bokeh: ERROR: Unable to run BokehJS code because BokehJS library is missing\");\n        }\n      }\n    }, 10, root)\n  }\n})(window);",
      "application/vnd.bokehjs_exec.v0+json": ""
     },
     "metadata": {
      "application/vnd.bokehjs_exec.v0+json": {
       "id": "4364"
      }
     },
     "output_type": "display_data"
    }
   ],
   "source": [
    "plot_corr_heatmap(df_drug_copy)"
   ]
  },
  {
   "attachments": {},
   "cell_type": "markdown",
   "metadata": {},
   "source": [
    "Con esto, se puede certificar que, como se observaba en la nube de puntos de dispersión, la mayor correlación existente en el dataset se encuentra entre las variables tipo de medicamento y ratio sodio/potasio, en concreto una correlación negativa de -0.6 aproximadamente."
   ]
  },
  {
   "attachments": {},
   "cell_type": "markdown",
   "metadata": {},
   "source": [
    "<a name=\"conclusiones\"></a>\n",
    "## Conclusiones\n",
    "\n",
    "Para este trabajo se habían fijado los siguientes objetivos:\n",
    "\n",
    "- Describir los diferentes tipos de formas gráficas que se utilizan para la visualización de datos.\n",
    "- Establecer una serie de criterios para el correcto uso de la visualización.\n",
    "- Desarrollo de ejemplos y casos de uso.\n",
    "\n",
    "Se puede concluir que todos ellos han sido satisfechos a través de un estudio del estado del arte, haciendo una aproximación a la visualización desde un punto inicial de aprendizaje, conociendo los diferentes elementos técnicos necesarios para una buena y correcta ejecución, estableciendo criterios de uso para según qué situaciones y finalizando con una puesta en práctica de todo lo aprendido.\n",
    "\n",
    "Además, se ha optado por una librería como Bokeh, la cual ofrece bastante libertad a un nivel medio-alto, ya que no cuenta con métodos previamente definidos que permitan la obtención directa de visualizaciones, sino que es necesario su construcción. De esta forma, se pone en práctica la teoría y se proponen e implementan una serie de funciones que pueden ser utilizadas para un análisis exploratorio de datos.\n",
    "\n",
    "Como conclusión, también se ha llegado a la reflexión de que es lógico que las librerías que implementan visualización, y que incluyen ya una serie de funciones predefinidas, tengan tan buena acogida en la mayoría de proyectos. Es muy cómo contar con herramientas que ya hacen buena parte del trabajo que aquí se ha realizado para implementar funciones que no se incluyen en Bokeh.\n",
    "\n",
    "Por último, también se ha podido conocer la importancia y el valor añadido de la visualización en cualquier análisis exploratorio de un dataset. Ofrece muchas pistas sobre el objeto de estudio y ayuda a plantear preguntas y formular hipótesis que puedan ser posteriormente evaluadas. De esta forma, es lógico que sea un proceso técnico que esté presente en todo proyecto KDD y a lo largo de todo su ciclo de vida."
   ]
  },
  {
   "attachments": {},
   "cell_type": "markdown",
   "metadata": {},
   "source": [
    "<a name=\"referencias\"></a>\n",
    "## Referencias\n",
    "\n",
    "- A Complete Guide to Data Visualization in Python With Libraries, Chart, Graphs & More. (s. f.). Simplilearn. https://www.simplilearn.com/tutorials/python-tutorial/data-visualization-in-python\n",
    "- Bokeh. First Steps. (s. f.). https://docs.bokeh.org/en/2.4.3/docs/first_steps.html\n",
    "- Bokeh. Boxplot. (s. f.). https://docs.bokeh.org/en/latest/docs/gallery/boxplot.html\n",
    "- Cómo mejorar tu web gracias a los mapas de calor. (s. f.). Devservice.es. https://www.devservice.es/blog/mapas-calor-web/\n",
    "- Codecademy. Exploratory Data Analysis: Data Visualization. (s. f.). https://www.codecademy.com/article/eda-data-visualization\n",
    "- Guía de visualización de datos: definición, ejemplos y recursos de aprendizaje. (s. f.). Tableau. https://www.tableau.com/es-es/learn/articles/data-visualization\n",
    "- Iliinsky, N., & Steele, J. (2011). Designing Data Visualizations: Representing Informational Relationships. Van Duuren Media.\n",
    "- Sahay, A. (2016). Data visualization, volume i : Recent trends and applications using conventional and big data. Business Expert Press.\n",
    "- Wilke, C. O. (2019). Fundamentals of Data Visualization: A Primer on Making Informative and Compelling Figures (1.). O’Reilly Media."
   ]
  },
  {
   "cell_type": "code",
   "execution_count": 38,
   "metadata": {},
   "outputs": [],
   "source": [
    "# Enero 2023\n",
    "# Mario Ruano Fernández\n",
    "# Machine Learning Engineer (curso 2022-2023)\n",
    "# Máster en Ingeniería del Software: Cloud, Datos y Gestión TI\n",
    "# Universidad de Sevilla"
   ]
  }
 ],
 "metadata": {
  "kernelspec": {
   "display_name": "base",
   "language": "python",
   "name": "python3"
  },
  "language_info": {
   "codemirror_mode": {
    "name": "ipython",
    "version": 3
   },
   "file_extension": ".py",
   "mimetype": "text/x-python",
   "name": "python",
   "nbconvert_exporter": "python",
   "pygments_lexer": "ipython3",
   "version": "3.9.13"
  },
  "orig_nbformat": 4,
  "vscode": {
   "interpreter": {
    "hash": "eb182b86209dcd705bf9dec3049d5d7c758c5aab2b12220beac9429b4f10b188"
   }
  }
 },
 "nbformat": 4,
 "nbformat_minor": 2
}
