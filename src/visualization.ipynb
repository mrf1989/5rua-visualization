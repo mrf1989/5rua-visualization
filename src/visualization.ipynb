{
 "cells": [
  {
   "attachments": {},
   "cell_type": "markdown",
   "metadata": {},
   "source": [
    "# Visualización\n",
    "\n",
    "Este *notebook* trata sobre visualización de datos, presente en todo proceso KDD. Aquí se presenta el desarrollo del trabajo realizado para la asignatura Machine Learning Engineering, del Máster en Ingeniería del Software: Cloud, Datos y Gestión TI de la Universidad de Sevilla, curso académico 2022-23.\n",
    "\n",
    "## Tabla de contenidos\n",
    "\n",
    "* [Autor](#autor)\n",
    "* [Introducción](#introduccion)\n",
    "* [Definición](#definicion)\n",
    "* [Elementos para la visualización](#elementos)\n",
    "* [Criterio de uso](#criterios)\n",
    "* [Caso práctico: Bokeh library](#bokeh)\n",
    "* [Referencias](#referencias)\n",
    "\n",
    "___"
   ]
  },
  {
   "attachments": {},
   "cell_type": "markdown",
   "metadata": {},
   "source": [
    "<a name=\"autor\"></a>\n",
    "## Autor\n",
    "\n",
    "Este trabajo y este *notebook* han sido desarrollados por **Mario Ruano Fernández** ([mruano@us.es](mailto:mruano@us.es))."
   ]
  },
  {
   "attachments": {},
   "cell_type": "markdown",
   "metadata": {},
   "source": [
    "<a name=\"introduccion\"></a>\n",
    "## Introducción\n",
    "\n",
    "En este trabajo se pretende realizar un estudio del estado del arte de la visualización de datos, marcando como objetivos.\n",
    "\n",
    "- Describir los diferentes tipos de formas gráficas que se utilizan para la visualización de datos.\n",
    "- Establecer una serie de criterios para el correcto uso de la visualización.\n",
    "- Desarrollo de ejemplos y casos de uso.\n",
    "\n",
    "Para dar cumplimiento a estos objetivos, en la sección [Elementos para la visualización](#elementos) se especifican algunas características importantes que deben tenerse en cuenta en toda representación gráfica, de modo que pueda obtenerse, como resultado, una buena visualización de datos. En la sección [Tipos](#tipos) se incluye una descripción de los diferentes tipos de visualizaciones que se pueden encontrar, cómo se clasifican y cuáles son las más utilizadas. Por último, en la sección [Caso práctico](#bokeh), se pondrán en práctica los aspectos teóricos estudiados, realizándose ejemplos con la librería [Bokeh](https://bokeh.org/)."
   ]
  },
  {
   "attachments": {},
   "cell_type": "markdown",
   "metadata": {},
   "source": [
    "<a name=\"definicion\"></a>\n",
    "## Definición\n",
    "\n",
    "La visualización de los datos puede definirse como una forma gráfica y visual de representar información y datos a través de tablas, gráficos, mapas y otros elementos visuales (Tableau, s.f.). Gracias a la visualización, las personas pueden acceder a la información de los datos de manera más sencilla y más comprensible (Sahay, 2016).\n",
    "\n",
    "Frente a grandes cantidades y conjuntos de datos, la visualización ayuda a sintetizar y detectar de manera efectiva características que los datos esconden, relaciones entre variables, patrones, tendencias, etc. Por esta razón, la visualización se utiliza en la gran mayoría de fases o etapas de cualquier proceso KDD. Desde la selección de datos hasta la comunicación del conocimiento extraido de los mismo, pasando por el preprocesamiento, el análisis y la aplicación de técnicas de Machine Learning y Data Mining.\n",
    "\n",
    "La visualización de datos es un proceso, en esencia, simple: tomamos los valores de los datos y los convertimos sistemática y lógicamente en elementos visuales que conforman una representación gráfica o visual (Wilke, 2019).\n",
    "\n",
    "Sin embargo, el campo de la visualización es extremadamente amplio. Aquí convergen una serie de disciplinas, como el diseño gráfico, el arte, la ciencia cognitiva, las matemáticas, la geometría, etc.\n",
    "\n",
    "Siguiendo a Sahay (2016), encontramos dos categorías dentro de la visualización de datos: la exploración y la explicación. Estas atienden a momentos distintos y existen técnicas y herramientas que se ajustan mejor a cada una de ellas.\n",
    "\n",
    "La exploración de datos consiste en la búsqueda del significado y el sentido de los datos cuando realmente no se sabe qué aportan, frente a la explicación, cuando sí se tiene conocimiento sobre los datos y se trata de contar y transmitir el conocimiento de estos. Aun así, se suelen dar casos híbridos, ya que estas categorías no se ven representadas de manera exacta siempre (Sahay, 2016).\n",
    "\n",
    "En definitiva, en todo caso será determinante el contexto en el que se realiza la visualización y con qué enfoque se desarrolla. Por lo general, en este trabajo, se trabaja en la línea de la visualización aplicada al campo del Machine Learning."
   ]
  },
  {
   "attachments": {},
   "cell_type": "markdown",
   "metadata": {},
   "source": [
    "<a name=\"elementos\"></a>\n",
    "## Elementos para la visualización\n",
    "\n",
    "Tal y como define Wilke (2019) en su libro Fundamentals of Data Visualization, la visualización de datos comprende una parte de arte y otra parte de ciencia. Se debe buscar un equilibrio entre ambas partes para cumplir con su propósito de uso: comunicar una información correcta, comprensible, sin ambigüedades, útil y de interés. En definitiva, la visualización de datos no es más que una forma de comunicación visual que presenta los datos de forma gráfica (Sahay, 2016).\n",
    "\n",
    "Por esta razón, y debido a esa necesidad de equilibrar las creaciones gráficas, aquí se identifican una serie de elementos y aspectos a tener en cuenta a la hora de generar visualizaciones. Es un amplio campo de trabajo y todos estos elementos pueden ser estudiados con gran profundidad y detalle. En este *notebook* solo se van a identificar y se indicarán algunas buenas prácticas, especialmente en aquellos elementos que pueden ser manipulados a través de las librerías de visualización, en general, y de los que permite personalizar la librería Bokeh, en particular.\n",
    "\n",
    "En definitiva, cuando se pretende generar gráficos a partir de datos, se está tratando de desarrollar un procedimiento de mapeo, mediante el cual se pasa de una serie de datos en bruto, normalmente numéricos, a una representación estética y visual de los mismos. Aquí entran en juego aspectos como la posición, las formas, el tamaño, el color, etc.\n",
    "\n",
    "Es, en ese procedimiento de mapeo, donde se detectan los elementos que darán identidad visual a la realidad intrínseca de los propios datos que representan, y que se enuncian a continuación.\n",
    "\n",
    "### Ejes\n",
    "\n",
    "En este trabajo se hace referencia a gráficos en 2D, generalmente aquellos que utilizan un sistema de coordenadas cartesianas para sus ejes.\n",
    "\n",
    "Respecto a los ejes hay que tener en cuenta un par de aspectos:\n",
    "\n",
    "- El ratio de aspecto del eje horizontal frente al vertical. Esto está relacionado con el ancho y alto de la gráfica que se visualiza. Afecta a cómo se visualizan los resultados, aunque sean diferentes versiones correctas.\n",
    "- La escala numérica de los ejes. Pueden seguir una escala lineal, logarítmica o de raíz cuadrada, entre otras. Esto afectará a la forma de visualizar los datos y de dar una correcta interpretación de los ellos.\n",
    "\n",
    "Es recomendable hacer uso de la escala logarítmica en aquellos casos en los que se quieren representar valores en los que hay una gran diferencia en cuanto a magnitudes (Wilke, 2019).\n",
    "\n",
    "Otro tipo de sistema de representación es el sistema de coordenadas polares, con eje curvo. Es óptimo hacer uso de este tipo de ejes cuando se quieren representar datos de naturaleza periódica.\n",
    "\n",
    "### Color\n",
    "\n",
    "El color es uno de los principales elementos visuales que captan la atención en un gráfico. Por tanto, si se hace una correcta elección y aplicación del mismo puede ser de gran utilidad para comunicar la información. De manera general, el color cubre los siguientes requisitos (Wilke, 2019):\n",
    "\n",
    "- Distinción de elementos discretos o grupos: mediante el uso de escalas cualitativas de color, el objetivo es poder distinguir de forma clara entre distintos conjuntos, evitando que algún color destaque por encima de otros o que den sensación de ordenación. Por ejemplo, esto es muy importante a la hora de representar clusters.\n",
    "- Representación de valores: generalmente se busca representar una escala de valores o un rango, por lo que se aplica una escala secuencial de color. Esta debe presentar un rango uniforme perceptible, que puede bien puede ser monocromático o multicromático, pero lo importante es que en todo momento se pueda comprender ya apreciar con facilidad la diferencia de magnitud entre los valores de los datos.\n",
    "- Resaltar algún valor o elemento de los datos: con la intención de llamar la atención o resaltar un aspecto concreto, usar un color que destaca sobre el resto hace resaltar una idea. Para conseguir este efecto, es muy importante que el resto de colores que acompañen al color de resaltado no distraigan. Una buena técnica es dejar sin color o utilizar un tono gris para todos los elementos, frente a un color para el elemento a resaltar, aumentando el efecto.\n",
    "\n",
    "Con esto, en todo caso se debe tratar de hacer una elección de color correcta, evitando algunos problemas que pueden derivar de un mal uso del color:\n",
    "\n",
    "- Codificar (colorear) demasiada información de forma irrelevante, no solo no llegando a aportar nada, sino haciendo absolutamente compleja la tarea de destinguir elementos. Cuando se quiere diferenciar más de ocho elementos categóricos, se recomienda usar etiquetas textuales, siempre y cuando no saturen tampoco.\n",
    "- Utilizar demasiados colores muy saturados o intensos dificulta la visión y provoca una lectura estresante del gráfico. Estos colores pueden tener cabida, pero de forma mínima y para resaltar algún aspecto.\n",
    "- Seleccionar escalas de color que hacen compleja la comprensión para aquellas personas tienen deficiencias cognitivias de visión. Se recomienda utilizar algún simulador que simula estas patologías para testear los colores elegidos y certificar que funcionan en todos los casos.\n",
    "- Elegir escalas de colores que no permiten diferenciar las magnitudes de los valores, qué es mayor o qué es menor. Esto suele pasar si se utilizan escalas como la escala arcoíris, en la que hay más de un color y donde hay tonalidades monótonas.\n",
    "\n",
    "### Títulos, subtítulos y etiquetas\n",
    "\n",
    "Por lo general, en la visualización de datos los títulos, subtítulos y etiquetas se encargan de ofrecer contexto.\n",
    "\n",
    "Todas las gráficas necesitan tener un título, el que marca el significado y el asunto principal de la figura. Además, si se genera más de una gráfica en el mismo contexto, el título debe seguir el mismo criterio, esto es: puede ir tanto integrado, normalmente en la cabecera de la gráfica, como al pie, en lo que se considera el subtítulo. Sea de una forma u otra, siempre se debe seguir el mismo criterio para todas las gráficas.\n",
    "\n",
    "En cuanto a los subtítulos, pueden apartar un mayor detalle de contexto, aclarando alguno de los aspectos que, a simple vista, no queden totalmente claros a través del resto de elementos. No debe ser redundante, sino complementar al gráfico.\n",
    "\n",
    "En cuanto a las etiquetas, se pueden localizar en distintos lugares de una gráfica. Aparecen como los identificadores de los valores de los ejes, en las leyendas o como denominadores de los ejes. Para este último caso, es altamente recomendable indicar la unidad de medida junto a la etiqueta, si el eje represente una medición. Si de lo contrario el eje representa valores categóricos, simplemente se aplica una etiqueta que dé título a dicho eje.\n",
    "\n",
    "Por último, en relación a esto, no hay que despreciar los tamaños. De nada sirve disponer de todos estos elementos textuales si tienen un tamaño difícil de leer. Se debe aplicar un tamaño apto para la lectura, sin necesidad de realizar zoom sobre la gráfica.\n",
    "\n",
    "### Tipos de gráficos\n",
    "\n",
    "Por último, en este apartado se enuncian y definen las principales formas gráficas y los tipos de gráficos más utilizados dentro del contexto de trabajo del análisis exploratorio de datos en Machine Learning (Sahay, 2016). Esta tipología será la referencia de partida para establecer el criterio de uso, según qué situaciones y contextos, y la base para el caso práctico que se implementa en este trabajo con la librería Bokeh.\n",
    "\n",
    "#### Tablas\n",
    "\n",
    "Aunque el concepto y la definición de visualización de datos se acerca más al hecho de representación mediante elementos gráficos como puntos, líneas, colores, etc., las tablas también son una forma más de visualización. Una de las formas más primitivas de visualizar datos y quizás una de las menos intuitivas, a menos que se cuente con una buena descripción de contexto, que pueda ofrecer información sobre cómo leer e interpretar los datos.\n",
    "\n",
    "<div style=\"display: flex; align-items: center; justify-content: center;\">\n",
    "  <div style=\"max-width: 500px;\">\n",
    "    <img src=\"../assets/tabla.png\"/>\n",
    "    <p style=\"position: relative; top:-20px; left: 10px;\"><small>(Sahay, 2016)</small></p>\n",
    "  </div>\n",
    "</div>\n",
    "\n",
    "#### Diagrama de puntos\n",
    "\n",
    "Los diagramas de puntos consisten en nubes de puntos que relacionan dos variables, haciendo uso de los ejes x e y. Cada eje corresponde al rango de valores de cada una de las variables, por lo que cada uno de los puntos corresponde a una medición concreta. Esto significa que los puntos pueden apilarse, ya que algunas mediciones pueden coincidir.\n",
    "\n",
    "<div style=\"display: flex; align-items: center; justify-content: center;\">\n",
    "  <div style=\"max-width: 500px;\">\n",
    "    <img src=\"../assets/puntos.png\"/>\n",
    "    <p style=\"position: relative; top:-20px; left: 10px;\"><small>(Sahay, 2016)</small></p>\n",
    "  </div>\n",
    "</div>\n",
    "\n",
    "#### Diagrama de barras\n",
    "\n",
    "Es, quizás, uno de los diagramas más conocidos y utilizados para la visualización de datos. Ideal para relacionar un rango de valores categóricos con una variable cuantitativa numérica, como puede ser el precio, la temperatura, etc. En el diagrama de barras, por lo general, el eje x representa el rango de valores, normalmente categórico, frente al eje y, donde se tiene el rango de valores cuantitativo. Además, existen variaciones de este tipo de gráfico, pudiéndose usarse con grupos de barras o en orientación horizontal.\n",
    "\n",
    "<div style=\"display: flex; align-items: center; justify-content: center;\">\n",
    "  <div style=\"max-width: 500px;\">\n",
    "    <img src=\"../assets/barras.png\"/>\n",
    "    <p style=\"position: relative; top:-20px; left: 10px;\"><small>(Sahay, 2016)</small></p>\n",
    "  </div>\n",
    "</div>\n",
    "\n",
    "#### Diagrama de caja\n",
    "\n",
    "El diagrama de caja muestra, para una variable determinada, el valor más pequeño, el más grande y sus tres cuartiles. Esto se hace mediante un segmento, cuyos extremos representan el valor mínimo y el valor máximo, dada una variable de un conjunto de datos. Los cuartiles, por otro lado, quedan representados mediante una figura rectangular, superpuesta sobre el segmento. El cuartial 1 es aquel lado de la figura que está más cercano al extremo correspondiente al valor mínimo, mientras que el cuartil 3 es el lado opuesto. Generalmente se visualiza el cuartil 2 mediante un punto dentro del rectángulo, lo que también corresponde a la mediana. Es una buena forma de representación visual para tener un resumen de estos valores.\n",
    "\n",
    "<div style=\"display: flex; align-items: center; justify-content: center;\">\n",
    "  <div style=\"max-width: 500px;\">\n",
    "    <img src=\"../assets/box.png\"/>\n",
    "    <p style=\"position: relative; top:-20px; left: 10px;\"><small>(Sahay, 2016)</small></p>\n",
    "  </div>\n",
    "</div>\n",
    "\n",
    "#### Mapa de calor\n",
    "\n",
    "Utilizado para representar, mediante colores, el valor de una magnitud en dos dimensiones. El color cambiará su tonalidad o su intensidad conforme el valor de la variable representada. Este tipo de representación es muy útil cuando se quiere representar algo en el espacio 2D. Por ejemplo, la ubicación del puntero del mouse del usuario en una web. El eje x representaría el ancho de la web, mientras que el eje y correspondería al alto. El color podría cambiar en función del tiempo que pasa el puntero del ratón en una coordenada. Se puede usar, por tanto, para identificar los \"puntos calientes\" de una página web.\n",
    "\n",
    "<div style=\"display: flex; align-items: center; justify-content: center;\">\n",
    "  <div style=\"max-width: 500px;\">\n",
    "    <img src=\"../assets/click-heatmap.jpg\"/>\n",
    "    <p style=\"position: relative; top:-20px; left: 10px;\"><small>(Devservice.es, s. f.)</small></p>\n",
    "  </div>\n",
    "</div>\n",
    "\n",
    "#### Gráfico circular\n",
    "\n",
    "El diagrama circular, también conocido como gráfica o diagrama de tarta, representa las magnitudes relativas de las partes como un todo. Esto significa que, dadas unas serie de grupos de valores, se visualiza la frecuencia relativa con la que se dan cada uno de estos. En definitiva, representan porcentajes y ratios, como, por ejemplo la dedicación porcentual de un presupuesto a distintos capítulos o asuntos económicos. Por lo general, suelen emplearse colores distintos para cada una de las porciones del gráfico, no siendo muy recomendable particionarla en exceso, ya que es complejo de leer. Para estos casos, se pude utilizar una extensión de una de las porciones, representándola en otro gráfico circular o en una barra.\n",
    "\n",
    "<div style=\"display: flex; align-items: center; justify-content: center;\">\n",
    "  <div style=\"max-width: 500px;\">\n",
    "    <img src=\"../assets/pie1.png\"/>\n",
    "    <p style=\"position: relative; top:-20px; left: 10px;\"><small>(Sahay, 2016)</small></p>\n",
    "  </div>\n",
    "  <div style=\"max-width: 500px;\">\n",
    "    <img src=\"../assets/pie2.png\"/>\n",
    "    <p style=\"position: relative; top:-20px; left: 10px;\"><small>(Sahay, 2016)</small></p>\n",
    "  </div>\n",
    "</div>\n",
    "\n",
    "#### Gráfico de líneas\n",
    "\n",
    "El gráfico de líneas es una forma de representación gráfica sencilla. Generalmente se utiliza para reflejar el cambio de un valor en el tiempo, siendo el eje x una secuencia de valores temporales (horas, días, meses, años, etc.), y el eje y la medición de una variable en ese momento temporal concreto. Al final, se obtiene un punto, como el diagrama de puntos, pero estos puntos quedan unidos de manera secuencial, formando una línea. En estos gráficos se pueden incluir más de una línea, de distinto color, que representen la misma medición en diferentes condiciones. Esta forma es muy útil para hacer comparativas de la evolución y la tendencia de una variable en el tiempo.\n",
    "\n",
    "<div style=\"display: flex; align-items: center; justify-content: center;\">\n",
    "  <div style=\"max-width: 500px;\">\n",
    "    <img src=\"../assets/line1.png\"/>\n",
    "    <p style=\"position: relative; top:-20px; left: 10px;\"><small>(Sahay, 2016)</small></p>\n",
    "  </div>\n",
    "  <div style=\"max-width: 500px;\">\n",
    "    <img src=\"../assets/line2.png\"/>\n",
    "    <p style=\"position: relative; top:-20px; left: 10px;\"><small>(Sahay, 2016)</small></p>\n",
    "  </div>\n",
    "</div>\n",
    "\n",
    "#### Gráfico de área\n",
    "\n",
    "Es un tipo de combinación de gráfico de líneas y diagrama de barras, muy utilizado en series temporales. Representa la variación de las cantidades de una variable conforme pasa el tiempo, por lo que se puede utilizar para conocer la evolución o la tendencia de dicho cambio. La línea marca la unión de los momentos de medición, por ejemplo, los meses o años, en el eje x; mientras que el área coloreada que queda encerrada bajo la línea, corresponde a la cantidad de la variable que se mide. Podría decirse que es un tipo de gráfico de barras continuo. Suele usarse mucho mediante áreas apiladas, asignado un color a cada una de estas, e interpretándose como un todo, pudiéndose observar las diferencias. Por ejemplo, representando la producciónd de barriles de petróleo a lo largo de los meses, durante varios años, para distintas empresas estadounidenses.\n",
    "\n",
    "<div style=\"display: flex; align-items: center; justify-content: center;\">\n",
    "  <div style=\"max-width: 500px;\">\n",
    "    <img src=\"../assets/area.png\"/>\n",
    "    <p style=\"position: relative; top:-20px; left: 10px;\"><small>(Sahay, 2016)</small></p>\n",
    "  </div>\n",
    "</div>"
   ]
  },
  {
   "attachments": {},
   "cell_type": "markdown",
   "metadata": {},
   "source": [
    "<a name=\"criterios\"></a>\n",
    "## Criterio de uso\n",
    "\n",
    "Tras conocer los principales elementos que entran en juego en la visualización de datos y que deben tenerse en cuenta para realizar una correcta interpretación y comunicación de estos, en esta sección se establecen criterios que se pueden implementar en cualquier análisis exploratorio de datos para cualquier dataset.\n",
    "\n",
    "### Visualización del dataset en tabla\n",
    "\n",
    "En primer lugar, cualquier análisis dará comienzo con la lectura de un dataset. El primer paso en visualización debe ser observar los datos en su conjunto, esto es, la tabla en la que se pueden ver todas las columnas y ejemplos. A través de esto, utilizando una representación tabular, se puede hacer una comprobación rápida del número de varibles, conocer sus nombres, el tipo de dato de cada una y hacer una revisión general del volumen de casos.\n",
    "\n",
    "Muchas librerías permiten la generación de data frames a partir de la fuente de los datos (generalmente un archivo csv). A través de estas librerías se puede visualizar el data frame, el cual ya está presentado de manera tabular y se puede establecer un parámetro para ver solo los *n* primeros ejemplos del conjunto de datos.\n",
    "\n",
    "### Búsqueda de outliers con diagramas de caja\n",
    "\n",
    "Una vez se se conocen las dimensiones del dataset, lo normal es comenzar a preprocesar el conjunto de datos limpiando aquellos ejemplos en los que se detectan datos nulos y outliers. Para poder localizar los outliers, los diagramas de caja son muy recomendables. Con ellos se pueden detectar los valores atípicos, los consideramos como outliers, y eliminarlos.\n",
    "\n",
    "Se establece un diagrama de caja por cada variable o columna del dataset que vaya a ser tenida en cuenta en el análisis exploratorio. También se pueden visualizar todas juntas, en un multidiagrama.\n",
    "\n",
    "### Histogramas de barras\n",
    "\n",
    "A través de los histogramas, representados mediante diagramas de barras, se puede conocer la distribución de las variables del conjunto de datos y qué frecuente es que se dé un valor u otro. Con esto se podrá valorar si se van a disponer ejemplos sesgados, porque no existe cierto equilibrio entre las distintas muestras, por ejemplo, para entrenar un modelo predictivo.\n",
    "\n",
    "El histograma se genera para cada una de las variables del dataset que se vayan a tener en cuenta.\n",
    "\n",
    "### Proporción de casos con gráficos circulares\n",
    "\n",
    "En el caso de variables categóricas, se pueden establecer sumatorios que cuenten el total de casos de cada tipo y puedan ser represetandos en gráficos circulares, junto al porcentaje correspondiente para cada dato. Con este tipo de gráficas también será posible conocer el volumen de casos para determinados valores y detectar algunas descompensaciones en el dataset. Además, en la fase de análisis, gracias a estas gráficas se pueden obtener respuestas interesantes a preguntas que se puedan ir planteando.\n",
    "\n",
    "### Relación de variables con diagramas de puntos\n",
    "\n",
    "Una forma de comprobar el tipo de relación que puede existir entre variables del dataset es a través del diagrama de puntos. Enfrentando dos variables, cada una de ellas asignada a los ejes x e y, se puede obtener la forma que sigue la distribución. De manera visual se puede valorar si siguen una relación linal o logarítmica, o simplemente no se puede certificar relación alguna. Gracias a este análisis se pueden seleccionar atributos que serán usados para entrenar un modelo predictivo, por ejemplo.\n",
    "\n",
    "También se puede hacer uso de este diagrama de puntos para tratar de representar la misma relación teniendo en cuenta distintos casos categóricos, los cuales se diferencian por el color de los puntos. Gracias a esto, se pueden detectar clústers de ejemplos.\n",
    "\n",
    "### Correlación con mapas de calor\n",
    "\n",
    "Otra forma de estudiar y analizar la relación entre variables de un conjunto de datos es através del estudio de la correlación. Para esto, una vez se hace el cálculo de la correlación de variables, esta puede representarse mediante un mapa de calor, siendo muy fácil interpretarla de forma visual. Gracias a esta gráfica se puede hacer la selección de variables que se usarán para entrenar modelos predictivos."
   ]
  },
  {
   "attachments": {},
   "cell_type": "markdown",
   "metadata": {},
   "source": [
    "<a name=\"bokeh\"></a>\n",
    "## Caso práctico: Bokeh library\n",
    "\n",
    "A partir del marco teórico esbozado, donde se han descrito los elementos gráficos que protagonizan la visualización de datos y se han trazado una serie de criterios de uso para la realización de una análisis exploratorio, ahora se ponen en práctica con la librería de visualización Bokeh.\n",
    "\n",
    "Se comienza importando todas las librerías necesarias para la realización del caso práctico."
   ]
  },
  {
   "cell_type": "code",
   "execution_count": 92,
   "metadata": {},
   "outputs": [
    {
     "data": {
      "text/html": [
       "<div class=\"bk-root\">\n",
       "        <a href=\"https://bokeh.org\" target=\"_blank\" class=\"bk-logo bk-logo-small bk-logo-notebook\"></a>\n",
       "        <span id=\"21890\">Loading BokehJS ...</span>\n",
       "    </div>\n"
      ]
     },
     "metadata": {},
     "output_type": "display_data"
    },
    {
     "data": {
      "application/javascript": "(function(root) {\n  function now() {\n    return new Date();\n  }\n\n  const force = true;\n\n  if (typeof root._bokeh_onload_callbacks === \"undefined\" || force === true) {\n    root._bokeh_onload_callbacks = [];\n    root._bokeh_is_loading = undefined;\n  }\n\nconst JS_MIME_TYPE = 'application/javascript';\n  const HTML_MIME_TYPE = 'text/html';\n  const EXEC_MIME_TYPE = 'application/vnd.bokehjs_exec.v0+json';\n  const CLASS_NAME = 'output_bokeh rendered_html';\n\n  /**\n   * Render data to the DOM node\n   */\n  function render(props, node) {\n    const script = document.createElement(\"script\");\n    node.appendChild(script);\n  }\n\n  /**\n   * Handle when an output is cleared or removed\n   */\n  function handleClearOutput(event, handle) {\n    const cell = handle.cell;\n\n    const id = cell.output_area._bokeh_element_id;\n    const server_id = cell.output_area._bokeh_server_id;\n    // Clean up Bokeh references\n    if (id != null && id in Bokeh.index) {\n      Bokeh.index[id].model.document.clear();\n      delete Bokeh.index[id];\n    }\n\n    if (server_id !== undefined) {\n      // Clean up Bokeh references\n      const cmd_clean = \"from bokeh.io.state import curstate; print(curstate().uuid_to_server['\" + server_id + \"'].get_sessions()[0].document.roots[0]._id)\";\n      cell.notebook.kernel.execute(cmd_clean, {\n        iopub: {\n          output: function(msg) {\n            const id = msg.content.text.trim();\n            if (id in Bokeh.index) {\n              Bokeh.index[id].model.document.clear();\n              delete Bokeh.index[id];\n            }\n          }\n        }\n      });\n      // Destroy server and session\n      const cmd_destroy = \"import bokeh.io.notebook as ion; ion.destroy_server('\" + server_id + \"')\";\n      cell.notebook.kernel.execute(cmd_destroy);\n    }\n  }\n\n  /**\n   * Handle when a new output is added\n   */\n  function handleAddOutput(event, handle) {\n    const output_area = handle.output_area;\n    const output = handle.output;\n\n    // limit handleAddOutput to display_data with EXEC_MIME_TYPE content only\n    if ((output.output_type != \"display_data\") || (!Object.prototype.hasOwnProperty.call(output.data, EXEC_MIME_TYPE))) {\n      return\n    }\n\n    const toinsert = output_area.element.find(\".\" + CLASS_NAME.split(' ')[0]);\n\n    if (output.metadata[EXEC_MIME_TYPE][\"id\"] !== undefined) {\n      toinsert[toinsert.length - 1].firstChild.textContent = output.data[JS_MIME_TYPE];\n      // store reference to embed id on output_area\n      output_area._bokeh_element_id = output.metadata[EXEC_MIME_TYPE][\"id\"];\n    }\n    if (output.metadata[EXEC_MIME_TYPE][\"server_id\"] !== undefined) {\n      const bk_div = document.createElement(\"div\");\n      bk_div.innerHTML = output.data[HTML_MIME_TYPE];\n      const script_attrs = bk_div.children[0].attributes;\n      for (let i = 0; i < script_attrs.length; i++) {\n        toinsert[toinsert.length - 1].firstChild.setAttribute(script_attrs[i].name, script_attrs[i].value);\n        toinsert[toinsert.length - 1].firstChild.textContent = bk_div.children[0].textContent\n      }\n      // store reference to server id on output_area\n      output_area._bokeh_server_id = output.metadata[EXEC_MIME_TYPE][\"server_id\"];\n    }\n  }\n\n  function register_renderer(events, OutputArea) {\n\n    function append_mime(data, metadata, element) {\n      // create a DOM node to render to\n      const toinsert = this.create_output_subarea(\n        metadata,\n        CLASS_NAME,\n        EXEC_MIME_TYPE\n      );\n      this.keyboard_manager.register_events(toinsert);\n      // Render to node\n      const props = {data: data, metadata: metadata[EXEC_MIME_TYPE]};\n      render(props, toinsert[toinsert.length - 1]);\n      element.append(toinsert);\n      return toinsert\n    }\n\n    /* Handle when an output is cleared or removed */\n    events.on('clear_output.CodeCell', handleClearOutput);\n    events.on('delete.Cell', handleClearOutput);\n\n    /* Handle when a new output is added */\n    events.on('output_added.OutputArea', handleAddOutput);\n\n    /**\n     * Register the mime type and append_mime function with output_area\n     */\n    OutputArea.prototype.register_mime_type(EXEC_MIME_TYPE, append_mime, {\n      /* Is output safe? */\n      safe: true,\n      /* Index of renderer in `output_area.display_order` */\n      index: 0\n    });\n  }\n\n  // register the mime type if in Jupyter Notebook environment and previously unregistered\n  if (root.Jupyter !== undefined) {\n    const events = require('base/js/events');\n    const OutputArea = require('notebook/js/outputarea').OutputArea;\n\n    if (OutputArea.prototype.mime_types().indexOf(EXEC_MIME_TYPE) == -1) {\n      register_renderer(events, OutputArea);\n    }\n  }\n  if (typeof (root._bokeh_timeout) === \"undefined\" || force === true) {\n    root._bokeh_timeout = Date.now() + 5000;\n    root._bokeh_failed_load = false;\n  }\n\n  const NB_LOAD_WARNING = {'data': {'text/html':\n     \"<div style='background-color: #fdd'>\\n\"+\n     \"<p>\\n\"+\n     \"BokehJS does not appear to have successfully loaded. If loading BokehJS from CDN, this \\n\"+\n     \"may be due to a slow or bad network connection. Possible fixes:\\n\"+\n     \"</p>\\n\"+\n     \"<ul>\\n\"+\n     \"<li>re-rerun `output_notebook()` to attempt to load from CDN again, or</li>\\n\"+\n     \"<li>use INLINE resources instead, as so:</li>\\n\"+\n     \"</ul>\\n\"+\n     \"<code>\\n\"+\n     \"from bokeh.resources import INLINE\\n\"+\n     \"output_notebook(resources=INLINE)\\n\"+\n     \"</code>\\n\"+\n     \"</div>\"}};\n\n  function display_loaded() {\n    const el = document.getElementById(\"21890\");\n    if (el != null) {\n      el.textContent = \"BokehJS is loading...\";\n    }\n    if (root.Bokeh !== undefined) {\n      if (el != null) {\n        el.textContent = \"BokehJS \" + root.Bokeh.version + \" successfully loaded.\";\n      }\n    } else if (Date.now() < root._bokeh_timeout) {\n      setTimeout(display_loaded, 100)\n    }\n  }\n\n  function run_callbacks() {\n    try {\n      root._bokeh_onload_callbacks.forEach(function(callback) {\n        if (callback != null)\n          callback();\n      });\n    } finally {\n      delete root._bokeh_onload_callbacks\n    }\n    console.debug(\"Bokeh: all callbacks have finished\");\n  }\n\n  function load_libs(css_urls, js_urls, callback) {\n    if (css_urls == null) css_urls = [];\n    if (js_urls == null) js_urls = [];\n\n    root._bokeh_onload_callbacks.push(callback);\n    if (root._bokeh_is_loading > 0) {\n      console.debug(\"Bokeh: BokehJS is being loaded, scheduling callback at\", now());\n      return null;\n    }\n    if (js_urls == null || js_urls.length === 0) {\n      run_callbacks();\n      return null;\n    }\n    console.debug(\"Bokeh: BokehJS not loaded, scheduling load and callback at\", now());\n    root._bokeh_is_loading = css_urls.length + js_urls.length;\n\n    function on_load() {\n      root._bokeh_is_loading--;\n      if (root._bokeh_is_loading === 0) {\n        console.debug(\"Bokeh: all BokehJS libraries/stylesheets loaded\");\n        run_callbacks()\n      }\n    }\n\n    function on_error(url) {\n      console.error(\"failed to load \" + url);\n    }\n\n    for (let i = 0; i < css_urls.length; i++) {\n      const url = css_urls[i];\n      const element = document.createElement(\"link\");\n      element.onload = on_load;\n      element.onerror = on_error.bind(null, url);\n      element.rel = \"stylesheet\";\n      element.type = \"text/css\";\n      element.href = url;\n      console.debug(\"Bokeh: injecting link tag for BokehJS stylesheet: \", url);\n      document.body.appendChild(element);\n    }\n\n    for (let i = 0; i < js_urls.length; i++) {\n      const url = js_urls[i];\n      const element = document.createElement('script');\n      element.onload = on_load;\n      element.onerror = on_error.bind(null, url);\n      element.async = false;\n      element.src = url;\n      console.debug(\"Bokeh: injecting script tag for BokehJS library: \", url);\n      document.head.appendChild(element);\n    }\n  };\n\n  function inject_raw_css(css) {\n    const element = document.createElement(\"style\");\n    element.appendChild(document.createTextNode(css));\n    document.body.appendChild(element);\n  }\n\n  const js_urls = [\"https://cdn.bokeh.org/bokeh/release/bokeh-2.4.3.min.js\", \"https://cdn.bokeh.org/bokeh/release/bokeh-gl-2.4.3.min.js\", \"https://cdn.bokeh.org/bokeh/release/bokeh-widgets-2.4.3.min.js\", \"https://cdn.bokeh.org/bokeh/release/bokeh-tables-2.4.3.min.js\", \"https://cdn.bokeh.org/bokeh/release/bokeh-mathjax-2.4.3.min.js\"];\n  const css_urls = [];\n\n  const inline_js = [    function(Bokeh) {\n      Bokeh.set_log_level(\"info\");\n    },\nfunction(Bokeh) {\n    }\n  ];\n\n  function run_inline_js() {\n    if (root.Bokeh !== undefined || force === true) {\n          for (let i = 0; i < inline_js.length; i++) {\n      inline_js[i].call(root, root.Bokeh);\n    }\nif (force === true) {\n        display_loaded();\n      }} else if (Date.now() < root._bokeh_timeout) {\n      setTimeout(run_inline_js, 100);\n    } else if (!root._bokeh_failed_load) {\n      console.log(\"Bokeh: BokehJS failed to load within specified timeout.\");\n      root._bokeh_failed_load = true;\n    } else if (force !== true) {\n      const cell = $(document.getElementById(\"21890\")).parents('.cell').data().cell;\n      cell.output_area.append_execute_result(NB_LOAD_WARNING)\n    }\n  }\n\n  if (root._bokeh_is_loading === 0) {\n    console.debug(\"Bokeh: BokehJS loaded, going straight to plotting\");\n    run_inline_js();\n  } else {\n    load_libs(css_urls, js_urls, function() {\n      console.debug(\"Bokeh: BokehJS plotting callback run at\", now());\n      run_inline_js();\n    });\n  }\n}(window));",
      "application/vnd.bokehjs_load.v0+json": ""
     },
     "metadata": {},
     "output_type": "display_data"
    }
   ],
   "source": [
    "import numpy as np\n",
    "import pandas as pd\n",
    "from math import pi\n",
    "\n",
    "from bokeh.palettes import Blues, Cividis256\n",
    "from bokeh.transform import cumsum\n",
    "from bokeh.plotting import figure, show\n",
    "from bokeh.models import \\\n",
    "  ColumnDataSource,\\\n",
    "  BasicTicker,\\\n",
    "  ColorBar,\\\n",
    "  LinearColorMapper,\\\n",
    "  ColorMapper,\\\n",
    "  BasicTickFormatter\n",
    "from bokeh.io import output_notebook\n",
    "\n",
    "output_notebook()"
   ]
  },
  {
   "attachments": {},
   "cell_type": "markdown",
   "metadata": {},
   "source": [
    "A continuación, se cargan em memoria los datasets seleccionados para realizar las representaciones gráficas."
   ]
  },
  {
   "cell_type": "code",
   "execution_count": 93,
   "metadata": {},
   "outputs": [],
   "source": [
    "df_drug = pd.read_csv(\"../data/drug200.csv\")\n",
    "df_airtraffic = pd.read_csv(\"../data/Air_Traffic_Passenger_Statistics.csv\")"
   ]
  },
  {
   "attachments": {},
   "cell_type": "markdown",
   "metadata": {},
   "source": [
    "En primer lugar, como se comenta en los criterios de uso, se pueden hacer visualizaciones rápidas en forma tabular. ¿Qué dataset se tiene para trabajar? ¿Cuánta columnas tiene y qué representan? ¿Qué tipos de datos se observan? Este es un buen punto de partida."
   ]
  },
  {
   "cell_type": "code",
   "execution_count": 94,
   "metadata": {},
   "outputs": [
    {
     "data": {
      "text/html": [
       "<div>\n",
       "<style scoped>\n",
       "    .dataframe tbody tr th:only-of-type {\n",
       "        vertical-align: middle;\n",
       "    }\n",
       "\n",
       "    .dataframe tbody tr th {\n",
       "        vertical-align: top;\n",
       "    }\n",
       "\n",
       "    .dataframe thead th {\n",
       "        text-align: right;\n",
       "    }\n",
       "</style>\n",
       "<table border=\"1\" class=\"dataframe\">\n",
       "  <thead>\n",
       "    <tr style=\"text-align: right;\">\n",
       "      <th></th>\n",
       "      <th>Age</th>\n",
       "      <th>Sex</th>\n",
       "      <th>BP</th>\n",
       "      <th>Cholesterol</th>\n",
       "      <th>Na_to_K</th>\n",
       "      <th>Drug</th>\n",
       "    </tr>\n",
       "  </thead>\n",
       "  <tbody>\n",
       "    <tr>\n",
       "      <th>0</th>\n",
       "      <td>23</td>\n",
       "      <td>F</td>\n",
       "      <td>HIGH</td>\n",
       "      <td>HIGH</td>\n",
       "      <td>25.355</td>\n",
       "      <td>DrugY</td>\n",
       "    </tr>\n",
       "    <tr>\n",
       "      <th>1</th>\n",
       "      <td>47</td>\n",
       "      <td>M</td>\n",
       "      <td>LOW</td>\n",
       "      <td>HIGH</td>\n",
       "      <td>13.093</td>\n",
       "      <td>drugC</td>\n",
       "    </tr>\n",
       "    <tr>\n",
       "      <th>2</th>\n",
       "      <td>47</td>\n",
       "      <td>M</td>\n",
       "      <td>LOW</td>\n",
       "      <td>HIGH</td>\n",
       "      <td>10.114</td>\n",
       "      <td>drugC</td>\n",
       "    </tr>\n",
       "    <tr>\n",
       "      <th>3</th>\n",
       "      <td>28</td>\n",
       "      <td>F</td>\n",
       "      <td>NORMAL</td>\n",
       "      <td>HIGH</td>\n",
       "      <td>7.798</td>\n",
       "      <td>drugX</td>\n",
       "    </tr>\n",
       "    <tr>\n",
       "      <th>4</th>\n",
       "      <td>61</td>\n",
       "      <td>F</td>\n",
       "      <td>LOW</td>\n",
       "      <td>HIGH</td>\n",
       "      <td>18.043</td>\n",
       "      <td>DrugY</td>\n",
       "    </tr>\n",
       "  </tbody>\n",
       "</table>\n",
       "</div>"
      ],
      "text/plain": [
       "   Age Sex      BP Cholesterol  Na_to_K   Drug\n",
       "0   23   F    HIGH        HIGH   25.355  DrugY\n",
       "1   47   M     LOW        HIGH   13.093  drugC\n",
       "2   47   M     LOW        HIGH   10.114  drugC\n",
       "3   28   F  NORMAL        HIGH    7.798  drugX\n",
       "4   61   F     LOW        HIGH   18.043  DrugY"
      ]
     },
     "execution_count": 94,
     "metadata": {},
     "output_type": "execute_result"
    }
   ],
   "source": [
    "df_drug.head()"
   ]
  },
  {
   "attachments": {},
   "cell_type": "markdown",
   "metadata": {},
   "source": [
    "Además, se puede consultar la tipología de los datos de cada columna del dataset. De esta forma se puede saber a ciencia cierta qué operaciones pueden soportar y qué transformaciones serán necesarias para poder manipularlos posteriormente."
   ]
  },
  {
   "cell_type": "code",
   "execution_count": 95,
   "metadata": {},
   "outputs": [
    {
     "data": {
      "text/plain": [
       "Age              int64\n",
       "Sex             object\n",
       "BP              object\n",
       "Cholesterol     object\n",
       "Na_to_K        float64\n",
       "Drug            object\n",
       "dtype: object"
      ]
     },
     "execution_count": 95,
     "metadata": {},
     "output_type": "execute_result"
    }
   ],
   "source": [
    "df_drug.dtypes"
   ]
  },
  {
   "attachments": {},
   "cell_type": "markdown",
   "metadata": {},
   "source": [
    "También se puede variar el tamaño de la muestra. Se visualiza un mayor o menor volumen de ejemplos según el parámetro que se pase al método `head`."
   ]
  },
  {
   "cell_type": "code",
   "execution_count": 97,
   "metadata": {},
   "outputs": [
    {
     "data": {
      "text/html": [
       "<div>\n",
       "<style scoped>\n",
       "    .dataframe tbody tr th:only-of-type {\n",
       "        vertical-align: middle;\n",
       "    }\n",
       "\n",
       "    .dataframe tbody tr th {\n",
       "        vertical-align: top;\n",
       "    }\n",
       "\n",
       "    .dataframe thead th {\n",
       "        text-align: right;\n",
       "    }\n",
       "</style>\n",
       "<table border=\"1\" class=\"dataframe\">\n",
       "  <thead>\n",
       "    <tr style=\"text-align: right;\">\n",
       "      <th></th>\n",
       "      <th>index</th>\n",
       "      <th>Activity Period</th>\n",
       "      <th>Operating Airline</th>\n",
       "      <th>Operating Airline IATA Code</th>\n",
       "      <th>Published Airline</th>\n",
       "      <th>Published Airline IATA Code</th>\n",
       "      <th>GEO Summary</th>\n",
       "      <th>GEO Region</th>\n",
       "      <th>Activity Type Code</th>\n",
       "      <th>Price Category Code</th>\n",
       "      <th>Terminal</th>\n",
       "      <th>Boarding Area</th>\n",
       "      <th>Passenger Count</th>\n",
       "      <th>Adjusted Activity Type Code</th>\n",
       "      <th>Adjusted Passenger Count</th>\n",
       "      <th>Year</th>\n",
       "      <th>Month</th>\n",
       "    </tr>\n",
       "  </thead>\n",
       "  <tbody>\n",
       "    <tr>\n",
       "      <th>0</th>\n",
       "      <td>0</td>\n",
       "      <td>200507</td>\n",
       "      <td>ATA Airlines</td>\n",
       "      <td>TZ</td>\n",
       "      <td>ATA Airlines</td>\n",
       "      <td>TZ</td>\n",
       "      <td>Domestic</td>\n",
       "      <td>US</td>\n",
       "      <td>Deplaned</td>\n",
       "      <td>Low Fare</td>\n",
       "      <td>Terminal 1</td>\n",
       "      <td>B</td>\n",
       "      <td>27271</td>\n",
       "      <td>Deplaned</td>\n",
       "      <td>27271</td>\n",
       "      <td>2005</td>\n",
       "      <td>July</td>\n",
       "    </tr>\n",
       "    <tr>\n",
       "      <th>1</th>\n",
       "      <td>1</td>\n",
       "      <td>200507</td>\n",
       "      <td>ATA Airlines</td>\n",
       "      <td>TZ</td>\n",
       "      <td>ATA Airlines</td>\n",
       "      <td>TZ</td>\n",
       "      <td>Domestic</td>\n",
       "      <td>US</td>\n",
       "      <td>Enplaned</td>\n",
       "      <td>Low Fare</td>\n",
       "      <td>Terminal 1</td>\n",
       "      <td>B</td>\n",
       "      <td>29131</td>\n",
       "      <td>Enplaned</td>\n",
       "      <td>29131</td>\n",
       "      <td>2005</td>\n",
       "      <td>July</td>\n",
       "    </tr>\n",
       "    <tr>\n",
       "      <th>2</th>\n",
       "      <td>2</td>\n",
       "      <td>200507</td>\n",
       "      <td>ATA Airlines</td>\n",
       "      <td>TZ</td>\n",
       "      <td>ATA Airlines</td>\n",
       "      <td>TZ</td>\n",
       "      <td>Domestic</td>\n",
       "      <td>US</td>\n",
       "      <td>Thru / Transit</td>\n",
       "      <td>Low Fare</td>\n",
       "      <td>Terminal 1</td>\n",
       "      <td>B</td>\n",
       "      <td>5415</td>\n",
       "      <td>Thru / Transit * 2</td>\n",
       "      <td>10830</td>\n",
       "      <td>2005</td>\n",
       "      <td>July</td>\n",
       "    </tr>\n",
       "    <tr>\n",
       "      <th>3</th>\n",
       "      <td>3</td>\n",
       "      <td>200507</td>\n",
       "      <td>Air Canada</td>\n",
       "      <td>AC</td>\n",
       "      <td>Air Canada</td>\n",
       "      <td>AC</td>\n",
       "      <td>International</td>\n",
       "      <td>Canada</td>\n",
       "      <td>Deplaned</td>\n",
       "      <td>Other</td>\n",
       "      <td>Terminal 1</td>\n",
       "      <td>B</td>\n",
       "      <td>35156</td>\n",
       "      <td>Deplaned</td>\n",
       "      <td>35156</td>\n",
       "      <td>2005</td>\n",
       "      <td>July</td>\n",
       "    </tr>\n",
       "    <tr>\n",
       "      <th>4</th>\n",
       "      <td>4</td>\n",
       "      <td>200507</td>\n",
       "      <td>Air Canada</td>\n",
       "      <td>AC</td>\n",
       "      <td>Air Canada</td>\n",
       "      <td>AC</td>\n",
       "      <td>International</td>\n",
       "      <td>Canada</td>\n",
       "      <td>Enplaned</td>\n",
       "      <td>Other</td>\n",
       "      <td>Terminal 1</td>\n",
       "      <td>B</td>\n",
       "      <td>34090</td>\n",
       "      <td>Enplaned</td>\n",
       "      <td>34090</td>\n",
       "      <td>2005</td>\n",
       "      <td>July</td>\n",
       "    </tr>\n",
       "    <tr>\n",
       "      <th>5</th>\n",
       "      <td>5</td>\n",
       "      <td>200507</td>\n",
       "      <td>Air China</td>\n",
       "      <td>CA</td>\n",
       "      <td>Air China</td>\n",
       "      <td>CA</td>\n",
       "      <td>International</td>\n",
       "      <td>Asia</td>\n",
       "      <td>Deplaned</td>\n",
       "      <td>Other</td>\n",
       "      <td>International</td>\n",
       "      <td>G</td>\n",
       "      <td>6263</td>\n",
       "      <td>Deplaned</td>\n",
       "      <td>6263</td>\n",
       "      <td>2005</td>\n",
       "      <td>July</td>\n",
       "    </tr>\n",
       "    <tr>\n",
       "      <th>6</th>\n",
       "      <td>6</td>\n",
       "      <td>200507</td>\n",
       "      <td>Air China</td>\n",
       "      <td>CA</td>\n",
       "      <td>Air China</td>\n",
       "      <td>CA</td>\n",
       "      <td>International</td>\n",
       "      <td>Asia</td>\n",
       "      <td>Enplaned</td>\n",
       "      <td>Other</td>\n",
       "      <td>International</td>\n",
       "      <td>G</td>\n",
       "      <td>5500</td>\n",
       "      <td>Enplaned</td>\n",
       "      <td>5500</td>\n",
       "      <td>2005</td>\n",
       "      <td>July</td>\n",
       "    </tr>\n",
       "    <tr>\n",
       "      <th>7</th>\n",
       "      <td>7</td>\n",
       "      <td>200507</td>\n",
       "      <td>Air France</td>\n",
       "      <td>AF</td>\n",
       "      <td>Air France</td>\n",
       "      <td>AF</td>\n",
       "      <td>International</td>\n",
       "      <td>Europe</td>\n",
       "      <td>Deplaned</td>\n",
       "      <td>Other</td>\n",
       "      <td>International</td>\n",
       "      <td>A</td>\n",
       "      <td>12050</td>\n",
       "      <td>Deplaned</td>\n",
       "      <td>12050</td>\n",
       "      <td>2005</td>\n",
       "      <td>July</td>\n",
       "    </tr>\n",
       "    <tr>\n",
       "      <th>8</th>\n",
       "      <td>8</td>\n",
       "      <td>200507</td>\n",
       "      <td>Air France</td>\n",
       "      <td>AF</td>\n",
       "      <td>Air France</td>\n",
       "      <td>AF</td>\n",
       "      <td>International</td>\n",
       "      <td>Europe</td>\n",
       "      <td>Enplaned</td>\n",
       "      <td>Other</td>\n",
       "      <td>International</td>\n",
       "      <td>A</td>\n",
       "      <td>11638</td>\n",
       "      <td>Enplaned</td>\n",
       "      <td>11638</td>\n",
       "      <td>2005</td>\n",
       "      <td>July</td>\n",
       "    </tr>\n",
       "    <tr>\n",
       "      <th>9</th>\n",
       "      <td>9</td>\n",
       "      <td>200507</td>\n",
       "      <td>Air New Zealand</td>\n",
       "      <td>NZ</td>\n",
       "      <td>Air New Zealand</td>\n",
       "      <td>NZ</td>\n",
       "      <td>International</td>\n",
       "      <td>Australia / Oceania</td>\n",
       "      <td>Deplaned</td>\n",
       "      <td>Other</td>\n",
       "      <td>International</td>\n",
       "      <td>G</td>\n",
       "      <td>4998</td>\n",
       "      <td>Deplaned</td>\n",
       "      <td>4998</td>\n",
       "      <td>2005</td>\n",
       "      <td>July</td>\n",
       "    </tr>\n",
       "    <tr>\n",
       "      <th>10</th>\n",
       "      <td>10</td>\n",
       "      <td>200507</td>\n",
       "      <td>Air New Zealand</td>\n",
       "      <td>NZ</td>\n",
       "      <td>Air New Zealand</td>\n",
       "      <td>NZ</td>\n",
       "      <td>International</td>\n",
       "      <td>Australia / Oceania</td>\n",
       "      <td>Enplaned</td>\n",
       "      <td>Other</td>\n",
       "      <td>International</td>\n",
       "      <td>G</td>\n",
       "      <td>4962</td>\n",
       "      <td>Enplaned</td>\n",
       "      <td>4962</td>\n",
       "      <td>2005</td>\n",
       "      <td>July</td>\n",
       "    </tr>\n",
       "    <tr>\n",
       "      <th>11</th>\n",
       "      <td>11</td>\n",
       "      <td>200507</td>\n",
       "      <td>AirTran Airways</td>\n",
       "      <td>FL</td>\n",
       "      <td>AirTran Airways</td>\n",
       "      <td>FL</td>\n",
       "      <td>Domestic</td>\n",
       "      <td>US</td>\n",
       "      <td>Deplaned</td>\n",
       "      <td>Low Fare</td>\n",
       "      <td>International</td>\n",
       "      <td>A</td>\n",
       "      <td>8055</td>\n",
       "      <td>Deplaned</td>\n",
       "      <td>8055</td>\n",
       "      <td>2005</td>\n",
       "      <td>July</td>\n",
       "    </tr>\n",
       "    <tr>\n",
       "      <th>12</th>\n",
       "      <td>12</td>\n",
       "      <td>200507</td>\n",
       "      <td>AirTran Airways</td>\n",
       "      <td>FL</td>\n",
       "      <td>AirTran Airways</td>\n",
       "      <td>FL</td>\n",
       "      <td>Domestic</td>\n",
       "      <td>US</td>\n",
       "      <td>Enplaned</td>\n",
       "      <td>Low Fare</td>\n",
       "      <td>International</td>\n",
       "      <td>A</td>\n",
       "      <td>7984</td>\n",
       "      <td>Enplaned</td>\n",
       "      <td>7984</td>\n",
       "      <td>2005</td>\n",
       "      <td>July</td>\n",
       "    </tr>\n",
       "    <tr>\n",
       "      <th>13</th>\n",
       "      <td>13</td>\n",
       "      <td>200507</td>\n",
       "      <td>Alaska Airlines</td>\n",
       "      <td>AS</td>\n",
       "      <td>Alaska Airlines</td>\n",
       "      <td>AS</td>\n",
       "      <td>Domestic</td>\n",
       "      <td>US</td>\n",
       "      <td>Deplaned</td>\n",
       "      <td>Other</td>\n",
       "      <td>International</td>\n",
       "      <td>A</td>\n",
       "      <td>36641</td>\n",
       "      <td>Deplaned</td>\n",
       "      <td>36641</td>\n",
       "      <td>2005</td>\n",
       "      <td>July</td>\n",
       "    </tr>\n",
       "    <tr>\n",
       "      <th>14</th>\n",
       "      <td>14</td>\n",
       "      <td>200507</td>\n",
       "      <td>Alaska Airlines</td>\n",
       "      <td>AS</td>\n",
       "      <td>Alaska Airlines</td>\n",
       "      <td>AS</td>\n",
       "      <td>Domestic</td>\n",
       "      <td>US</td>\n",
       "      <td>Enplaned</td>\n",
       "      <td>Other</td>\n",
       "      <td>International</td>\n",
       "      <td>A</td>\n",
       "      <td>39379</td>\n",
       "      <td>Enplaned</td>\n",
       "      <td>39379</td>\n",
       "      <td>2005</td>\n",
       "      <td>July</td>\n",
       "    </tr>\n",
       "    <tr>\n",
       "      <th>15</th>\n",
       "      <td>15</td>\n",
       "      <td>200507</td>\n",
       "      <td>Alaska Airlines</td>\n",
       "      <td>AS</td>\n",
       "      <td>Alaska Airlines</td>\n",
       "      <td>AS</td>\n",
       "      <td>Domestic</td>\n",
       "      <td>US</td>\n",
       "      <td>Thru / Transit</td>\n",
       "      <td>Other</td>\n",
       "      <td>International</td>\n",
       "      <td>A</td>\n",
       "      <td>3678</td>\n",
       "      <td>Thru / Transit * 2</td>\n",
       "      <td>7356</td>\n",
       "      <td>2005</td>\n",
       "      <td>July</td>\n",
       "    </tr>\n",
       "    <tr>\n",
       "      <th>16</th>\n",
       "      <td>16</td>\n",
       "      <td>200507</td>\n",
       "      <td>Alaska Airlines</td>\n",
       "      <td>AS</td>\n",
       "      <td>Alaska Airlines</td>\n",
       "      <td>AS</td>\n",
       "      <td>International</td>\n",
       "      <td>Canada</td>\n",
       "      <td>Deplaned</td>\n",
       "      <td>Other</td>\n",
       "      <td>International</td>\n",
       "      <td>A</td>\n",
       "      <td>7977</td>\n",
       "      <td>Deplaned</td>\n",
       "      <td>7977</td>\n",
       "      <td>2005</td>\n",
       "      <td>July</td>\n",
       "    </tr>\n",
       "    <tr>\n",
       "      <th>17</th>\n",
       "      <td>17</td>\n",
       "      <td>200507</td>\n",
       "      <td>Alaska Airlines</td>\n",
       "      <td>AS</td>\n",
       "      <td>Alaska Airlines</td>\n",
       "      <td>AS</td>\n",
       "      <td>International</td>\n",
       "      <td>Canada</td>\n",
       "      <td>Enplaned</td>\n",
       "      <td>Other</td>\n",
       "      <td>International</td>\n",
       "      <td>A</td>\n",
       "      <td>8837</td>\n",
       "      <td>Enplaned</td>\n",
       "      <td>8837</td>\n",
       "      <td>2005</td>\n",
       "      <td>July</td>\n",
       "    </tr>\n",
       "    <tr>\n",
       "      <th>18</th>\n",
       "      <td>18</td>\n",
       "      <td>200507</td>\n",
       "      <td>Alaska Airlines</td>\n",
       "      <td>AS</td>\n",
       "      <td>Alaska Airlines</td>\n",
       "      <td>AS</td>\n",
       "      <td>International</td>\n",
       "      <td>Mexico</td>\n",
       "      <td>Deplaned</td>\n",
       "      <td>Other</td>\n",
       "      <td>International</td>\n",
       "      <td>A</td>\n",
       "      <td>6969</td>\n",
       "      <td>Deplaned</td>\n",
       "      <td>6969</td>\n",
       "      <td>2005</td>\n",
       "      <td>July</td>\n",
       "    </tr>\n",
       "    <tr>\n",
       "      <th>19</th>\n",
       "      <td>19</td>\n",
       "      <td>200507</td>\n",
       "      <td>Alaska Airlines</td>\n",
       "      <td>AS</td>\n",
       "      <td>Alaska Airlines</td>\n",
       "      <td>AS</td>\n",
       "      <td>International</td>\n",
       "      <td>Mexico</td>\n",
       "      <td>Enplaned</td>\n",
       "      <td>Other</td>\n",
       "      <td>International</td>\n",
       "      <td>A</td>\n",
       "      <td>10046</td>\n",
       "      <td>Enplaned</td>\n",
       "      <td>10046</td>\n",
       "      <td>2005</td>\n",
       "      <td>July</td>\n",
       "    </tr>\n",
       "  </tbody>\n",
       "</table>\n",
       "</div>"
      ],
      "text/plain": [
       "    index  Activity Period Operating Airline Operating Airline IATA Code  \\\n",
       "0       0           200507      ATA Airlines                          TZ   \n",
       "1       1           200507      ATA Airlines                          TZ   \n",
       "2       2           200507      ATA Airlines                          TZ   \n",
       "3       3           200507       Air Canada                           AC   \n",
       "4       4           200507       Air Canada                           AC   \n",
       "5       5           200507         Air China                          CA   \n",
       "6       6           200507         Air China                          CA   \n",
       "7       7           200507        Air France                          AF   \n",
       "8       8           200507        Air France                          AF   \n",
       "9       9           200507   Air New Zealand                          NZ   \n",
       "10     10           200507   Air New Zealand                          NZ   \n",
       "11     11           200507   AirTran Airways                          FL   \n",
       "12     12           200507   AirTran Airways                          FL   \n",
       "13     13           200507   Alaska Airlines                          AS   \n",
       "14     14           200507   Alaska Airlines                          AS   \n",
       "15     15           200507   Alaska Airlines                          AS   \n",
       "16     16           200507   Alaska Airlines                          AS   \n",
       "17     17           200507   Alaska Airlines                          AS   \n",
       "18     18           200507   Alaska Airlines                          AS   \n",
       "19     19           200507   Alaska Airlines                          AS   \n",
       "\n",
       "   Published Airline Published Airline IATA Code    GEO Summary  \\\n",
       "0       ATA Airlines                          TZ       Domestic   \n",
       "1       ATA Airlines                          TZ       Domestic   \n",
       "2       ATA Airlines                          TZ       Domestic   \n",
       "3        Air Canada                           AC  International   \n",
       "4        Air Canada                           AC  International   \n",
       "5          Air China                          CA  International   \n",
       "6          Air China                          CA  International   \n",
       "7         Air France                          AF  International   \n",
       "8         Air France                          AF  International   \n",
       "9    Air New Zealand                          NZ  International   \n",
       "10   Air New Zealand                          NZ  International   \n",
       "11   AirTran Airways                          FL       Domestic   \n",
       "12   AirTran Airways                          FL       Domestic   \n",
       "13   Alaska Airlines                          AS       Domestic   \n",
       "14   Alaska Airlines                          AS       Domestic   \n",
       "15   Alaska Airlines                          AS       Domestic   \n",
       "16   Alaska Airlines                          AS  International   \n",
       "17   Alaska Airlines                          AS  International   \n",
       "18   Alaska Airlines                          AS  International   \n",
       "19   Alaska Airlines                          AS  International   \n",
       "\n",
       "             GEO Region Activity Type Code Price Category Code       Terminal  \\\n",
       "0                    US           Deplaned            Low Fare     Terminal 1   \n",
       "1                    US           Enplaned            Low Fare     Terminal 1   \n",
       "2                    US     Thru / Transit            Low Fare     Terminal 1   \n",
       "3                Canada           Deplaned               Other     Terminal 1   \n",
       "4                Canada           Enplaned               Other     Terminal 1   \n",
       "5                  Asia           Deplaned               Other  International   \n",
       "6                  Asia           Enplaned               Other  International   \n",
       "7                Europe           Deplaned               Other  International   \n",
       "8                Europe           Enplaned               Other  International   \n",
       "9   Australia / Oceania           Deplaned               Other  International   \n",
       "10  Australia / Oceania           Enplaned               Other  International   \n",
       "11                   US           Deplaned            Low Fare  International   \n",
       "12                   US           Enplaned            Low Fare  International   \n",
       "13                   US           Deplaned               Other  International   \n",
       "14                   US           Enplaned               Other  International   \n",
       "15                   US     Thru / Transit               Other  International   \n",
       "16               Canada           Deplaned               Other  International   \n",
       "17               Canada           Enplaned               Other  International   \n",
       "18               Mexico           Deplaned               Other  International   \n",
       "19               Mexico           Enplaned               Other  International   \n",
       "\n",
       "   Boarding Area  Passenger Count Adjusted Activity Type Code  \\\n",
       "0              B            27271                    Deplaned   \n",
       "1              B            29131                    Enplaned   \n",
       "2              B             5415          Thru / Transit * 2   \n",
       "3              B            35156                    Deplaned   \n",
       "4              B            34090                    Enplaned   \n",
       "5              G             6263                    Deplaned   \n",
       "6              G             5500                    Enplaned   \n",
       "7              A            12050                    Deplaned   \n",
       "8              A            11638                    Enplaned   \n",
       "9              G             4998                    Deplaned   \n",
       "10             G             4962                    Enplaned   \n",
       "11             A             8055                    Deplaned   \n",
       "12             A             7984                    Enplaned   \n",
       "13             A            36641                    Deplaned   \n",
       "14             A            39379                    Enplaned   \n",
       "15             A             3678          Thru / Transit * 2   \n",
       "16             A             7977                    Deplaned   \n",
       "17             A             8837                    Enplaned   \n",
       "18             A             6969                    Deplaned   \n",
       "19             A            10046                    Enplaned   \n",
       "\n",
       "    Adjusted Passenger Count  Year Month  \n",
       "0                      27271  2005  July  \n",
       "1                      29131  2005  July  \n",
       "2                      10830  2005  July  \n",
       "3                      35156  2005  July  \n",
       "4                      34090  2005  July  \n",
       "5                       6263  2005  July  \n",
       "6                       5500  2005  July  \n",
       "7                      12050  2005  July  \n",
       "8                      11638  2005  July  \n",
       "9                       4998  2005  July  \n",
       "10                      4962  2005  July  \n",
       "11                      8055  2005  July  \n",
       "12                      7984  2005  July  \n",
       "13                     36641  2005  July  \n",
       "14                     39379  2005  July  \n",
       "15                      7356  2005  July  \n",
       "16                      7977  2005  July  \n",
       "17                      8837  2005  July  \n",
       "18                      6969  2005  July  \n",
       "19                     10046  2005  July  "
      ]
     },
     "execution_count": 97,
     "metadata": {},
     "output_type": "execute_result"
    }
   ],
   "source": [
    "df_airtraffic.head(n=20)"
   ]
  },
  {
   "attachments": {},
   "cell_type": "markdown",
   "metadata": {},
   "source": [
    "Esta forma de visualización es fundamental en todo análisis exploratorio."
   ]
  },
  {
   "cell_type": "code",
   "execution_count": 34,
   "metadata": {},
   "outputs": [],
   "source": [
    "df_drug[\"BP\"] = pd.Categorical(df_drug[\"BP\"], categories=[\"LOW\", \"NORMAL\", \"HIGH\"], ordered=True)\n",
    "df_drug[\"Cholesterol\"] = pd.Categorical(df_drug[\"Cholesterol\"], categories=[\"NORMAL\", \"HIGH\"], ordered=True)\n",
    "df_drug[\"Sex\"] = pd.Categorical(df_drug[\"Sex\"], categories=[\"M\", \"F\"], ordered=False)\n",
    "df_drug[\"Drug\"] = pd.Categorical(df_drug[\"Drug\"], categories=[\"DrugY\", \"drugX\", \"drugA\", \"drugB\", \"drugC\"], ordered=False)"
   ]
  },
  {
   "cell_type": "code",
   "execution_count": 77,
   "metadata": {},
   "outputs": [],
   "source": [
    "def plot_box(df, column):\n",
    "  quartiles = df.quantile([0.25, 0.5, 0.75])\n",
    "  IQR = quartiles.iloc[2] - quartiles.iloc[0]\n",
    "  q1 = quartiles.iloc[0][column]\n",
    "  q2 = quartiles.iloc[1][column]\n",
    "  q3 = quartiles.iloc[2][column]\n",
    "  upper = q3 + 1.5*IQR[column]\n",
    "  lower = q1 - 1.5*IQR[column]\n",
    "  \n",
    "  outliers = df[(df[column] < lower) | (df[column] > upper)]\n",
    "\n",
    "  p = figure(background_fill_color=\"#efefef\", toolbar_location=None, width=450, height=450, title=column)\n",
    "\n",
    "  p.segment(0, upper, 0, q3, line_color=\"black\")\n",
    "  p.segment(0, lower, 0, q1, line_color=\"black\")\n",
    "\n",
    "  p.vbar(0, 0.5, q2, q3, fill_color=Blues[3][2], line_color=\"black\")\n",
    "  p.vbar(0, 0.5, q1, q2, fill_color=Blues[3][1], line_color=\"black\")\n",
    "  p.circle(0, q2, size=10, color=\"black\", fill_alpha=0.9)\n",
    "\n",
    "  p.rect(0, lower, 0.1, 0.01, line_color=\"black\")\n",
    "  p.rect(0, upper, 0.1, 0.01, line_color=\"black\")\n",
    "\n",
    "  if not outliers.empty:\n",
    "    p.circle(0, outliers[column], size=8, color=Blues[3][0], fill_alpha=0.6)\n",
    "\n",
    "  p.xgrid.grid_line_color = None\n",
    "  p.ygrid.grid_line_color = \"white\"\n",
    "  p.grid.grid_line_width = 1\n",
    "  \n",
    "  show(p)"
   ]
  },
  {
   "cell_type": "code",
   "execution_count": 78,
   "metadata": {},
   "outputs": [
    {
     "data": {
      "text/html": [
       "\n",
       "  <div class=\"bk-root\" id=\"7c7a800b-330b-4095-bd1a-962702f17a10\" data-root-id=\"18594\"></div>\n"
      ]
     },
     "metadata": {},
     "output_type": "display_data"
    },
    {
     "data": {
      "application/javascript": "(function(root) {\n  function embed_document(root) {\n  const docs_json = {\"290a90f8-b4a8-4812-9416-dc433dda352f\":{\"defs\":[],\"roots\":{\"references\":[{\"attributes\":{\"background_fill_color\":\"#efefef\",\"below\":[{\"id\":\"18605\"}],\"center\":[{\"id\":\"18608\"},{\"id\":\"18612\"}],\"height\":450,\"left\":[{\"id\":\"18609\"}],\"renderers\":[{\"id\":\"18631\"},{\"id\":\"18637\"},{\"id\":\"18643\"},{\"id\":\"18649\"},{\"id\":\"18655\"},{\"id\":\"18661\"},{\"id\":\"18667\"}],\"title\":{\"id\":\"18595\"},\"toolbar\":{\"id\":\"18620\"},\"toolbar_location\":null,\"width\":450,\"x_range\":{\"id\":\"18597\"},\"x_scale\":{\"id\":\"18601\"},\"y_range\":{\"id\":\"18599\"},\"y_scale\":{\"id\":\"18603\"}},\"id\":\"18594\",\"subtype\":\"Figure\",\"type\":\"Plot\"},{\"attributes\":{},\"id\":\"19306\",\"type\":\"UnionRenderers\"},{\"attributes\":{},\"id\":\"19307\",\"type\":\"Selection\"},{\"attributes\":{},\"id\":\"19308\",\"type\":\"UnionRenderers\"},{\"attributes\":{},\"id\":\"19309\",\"type\":\"Selection\"},{\"attributes\":{},\"id\":\"19310\",\"type\":\"UnionRenderers\"},{\"attributes\":{},\"id\":\"19311\",\"type\":\"Selection\"},{\"attributes\":{},\"id\":\"19312\",\"type\":\"UnionRenderers\"},{\"attributes\":{},\"id\":\"19313\",\"type\":\"Selection\"},{\"attributes\":{},\"id\":\"19314\",\"type\":\"UnionRenderers\"},{\"attributes\":{},\"id\":\"19315\",\"type\":\"Selection\"},{\"attributes\":{},\"id\":\"18601\",\"type\":\"LinearScale\"},{\"attributes\":{\"line_alpha\":{\"value\":0.2},\"x0\":{\"value\":0},\"x1\":{\"value\":0},\"y0\":{\"value\":98.5},\"y1\":{\"value\":58.0}},\"id\":\"18630\",\"type\":\"Segment\"},{\"attributes\":{\"coordinates\":null,\"data_source\":{\"id\":\"18633\"},\"glyph\":{\"id\":\"18634\"},\"group\":null,\"hover_glyph\":null,\"muted_glyph\":{\"id\":\"18636\"},\"nonselection_glyph\":{\"id\":\"18635\"},\"view\":{\"id\":\"18638\"}},\"id\":\"18637\",\"type\":\"GlyphRenderer\"},{\"attributes\":{\"x0\":{\"value\":0},\"x1\":{\"value\":0},\"y0\":{\"value\":-9.5},\"y1\":{\"value\":31.0}},\"id\":\"18634\",\"type\":\"Segment\"},{\"attributes\":{\"line_alpha\":{\"value\":0.1},\"x0\":{\"value\":0},\"x1\":{\"value\":0},\"y0\":{\"value\":98.5},\"y1\":{\"value\":58.0}},\"id\":\"18629\",\"type\":\"Segment\"},{\"attributes\":{\"source\":{\"id\":\"18627\"}},\"id\":\"18632\",\"type\":\"CDSView\"},{\"attributes\":{\"line_alpha\":{\"value\":0.1},\"x0\":{\"value\":0},\"x1\":{\"value\":0},\"y0\":{\"value\":-9.5},\"y1\":{\"value\":31.0}},\"id\":\"18635\",\"type\":\"Segment\"},{\"attributes\":{\"data\":{},\"selected\":{\"id\":\"19305\"},\"selection_policy\":{\"id\":\"19304\"}},\"id\":\"18633\",\"type\":\"ColumnDataSource\"},{\"attributes\":{\"line_alpha\":{\"value\":0.2},\"x0\":{\"value\":0},\"x1\":{\"value\":0},\"y0\":{\"value\":-9.5},\"y1\":{\"value\":31.0}},\"id\":\"18636\",\"type\":\"Segment\"},{\"attributes\":{},\"id\":\"19297\",\"type\":\"BasicTickFormatter\"},{\"attributes\":{\"source\":{\"id\":\"18633\"}},\"id\":\"18638\",\"type\":\"CDSView\"},{\"attributes\":{\"data\":{},\"selected\":{\"id\":\"19307\"},\"selection_policy\":{\"id\":\"19306\"}},\"id\":\"18639\",\"type\":\"ColumnDataSource\"},{\"attributes\":{\"bottom\":{\"value\":45.0},\"fill_alpha\":{\"value\":0.1},\"fill_color\":{\"value\":\"#9ecae1\"},\"hatch_alpha\":{\"value\":0.1},\"line_alpha\":{\"value\":0.1},\"top\":{\"value\":31.0},\"width\":{\"value\":0.5},\"x\":{\"value\":0}},\"id\":\"18647\",\"type\":\"VBar\"},{\"attributes\":{},\"id\":\"19298\",\"type\":\"AllLabels\"},{\"attributes\":{\"bottom\":{\"value\":45.0},\"fill_color\":{\"value\":\"#9ecae1\"},\"top\":{\"value\":31.0},\"width\":{\"value\":0.5},\"x\":{\"value\":0}},\"id\":\"18646\",\"type\":\"VBar\"},{\"attributes\":{\"data\":{},\"selected\":{\"id\":\"19303\"},\"selection_policy\":{\"id\":\"19302\"}},\"id\":\"18627\",\"type\":\"ColumnDataSource\"},{\"attributes\":{\"data\":{},\"selected\":{\"id\":\"19309\"},\"selection_policy\":{\"id\":\"19308\"}},\"id\":\"18645\",\"type\":\"ColumnDataSource\"},{\"attributes\":{\"source\":{\"id\":\"18645\"}},\"id\":\"18650\",\"type\":\"CDSView\"},{\"attributes\":{},\"id\":\"19300\",\"type\":\"BasicTickFormatter\"},{\"attributes\":{\"fill_alpha\":{\"value\":0.1},\"fill_color\":{\"value\":\"black\"},\"hatch_alpha\":{\"value\":0.1},\"line_alpha\":{\"value\":0.1},\"size\":{\"value\":10},\"x\":{\"value\":0},\"y\":{\"value\":45.0}},\"id\":\"18653\",\"type\":\"Circle\"},{\"attributes\":{\"coordinates\":null,\"data_source\":{\"id\":\"18645\"},\"glyph\":{\"id\":\"18646\"},\"group\":null,\"hover_glyph\":null,\"muted_glyph\":{\"id\":\"18648\"},\"nonselection_glyph\":{\"id\":\"18647\"},\"view\":{\"id\":\"18650\"}},\"id\":\"18649\",\"type\":\"GlyphRenderer\"},{\"attributes\":{\"source\":{\"id\":\"18663\"}},\"id\":\"18668\",\"type\":\"CDSView\"},{\"attributes\":{},\"id\":\"19301\",\"type\":\"AllLabels\"},{\"attributes\":{\"fill_alpha\":{\"value\":0.1},\"fill_color\":{\"value\":\"#1f77b4\"},\"hatch_alpha\":{\"value\":0.1},\"height\":{\"value\":0.01},\"line_alpha\":{\"value\":0.1},\"width\":{\"value\":0.1},\"x\":{\"value\":0},\"y\":{\"value\":98.5}},\"id\":\"18665\",\"type\":\"Rect\"},{\"attributes\":{\"bottom\":{\"value\":45.0},\"fill_alpha\":{\"value\":0.2},\"fill_color\":{\"value\":\"#9ecae1\"},\"hatch_alpha\":{\"value\":0.2},\"line_alpha\":{\"value\":0.2},\"top\":{\"value\":31.0},\"width\":{\"value\":0.5},\"x\":{\"value\":0}},\"id\":\"18648\",\"type\":\"VBar\"},{\"attributes\":{\"fill_alpha\":{\"value\":0.9},\"fill_color\":{\"value\":\"black\"},\"size\":{\"value\":10},\"x\":{\"value\":0},\"y\":{\"value\":45.0}},\"id\":\"18652\",\"type\":\"Circle\"},{\"attributes\":{\"source\":{\"id\":\"18639\"}},\"id\":\"18644\",\"type\":\"CDSView\"},{\"attributes\":{\"source\":{\"id\":\"18651\"}},\"id\":\"18656\",\"type\":\"CDSView\"},{\"attributes\":{},\"id\":\"18610\",\"type\":\"BasicTicker\"},{\"attributes\":{\"data\":{},\"selected\":{\"id\":\"19313\"},\"selection_policy\":{\"id\":\"19312\"}},\"id\":\"18657\",\"type\":\"ColumnDataSource\"},{\"attributes\":{},\"id\":\"19302\",\"type\":\"UnionRenderers\"},{\"attributes\":{},\"id\":\"18613\",\"type\":\"PanTool\"},{\"attributes\":{\"data\":{},\"selected\":{\"id\":\"19311\"},\"selection_policy\":{\"id\":\"19310\"}},\"id\":\"18651\",\"type\":\"ColumnDataSource\"},{\"attributes\":{\"overlay\":{\"id\":\"18619\"}},\"id\":\"18615\",\"type\":\"BoxZoomTool\"},{\"attributes\":{},\"id\":\"19303\",\"type\":\"Selection\"},{\"attributes\":{\"coordinates\":null,\"data_source\":{\"id\":\"18663\"},\"glyph\":{\"id\":\"18664\"},\"group\":null,\"hover_glyph\":null,\"muted_glyph\":{\"id\":\"18666\"},\"nonselection_glyph\":{\"id\":\"18665\"},\"view\":{\"id\":\"18668\"}},\"id\":\"18667\",\"type\":\"GlyphRenderer\"},{\"attributes\":{\"coordinates\":null,\"formatter\":{\"id\":\"19297\"},\"group\":null,\"major_label_policy\":{\"id\":\"19298\"},\"ticker\":{\"id\":\"18610\"}},\"id\":\"18609\",\"type\":\"LinearAxis\"},{\"attributes\":{},\"id\":\"18614\",\"type\":\"WheelZoomTool\"},{\"attributes\":{},\"id\":\"18616\",\"type\":\"SaveTool\"},{\"attributes\":{\"coordinates\":null,\"data_source\":{\"id\":\"18627\"},\"glyph\":{\"id\":\"18628\"},\"group\":null,\"hover_glyph\":null,\"muted_glyph\":{\"id\":\"18630\"},\"nonselection_glyph\":{\"id\":\"18629\"},\"view\":{\"id\":\"18632\"}},\"id\":\"18631\",\"type\":\"GlyphRenderer\"},{\"attributes\":{},\"id\":\"18618\",\"type\":\"HelpTool\"},{\"attributes\":{},\"id\":\"18603\",\"type\":\"LinearScale\"},{\"attributes\":{\"axis\":{\"id\":\"18609\"},\"coordinates\":null,\"dimension\":1,\"grid_line_color\":\"white\",\"group\":null,\"ticker\":null},\"id\":\"18612\",\"type\":\"Grid\"},{\"attributes\":{\"bottom\":{\"value\":58.0},\"fill_color\":{\"value\":\"#deebf7\"},\"top\":{\"value\":45.0},\"width\":{\"value\":0.5},\"x\":{\"value\":0}},\"id\":\"18640\",\"type\":\"VBar\"},{\"attributes\":{\"fill_alpha\":{\"value\":0.2},\"fill_color\":{\"value\":\"#1f77b4\"},\"hatch_alpha\":{\"value\":0.2},\"height\":{\"value\":0.01},\"line_alpha\":{\"value\":0.2},\"width\":{\"value\":0.1},\"x\":{\"value\":0},\"y\":{\"value\":98.5}},\"id\":\"18666\",\"type\":\"Rect\"},{\"attributes\":{\"fill_color\":{\"value\":\"#1f77b4\"},\"height\":{\"value\":0.01},\"width\":{\"value\":0.1},\"x\":{\"value\":0},\"y\":{\"value\":98.5}},\"id\":\"18664\",\"type\":\"Rect\"},{\"attributes\":{},\"id\":\"18606\",\"type\":\"BasicTicker\"},{\"attributes\":{\"bottom\":{\"value\":58.0},\"fill_alpha\":{\"value\":0.1},\"fill_color\":{\"value\":\"#deebf7\"},\"hatch_alpha\":{\"value\":0.1},\"line_alpha\":{\"value\":0.1},\"top\":{\"value\":45.0},\"width\":{\"value\":0.5},\"x\":{\"value\":0}},\"id\":\"18641\",\"type\":\"VBar\"},{\"attributes\":{},\"id\":\"19304\",\"type\":\"UnionRenderers\"},{\"attributes\":{\"x0\":{\"value\":0},\"x1\":{\"value\":0},\"y0\":{\"value\":98.5},\"y1\":{\"value\":58.0}},\"id\":\"18628\",\"type\":\"Segment\"},{\"attributes\":{\"coordinates\":null,\"group\":null,\"text\":\"Age\"},\"id\":\"18595\",\"type\":\"Title\"},{\"attributes\":{\"bottom\":{\"value\":58.0},\"fill_alpha\":{\"value\":0.2},\"fill_color\":{\"value\":\"#deebf7\"},\"hatch_alpha\":{\"value\":0.2},\"line_alpha\":{\"value\":0.2},\"top\":{\"value\":45.0},\"width\":{\"value\":0.5},\"x\":{\"value\":0}},\"id\":\"18642\",\"type\":\"VBar\"},{\"attributes\":{},\"id\":\"19305\",\"type\":\"Selection\"},{\"attributes\":{\"tools\":[{\"id\":\"18613\"},{\"id\":\"18614\"},{\"id\":\"18615\"},{\"id\":\"18616\"},{\"id\":\"18617\"},{\"id\":\"18618\"}]},\"id\":\"18620\",\"type\":\"Toolbar\"},{\"attributes\":{\"data\":{},\"selected\":{\"id\":\"19315\"},\"selection_policy\":{\"id\":\"19314\"}},\"id\":\"18663\",\"type\":\"ColumnDataSource\"},{\"attributes\":{\"coordinates\":null,\"data_source\":{\"id\":\"18657\"},\"glyph\":{\"id\":\"18658\"},\"group\":null,\"hover_glyph\":null,\"muted_glyph\":{\"id\":\"18660\"},\"nonselection_glyph\":{\"id\":\"18659\"},\"view\":{\"id\":\"18662\"}},\"id\":\"18661\",\"type\":\"GlyphRenderer\"},{\"attributes\":{\"source\":{\"id\":\"18657\"}},\"id\":\"18662\",\"type\":\"CDSView\"},{\"attributes\":{},\"id\":\"18617\",\"type\":\"ResetTool\"},{\"attributes\":{\"fill_alpha\":{\"value\":0.2},\"fill_color\":{\"value\":\"#1f77b4\"},\"hatch_alpha\":{\"value\":0.2},\"height\":{\"value\":0.01},\"line_alpha\":{\"value\":0.2},\"width\":{\"value\":0.1},\"x\":{\"value\":0},\"y\":{\"value\":-9.5}},\"id\":\"18660\",\"type\":\"Rect\"},{\"attributes\":{\"bottom_units\":\"screen\",\"coordinates\":null,\"fill_alpha\":0.5,\"fill_color\":\"lightgrey\",\"group\":null,\"left_units\":\"screen\",\"level\":\"overlay\",\"line_alpha\":1.0,\"line_color\":\"black\",\"line_dash\":[4,4],\"line_width\":2,\"right_units\":\"screen\",\"syncable\":false,\"top_units\":\"screen\"},\"id\":\"18619\",\"type\":\"BoxAnnotation\"},{\"attributes\":{\"axis\":{\"id\":\"18605\"},\"coordinates\":null,\"grid_line_color\":null,\"group\":null,\"ticker\":null},\"id\":\"18608\",\"type\":\"Grid\"},{\"attributes\":{\"coordinates\":null,\"data_source\":{\"id\":\"18639\"},\"glyph\":{\"id\":\"18640\"},\"group\":null,\"hover_glyph\":null,\"muted_glyph\":{\"id\":\"18642\"},\"nonselection_glyph\":{\"id\":\"18641\"},\"view\":{\"id\":\"18644\"}},\"id\":\"18643\",\"type\":\"GlyphRenderer\"},{\"attributes\":{\"fill_color\":{\"value\":\"#1f77b4\"},\"height\":{\"value\":0.01},\"width\":{\"value\":0.1},\"x\":{\"value\":0},\"y\":{\"value\":-9.5}},\"id\":\"18658\",\"type\":\"Rect\"},{\"attributes\":{},\"id\":\"18597\",\"type\":\"DataRange1d\"},{\"attributes\":{},\"id\":\"18599\",\"type\":\"DataRange1d\"},{\"attributes\":{\"coordinates\":null,\"data_source\":{\"id\":\"18651\"},\"glyph\":{\"id\":\"18652\"},\"group\":null,\"hover_glyph\":null,\"muted_glyph\":{\"id\":\"18654\"},\"nonselection_glyph\":{\"id\":\"18653\"},\"view\":{\"id\":\"18656\"}},\"id\":\"18655\",\"type\":\"GlyphRenderer\"},{\"attributes\":{\"fill_alpha\":{\"value\":0.2},\"fill_color\":{\"value\":\"black\"},\"hatch_alpha\":{\"value\":0.2},\"line_alpha\":{\"value\":0.2},\"size\":{\"value\":10},\"x\":{\"value\":0},\"y\":{\"value\":45.0}},\"id\":\"18654\",\"type\":\"Circle\"},{\"attributes\":{\"coordinates\":null,\"formatter\":{\"id\":\"19300\"},\"group\":null,\"major_label_policy\":{\"id\":\"19301\"},\"ticker\":{\"id\":\"18606\"}},\"id\":\"18605\",\"type\":\"LinearAxis\"},{\"attributes\":{\"fill_alpha\":{\"value\":0.1},\"fill_color\":{\"value\":\"#1f77b4\"},\"hatch_alpha\":{\"value\":0.1},\"height\":{\"value\":0.01},\"line_alpha\":{\"value\":0.1},\"width\":{\"value\":0.1},\"x\":{\"value\":0},\"y\":{\"value\":-9.5}},\"id\":\"18659\",\"type\":\"Rect\"}],\"root_ids\":[\"18594\"]},\"title\":\"Bokeh Application\",\"version\":\"2.4.3\"}};\n  const render_items = [{\"docid\":\"290a90f8-b4a8-4812-9416-dc433dda352f\",\"root_ids\":[\"18594\"],\"roots\":{\"18594\":\"7c7a800b-330b-4095-bd1a-962702f17a10\"}}];\n  root.Bokeh.embed.embed_items_notebook(docs_json, render_items);\n  }\n  if (root.Bokeh !== undefined) {\n    embed_document(root);\n  } else {\n    let attempts = 0;\n    const timer = setInterval(function(root) {\n      if (root.Bokeh !== undefined) {\n        clearInterval(timer);\n        embed_document(root);\n      } else {\n        attempts++;\n        if (attempts > 100) {\n          clearInterval(timer);\n          console.log(\"Bokeh: ERROR: Unable to run BokehJS code because BokehJS library is missing\");\n        }\n      }\n    }, 10, root)\n  }\n})(window);",
      "application/vnd.bokehjs_exec.v0+json": ""
     },
     "metadata": {
      "application/vnd.bokehjs_exec.v0+json": {
       "id": "18594"
      }
     },
     "output_type": "display_data"
    }
   ],
   "source": [
    "plot_box(df_drug, \"Age\")"
   ]
  },
  {
   "cell_type": "code",
   "execution_count": 79,
   "metadata": {},
   "outputs": [
    {
     "data": {
      "text/html": [
       "\n",
       "  <div class=\"bk-root\" id=\"e0a831f6-79b6-408f-930e-ea9a94412318\" data-root-id=\"19427\"></div>\n"
      ]
     },
     "metadata": {},
     "output_type": "display_data"
    },
    {
     "data": {
      "application/javascript": "(function(root) {\n  function embed_document(root) {\n  const docs_json = {\"e31ca3d5-a67a-40c9-b447-5a66c4437a79\":{\"defs\":[],\"roots\":{\"references\":[{\"attributes\":{\"background_fill_color\":\"#efefef\",\"below\":[{\"id\":\"19438\"}],\"center\":[{\"id\":\"19441\"},{\"id\":\"19445\"}],\"height\":450,\"left\":[{\"id\":\"19442\"}],\"renderers\":[{\"id\":\"19464\"},{\"id\":\"19470\"},{\"id\":\"19476\"},{\"id\":\"19482\"},{\"id\":\"19488\"},{\"id\":\"19494\"},{\"id\":\"19500\"},{\"id\":\"19506\"}],\"title\":{\"id\":\"19428\"},\"toolbar\":{\"id\":\"19453\"},\"toolbar_location\":null,\"width\":450,\"x_range\":{\"id\":\"19430\"},\"x_scale\":{\"id\":\"19434\"},\"y_range\":{\"id\":\"19432\"},\"y_scale\":{\"id\":\"19436\"}},\"id\":\"19427\",\"subtype\":\"Figure\",\"type\":\"Plot\"},{\"attributes\":{\"data\":{},\"selected\":{\"id\":\"20176\"},\"selection_policy\":{\"id\":\"20175\"}},\"id\":\"19496\",\"type\":\"ColumnDataSource\"},{\"attributes\":{\"fill_alpha\":{\"value\":0.1},\"fill_color\":{\"value\":\"#1f77b4\"},\"hatch_alpha\":{\"value\":0.1},\"height\":{\"value\":0.01},\"line_alpha\":{\"value\":0.1},\"width\":{\"value\":0.1},\"x\":{\"value\":0},\"y\":{\"value\":32.78175}},\"id\":\"19498\",\"type\":\"Rect\"},{\"attributes\":{\"coordinates\":null,\"formatter\":{\"id\":\"20161\"},\"group\":null,\"major_label_policy\":{\"id\":\"20162\"},\"ticker\":{\"id\":\"19439\"}},\"id\":\"19438\",\"type\":\"LinearAxis\"},{\"attributes\":{},\"id\":\"19451\",\"type\":\"HelpTool\"},{\"attributes\":{},\"id\":\"19439\",\"type\":\"BasicTicker\"},{\"attributes\":{\"x0\":{\"value\":0},\"x1\":{\"value\":0},\"y0\":{\"value\":32.78175},\"y1\":{\"value\":19.38}},\"id\":\"19461\",\"type\":\"Segment\"},{\"attributes\":{},\"id\":\"19432\",\"type\":\"DataRange1d\"},{\"attributes\":{},\"id\":\"19434\",\"type\":\"LinearScale\"},{\"attributes\":{},\"id\":\"19430\",\"type\":\"DataRange1d\"},{\"attributes\":{\"data\":{},\"selected\":{\"id\":\"20164\"},\"selection_policy\":{\"id\":\"20163\"}},\"id\":\"19460\",\"type\":\"ColumnDataSource\"},{\"attributes\":{\"coordinates\":null,\"group\":null,\"text\":\"Na_to_K\"},\"id\":\"19428\",\"type\":\"Title\"},{\"attributes\":{\"coordinates\":null,\"formatter\":{\"id\":\"20158\"},\"group\":null,\"major_label_policy\":{\"id\":\"20159\"},\"ticker\":{\"id\":\"19443\"}},\"id\":\"19442\",\"type\":\"LinearAxis\"},{\"attributes\":{},\"id\":\"19436\",\"type\":\"LinearScale\"},{\"attributes\":{\"axis\":{\"id\":\"19438\"},\"coordinates\":null,\"grid_line_color\":null,\"group\":null,\"ticker\":null},\"id\":\"19441\",\"type\":\"Grid\"},{\"attributes\":{\"axis\":{\"id\":\"19442\"},\"coordinates\":null,\"dimension\":1,\"grid_line_color\":\"white\",\"group\":null,\"ticker\":null},\"id\":\"19445\",\"type\":\"Grid\"},{\"attributes\":{},\"id\":\"19443\",\"type\":\"BasicTicker\"},{\"attributes\":{\"line_alpha\":{\"value\":0.1},\"x0\":{\"value\":0},\"x1\":{\"value\":0},\"y0\":{\"value\":32.78175},\"y1\":{\"value\":19.38}},\"id\":\"19462\",\"type\":\"Segment\"},{\"attributes\":{},\"id\":\"19447\",\"type\":\"WheelZoomTool\"},{\"attributes\":{\"fill_alpha\":{\"value\":0.1},\"fill_color\":{\"value\":\"#1f77b4\"},\"hatch_alpha\":{\"value\":0.1},\"height\":{\"value\":0.01},\"line_alpha\":{\"value\":0.1},\"width\":{\"value\":0.1},\"x\":{\"value\":0},\"y\":{\"value\":-2.9562500000000007}},\"id\":\"19492\",\"type\":\"Rect\"},{\"attributes\":{},\"id\":\"19446\",\"type\":\"PanTool\"},{\"attributes\":{\"overlay\":{\"id\":\"19452\"}},\"id\":\"19448\",\"type\":\"BoxZoomTool\"},{\"attributes\":{},\"id\":\"19449\",\"type\":\"SaveTool\"},{\"attributes\":{},\"id\":\"19450\",\"type\":\"ResetTool\"},{\"attributes\":{\"bottom_units\":\"screen\",\"coordinates\":null,\"fill_alpha\":0.5,\"fill_color\":\"lightgrey\",\"group\":null,\"left_units\":\"screen\",\"level\":\"overlay\",\"line_alpha\":1.0,\"line_color\":\"black\",\"line_dash\":[4,4],\"line_width\":2,\"right_units\":\"screen\",\"syncable\":false,\"top_units\":\"screen\"},\"id\":\"19452\",\"type\":\"BoxAnnotation\"},{\"attributes\":{\"line_alpha\":{\"value\":0.2},\"x0\":{\"value\":0},\"x1\":{\"value\":0},\"y0\":{\"value\":-2.9562500000000007},\"y1\":{\"value\":10.4455}},\"id\":\"19469\",\"type\":\"Segment\"},{\"attributes\":{\"source\":{\"id\":\"19460\"}},\"id\":\"19465\",\"type\":\"CDSView\"},{\"attributes\":{\"x0\":{\"value\":0},\"x1\":{\"value\":0},\"y0\":{\"value\":-2.9562500000000007},\"y1\":{\"value\":10.4455}},\"id\":\"19467\",\"type\":\"Segment\"},{\"attributes\":{\"coordinates\":null,\"data_source\":{\"id\":\"19496\"},\"glyph\":{\"id\":\"19497\"},\"group\":null,\"hover_glyph\":null,\"muted_glyph\":{\"id\":\"19499\"},\"nonselection_glyph\":{\"id\":\"19498\"},\"view\":{\"id\":\"19501\"}},\"id\":\"19500\",\"type\":\"GlyphRenderer\"},{\"attributes\":{\"source\":{\"id\":\"19496\"}},\"id\":\"19501\",\"type\":\"CDSView\"},{\"attributes\":{\"fill_color\":{\"value\":\"#1f77b4\"},\"height\":{\"value\":0.01},\"width\":{\"value\":0.1},\"x\":{\"value\":0},\"y\":{\"value\":-2.9562500000000007}},\"id\":\"19491\",\"type\":\"Rect\"},{\"attributes\":{\"tools\":[{\"id\":\"19446\"},{\"id\":\"19447\"},{\"id\":\"19448\"},{\"id\":\"19449\"},{\"id\":\"19450\"},{\"id\":\"19451\"}]},\"id\":\"19453\",\"type\":\"Toolbar\"},{\"attributes\":{\"line_alpha\":{\"value\":0.2},\"x0\":{\"value\":0},\"x1\":{\"value\":0},\"y0\":{\"value\":32.78175},\"y1\":{\"value\":19.38}},\"id\":\"19463\",\"type\":\"Segment\"},{\"attributes\":{\"line_alpha\":{\"value\":0.1},\"x0\":{\"value\":0},\"x1\":{\"value\":0},\"y0\":{\"value\":-2.9562500000000007},\"y1\":{\"value\":10.4455}},\"id\":\"19468\",\"type\":\"Segment\"},{\"attributes\":{\"data\":{},\"selected\":{\"id\":\"20166\"},\"selection_policy\":{\"id\":\"20165\"}},\"id\":\"19466\",\"type\":\"ColumnDataSource\"},{\"attributes\":{\"coordinates\":null,\"data_source\":{\"id\":\"19460\"},\"glyph\":{\"id\":\"19461\"},\"group\":null,\"hover_glyph\":null,\"muted_glyph\":{\"id\":\"19463\"},\"nonselection_glyph\":{\"id\":\"19462\"},\"view\":{\"id\":\"19465\"}},\"id\":\"19464\",\"type\":\"GlyphRenderer\"},{\"attributes\":{\"coordinates\":null,\"data_source\":{\"id\":\"19466\"},\"glyph\":{\"id\":\"19467\"},\"group\":null,\"hover_glyph\":null,\"muted_glyph\":{\"id\":\"19469\"},\"nonselection_glyph\":{\"id\":\"19468\"},\"view\":{\"id\":\"19471\"}},\"id\":\"19470\",\"type\":\"GlyphRenderer\"},{\"attributes\":{\"fill_alpha\":{\"value\":0.2},\"fill_color\":{\"value\":\"#1f77b4\"},\"hatch_alpha\":{\"value\":0.2},\"height\":{\"value\":0.01},\"line_alpha\":{\"value\":0.2},\"width\":{\"value\":0.1},\"x\":{\"value\":0},\"y\":{\"value\":32.78175}},\"id\":\"19499\",\"type\":\"Rect\"},{\"attributes\":{},\"id\":\"20161\",\"type\":\"BasicTickFormatter\"},{\"attributes\":{\"bottom\":{\"value\":19.38},\"fill_color\":{\"value\":\"#deebf7\"},\"top\":{\"value\":13.9365},\"width\":{\"value\":0.5},\"x\":{\"value\":0}},\"id\":\"19473\",\"type\":\"VBar\"},{\"attributes\":{},\"id\":\"20162\",\"type\":\"AllLabels\"},{\"attributes\":{\"source\":{\"id\":\"19466\"}},\"id\":\"19471\",\"type\":\"CDSView\"},{\"attributes\":{\"bottom\":{\"value\":19.38},\"fill_alpha\":{\"value\":0.1},\"fill_color\":{\"value\":\"#deebf7\"},\"hatch_alpha\":{\"value\":0.1},\"line_alpha\":{\"value\":0.1},\"top\":{\"value\":13.9365},\"width\":{\"value\":0.5},\"x\":{\"value\":0}},\"id\":\"19474\",\"type\":\"VBar\"},{\"attributes\":{\"data\":{},\"selected\":{\"id\":\"20168\"},\"selection_policy\":{\"id\":\"20167\"}},\"id\":\"19472\",\"type\":\"ColumnDataSource\"},{\"attributes\":{\"fill_alpha\":{\"value\":0.6},\"fill_color\":{\"value\":\"#3182bd\"},\"hatch_color\":{\"value\":\"#3182bd\"},\"line_color\":{\"value\":\"#3182bd\"},\"size\":{\"value\":8},\"x\":{\"value\":0},\"y\":{\"field\":\"y\"}},\"id\":\"19503\",\"type\":\"Circle\"},{\"attributes\":{\"bottom\":{\"value\":13.9365},\"fill_alpha\":{\"value\":0.1},\"fill_color\":{\"value\":\"#9ecae1\"},\"hatch_alpha\":{\"value\":0.1},\"line_alpha\":{\"value\":0.1},\"top\":{\"value\":10.4455},\"width\":{\"value\":0.5},\"x\":{\"value\":0}},\"id\":\"19480\",\"type\":\"VBar\"},{\"attributes\":{},\"id\":\"20171\",\"type\":\"UnionRenderers\"},{\"attributes\":{\"coordinates\":null,\"data_source\":{\"id\":\"19472\"},\"glyph\":{\"id\":\"19473\"},\"group\":null,\"hover_glyph\":null,\"muted_glyph\":{\"id\":\"19475\"},\"nonselection_glyph\":{\"id\":\"19474\"},\"view\":{\"id\":\"19477\"}},\"id\":\"19476\",\"type\":\"GlyphRenderer\"},{\"attributes\":{\"bottom\":{\"value\":13.9365},\"fill_color\":{\"value\":\"#9ecae1\"},\"top\":{\"value\":10.4455},\"width\":{\"value\":0.5},\"x\":{\"value\":0}},\"id\":\"19479\",\"type\":\"VBar\"},{\"attributes\":{},\"id\":\"20172\",\"type\":\"Selection\"},{\"attributes\":{\"bottom\":{\"value\":19.38},\"fill_alpha\":{\"value\":0.2},\"fill_color\":{\"value\":\"#deebf7\"},\"hatch_alpha\":{\"value\":0.2},\"line_alpha\":{\"value\":0.2},\"top\":{\"value\":13.9365},\"width\":{\"value\":0.5},\"x\":{\"value\":0}},\"id\":\"19475\",\"type\":\"VBar\"},{\"attributes\":{\"source\":{\"id\":\"19472\"}},\"id\":\"19477\",\"type\":\"CDSView\"},{\"attributes\":{\"data\":{},\"selected\":{\"id\":\"20170\"},\"selection_policy\":{\"id\":\"20169\"}},\"id\":\"19478\",\"type\":\"ColumnDataSource\"},{\"attributes\":{},\"id\":\"20163\",\"type\":\"UnionRenderers\"},{\"attributes\":{\"coordinates\":null,\"data_source\":{\"id\":\"19478\"},\"glyph\":{\"id\":\"19479\"},\"group\":null,\"hover_glyph\":null,\"muted_glyph\":{\"id\":\"19481\"},\"nonselection_glyph\":{\"id\":\"19480\"},\"view\":{\"id\":\"19483\"}},\"id\":\"19482\",\"type\":\"GlyphRenderer\"},{\"attributes\":{},\"id\":\"20164\",\"type\":\"Selection\"},{\"attributes\":{\"fill_alpha\":{\"value\":0.9},\"fill_color\":{\"value\":\"black\"},\"size\":{\"value\":10},\"x\":{\"value\":0},\"y\":{\"value\":13.9365}},\"id\":\"19485\",\"type\":\"Circle\"},{\"attributes\":{\"bottom\":{\"value\":13.9365},\"fill_alpha\":{\"value\":0.2},\"fill_color\":{\"value\":\"#9ecae1\"},\"hatch_alpha\":{\"value\":0.2},\"line_alpha\":{\"value\":0.2},\"top\":{\"value\":10.4455},\"width\":{\"value\":0.5},\"x\":{\"value\":0}},\"id\":\"19481\",\"type\":\"VBar\"},{\"attributes\":{\"source\":{\"id\":\"19478\"}},\"id\":\"19483\",\"type\":\"CDSView\"},{\"attributes\":{\"data\":{},\"selected\":{\"id\":\"20172\"},\"selection_policy\":{\"id\":\"20171\"}},\"id\":\"19484\",\"type\":\"ColumnDataSource\"},{\"attributes\":{\"data\":{},\"selected\":{\"id\":\"20174\"},\"selection_policy\":{\"id\":\"20173\"}},\"id\":\"19490\",\"type\":\"ColumnDataSource\"},{\"attributes\":{\"source\":{\"id\":\"19484\"}},\"id\":\"19489\",\"type\":\"CDSView\"},{\"attributes\":{\"coordinates\":null,\"data_source\":{\"id\":\"19484\"},\"glyph\":{\"id\":\"19485\"},\"group\":null,\"hover_glyph\":null,\"muted_glyph\":{\"id\":\"19487\"},\"nonselection_glyph\":{\"id\":\"19486\"},\"view\":{\"id\":\"19489\"}},\"id\":\"19488\",\"type\":\"GlyphRenderer\"},{\"attributes\":{\"data\":{\"y\":{\"__ndarray__\":\"ke18PzW+QEBWDi2ynR9DQG8Sg8DK0UFATDeJQWDFQEC8dJMYBHZAQPLSTWIQmEJAVg4tsp1/QUArhxbZzldBQA==\",\"dtype\":\"float64\",\"order\":\"little\",\"shape\":[8]}},\"selected\":{\"id\":\"20178\"},\"selection_policy\":{\"id\":\"20177\"}},\"id\":\"19502\",\"type\":\"ColumnDataSource\"},{\"attributes\":{},\"id\":\"20173\",\"type\":\"UnionRenderers\"},{\"attributes\":{},\"id\":\"20165\",\"type\":\"UnionRenderers\"},{\"attributes\":{},\"id\":\"20174\",\"type\":\"Selection\"},{\"attributes\":{\"fill_alpha\":{\"value\":0.2},\"fill_color\":{\"value\":\"#1f77b4\"},\"hatch_alpha\":{\"value\":0.2},\"height\":{\"value\":0.01},\"line_alpha\":{\"value\":0.2},\"width\":{\"value\":0.1},\"x\":{\"value\":0},\"y\":{\"value\":-2.9562500000000007}},\"id\":\"19493\",\"type\":\"Rect\"},{\"attributes\":{\"fill_alpha\":{\"value\":0.1},\"fill_color\":{\"value\":\"#3182bd\"},\"hatch_alpha\":{\"value\":0.1},\"hatch_color\":{\"value\":\"#3182bd\"},\"line_alpha\":{\"value\":0.1},\"line_color\":{\"value\":\"#3182bd\"},\"size\":{\"value\":8},\"x\":{\"value\":0},\"y\":{\"field\":\"y\"}},\"id\":\"19504\",\"type\":\"Circle\"},{\"attributes\":{\"fill_alpha\":{\"value\":0.2},\"fill_color\":{\"value\":\"#3182bd\"},\"hatch_alpha\":{\"value\":0.2},\"hatch_color\":{\"value\":\"#3182bd\"},\"line_alpha\":{\"value\":0.2},\"line_color\":{\"value\":\"#3182bd\"},\"size\":{\"value\":8},\"x\":{\"value\":0},\"y\":{\"field\":\"y\"}},\"id\":\"19505\",\"type\":\"Circle\"},{\"attributes\":{},\"id\":\"20166\",\"type\":\"Selection\"},{\"attributes\":{\"coordinates\":null,\"data_source\":{\"id\":\"19502\"},\"glyph\":{\"id\":\"19503\"},\"group\":null,\"hover_glyph\":null,\"muted_glyph\":{\"id\":\"19505\"},\"nonselection_glyph\":{\"id\":\"19504\"},\"view\":{\"id\":\"19507\"}},\"id\":\"19506\",\"type\":\"GlyphRenderer\"},{\"attributes\":{\"source\":{\"id\":\"19502\"}},\"id\":\"19507\",\"type\":\"CDSView\"},{\"attributes\":{\"fill_alpha\":{\"value\":0.2},\"fill_color\":{\"value\":\"black\"},\"hatch_alpha\":{\"value\":0.2},\"line_alpha\":{\"value\":0.2},\"size\":{\"value\":10},\"x\":{\"value\":0},\"y\":{\"value\":13.9365}},\"id\":\"19487\",\"type\":\"Circle\"},{\"attributes\":{},\"id\":\"20167\",\"type\":\"UnionRenderers\"},{\"attributes\":{},\"id\":\"20175\",\"type\":\"UnionRenderers\"},{\"attributes\":{},\"id\":\"20168\",\"type\":\"Selection\"},{\"attributes\":{},\"id\":\"20176\",\"type\":\"Selection\"},{\"attributes\":{\"fill_alpha\":{\"value\":0.1},\"fill_color\":{\"value\":\"black\"},\"hatch_alpha\":{\"value\":0.1},\"line_alpha\":{\"value\":0.1},\"size\":{\"value\":10},\"x\":{\"value\":0},\"y\":{\"value\":13.9365}},\"id\":\"19486\",\"type\":\"Circle\"},{\"attributes\":{},\"id\":\"20177\",\"type\":\"UnionRenderers\"},{\"attributes\":{},\"id\":\"20169\",\"type\":\"UnionRenderers\"},{\"attributes\":{\"coordinates\":null,\"data_source\":{\"id\":\"19490\"},\"glyph\":{\"id\":\"19491\"},\"group\":null,\"hover_glyph\":null,\"muted_glyph\":{\"id\":\"19493\"},\"nonselection_glyph\":{\"id\":\"19492\"},\"view\":{\"id\":\"19495\"}},\"id\":\"19494\",\"type\":\"GlyphRenderer\"},{\"attributes\":{},\"id\":\"20170\",\"type\":\"Selection\"},{\"attributes\":{},\"id\":\"20178\",\"type\":\"Selection\"},{\"attributes\":{},\"id\":\"20158\",\"type\":\"BasicTickFormatter\"},{\"attributes\":{},\"id\":\"20159\",\"type\":\"AllLabels\"},{\"attributes\":{\"fill_color\":{\"value\":\"#1f77b4\"},\"height\":{\"value\":0.01},\"width\":{\"value\":0.1},\"x\":{\"value\":0},\"y\":{\"value\":32.78175}},\"id\":\"19497\",\"type\":\"Rect\"},{\"attributes\":{\"source\":{\"id\":\"19490\"}},\"id\":\"19495\",\"type\":\"CDSView\"}],\"root_ids\":[\"19427\"]},\"title\":\"Bokeh Application\",\"version\":\"2.4.3\"}};\n  const render_items = [{\"docid\":\"e31ca3d5-a67a-40c9-b447-5a66c4437a79\",\"root_ids\":[\"19427\"],\"roots\":{\"19427\":\"e0a831f6-79b6-408f-930e-ea9a94412318\"}}];\n  root.Bokeh.embed.embed_items_notebook(docs_json, render_items);\n  }\n  if (root.Bokeh !== undefined) {\n    embed_document(root);\n  } else {\n    let attempts = 0;\n    const timer = setInterval(function(root) {\n      if (root.Bokeh !== undefined) {\n        clearInterval(timer);\n        embed_document(root);\n      } else {\n        attempts++;\n        if (attempts > 100) {\n          clearInterval(timer);\n          console.log(\"Bokeh: ERROR: Unable to run BokehJS code because BokehJS library is missing\");\n        }\n      }\n    }, 10, root)\n  }\n})(window);",
      "application/vnd.bokehjs_exec.v0+json": ""
     },
     "metadata": {
      "application/vnd.bokehjs_exec.v0+json": {
       "id": "19427"
      }
     },
     "output_type": "display_data"
    }
   ],
   "source": [
    "plot_box(df_drug, \"Na_to_K\")"
   ]
  },
  {
   "cell_type": "code",
   "execution_count": 27,
   "metadata": {},
   "outputs": [],
   "source": [
    "def plot_histogram(df, column, title, x_label, y_label=\"n Patients\"):\n",
    "  hist = df[column].value_counts()\n",
    "  x_range = None\n",
    "  if df[column].dtype.name == \"category\":\n",
    "    x_range = df[column].cat.categories.tolist()\n",
    "  else:\n",
    "    x_range = hist.index.tolist().sort()\n",
    "  p = figure(\n",
    "    x_range=x_range,\n",
    "    title=title,\n",
    "    x_axis_label=x_label,\n",
    "    y_axis_label=y_label,\n",
    "    sizing_mode='stretch_width',\n",
    "    max_width=800,\n",
    "    height=300,\n",
    "  )\n",
    "  p.vbar(x=hist.index.tolist(), top=hist.values, width=0.9)\n",
    "  show(p)"
   ]
  },
  {
   "cell_type": "code",
   "execution_count": 80,
   "metadata": {},
   "outputs": [
    {
     "data": {
      "text/html": [
       "\n",
       "  <div class=\"bk-root\" id=\"846b3418-56cf-4a3e-91dc-80d14f704bc6\" data-root-id=\"20300\"></div>\n"
      ]
     },
     "metadata": {},
     "output_type": "display_data"
    },
    {
     "data": {
      "application/javascript": "(function(root) {\n  function embed_document(root) {\n  const docs_json = {\"9f609cb0-29be-46f9-aa10-f43dfb4e1e2f\":{\"defs\":[],\"roots\":{\"references\":[{\"attributes\":{\"below\":[{\"id\":\"20311\"}],\"center\":[{\"id\":\"20313\"},{\"id\":\"20317\"}],\"height\":300,\"left\":[{\"id\":\"20314\"}],\"max_width\":800,\"renderers\":[{\"id\":\"20336\"}],\"sizing_mode\":\"stretch_width\",\"title\":{\"id\":\"20301\"},\"toolbar\":{\"id\":\"20325\"},\"x_range\":{\"id\":\"20303\"},\"x_scale\":{\"id\":\"20307\"},\"y_range\":{\"id\":\"20305\"},\"y_scale\":{\"id\":\"20309\"}},\"id\":\"20300\",\"subtype\":\"Figure\",\"type\":\"Plot\"},{\"attributes\":{},\"id\":\"21012\",\"type\":\"BasicTickFormatter\"},{\"attributes\":{},\"id\":\"21013\",\"type\":\"AllLabels\"},{\"attributes\":{\"data\":{\"top\":[77,64,59],\"x\":[\"HIGH\",\"LOW\",\"NORMAL\"]},\"selected\":{\"id\":\"21018\"},\"selection_policy\":{\"id\":\"21017\"}},\"id\":\"20332\",\"type\":\"ColumnDataSource\"},{\"attributes\":{\"fill_color\":{\"value\":\"#1f77b4\"},\"line_color\":{\"value\":\"#1f77b4\"},\"top\":{\"field\":\"top\"},\"width\":{\"value\":0.9},\"x\":{\"field\":\"x\"}},\"id\":\"20333\",\"type\":\"VBar\"},{\"attributes\":{},\"id\":\"21015\",\"type\":\"CategoricalTickFormatter\"},{\"attributes\":{\"factors\":[\"LOW\",\"NORMAL\",\"HIGH\"]},\"id\":\"20303\",\"type\":\"FactorRange\"},{\"attributes\":{},\"id\":\"21016\",\"type\":\"AllLabels\"},{\"attributes\":{\"fill_alpha\":{\"value\":0.1},\"fill_color\":{\"value\":\"#1f77b4\"},\"hatch_alpha\":{\"value\":0.1},\"line_alpha\":{\"value\":0.1},\"line_color\":{\"value\":\"#1f77b4\"},\"top\":{\"field\":\"top\"},\"width\":{\"value\":0.9},\"x\":{\"field\":\"x\"}},\"id\":\"20334\",\"type\":\"VBar\"},{\"attributes\":{},\"id\":\"20305\",\"type\":\"DataRange1d\"},{\"attributes\":{},\"id\":\"20309\",\"type\":\"LinearScale\"},{\"attributes\":{},\"id\":\"20307\",\"type\":\"CategoricalScale\"},{\"attributes\":{\"coordinates\":null,\"group\":null,\"text\":\"Blood Pressure\"},\"id\":\"20301\",\"type\":\"Title\"},{\"attributes\":{\"axis_label\":\"Blood Pressure\",\"coordinates\":null,\"formatter\":{\"id\":\"21015\"},\"group\":null,\"major_label_policy\":{\"id\":\"21016\"},\"ticker\":{\"id\":\"20312\"}},\"id\":\"20311\",\"type\":\"CategoricalAxis\"},{\"attributes\":{},\"id\":\"20319\",\"type\":\"WheelZoomTool\"},{\"attributes\":{\"tools\":[{\"id\":\"20318\"},{\"id\":\"20319\"},{\"id\":\"20320\"},{\"id\":\"20321\"},{\"id\":\"20322\"},{\"id\":\"20323\"}]},\"id\":\"20325\",\"type\":\"Toolbar\"},{\"attributes\":{},\"id\":\"21017\",\"type\":\"UnionRenderers\"},{\"attributes\":{},\"id\":\"20312\",\"type\":\"CategoricalTicker\"},{\"attributes\":{\"axis\":{\"id\":\"20311\"},\"coordinates\":null,\"group\":null,\"ticker\":null},\"id\":\"20313\",\"type\":\"Grid\"},{\"attributes\":{},\"id\":\"21018\",\"type\":\"Selection\"},{\"attributes\":{\"axis_label\":\"n Patients\",\"coordinates\":null,\"formatter\":{\"id\":\"21012\"},\"group\":null,\"major_label_policy\":{\"id\":\"21013\"},\"ticker\":{\"id\":\"20315\"}},\"id\":\"20314\",\"type\":\"LinearAxis\"},{\"attributes\":{\"axis\":{\"id\":\"20314\"},\"coordinates\":null,\"dimension\":1,\"group\":null,\"ticker\":null},\"id\":\"20317\",\"type\":\"Grid\"},{\"attributes\":{},\"id\":\"20315\",\"type\":\"BasicTicker\"},{\"attributes\":{},\"id\":\"20318\",\"type\":\"PanTool\"},{\"attributes\":{\"overlay\":{\"id\":\"20324\"}},\"id\":\"20320\",\"type\":\"BoxZoomTool\"},{\"attributes\":{\"fill_alpha\":{\"value\":0.2},\"fill_color\":{\"value\":\"#1f77b4\"},\"hatch_alpha\":{\"value\":0.2},\"line_alpha\":{\"value\":0.2},\"line_color\":{\"value\":\"#1f77b4\"},\"top\":{\"field\":\"top\"},\"width\":{\"value\":0.9},\"x\":{\"field\":\"x\"}},\"id\":\"20335\",\"type\":\"VBar\"},{\"attributes\":{},\"id\":\"20321\",\"type\":\"SaveTool\"},{\"attributes\":{},\"id\":\"20322\",\"type\":\"ResetTool\"},{\"attributes\":{\"coordinates\":null,\"data_source\":{\"id\":\"20332\"},\"glyph\":{\"id\":\"20333\"},\"group\":null,\"hover_glyph\":null,\"muted_glyph\":{\"id\":\"20335\"},\"nonselection_glyph\":{\"id\":\"20334\"},\"view\":{\"id\":\"20337\"}},\"id\":\"20336\",\"type\":\"GlyphRenderer\"},{\"attributes\":{},\"id\":\"20323\",\"type\":\"HelpTool\"},{\"attributes\":{\"source\":{\"id\":\"20332\"}},\"id\":\"20337\",\"type\":\"CDSView\"},{\"attributes\":{\"bottom_units\":\"screen\",\"coordinates\":null,\"fill_alpha\":0.5,\"fill_color\":\"lightgrey\",\"group\":null,\"left_units\":\"screen\",\"level\":\"overlay\",\"line_alpha\":1.0,\"line_color\":\"black\",\"line_dash\":[4,4],\"line_width\":2,\"right_units\":\"screen\",\"syncable\":false,\"top_units\":\"screen\"},\"id\":\"20324\",\"type\":\"BoxAnnotation\"}],\"root_ids\":[\"20300\"]},\"title\":\"Bokeh Application\",\"version\":\"2.4.3\"}};\n  const render_items = [{\"docid\":\"9f609cb0-29be-46f9-aa10-f43dfb4e1e2f\",\"root_ids\":[\"20300\"],\"roots\":{\"20300\":\"846b3418-56cf-4a3e-91dc-80d14f704bc6\"}}];\n  root.Bokeh.embed.embed_items_notebook(docs_json, render_items);\n  }\n  if (root.Bokeh !== undefined) {\n    embed_document(root);\n  } else {\n    let attempts = 0;\n    const timer = setInterval(function(root) {\n      if (root.Bokeh !== undefined) {\n        clearInterval(timer);\n        embed_document(root);\n      } else {\n        attempts++;\n        if (attempts > 100) {\n          clearInterval(timer);\n          console.log(\"Bokeh: ERROR: Unable to run BokehJS code because BokehJS library is missing\");\n        }\n      }\n    }, 10, root)\n  }\n})(window);",
      "application/vnd.bokehjs_exec.v0+json": ""
     },
     "metadata": {
      "application/vnd.bokehjs_exec.v0+json": {
       "id": "20300"
      }
     },
     "output_type": "display_data"
    }
   ],
   "source": [
    "plot_histogram(df_drug, \"BP\", \"Blood Pressure\", \"Blood Pressure\")"
   ]
  },
  {
   "cell_type": "code",
   "execution_count": 36,
   "metadata": {},
   "outputs": [
    {
     "data": {
      "text/html": [
       "\n",
       "  <div class=\"bk-root\" id=\"7eb55a60-bebd-4e84-b366-1ba43eb0538c\" data-root-id=\"6624\"></div>\n"
      ]
     },
     "metadata": {},
     "output_type": "display_data"
    },
    {
     "data": {
      "application/javascript": "(function(root) {\n  function embed_document(root) {\n  const docs_json = {\"6513afcd-aad9-4254-958d-9de8de5aaf47\":{\"defs\":[],\"roots\":{\"references\":[{\"attributes\":{\"below\":[{\"id\":\"6635\"}],\"center\":[{\"id\":\"6637\"},{\"id\":\"6641\"}],\"height\":300,\"left\":[{\"id\":\"6638\"}],\"max_width\":800,\"renderers\":[{\"id\":\"6660\"}],\"sizing_mode\":\"stretch_width\",\"title\":{\"id\":\"6625\"},\"toolbar\":{\"id\":\"6649\"},\"x_range\":{\"id\":\"6627\"},\"x_scale\":{\"id\":\"6631\"},\"y_range\":{\"id\":\"6629\"},\"y_scale\":{\"id\":\"6633\"}},\"id\":\"6624\",\"subtype\":\"Figure\",\"type\":\"Plot\"},{\"attributes\":{\"fill_color\":{\"value\":\"#1f77b4\"},\"line_color\":{\"value\":\"#1f77b4\"},\"top\":{\"field\":\"top\"},\"width\":{\"value\":0.9},\"x\":{\"field\":\"x\"}},\"id\":\"6657\",\"type\":\"VBar\"},{\"attributes\":{\"factors\":[\"NORMAL\",\"HIGH\"]},\"id\":\"6627\",\"type\":\"FactorRange\"},{\"attributes\":{\"data\":{\"top\":[103,97],\"x\":[\"HIGH\",\"NORMAL\"]},\"selected\":{\"id\":\"6968\"},\"selection_policy\":{\"id\":\"6967\"}},\"id\":\"6656\",\"type\":\"ColumnDataSource\"},{\"attributes\":{},\"id\":\"6965\",\"type\":\"CategoricalTickFormatter\"},{\"attributes\":{\"fill_alpha\":{\"value\":0.1},\"fill_color\":{\"value\":\"#1f77b4\"},\"hatch_alpha\":{\"value\":0.1},\"line_alpha\":{\"value\":0.1},\"line_color\":{\"value\":\"#1f77b4\"},\"top\":{\"field\":\"top\"},\"width\":{\"value\":0.9},\"x\":{\"field\":\"x\"}},\"id\":\"6658\",\"type\":\"VBar\"},{\"attributes\":{},\"id\":\"6967\",\"type\":\"UnionRenderers\"},{\"attributes\":{},\"id\":\"6962\",\"type\":\"BasicTickFormatter\"},{\"attributes\":{},\"id\":\"6968\",\"type\":\"Selection\"},{\"attributes\":{\"coordinates\":null,\"data_source\":{\"id\":\"6656\"},\"glyph\":{\"id\":\"6657\"},\"group\":null,\"hover_glyph\":null,\"muted_glyph\":{\"id\":\"6659\"},\"nonselection_glyph\":{\"id\":\"6658\"},\"view\":{\"id\":\"6661\"}},\"id\":\"6660\",\"type\":\"GlyphRenderer\"},{\"attributes\":{},\"id\":\"6629\",\"type\":\"DataRange1d\"},{\"attributes\":{},\"id\":\"6633\",\"type\":\"LinearScale\"},{\"attributes\":{\"source\":{\"id\":\"6656\"}},\"id\":\"6661\",\"type\":\"CDSView\"},{\"attributes\":{},\"id\":\"6631\",\"type\":\"CategoricalScale\"},{\"attributes\":{\"coordinates\":null,\"group\":null,\"text\":\"Cholesterol\"},\"id\":\"6625\",\"type\":\"Title\"},{\"attributes\":{\"axis_label\":\"Cholesterol\",\"coordinates\":null,\"formatter\":{\"id\":\"6965\"},\"group\":null,\"major_label_policy\":{\"id\":\"6966\"},\"ticker\":{\"id\":\"6636\"}},\"id\":\"6635\",\"type\":\"CategoricalAxis\"},{\"attributes\":{},\"id\":\"6966\",\"type\":\"AllLabels\"},{\"attributes\":{},\"id\":\"6643\",\"type\":\"WheelZoomTool\"},{\"attributes\":{},\"id\":\"6636\",\"type\":\"CategoricalTicker\"},{\"attributes\":{\"axis\":{\"id\":\"6635\"},\"coordinates\":null,\"group\":null,\"ticker\":null},\"id\":\"6637\",\"type\":\"Grid\"},{\"attributes\":{\"axis_label\":\"n Patients\",\"coordinates\":null,\"formatter\":{\"id\":\"6962\"},\"group\":null,\"major_label_policy\":{\"id\":\"6963\"},\"ticker\":{\"id\":\"6639\"}},\"id\":\"6638\",\"type\":\"LinearAxis\"},{\"attributes\":{\"axis\":{\"id\":\"6638\"},\"coordinates\":null,\"dimension\":1,\"group\":null,\"ticker\":null},\"id\":\"6641\",\"type\":\"Grid\"},{\"attributes\":{},\"id\":\"6639\",\"type\":\"BasicTicker\"},{\"attributes\":{\"tools\":[{\"id\":\"6642\"},{\"id\":\"6643\"},{\"id\":\"6644\"},{\"id\":\"6645\"},{\"id\":\"6646\"},{\"id\":\"6647\"}]},\"id\":\"6649\",\"type\":\"Toolbar\"},{\"attributes\":{},\"id\":\"6647\",\"type\":\"HelpTool\"},{\"attributes\":{},\"id\":\"6642\",\"type\":\"PanTool\"},{\"attributes\":{\"overlay\":{\"id\":\"6648\"}},\"id\":\"6644\",\"type\":\"BoxZoomTool\"},{\"attributes\":{},\"id\":\"6645\",\"type\":\"SaveTool\"},{\"attributes\":{\"fill_alpha\":{\"value\":0.2},\"fill_color\":{\"value\":\"#1f77b4\"},\"hatch_alpha\":{\"value\":0.2},\"line_alpha\":{\"value\":0.2},\"line_color\":{\"value\":\"#1f77b4\"},\"top\":{\"field\":\"top\"},\"width\":{\"value\":0.9},\"x\":{\"field\":\"x\"}},\"id\":\"6659\",\"type\":\"VBar\"},{\"attributes\":{},\"id\":\"6646\",\"type\":\"ResetTool\"},{\"attributes\":{\"bottom_units\":\"screen\",\"coordinates\":null,\"fill_alpha\":0.5,\"fill_color\":\"lightgrey\",\"group\":null,\"left_units\":\"screen\",\"level\":\"overlay\",\"line_alpha\":1.0,\"line_color\":\"black\",\"line_dash\":[4,4],\"line_width\":2,\"right_units\":\"screen\",\"syncable\":false,\"top_units\":\"screen\"},\"id\":\"6648\",\"type\":\"BoxAnnotation\"},{\"attributes\":{},\"id\":\"6963\",\"type\":\"AllLabels\"}],\"root_ids\":[\"6624\"]},\"title\":\"Bokeh Application\",\"version\":\"2.4.3\"}};\n  const render_items = [{\"docid\":\"6513afcd-aad9-4254-958d-9de8de5aaf47\",\"root_ids\":[\"6624\"],\"roots\":{\"6624\":\"7eb55a60-bebd-4e84-b366-1ba43eb0538c\"}}];\n  root.Bokeh.embed.embed_items_notebook(docs_json, render_items);\n  }\n  if (root.Bokeh !== undefined) {\n    embed_document(root);\n  } else {\n    let attempts = 0;\n    const timer = setInterval(function(root) {\n      if (root.Bokeh !== undefined) {\n        clearInterval(timer);\n        embed_document(root);\n      } else {\n        attempts++;\n        if (attempts > 100) {\n          clearInterval(timer);\n          console.log(\"Bokeh: ERROR: Unable to run BokehJS code because BokehJS library is missing\");\n        }\n      }\n    }, 10, root)\n  }\n})(window);",
      "application/vnd.bokehjs_exec.v0+json": ""
     },
     "metadata": {
      "application/vnd.bokehjs_exec.v0+json": {
       "id": "6624"
      }
     },
     "output_type": "display_data"
    }
   ],
   "source": [
    "plot_histogram(df_drug, \"Cholesterol\", \"Cholesterol\", \"Cholesterol\")"
   ]
  },
  {
   "cell_type": "code",
   "execution_count": 37,
   "metadata": {},
   "outputs": [
    {
     "data": {
      "text/html": [
       "\n",
       "  <div class=\"bk-root\" id=\"eb82f6bc-9576-43c6-a7f6-27263883a961\" data-root-id=\"7020\"></div>\n"
      ]
     },
     "metadata": {},
     "output_type": "display_data"
    },
    {
     "data": {
      "application/javascript": "(function(root) {\n  function embed_document(root) {\n  const docs_json = {\"de524bfb-518b-41f2-8256-968d27973b78\":{\"defs\":[],\"roots\":{\"references\":[{\"attributes\":{\"below\":[{\"id\":\"7031\"}],\"center\":[{\"id\":\"7033\"},{\"id\":\"7037\"}],\"height\":300,\"left\":[{\"id\":\"7034\"}],\"max_width\":800,\"renderers\":[{\"id\":\"7056\"}],\"sizing_mode\":\"stretch_width\",\"title\":{\"id\":\"7021\"},\"toolbar\":{\"id\":\"7045\"},\"x_range\":{\"id\":\"7023\"},\"x_scale\":{\"id\":\"7027\"},\"y_range\":{\"id\":\"7025\"},\"y_scale\":{\"id\":\"7029\"}},\"id\":\"7020\",\"subtype\":\"Figure\",\"type\":\"Plot\"},{\"attributes\":{},\"id\":\"7372\",\"type\":\"AllLabels\"},{\"attributes\":{},\"id\":\"7373\",\"type\":\"UnionRenderers\"},{\"attributes\":{},\"id\":\"7029\",\"type\":\"LinearScale\"},{\"attributes\":{\"data\":{\"top\":[104,96],\"x\":[\"M\",\"F\"]},\"selected\":{\"id\":\"7374\"},\"selection_policy\":{\"id\":\"7373\"}},\"id\":\"7052\",\"type\":\"ColumnDataSource\"},{\"attributes\":{},\"id\":\"7027\",\"type\":\"CategoricalScale\"},{\"attributes\":{},\"id\":\"7374\",\"type\":\"Selection\"},{\"attributes\":{\"coordinates\":null,\"group\":null,\"text\":\"Sex\"},\"id\":\"7021\",\"type\":\"Title\"},{\"attributes\":{\"axis_label\":\"Sex\",\"coordinates\":null,\"formatter\":{\"id\":\"7371\"},\"group\":null,\"major_label_policy\":{\"id\":\"7372\"},\"ticker\":{\"id\":\"7032\"}},\"id\":\"7031\",\"type\":\"CategoricalAxis\"},{\"attributes\":{},\"id\":\"7039\",\"type\":\"WheelZoomTool\"},{\"attributes\":{},\"id\":\"7032\",\"type\":\"CategoricalTicker\"},{\"attributes\":{},\"id\":\"7369\",\"type\":\"AllLabels\"},{\"attributes\":{\"axis\":{\"id\":\"7031\"},\"coordinates\":null,\"group\":null,\"ticker\":null},\"id\":\"7033\",\"type\":\"Grid\"},{\"attributes\":{\"axis_label\":\"n Patients\",\"coordinates\":null,\"formatter\":{\"id\":\"7368\"},\"group\":null,\"major_label_policy\":{\"id\":\"7369\"},\"ticker\":{\"id\":\"7035\"}},\"id\":\"7034\",\"type\":\"LinearAxis\"},{\"attributes\":{\"axis\":{\"id\":\"7034\"},\"coordinates\":null,\"dimension\":1,\"group\":null,\"ticker\":null},\"id\":\"7037\",\"type\":\"Grid\"},{\"attributes\":{},\"id\":\"7035\",\"type\":\"BasicTicker\"},{\"attributes\":{},\"id\":\"7368\",\"type\":\"BasicTickFormatter\"},{\"attributes\":{},\"id\":\"7043\",\"type\":\"HelpTool\"},{\"attributes\":{},\"id\":\"7038\",\"type\":\"PanTool\"},{\"attributes\":{},\"id\":\"7025\",\"type\":\"DataRange1d\"},{\"attributes\":{\"overlay\":{\"id\":\"7044\"}},\"id\":\"7040\",\"type\":\"BoxZoomTool\"},{\"attributes\":{},\"id\":\"7041\",\"type\":\"SaveTool\"},{\"attributes\":{\"source\":{\"id\":\"7052\"}},\"id\":\"7057\",\"type\":\"CDSView\"},{\"attributes\":{},\"id\":\"7042\",\"type\":\"ResetTool\"},{\"attributes\":{\"fill_alpha\":{\"value\":0.1},\"fill_color\":{\"value\":\"#1f77b4\"},\"hatch_alpha\":{\"value\":0.1},\"line_alpha\":{\"value\":0.1},\"line_color\":{\"value\":\"#1f77b4\"},\"top\":{\"field\":\"top\"},\"width\":{\"value\":0.9},\"x\":{\"field\":\"x\"}},\"id\":\"7054\",\"type\":\"VBar\"},{\"attributes\":{\"bottom_units\":\"screen\",\"coordinates\":null,\"fill_alpha\":0.5,\"fill_color\":\"lightgrey\",\"group\":null,\"left_units\":\"screen\",\"level\":\"overlay\",\"line_alpha\":1.0,\"line_color\":\"black\",\"line_dash\":[4,4],\"line_width\":2,\"right_units\":\"screen\",\"syncable\":false,\"top_units\":\"screen\"},\"id\":\"7044\",\"type\":\"BoxAnnotation\"},{\"attributes\":{\"tools\":[{\"id\":\"7038\"},{\"id\":\"7039\"},{\"id\":\"7040\"},{\"id\":\"7041\"},{\"id\":\"7042\"},{\"id\":\"7043\"}]},\"id\":\"7045\",\"type\":\"Toolbar\"},{\"attributes\":{\"fill_alpha\":{\"value\":0.2},\"fill_color\":{\"value\":\"#1f77b4\"},\"hatch_alpha\":{\"value\":0.2},\"line_alpha\":{\"value\":0.2},\"line_color\":{\"value\":\"#1f77b4\"},\"top\":{\"field\":\"top\"},\"width\":{\"value\":0.9},\"x\":{\"field\":\"x\"}},\"id\":\"7055\",\"type\":\"VBar\"},{\"attributes\":{\"fill_color\":{\"value\":\"#1f77b4\"},\"line_color\":{\"value\":\"#1f77b4\"},\"top\":{\"field\":\"top\"},\"width\":{\"value\":0.9},\"x\":{\"field\":\"x\"}},\"id\":\"7053\",\"type\":\"VBar\"},{\"attributes\":{\"factors\":[\"M\",\"F\"]},\"id\":\"7023\",\"type\":\"FactorRange\"},{\"attributes\":{\"coordinates\":null,\"data_source\":{\"id\":\"7052\"},\"glyph\":{\"id\":\"7053\"},\"group\":null,\"hover_glyph\":null,\"muted_glyph\":{\"id\":\"7055\"},\"nonselection_glyph\":{\"id\":\"7054\"},\"view\":{\"id\":\"7057\"}},\"id\":\"7056\",\"type\":\"GlyphRenderer\"},{\"attributes\":{},\"id\":\"7371\",\"type\":\"CategoricalTickFormatter\"}],\"root_ids\":[\"7020\"]},\"title\":\"Bokeh Application\",\"version\":\"2.4.3\"}};\n  const render_items = [{\"docid\":\"de524bfb-518b-41f2-8256-968d27973b78\",\"root_ids\":[\"7020\"],\"roots\":{\"7020\":\"eb82f6bc-9576-43c6-a7f6-27263883a961\"}}];\n  root.Bokeh.embed.embed_items_notebook(docs_json, render_items);\n  }\n  if (root.Bokeh !== undefined) {\n    embed_document(root);\n  } else {\n    let attempts = 0;\n    const timer = setInterval(function(root) {\n      if (root.Bokeh !== undefined) {\n        clearInterval(timer);\n        embed_document(root);\n      } else {\n        attempts++;\n        if (attempts > 100) {\n          clearInterval(timer);\n          console.log(\"Bokeh: ERROR: Unable to run BokehJS code because BokehJS library is missing\");\n        }\n      }\n    }, 10, root)\n  }\n})(window);",
      "application/vnd.bokehjs_exec.v0+json": ""
     },
     "metadata": {
      "application/vnd.bokehjs_exec.v0+json": {
       "id": "7020"
      }
     },
     "output_type": "display_data"
    }
   ],
   "source": [
    "plot_histogram(df_drug, \"Sex\", \"Sex\", \"Sex\")"
   ]
  },
  {
   "cell_type": "code",
   "execution_count": 31,
   "metadata": {},
   "outputs": [
    {
     "data": {
      "text/html": [
       "\n",
       "  <div class=\"bk-root\" id=\"e66d4c33-55e0-461b-ae84-cc68d7ee6a8b\" data-root-id=\"5137\"></div>\n"
      ]
     },
     "metadata": {},
     "output_type": "display_data"
    },
    {
     "data": {
      "application/javascript": "(function(root) {\n  function embed_document(root) {\n  const docs_json = {\"0def6674-f605-4a74-ae95-6ef096dad64d\":{\"defs\":[],\"roots\":{\"references\":[{\"attributes\":{\"below\":[{\"id\":\"5148\"}],\"center\":[{\"id\":\"5151\"},{\"id\":\"5155\"}],\"height\":300,\"left\":[{\"id\":\"5152\"}],\"max_width\":800,\"renderers\":[{\"id\":\"5174\"}],\"sizing_mode\":\"stretch_width\",\"title\":{\"id\":\"5138\"},\"toolbar\":{\"id\":\"5163\"},\"x_range\":{\"id\":\"5140\"},\"x_scale\":{\"id\":\"5144\"},\"y_range\":{\"id\":\"5142\"},\"y_scale\":{\"id\":\"5146\"}},\"id\":\"5137\",\"subtype\":\"Figure\",\"type\":\"Plot\"},{\"attributes\":{},\"id\":\"5157\",\"type\":\"WheelZoomTool\"},{\"attributes\":{},\"id\":\"5149\",\"type\":\"BasicTicker\"},{\"attributes\":{},\"id\":\"5146\",\"type\":\"LinearScale\"},{\"attributes\":{\"axis\":{\"id\":\"5148\"},\"coordinates\":null,\"group\":null,\"ticker\":null},\"id\":\"5151\",\"type\":\"Grid\"},{\"attributes\":{},\"id\":\"5442\",\"type\":\"Selection\"},{\"attributes\":{\"axis_label\":\"n Patients\",\"coordinates\":null,\"formatter\":{\"id\":\"5436\"},\"group\":null,\"major_label_policy\":{\"id\":\"5437\"},\"ticker\":{\"id\":\"5153\"}},\"id\":\"5152\",\"type\":\"LinearAxis\"},{\"attributes\":{\"axis\":{\"id\":\"5152\"},\"coordinates\":null,\"dimension\":1,\"group\":null,\"ticker\":null},\"id\":\"5155\",\"type\":\"Grid\"},{\"attributes\":{},\"id\":\"5153\",\"type\":\"BasicTicker\"},{\"attributes\":{},\"id\":\"5161\",\"type\":\"HelpTool\"},{\"attributes\":{},\"id\":\"5156\",\"type\":\"PanTool\"},{\"attributes\":{\"fill_alpha\":{\"value\":0.1},\"fill_color\":{\"value\":\"#1f77b4\"},\"hatch_alpha\":{\"value\":0.1},\"line_alpha\":{\"value\":0.1},\"line_color\":{\"value\":\"#1f77b4\"},\"top\":{\"field\":\"top\"},\"width\":{\"value\":0.9},\"x\":{\"field\":\"x\"}},\"id\":\"5172\",\"type\":\"VBar\"},{\"attributes\":{\"overlay\":{\"id\":\"5162\"}},\"id\":\"5158\",\"type\":\"BoxZoomTool\"},{\"attributes\":{\"fill_alpha\":{\"value\":0.2},\"fill_color\":{\"value\":\"#1f77b4\"},\"hatch_alpha\":{\"value\":0.2},\"line_alpha\":{\"value\":0.2},\"line_color\":{\"value\":\"#1f77b4\"},\"top\":{\"field\":\"top\"},\"width\":{\"value\":0.9},\"x\":{\"field\":\"x\"}},\"id\":\"5173\",\"type\":\"VBar\"},{\"attributes\":{},\"id\":\"5159\",\"type\":\"SaveTool\"},{\"attributes\":{},\"id\":\"5160\",\"type\":\"ResetTool\"},{\"attributes\":{},\"id\":\"5142\",\"type\":\"DataRange1d\"},{\"attributes\":{\"bottom_units\":\"screen\",\"coordinates\":null,\"fill_alpha\":0.5,\"fill_color\":\"lightgrey\",\"group\":null,\"left_units\":\"screen\",\"level\":\"overlay\",\"line_alpha\":1.0,\"line_color\":\"black\",\"line_dash\":[4,4],\"line_width\":2,\"right_units\":\"screen\",\"syncable\":false,\"top_units\":\"screen\"},\"id\":\"5162\",\"type\":\"BoxAnnotation\"},{\"attributes\":{\"axis_label\":\"Age\",\"coordinates\":null,\"formatter\":{\"id\":\"5439\"},\"group\":null,\"major_label_policy\":{\"id\":\"5440\"},\"ticker\":{\"id\":\"5149\"}},\"id\":\"5148\",\"type\":\"LinearAxis\"},{\"attributes\":{},\"id\":\"5436\",\"type\":\"BasicTickFormatter\"},{\"attributes\":{},\"id\":\"5437\",\"type\":\"AllLabels\"},{\"attributes\":{},\"id\":\"5439\",\"type\":\"BasicTickFormatter\"},{\"attributes\":{\"fill_color\":{\"value\":\"#1f77b4\"},\"line_color\":{\"value\":\"#1f77b4\"},\"top\":{\"field\":\"top\"},\"width\":{\"value\":0.9},\"x\":{\"field\":\"x\"}},\"id\":\"5171\",\"type\":\"VBar\"},{\"attributes\":{},\"id\":\"5440\",\"type\":\"AllLabels\"},{\"attributes\":{\"coordinates\":null,\"data_source\":{\"id\":\"5170\"},\"glyph\":{\"id\":\"5171\"},\"group\":null,\"hover_glyph\":null,\"muted_glyph\":{\"id\":\"5173\"},\"nonselection_glyph\":{\"id\":\"5172\"},\"view\":{\"id\":\"5175\"}},\"id\":\"5174\",\"type\":\"GlyphRenderer\"},{\"attributes\":{},\"id\":\"5144\",\"type\":\"LinearScale\"},{\"attributes\":{\"tools\":[{\"id\":\"5156\"},{\"id\":\"5157\"},{\"id\":\"5158\"},{\"id\":\"5159\"},{\"id\":\"5160\"},{\"id\":\"5161\"}]},\"id\":\"5163\",\"type\":\"Toolbar\"},{\"attributes\":{\"source\":{\"id\":\"5170\"}},\"id\":\"5175\",\"type\":\"CDSView\"},{\"attributes\":{},\"id\":\"5140\",\"type\":\"DataRange1d\"},{\"attributes\":{},\"id\":\"5441\",\"type\":\"UnionRenderers\"},{\"attributes\":{\"coordinates\":null,\"group\":null,\"text\":\"Patient Age\"},\"id\":\"5138\",\"type\":\"Title\"},{\"attributes\":{\"data\":{\"top\":[8,7,7,7,6,6,5,5,5,5,5,4,4,4,4,4,4,4,4,4,4,4,4,4,4,4,4,4,4,4,3,3,3,3,3,3,3,3,3,3,3,2,2,2,2,2,2,2,2,2,1,1,1,1,1,1,1],\"x\":[47,23,28,49,39,32,50,37,58,60,22,34,72,51,42,26,24,74,67,68,61,56,20,36,45,41,31,43,65,57,53,40,70,59,16,38,15,69,35,18,64,52,55,62,19,29,66,73,46,48,54,17,33,63,30,21,25]},\"selected\":{\"id\":\"5442\"},\"selection_policy\":{\"id\":\"5441\"}},\"id\":\"5170\",\"type\":\"ColumnDataSource\"}],\"root_ids\":[\"5137\"]},\"title\":\"Bokeh Application\",\"version\":\"2.4.3\"}};\n  const render_items = [{\"docid\":\"0def6674-f605-4a74-ae95-6ef096dad64d\",\"root_ids\":[\"5137\"],\"roots\":{\"5137\":\"e66d4c33-55e0-461b-ae84-cc68d7ee6a8b\"}}];\n  root.Bokeh.embed.embed_items_notebook(docs_json, render_items);\n  }\n  if (root.Bokeh !== undefined) {\n    embed_document(root);\n  } else {\n    let attempts = 0;\n    const timer = setInterval(function(root) {\n      if (root.Bokeh !== undefined) {\n        clearInterval(timer);\n        embed_document(root);\n      } else {\n        attempts++;\n        if (attempts > 100) {\n          clearInterval(timer);\n          console.log(\"Bokeh: ERROR: Unable to run BokehJS code because BokehJS library is missing\");\n        }\n      }\n    }, 10, root)\n  }\n})(window);",
      "application/vnd.bokehjs_exec.v0+json": ""
     },
     "metadata": {
      "application/vnd.bokehjs_exec.v0+json": {
       "id": "5137"
      }
     },
     "output_type": "display_data"
    }
   ],
   "source": [
    "plot_histogram(df_drug, \"Age\", \"Patient Age\", \"Age\")"
   ]
  },
  {
   "cell_type": "code",
   "execution_count": 38,
   "metadata": {},
   "outputs": [
    {
     "data": {
      "text/html": [
       "\n",
       "  <div class=\"bk-root\" id=\"b44168cf-785f-4814-99be-7662c12cd583\" data-root-id=\"7426\"></div>\n"
      ]
     },
     "metadata": {},
     "output_type": "display_data"
    },
    {
     "data": {
      "application/javascript": "(function(root) {\n  function embed_document(root) {\n  const docs_json = {\"c82ac998-3450-439e-b8d3-4f63e83585f7\":{\"defs\":[],\"roots\":{\"references\":[{\"attributes\":{\"below\":[{\"id\":\"7437\"}],\"center\":[{\"id\":\"7439\"},{\"id\":\"7443\"}],\"height\":300,\"left\":[{\"id\":\"7440\"}],\"max_width\":800,\"renderers\":[{\"id\":\"7462\"}],\"sizing_mode\":\"stretch_width\",\"title\":{\"id\":\"7427\"},\"toolbar\":{\"id\":\"7451\"},\"x_range\":{\"id\":\"7429\"},\"x_scale\":{\"id\":\"7433\"},\"y_range\":{\"id\":\"7431\"},\"y_scale\":{\"id\":\"7435\"}},\"id\":\"7426\",\"subtype\":\"Figure\",\"type\":\"Plot\"},{\"attributes\":{},\"id\":\"7785\",\"type\":\"AllLabels\"},{\"attributes\":{},\"id\":\"7431\",\"type\":\"DataRange1d\"},{\"attributes\":{},\"id\":\"7788\",\"type\":\"AllLabels\"},{\"attributes\":{},\"id\":\"7435\",\"type\":\"LinearScale\"},{\"attributes\":{\"factors\":[\"DrugY\",\"drugX\",\"drugA\",\"drugB\",\"drugC\"]},\"id\":\"7429\",\"type\":\"FactorRange\"},{\"attributes\":{},\"id\":\"7789\",\"type\":\"UnionRenderers\"},{\"attributes\":{},\"id\":\"7784\",\"type\":\"BasicTickFormatter\"},{\"attributes\":{\"coordinates\":null,\"group\":null,\"text\":\"Drug\"},\"id\":\"7427\",\"type\":\"Title\"},{\"attributes\":{},\"id\":\"7790\",\"type\":\"Selection\"},{\"attributes\":{\"axis\":{\"id\":\"7437\"},\"coordinates\":null,\"group\":null,\"ticker\":null},\"id\":\"7439\",\"type\":\"Grid\"},{\"attributes\":{\"axis_label\":\"Drug\",\"coordinates\":null,\"formatter\":{\"id\":\"7787\"},\"group\":null,\"major_label_policy\":{\"id\":\"7788\"},\"ticker\":{\"id\":\"7438\"}},\"id\":\"7437\",\"type\":\"CategoricalAxis\"},{\"attributes\":{\"data\":{\"top\":[91,54,23,16,16],\"x\":[\"DrugY\",\"drugX\",\"drugA\",\"drugB\",\"drugC\"]},\"selected\":{\"id\":\"7790\"},\"selection_policy\":{\"id\":\"7789\"}},\"id\":\"7458\",\"type\":\"ColumnDataSource\"},{\"attributes\":{},\"id\":\"7433\",\"type\":\"CategoricalScale\"},{\"attributes\":{},\"id\":\"7438\",\"type\":\"CategoricalTicker\"},{\"attributes\":{},\"id\":\"7445\",\"type\":\"WheelZoomTool\"},{\"attributes\":{\"axis_label\":\"n Patients\",\"coordinates\":null,\"formatter\":{\"id\":\"7784\"},\"group\":null,\"major_label_policy\":{\"id\":\"7785\"},\"ticker\":{\"id\":\"7441\"}},\"id\":\"7440\",\"type\":\"LinearAxis\"},{\"attributes\":{\"axis\":{\"id\":\"7440\"},\"coordinates\":null,\"dimension\":1,\"group\":null,\"ticker\":null},\"id\":\"7443\",\"type\":\"Grid\"},{\"attributes\":{},\"id\":\"7441\",\"type\":\"BasicTicker\"},{\"attributes\":{},\"id\":\"7449\",\"type\":\"HelpTool\"},{\"attributes\":{\"fill_color\":{\"value\":\"#1f77b4\"},\"line_color\":{\"value\":\"#1f77b4\"},\"top\":{\"field\":\"top\"},\"width\":{\"value\":0.9},\"x\":{\"field\":\"x\"}},\"id\":\"7459\",\"type\":\"VBar\"},{\"attributes\":{},\"id\":\"7444\",\"type\":\"PanTool\"},{\"attributes\":{\"overlay\":{\"id\":\"7450\"}},\"id\":\"7446\",\"type\":\"BoxZoomTool\"},{\"attributes\":{},\"id\":\"7447\",\"type\":\"SaveTool\"},{\"attributes\":{},\"id\":\"7448\",\"type\":\"ResetTool\"},{\"attributes\":{\"bottom_units\":\"screen\",\"coordinates\":null,\"fill_alpha\":0.5,\"fill_color\":\"lightgrey\",\"group\":null,\"left_units\":\"screen\",\"level\":\"overlay\",\"line_alpha\":1.0,\"line_color\":\"black\",\"line_dash\":[4,4],\"line_width\":2,\"right_units\":\"screen\",\"syncable\":false,\"top_units\":\"screen\"},\"id\":\"7450\",\"type\":\"BoxAnnotation\"},{\"attributes\":{\"coordinates\":null,\"data_source\":{\"id\":\"7458\"},\"glyph\":{\"id\":\"7459\"},\"group\":null,\"hover_glyph\":null,\"muted_glyph\":{\"id\":\"7461\"},\"nonselection_glyph\":{\"id\":\"7460\"},\"view\":{\"id\":\"7463\"}},\"id\":\"7462\",\"type\":\"GlyphRenderer\"},{\"attributes\":{\"fill_alpha\":{\"value\":0.2},\"fill_color\":{\"value\":\"#1f77b4\"},\"hatch_alpha\":{\"value\":0.2},\"line_alpha\":{\"value\":0.2},\"line_color\":{\"value\":\"#1f77b4\"},\"top\":{\"field\":\"top\"},\"width\":{\"value\":0.9},\"x\":{\"field\":\"x\"}},\"id\":\"7461\",\"type\":\"VBar\"},{\"attributes\":{\"source\":{\"id\":\"7458\"}},\"id\":\"7463\",\"type\":\"CDSView\"},{\"attributes\":{\"fill_alpha\":{\"value\":0.1},\"fill_color\":{\"value\":\"#1f77b4\"},\"hatch_alpha\":{\"value\":0.1},\"line_alpha\":{\"value\":0.1},\"line_color\":{\"value\":\"#1f77b4\"},\"top\":{\"field\":\"top\"},\"width\":{\"value\":0.9},\"x\":{\"field\":\"x\"}},\"id\":\"7460\",\"type\":\"VBar\"},{\"attributes\":{\"tools\":[{\"id\":\"7444\"},{\"id\":\"7445\"},{\"id\":\"7446\"},{\"id\":\"7447\"},{\"id\":\"7448\"},{\"id\":\"7449\"}]},\"id\":\"7451\",\"type\":\"Toolbar\"},{\"attributes\":{},\"id\":\"7787\",\"type\":\"CategoricalTickFormatter\"}],\"root_ids\":[\"7426\"]},\"title\":\"Bokeh Application\",\"version\":\"2.4.3\"}};\n  const render_items = [{\"docid\":\"c82ac998-3450-439e-b8d3-4f63e83585f7\",\"root_ids\":[\"7426\"],\"roots\":{\"7426\":\"b44168cf-785f-4814-99be-7662c12cd583\"}}];\n  root.Bokeh.embed.embed_items_notebook(docs_json, render_items);\n  }\n  if (root.Bokeh !== undefined) {\n    embed_document(root);\n  } else {\n    let attempts = 0;\n    const timer = setInterval(function(root) {\n      if (root.Bokeh !== undefined) {\n        clearInterval(timer);\n        embed_document(root);\n      } else {\n        attempts++;\n        if (attempts > 100) {\n          clearInterval(timer);\n          console.log(\"Bokeh: ERROR: Unable to run BokehJS code because BokehJS library is missing\");\n        }\n      }\n    }, 10, root)\n  }\n})(window);",
      "application/vnd.bokehjs_exec.v0+json": ""
     },
     "metadata": {
      "application/vnd.bokehjs_exec.v0+json": {
       "id": "7426"
      }
     },
     "output_type": "display_data"
    }
   ],
   "source": [
    "plot_histogram(df_drug, \"Drug\", \"Drug\", \"Drug\")"
   ]
  },
  {
   "cell_type": "code",
   "execution_count": 39,
   "metadata": {},
   "outputs": [],
   "source": [
    "def plot_pie(df, column, title):\n",
    "  data = df[column].value_counts()\n",
    "  data.index.name = column\n",
    "  data = data.reset_index(name='value')\n",
    "  data['angle'] = data['value']/data['value'].sum() * 2*pi\n",
    "  data['color'] = Blues[len(data)+1][0:len(data)]\n",
    "  p = figure(plot_height=350, title=title, toolbar_location=None,\n",
    "            tools=\"hover\", tooltips=\"@{}: @value\".format(column), sizing_mode='stretch_width', max_width=800)\n",
    "  p.wedge(x=0, y=1, radius=0.4,\n",
    "          start_angle=cumsum('angle', include_zero=True), end_angle=cumsum('angle'),\n",
    "          line_color=\"white\", fill_color='color', legend_group=column, source=data)\n",
    "  p.axis.axis_label=None\n",
    "  p.axis.visible=False\n",
    "  p.grid.grid_line_color = None\n",
    "  show(p)"
   ]
  },
  {
   "cell_type": "code",
   "execution_count": 40,
   "metadata": {},
   "outputs": [
    {
     "data": {
      "text/html": [
       "\n",
       "  <div class=\"bk-root\" id=\"0c6242ea-8567-4497-bbf9-5fad7a973679\" data-root-id=\"7842\"></div>\n"
      ]
     },
     "metadata": {},
     "output_type": "display_data"
    },
    {
     "data": {
      "application/javascript": "(function(root) {\n  function embed_document(root) {\n  const docs_json = {\"81f124dd-cefd-48d6-b020-74f763f9afa1\":{\"defs\":[],\"roots\":{\"references\":[{\"attributes\":{\"below\":[{\"id\":\"7853\"}],\"center\":[{\"id\":\"7856\"},{\"id\":\"7860\"},{\"id\":\"7882\"}],\"height\":350,\"left\":[{\"id\":\"7857\"}],\"max_width\":800,\"renderers\":[{\"id\":\"7871\"}],\"sizing_mode\":\"stretch_width\",\"title\":{\"id\":\"7843\"},\"toolbar\":{\"id\":\"7862\"},\"toolbar_location\":null,\"x_range\":{\"id\":\"7845\"},\"x_scale\":{\"id\":\"7849\"},\"y_range\":{\"id\":\"7847\"},\"y_scale\":{\"id\":\"7851\"}},\"id\":\"7842\",\"subtype\":\"Figure\",\"type\":\"Plot\"},{\"attributes\":{\"index\":2,\"label\":{\"value\":\"NORMAL\"},\"renderers\":[{\"id\":\"7871\"}]},\"id\":\"7885\",\"type\":\"LegendItem\"},{\"attributes\":{},\"id\":\"7847\",\"type\":\"DataRange1d\"},{\"attributes\":{},\"id\":\"7875\",\"type\":\"BasicTickFormatter\"},{\"attributes\":{\"coordinates\":null,\"group\":null,\"items\":[{\"id\":\"7883\"},{\"id\":\"7884\"},{\"id\":\"7885\"}]},\"id\":\"7882\",\"type\":\"Legend\"},{\"attributes\":{},\"id\":\"7878\",\"type\":\"BasicTickFormatter\"},{\"attributes\":{\"end_angle\":{\"expr\":{\"id\":\"7865\"}},\"fill_color\":{\"field\":\"color\"},\"line_color\":{\"value\":\"white\"},\"radius\":{\"value\":0.4},\"start_angle\":{\"expr\":{\"id\":\"7864\"}},\"x\":{\"value\":0},\"y\":{\"value\":1}},\"id\":\"7868\",\"type\":\"Wedge\"},{\"attributes\":{\"end_angle\":{\"expr\":{\"id\":\"7865\"}},\"fill_alpha\":{\"value\":0.2},\"fill_color\":{\"field\":\"color\"},\"hatch_alpha\":{\"value\":0.2},\"line_alpha\":{\"value\":0.2},\"line_color\":{\"value\":\"white\"},\"radius\":{\"value\":0.4},\"start_angle\":{\"expr\":{\"id\":\"7864\"}},\"x\":{\"value\":0},\"y\":{\"value\":1}},\"id\":\"7870\",\"type\":\"Wedge\"},{\"attributes\":{\"tools\":[{\"id\":\"7861\"}]},\"id\":\"7862\",\"type\":\"Toolbar\"},{\"attributes\":{\"callback\":null,\"tooltips\":\"@BP: @value\"},\"id\":\"7861\",\"type\":\"HoverTool\"},{\"attributes\":{\"coordinates\":null,\"group\":null,\"text\":\"Blood Pressure\"},\"id\":\"7843\",\"type\":\"Title\"},{\"attributes\":{},\"id\":\"7858\",\"type\":\"BasicTicker\"},{\"attributes\":{\"coordinates\":null,\"formatter\":{\"id\":\"7878\"},\"group\":null,\"major_label_policy\":{\"id\":\"7879\"},\"ticker\":{\"id\":\"7854\"},\"visible\":false},\"id\":\"7853\",\"type\":\"LinearAxis\"},{\"attributes\":{\"axis\":{\"id\":\"7853\"},\"coordinates\":null,\"grid_line_color\":null,\"group\":null,\"ticker\":null},\"id\":\"7856\",\"type\":\"Grid\"},{\"attributes\":{\"axis\":{\"id\":\"7857\"},\"coordinates\":null,\"dimension\":1,\"grid_line_color\":null,\"group\":null,\"ticker\":null},\"id\":\"7860\",\"type\":\"Grid\"},{\"attributes\":{},\"id\":\"7849\",\"type\":\"LinearScale\"},{\"attributes\":{},\"id\":\"7851\",\"type\":\"LinearScale\"},{\"attributes\":{},\"id\":\"7854\",\"type\":\"BasicTicker\"},{\"attributes\":{},\"id\":\"7881\",\"type\":\"Selection\"},{\"attributes\":{\"field\":\"angle\",\"include_zero\":true},\"id\":\"7864\",\"type\":\"CumSum\"},{\"attributes\":{\"end_angle\":{\"expr\":{\"id\":\"7865\"}},\"fill_alpha\":{\"value\":0.1},\"fill_color\":{\"field\":\"color\"},\"hatch_alpha\":{\"value\":0.1},\"line_alpha\":{\"value\":0.1},\"line_color\":{\"value\":\"white\"},\"radius\":{\"value\":0.4},\"start_angle\":{\"expr\":{\"id\":\"7864\"}},\"x\":{\"value\":0},\"y\":{\"value\":1}},\"id\":\"7869\",\"type\":\"Wedge\"},{\"attributes\":{},\"id\":\"7880\",\"type\":\"UnionRenderers\"},{\"attributes\":{},\"id\":\"7879\",\"type\":\"AllLabels\"},{\"attributes\":{\"index\":0,\"label\":{\"value\":\"HIGH\"},\"renderers\":[{\"id\":\"7871\"}]},\"id\":\"7883\",\"type\":\"LegendItem\"},{\"attributes\":{\"data\":{\"BP\":[\"HIGH\",\"LOW\",\"NORMAL\"],\"angle\":{\"__ndarray__\":\"C9vDeypaA0AaJxeSvxUAQBewWjUZqP0/\",\"dtype\":\"float64\",\"order\":\"little\",\"shape\":[3]},\"color\":[\"#2171b5\",\"#6baed6\",\"#bdd7e7\"],\"index\":[0,1,2],\"value\":[77,64,59]},\"selected\":{\"id\":\"7881\"},\"selection_policy\":{\"id\":\"7880\"}},\"id\":\"7866\",\"type\":\"ColumnDataSource\"},{\"attributes\":{},\"id\":\"7845\",\"type\":\"DataRange1d\"},{\"attributes\":{\"coordinates\":null,\"formatter\":{\"id\":\"7875\"},\"group\":null,\"major_label_policy\":{\"id\":\"7876\"},\"ticker\":{\"id\":\"7858\"},\"visible\":false},\"id\":\"7857\",\"type\":\"LinearAxis\"},{\"attributes\":{\"coordinates\":null,\"data_source\":{\"id\":\"7866\"},\"glyph\":{\"id\":\"7868\"},\"group\":null,\"hover_glyph\":null,\"muted_glyph\":{\"id\":\"7870\"},\"nonselection_glyph\":{\"id\":\"7869\"},\"view\":{\"id\":\"7872\"}},\"id\":\"7871\",\"type\":\"GlyphRenderer\"},{\"attributes\":{\"field\":\"angle\"},\"id\":\"7865\",\"type\":\"CumSum\"},{\"attributes\":{\"index\":1,\"label\":{\"value\":\"LOW\"},\"renderers\":[{\"id\":\"7871\"}]},\"id\":\"7884\",\"type\":\"LegendItem\"},{\"attributes\":{},\"id\":\"7876\",\"type\":\"AllLabels\"},{\"attributes\":{\"source\":{\"id\":\"7866\"}},\"id\":\"7872\",\"type\":\"CDSView\"}],\"root_ids\":[\"7842\"]},\"title\":\"Bokeh Application\",\"version\":\"2.4.3\"}};\n  const render_items = [{\"docid\":\"81f124dd-cefd-48d6-b020-74f763f9afa1\",\"root_ids\":[\"7842\"],\"roots\":{\"7842\":\"0c6242ea-8567-4497-bbf9-5fad7a973679\"}}];\n  root.Bokeh.embed.embed_items_notebook(docs_json, render_items);\n  }\n  if (root.Bokeh !== undefined) {\n    embed_document(root);\n  } else {\n    let attempts = 0;\n    const timer = setInterval(function(root) {\n      if (root.Bokeh !== undefined) {\n        clearInterval(timer);\n        embed_document(root);\n      } else {\n        attempts++;\n        if (attempts > 100) {\n          clearInterval(timer);\n          console.log(\"Bokeh: ERROR: Unable to run BokehJS code because BokehJS library is missing\");\n        }\n      }\n    }, 10, root)\n  }\n})(window);",
      "application/vnd.bokehjs_exec.v0+json": ""
     },
     "metadata": {
      "application/vnd.bokehjs_exec.v0+json": {
       "id": "7842"
      }
     },
     "output_type": "display_data"
    }
   ],
   "source": [
    "plot_pie(df_drug, \"BP\", \"Blood Pressure\")"
   ]
  },
  {
   "cell_type": "code",
   "execution_count": 41,
   "metadata": {},
   "outputs": [
    {
     "data": {
      "text/html": [
       "\n",
       "  <div class=\"bk-root\" id=\"6db9ce3c-9b17-4041-b6c8-ff1c2d0580dd\" data-root-id=\"8268\"></div>\n"
      ]
     },
     "metadata": {},
     "output_type": "display_data"
    },
    {
     "data": {
      "application/javascript": "(function(root) {\n  function embed_document(root) {\n  const docs_json = {\"0744eee9-4d8c-4141-9d48-bbfa1d984a18\":{\"defs\":[],\"roots\":{\"references\":[{\"attributes\":{\"below\":[{\"id\":\"8279\"}],\"center\":[{\"id\":\"8282\"},{\"id\":\"8286\"},{\"id\":\"8308\"}],\"height\":350,\"left\":[{\"id\":\"8283\"}],\"max_width\":800,\"renderers\":[{\"id\":\"8297\"}],\"sizing_mode\":\"stretch_width\",\"title\":{\"id\":\"8269\"},\"toolbar\":{\"id\":\"8288\"},\"toolbar_location\":null,\"x_range\":{\"id\":\"8271\"},\"x_scale\":{\"id\":\"8275\"},\"y_range\":{\"id\":\"8273\"},\"y_scale\":{\"id\":\"8277\"}},\"id\":\"8268\",\"subtype\":\"Figure\",\"type\":\"Plot\"},{\"attributes\":{\"index\":1,\"label\":{\"value\":\"NORMAL\"},\"renderers\":[{\"id\":\"8297\"}]},\"id\":\"8310\",\"type\":\"LegendItem\"},{\"attributes\":{\"callback\":null,\"tooltips\":\"@Cholesterol: @value\"},\"id\":\"8287\",\"type\":\"HoverTool\"},{\"attributes\":{\"axis\":{\"id\":\"8283\"},\"coordinates\":null,\"dimension\":1,\"grid_line_color\":null,\"group\":null,\"ticker\":null},\"id\":\"8286\",\"type\":\"Grid\"},{\"attributes\":{},\"id\":\"8302\",\"type\":\"AllLabels\"},{\"attributes\":{\"coordinates\":null,\"formatter\":{\"id\":\"8301\"},\"group\":null,\"major_label_policy\":{\"id\":\"8302\"},\"ticker\":{\"id\":\"8284\"},\"visible\":false},\"id\":\"8283\",\"type\":\"LinearAxis\"},{\"attributes\":{\"data\":{\"Cholesterol\":[\"HIGH\",\"NORMAL\"],\"angle\":{\"__ndarray__\":\"7UIdTwDjCUBDF2tZ9mAIQA==\",\"dtype\":\"float64\",\"order\":\"little\",\"shape\":[2]},\"color\":[\"#3182bd\",\"#9ecae1\"],\"index\":[0,1],\"value\":[103,97]},\"selected\":{\"id\":\"8307\"},\"selection_policy\":{\"id\":\"8306\"}},\"id\":\"8292\",\"type\":\"ColumnDataSource\"},{\"attributes\":{\"tools\":[{\"id\":\"8287\"}]},\"id\":\"8288\",\"type\":\"Toolbar\"},{\"attributes\":{},\"id\":\"8306\",\"type\":\"UnionRenderers\"},{\"attributes\":{\"field\":\"angle\"},\"id\":\"8291\",\"type\":\"CumSum\"},{\"attributes\":{},\"id\":\"8304\",\"type\":\"BasicTickFormatter\"},{\"attributes\":{},\"id\":\"8301\",\"type\":\"BasicTickFormatter\"},{\"attributes\":{},\"id\":\"8271\",\"type\":\"DataRange1d\"},{\"attributes\":{},\"id\":\"8305\",\"type\":\"AllLabels\"},{\"attributes\":{\"end_angle\":{\"expr\":{\"id\":\"8291\"}},\"fill_color\":{\"field\":\"color\"},\"line_color\":{\"value\":\"white\"},\"radius\":{\"value\":0.4},\"start_angle\":{\"expr\":{\"id\":\"8290\"}},\"x\":{\"value\":0},\"y\":{\"value\":1}},\"id\":\"8294\",\"type\":\"Wedge\"},{\"attributes\":{\"source\":{\"id\":\"8292\"}},\"id\":\"8298\",\"type\":\"CDSView\"},{\"attributes\":{\"end_angle\":{\"expr\":{\"id\":\"8291\"}},\"fill_alpha\":{\"value\":0.1},\"fill_color\":{\"field\":\"color\"},\"hatch_alpha\":{\"value\":0.1},\"line_alpha\":{\"value\":0.1},\"line_color\":{\"value\":\"white\"},\"radius\":{\"value\":0.4},\"start_angle\":{\"expr\":{\"id\":\"8290\"}},\"x\":{\"value\":0},\"y\":{\"value\":1}},\"id\":\"8295\",\"type\":\"Wedge\"},{\"attributes\":{\"coordinates\":null,\"data_source\":{\"id\":\"8292\"},\"glyph\":{\"id\":\"8294\"},\"group\":null,\"hover_glyph\":null,\"muted_glyph\":{\"id\":\"8296\"},\"nonselection_glyph\":{\"id\":\"8295\"},\"view\":{\"id\":\"8298\"}},\"id\":\"8297\",\"type\":\"GlyphRenderer\"},{\"attributes\":{\"field\":\"angle\",\"include_zero\":true},\"id\":\"8290\",\"type\":\"CumSum\"},{\"attributes\":{},\"id\":\"8273\",\"type\":\"DataRange1d\"},{\"attributes\":{\"end_angle\":{\"expr\":{\"id\":\"8291\"}},\"fill_alpha\":{\"value\":0.2},\"fill_color\":{\"field\":\"color\"},\"hatch_alpha\":{\"value\":0.2},\"line_alpha\":{\"value\":0.2},\"line_color\":{\"value\":\"white\"},\"radius\":{\"value\":0.4},\"start_angle\":{\"expr\":{\"id\":\"8290\"}},\"x\":{\"value\":0},\"y\":{\"value\":1}},\"id\":\"8296\",\"type\":\"Wedge\"},{\"attributes\":{},\"id\":\"8277\",\"type\":\"LinearScale\"},{\"attributes\":{\"axis\":{\"id\":\"8279\"},\"coordinates\":null,\"grid_line_color\":null,\"group\":null,\"ticker\":null},\"id\":\"8282\",\"type\":\"Grid\"},{\"attributes\":{\"coordinates\":null,\"group\":null,\"text\":\"Cholesterol\"},\"id\":\"8269\",\"type\":\"Title\"},{\"attributes\":{},\"id\":\"8307\",\"type\":\"Selection\"},{\"attributes\":{},\"id\":\"8280\",\"type\":\"BasicTicker\"},{\"attributes\":{\"coordinates\":null,\"group\":null,\"items\":[{\"id\":\"8309\"},{\"id\":\"8310\"}]},\"id\":\"8308\",\"type\":\"Legend\"},{\"attributes\":{},\"id\":\"8284\",\"type\":\"BasicTicker\"},{\"attributes\":{\"coordinates\":null,\"formatter\":{\"id\":\"8304\"},\"group\":null,\"major_label_policy\":{\"id\":\"8305\"},\"ticker\":{\"id\":\"8280\"},\"visible\":false},\"id\":\"8279\",\"type\":\"LinearAxis\"},{\"attributes\":{\"index\":0,\"label\":{\"value\":\"HIGH\"},\"renderers\":[{\"id\":\"8297\"}]},\"id\":\"8309\",\"type\":\"LegendItem\"},{\"attributes\":{},\"id\":\"8275\",\"type\":\"LinearScale\"}],\"root_ids\":[\"8268\"]},\"title\":\"Bokeh Application\",\"version\":\"2.4.3\"}};\n  const render_items = [{\"docid\":\"0744eee9-4d8c-4141-9d48-bbfa1d984a18\",\"root_ids\":[\"8268\"],\"roots\":{\"8268\":\"6db9ce3c-9b17-4041-b6c8-ff1c2d0580dd\"}}];\n  root.Bokeh.embed.embed_items_notebook(docs_json, render_items);\n  }\n  if (root.Bokeh !== undefined) {\n    embed_document(root);\n  } else {\n    let attempts = 0;\n    const timer = setInterval(function(root) {\n      if (root.Bokeh !== undefined) {\n        clearInterval(timer);\n        embed_document(root);\n      } else {\n        attempts++;\n        if (attempts > 100) {\n          clearInterval(timer);\n          console.log(\"Bokeh: ERROR: Unable to run BokehJS code because BokehJS library is missing\");\n        }\n      }\n    }, 10, root)\n  }\n})(window);",
      "application/vnd.bokehjs_exec.v0+json": ""
     },
     "metadata": {
      "application/vnd.bokehjs_exec.v0+json": {
       "id": "8268"
      }
     },
     "output_type": "display_data"
    }
   ],
   "source": [
    "plot_pie(df_drug, \"Cholesterol\", \"Cholesterol\")"
   ]
  },
  {
   "cell_type": "code",
   "execution_count": 42,
   "metadata": {},
   "outputs": [
    {
     "data": {
      "text/html": [
       "\n",
       "  <div class=\"bk-root\" id=\"d6973e86-dfab-4d48-97a1-1bae8a5ef494\" data-root-id=\"8702\"></div>\n"
      ]
     },
     "metadata": {},
     "output_type": "display_data"
    },
    {
     "data": {
      "application/javascript": "(function(root) {\n  function embed_document(root) {\n  const docs_json = {\"50a465e9-0fc5-4ba6-bedb-74e516553ad5\":{\"defs\":[],\"roots\":{\"references\":[{\"attributes\":{\"below\":[{\"id\":\"8713\"}],\"center\":[{\"id\":\"8716\"},{\"id\":\"8720\"},{\"id\":\"8742\"}],\"height\":350,\"left\":[{\"id\":\"8717\"}],\"max_width\":800,\"renderers\":[{\"id\":\"8731\"}],\"sizing_mode\":\"stretch_width\",\"title\":{\"id\":\"8703\"},\"toolbar\":{\"id\":\"8722\"},\"toolbar_location\":null,\"x_range\":{\"id\":\"8705\"},\"x_scale\":{\"id\":\"8709\"},\"y_range\":{\"id\":\"8707\"},\"y_scale\":{\"id\":\"8711\"}},\"id\":\"8702\",\"subtype\":\"Figure\",\"type\":\"Plot\"},{\"attributes\":{\"index\":1,\"label\":{\"value\":\"drugX\"},\"renderers\":[{\"id\":\"8731\"}]},\"id\":\"8747\",\"type\":\"LegendItem\"},{\"attributes\":{},\"id\":\"8738\",\"type\":\"BasicTickFormatter\"},{\"attributes\":{},\"id\":\"8735\",\"type\":\"BasicTickFormatter\"},{\"attributes\":{\"end_angle\":{\"expr\":{\"id\":\"8725\"}},\"fill_color\":{\"field\":\"color\"},\"line_color\":{\"value\":\"white\"},\"radius\":{\"value\":0.4},\"start_angle\":{\"expr\":{\"id\":\"8724\"}},\"x\":{\"value\":0},\"y\":{\"value\":1}},\"id\":\"8728\",\"type\":\"Wedge\"},{\"attributes\":{},\"id\":\"8707\",\"type\":\"DataRange1d\"},{\"attributes\":{\"coordinates\":null,\"formatter\":{\"id\":\"8735\"},\"group\":null,\"major_label_policy\":{\"id\":\"8736\"},\"ticker\":{\"id\":\"8718\"},\"visible\":false},\"id\":\"8717\",\"type\":\"LinearAxis\"},{\"attributes\":{\"end_angle\":{\"expr\":{\"id\":\"8725\"}},\"fill_alpha\":{\"value\":0.1},\"fill_color\":{\"field\":\"color\"},\"hatch_alpha\":{\"value\":0.1},\"line_alpha\":{\"value\":0.1},\"line_color\":{\"value\":\"white\"},\"radius\":{\"value\":0.4},\"start_angle\":{\"expr\":{\"id\":\"8724\"}},\"x\":{\"value\":0},\"y\":{\"value\":1}},\"id\":\"8729\",\"type\":\"Wedge\"},{\"attributes\":{},\"id\":\"8705\",\"type\":\"DataRange1d\"},{\"attributes\":{\"source\":{\"id\":\"8726\"}},\"id\":\"8732\",\"type\":\"CDSView\"},{\"attributes\":{},\"id\":\"8740\",\"type\":\"UnionRenderers\"},{\"attributes\":{\"field\":\"angle\",\"include_zero\":true},\"id\":\"8724\",\"type\":\"CumSum\"},{\"attributes\":{\"coordinates\":null,\"data_source\":{\"id\":\"8726\"},\"glyph\":{\"id\":\"8728\"},\"group\":null,\"hover_glyph\":null,\"muted_glyph\":{\"id\":\"8730\"},\"nonselection_glyph\":{\"id\":\"8729\"},\"view\":{\"id\":\"8732\"}},\"id\":\"8731\",\"type\":\"GlyphRenderer\"},{\"attributes\":{},\"id\":\"8741\",\"type\":\"Selection\"},{\"attributes\":{},\"id\":\"8711\",\"type\":\"LinearScale\"},{\"attributes\":{\"axis\":{\"id\":\"8713\"},\"coordinates\":null,\"grid_line_color\":null,\"group\":null,\"ticker\":null},\"id\":\"8716\",\"type\":\"Grid\"},{\"attributes\":{\"coordinates\":null,\"group\":null,\"text\":\"Drug\"},\"id\":\"8703\",\"type\":\"Title\"},{\"attributes\":{\"index\":0,\"label\":{\"value\":\"DrugY\"},\"renderers\":[{\"id\":\"8731\"}]},\"id\":\"8743\",\"type\":\"LegendItem\"},{\"attributes\":{},\"id\":\"8714\",\"type\":\"BasicTicker\"},{\"attributes\":{\"coordinates\":null,\"group\":null,\"items\":[{\"id\":\"8743\"},{\"id\":\"8744\"},{\"id\":\"8745\"},{\"id\":\"8746\"},{\"id\":\"8747\"}]},\"id\":\"8742\",\"type\":\"Legend\"},{\"attributes\":{\"axis\":{\"id\":\"8717\"},\"coordinates\":null,\"dimension\":1,\"grid_line_color\":null,\"group\":null,\"ticker\":null},\"id\":\"8720\",\"type\":\"Grid\"},{\"attributes\":{\"coordinates\":null,\"formatter\":{\"id\":\"8738\"},\"group\":null,\"major_label_policy\":{\"id\":\"8739\"},\"ticker\":{\"id\":\"8714\"},\"visible\":false},\"id\":\"8713\",\"type\":\"LinearAxis\"},{\"attributes\":{},\"id\":\"8709\",\"type\":\"LinearScale\"},{\"attributes\":{\"index\":2,\"label\":{\"value\":\"drugA\"},\"renderers\":[{\"id\":\"8731\"}]},\"id\":\"8744\",\"type\":\"LegendItem\"},{\"attributes\":{},\"id\":\"8718\",\"type\":\"BasicTicker\"},{\"attributes\":{\"data\":{\"Drug\":[\"DrugY\",\"drugX\",\"drugA\",\"drugB\",\"drugC\"],\"angle\":{\"__ndarray__\":\"meu4Y+zeBkD8EYdGsyT7PzVIAWJDH+c/GicXkr8V4D8aJxeSvxXgPw==\",\"dtype\":\"float64\",\"order\":\"little\",\"shape\":[5]},\"color\":[\"#08519c\",\"#3182bd\",\"#6baed6\",\"#9ecae1\",\"#c6dbef\"],\"index\":[0,1,2,3,4],\"value\":[91,54,23,16,16]},\"selected\":{\"id\":\"8741\"},\"selection_policy\":{\"id\":\"8740\"}},\"id\":\"8726\",\"type\":\"ColumnDataSource\"},{\"attributes\":{\"field\":\"angle\"},\"id\":\"8725\",\"type\":\"CumSum\"},{\"attributes\":{\"index\":3,\"label\":{\"value\":\"drugB\"},\"renderers\":[{\"id\":\"8731\"}]},\"id\":\"8745\",\"type\":\"LegendItem\"},{\"attributes\":{\"callback\":null,\"tooltips\":\"@Drug: @value\"},\"id\":\"8721\",\"type\":\"HoverTool\"},{\"attributes\":{},\"id\":\"8739\",\"type\":\"AllLabels\"},{\"attributes\":{\"tools\":[{\"id\":\"8721\"}]},\"id\":\"8722\",\"type\":\"Toolbar\"},{\"attributes\":{\"end_angle\":{\"expr\":{\"id\":\"8725\"}},\"fill_alpha\":{\"value\":0.2},\"fill_color\":{\"field\":\"color\"},\"hatch_alpha\":{\"value\":0.2},\"line_alpha\":{\"value\":0.2},\"line_color\":{\"value\":\"white\"},\"radius\":{\"value\":0.4},\"start_angle\":{\"expr\":{\"id\":\"8724\"}},\"x\":{\"value\":0},\"y\":{\"value\":1}},\"id\":\"8730\",\"type\":\"Wedge\"},{\"attributes\":{\"index\":4,\"label\":{\"value\":\"drugC\"},\"renderers\":[{\"id\":\"8731\"}]},\"id\":\"8746\",\"type\":\"LegendItem\"},{\"attributes\":{},\"id\":\"8736\",\"type\":\"AllLabels\"}],\"root_ids\":[\"8702\"]},\"title\":\"Bokeh Application\",\"version\":\"2.4.3\"}};\n  const render_items = [{\"docid\":\"50a465e9-0fc5-4ba6-bedb-74e516553ad5\",\"root_ids\":[\"8702\"],\"roots\":{\"8702\":\"d6973e86-dfab-4d48-97a1-1bae8a5ef494\"}}];\n  root.Bokeh.embed.embed_items_notebook(docs_json, render_items);\n  }\n  if (root.Bokeh !== undefined) {\n    embed_document(root);\n  } else {\n    let attempts = 0;\n    const timer = setInterval(function(root) {\n      if (root.Bokeh !== undefined) {\n        clearInterval(timer);\n        embed_document(root);\n      } else {\n        attempts++;\n        if (attempts > 100) {\n          clearInterval(timer);\n          console.log(\"Bokeh: ERROR: Unable to run BokehJS code because BokehJS library is missing\");\n        }\n      }\n    }, 10, root)\n  }\n})(window);",
      "application/vnd.bokehjs_exec.v0+json": ""
     },
     "metadata": {
      "application/vnd.bokehjs_exec.v0+json": {
       "id": "8702"
      }
     },
     "output_type": "display_data"
    }
   ],
   "source": [
    "plot_pie(df_drug, \"Drug\", \"Drug\")"
   ]
  },
  {
   "cell_type": "code",
   "execution_count": 43,
   "metadata": {},
   "outputs": [],
   "source": [
    "# copiar dataframe df_drug para no modificar el original\n",
    "df_drug_copy = df_drug.copy()\n",
    "\n",
    "# convertir categorías a números\n",
    "df_drug_copy[\"BP\"] = df_drug_copy[\"BP\"].cat.codes\n",
    "df_drug_copy[\"Cholesterol\"] = df_drug_copy[\"Cholesterol\"].cat.codes\n",
    "df_drug_copy[\"Drug\"] = df_drug_copy[\"Drug\"].cat.codes\n",
    "df_drug_copy[\"Sex\"] = df_drug_copy[\"Sex\"].cat.codes"
   ]
  },
  {
   "cell_type": "code",
   "execution_count": 44,
   "metadata": {},
   "outputs": [
    {
     "data": {
      "text/html": [
       "<div>\n",
       "<style scoped>\n",
       "    .dataframe tbody tr th:only-of-type {\n",
       "        vertical-align: middle;\n",
       "    }\n",
       "\n",
       "    .dataframe tbody tr th {\n",
       "        vertical-align: top;\n",
       "    }\n",
       "\n",
       "    .dataframe thead th {\n",
       "        text-align: right;\n",
       "    }\n",
       "</style>\n",
       "<table border=\"1\" class=\"dataframe\">\n",
       "  <thead>\n",
       "    <tr style=\"text-align: right;\">\n",
       "      <th></th>\n",
       "      <th>Age</th>\n",
       "      <th>Sex</th>\n",
       "      <th>BP</th>\n",
       "      <th>Cholesterol</th>\n",
       "      <th>Na_to_K</th>\n",
       "      <th>Drug</th>\n",
       "    </tr>\n",
       "  </thead>\n",
       "  <tbody>\n",
       "    <tr>\n",
       "      <th>0</th>\n",
       "      <td>0.135593</td>\n",
       "      <td>1.0</td>\n",
       "      <td>1.0</td>\n",
       "      <td>1.0</td>\n",
       "      <td>0.596848</td>\n",
       "      <td>0.00</td>\n",
       "    </tr>\n",
       "    <tr>\n",
       "      <th>1</th>\n",
       "      <td>0.542373</td>\n",
       "      <td>0.0</td>\n",
       "      <td>0.0</td>\n",
       "      <td>1.0</td>\n",
       "      <td>0.213397</td>\n",
       "      <td>1.00</td>\n",
       "    </tr>\n",
       "    <tr>\n",
       "      <th>2</th>\n",
       "      <td>0.542373</td>\n",
       "      <td>0.0</td>\n",
       "      <td>0.0</td>\n",
       "      <td>1.0</td>\n",
       "      <td>0.120239</td>\n",
       "      <td>1.00</td>\n",
       "    </tr>\n",
       "    <tr>\n",
       "      <th>3</th>\n",
       "      <td>0.220339</td>\n",
       "      <td>1.0</td>\n",
       "      <td>0.5</td>\n",
       "      <td>1.0</td>\n",
       "      <td>0.047814</td>\n",
       "      <td>0.25</td>\n",
       "    </tr>\n",
       "    <tr>\n",
       "      <th>4</th>\n",
       "      <td>0.779661</td>\n",
       "      <td>1.0</td>\n",
       "      <td>0.0</td>\n",
       "      <td>1.0</td>\n",
       "      <td>0.368191</td>\n",
       "      <td>0.00</td>\n",
       "    </tr>\n",
       "  </tbody>\n",
       "</table>\n",
       "</div>"
      ],
      "text/plain": [
       "        Age  Sex   BP  Cholesterol   Na_to_K  Drug\n",
       "0  0.135593  1.0  1.0          1.0  0.596848  0.00\n",
       "1  0.542373  0.0  0.0          1.0  0.213397  1.00\n",
       "2  0.542373  0.0  0.0          1.0  0.120239  1.00\n",
       "3  0.220339  1.0  0.5          1.0  0.047814  0.25\n",
       "4  0.779661  1.0  0.0          1.0  0.368191  0.00"
      ]
     },
     "execution_count": 44,
     "metadata": {},
     "output_type": "execute_result"
    }
   ],
   "source": [
    "# convertir valores del dataframe df_drug_copy entre 0 y 1\n",
    "df_drug_copy = (df_drug_copy - df_drug_copy.min()) / (df_drug_copy.max() - df_drug_copy.min())\n",
    "df_drug_copy.head()"
   ]
  },
  {
   "cell_type": "code",
   "execution_count": 45,
   "metadata": {},
   "outputs": [],
   "source": [
    "# calcular matriz de correlación\n",
    "corr = df_drug_copy.corr()"
   ]
  },
  {
   "cell_type": "code",
   "execution_count": 87,
   "metadata": {},
   "outputs": [],
   "source": [
    "def plot_corr_heatmap(df, title=\"Correlation Heatmap\", width=500, height=500):\n",
    "  data = {'x': [], 'y': [], 'value': []}\n",
    "  for i, row_name in enumerate(corr.index):\n",
    "      for j, col_name in enumerate(corr.columns):\n",
    "          data['x'].append(row_name)\n",
    "          data['y'].append(col_name)\n",
    "          data['value'].append(corr.iloc[i, j])\n",
    "\n",
    "  source = ColumnDataSource(data=data)\n",
    "  \n",
    "  p = figure(\n",
    "    title=title,\n",
    "    x_range=list(corr.index),\n",
    "    y_range=list(reversed(corr.index)),\n",
    "    x_axis_location=\"above\",\n",
    "    plot_width=width,\n",
    "    plot_height=height,\n",
    "    toolbar_location=None,\n",
    "    tools=\"hover\",\n",
    "    tooltips=[(\"value\", \"@value\")],\n",
    "  )\n",
    "  p.grid.grid_line_color = None\n",
    "  p.axis.axis_line_color = None\n",
    "  p.axis.major_tick_line_color = None\n",
    "  p.axis.major_label_text_font_size = \"10pt\"\n",
    "  p.axis.major_label_standoff = 0\n",
    "  p.xaxis.major_label_orientation = pi / 3\n",
    "\n",
    "  p.rect(\n",
    "    x=\"x\",\n",
    "    y=\"y\",\n",
    "    width=1,\n",
    "    height=1,\n",
    "    source=source,\n",
    "    fill_color={\n",
    "      \"field\": \"value\",\n",
    "      \"transform\": LinearColorMapper(palette=Cividis256, low=corr.values.min(), high=corr.values.max())\n",
    "    },\n",
    "    line_color=None,\n",
    "  )\n",
    "\n",
    "  color_bar = ColorBar(\n",
    "    color_mapper=LinearColorMapper(palette=Cividis256, low=corr.values.max()*(-1), high=corr.values.max()),\n",
    "    location=(0, 0),\n",
    "    orientation=\"horizontal\",\n",
    "    formatter=BasicTickFormatter(),\n",
    "    ticker=BasicTicker(),\n",
    "    label_standoff=12,\n",
    "    border_line_color=None,\n",
    "    major_label_text_font_size=\"10pt\",\n",
    "    bar_line_color='black',\n",
    "    bar_line_width=1,\n",
    "  )\n",
    "  p.add_layout(color_bar, 'below')\n",
    "\n",
    "  show(p)"
   ]
  },
  {
   "cell_type": "code",
   "execution_count": 88,
   "metadata": {},
   "outputs": [
    {
     "data": {
      "text/html": [
       "\n",
       "  <div class=\"bk-root\" id=\"c52cc2a7-395a-43ae-a55b-bd1aad43074b\" data-root-id=\"21116\"></div>\n"
      ]
     },
     "metadata": {},
     "output_type": "display_data"
    },
    {
     "data": {
      "application/javascript": "(function(root) {\n  function embed_document(root) {\n  const docs_json = {\"8d5369fc-484f-4ec9-a3af-f07dc331b6dc\":{\"defs\":[],\"roots\":{\"references\":[{\"attributes\":{\"above\":[{\"id\":\"21127\"}],\"below\":[{\"id\":\"21146\"}],\"center\":[{\"id\":\"21129\"},{\"id\":\"21132\"}],\"height\":500,\"left\":[{\"id\":\"21130\"}],\"renderers\":[{\"id\":\"21141\"}],\"title\":{\"id\":\"21117\"},\"toolbar\":{\"id\":\"21134\"},\"toolbar_location\":null,\"width\":500,\"x_range\":{\"id\":\"21119\"},\"x_scale\":{\"id\":\"21123\"},\"y_range\":{\"id\":\"21121\"},\"y_scale\":{\"id\":\"21125\"}},\"id\":\"21116\",\"subtype\":\"Figure\",\"type\":\"Plot\"},{\"attributes\":{\"fill_alpha\":{\"value\":0.2},\"fill_color\":{\"field\":\"value\",\"transform\":{\"id\":\"21136\"}},\"hatch_alpha\":{\"value\":0.2},\"height\":{\"value\":1},\"line_alpha\":{\"value\":0.2},\"line_color\":{\"value\":null},\"width\":{\"value\":1},\"x\":{\"field\":\"x\"},\"y\":{\"field\":\"y\"}},\"id\":\"21140\",\"type\":\"Rect\"},{\"attributes\":{\"fill_color\":{\"field\":\"value\",\"transform\":{\"id\":\"21136\"}},\"height\":{\"value\":1},\"line_color\":{\"value\":null},\"width\":{\"value\":1},\"x\":{\"field\":\"x\"},\"y\":{\"field\":\"y\"}},\"id\":\"21138\",\"type\":\"Rect\"},{\"attributes\":{\"axis_line_color\":null,\"coordinates\":null,\"formatter\":{\"id\":\"21831\"},\"group\":null,\"major_label_policy\":{\"id\":\"21832\"},\"major_label_standoff\":0,\"major_label_text_font_size\":\"10pt\",\"major_tick_line_color\":null,\"ticker\":{\"id\":\"21131\"}},\"id\":\"21130\",\"type\":\"CategoricalAxis\"},{\"attributes\":{\"coordinates\":null,\"data_source\":{\"id\":\"21115\"},\"glyph\":{\"id\":\"21138\"},\"group\":null,\"hover_glyph\":null,\"muted_glyph\":{\"id\":\"21140\"},\"nonselection_glyph\":{\"id\":\"21139\"},\"view\":{\"id\":\"21142\"}},\"id\":\"21141\",\"type\":\"GlyphRenderer\"},{\"attributes\":{\"callback\":null,\"tooltips\":[[\"value\",\"@value\"]]},\"id\":\"21133\",\"type\":\"HoverTool\"},{\"attributes\":{\"data\":{\"value\":[1.0,-0.10202736073161894,-0.12091783405913645,0.06823386810675439,-0.06311949726772591,0.08419704471637479,-0.10202736073161894,1.0,0.04495171428714518,-0.008811014308235356,0.12500849289526267,-0.08496364534306798,-0.12091783405913645,0.04495171428714518,1.0,-0.032208091401128326,0.03687102334025649,-0.008388298158410693,0.06823386810675439,-0.008811014308235356,-0.032208091401128326,1.0,-0.010000451730312521,0.18012927990590732,-0.06311949726772591,0.12500849289526267,0.03687102334025649,-0.010000451730312521,1.0,-0.6015475937092776,0.08419704471637479,-0.08496364534306798,-0.008388298158410693,0.18012927990590732,-0.6015475937092776,1.0],\"x\":[\"Age\",\"Age\",\"Age\",\"Age\",\"Age\",\"Age\",\"Sex\",\"Sex\",\"Sex\",\"Sex\",\"Sex\",\"Sex\",\"BP\",\"BP\",\"BP\",\"BP\",\"BP\",\"BP\",\"Cholesterol\",\"Cholesterol\",\"Cholesterol\",\"Cholesterol\",\"Cholesterol\",\"Cholesterol\",\"Na_to_K\",\"Na_to_K\",\"Na_to_K\",\"Na_to_K\",\"Na_to_K\",\"Na_to_K\",\"Drug\",\"Drug\",\"Drug\",\"Drug\",\"Drug\",\"Drug\"],\"y\":[\"Age\",\"Sex\",\"BP\",\"Cholesterol\",\"Na_to_K\",\"Drug\",\"Age\",\"Sex\",\"BP\",\"Cholesterol\",\"Na_to_K\",\"Drug\",\"Age\",\"Sex\",\"BP\",\"Cholesterol\",\"Na_to_K\",\"Drug\",\"Age\",\"Sex\",\"BP\",\"Cholesterol\",\"Na_to_K\",\"Drug\",\"Age\",\"Sex\",\"BP\",\"Cholesterol\",\"Na_to_K\",\"Drug\",\"Age\",\"Sex\",\"BP\",\"Cholesterol\",\"Na_to_K\",\"Drug\"]},\"selected\":{\"id\":\"21838\"},\"selection_policy\":{\"id\":\"21837\"}},\"id\":\"21115\",\"type\":\"ColumnDataSource\"},{\"attributes\":{},\"id\":\"21832\",\"type\":\"AllLabels\"},{\"attributes\":{\"factors\":[\"Age\",\"Sex\",\"BP\",\"Cholesterol\",\"Na_to_K\",\"Drug\"]},\"id\":\"21119\",\"type\":\"FactorRange\"},{\"attributes\":{\"coordinates\":null,\"group\":null,\"text\":\"Correlation Heatmap\"},\"id\":\"21117\",\"type\":\"Title\"},{\"attributes\":{\"high\":1.0,\"low\":-1.0,\"palette\":[\"#00204C\",\"#00204E\",\"#002150\",\"#002251\",\"#002353\",\"#002355\",\"#002456\",\"#002558\",\"#00265A\",\"#00265B\",\"#00275D\",\"#00285F\",\"#002861\",\"#002963\",\"#002A64\",\"#002A66\",\"#002B68\",\"#002C6A\",\"#002D6C\",\"#002D6D\",\"#002E6E\",\"#002E6F\",\"#002F6F\",\"#002F6F\",\"#00306F\",\"#00316F\",\"#00316F\",\"#00326E\",\"#00336E\",\"#00346E\",\"#00346E\",\"#01356E\",\"#06366E\",\"#0A376D\",\"#0E376D\",\"#12386D\",\"#15396D\",\"#17396D\",\"#1A3A6C\",\"#1C3B6C\",\"#1E3C6C\",\"#203C6C\",\"#223D6C\",\"#243E6C\",\"#263E6C\",\"#273F6C\",\"#29406B\",\"#2B416B\",\"#2C416B\",\"#2E426B\",\"#2F436B\",\"#31446B\",\"#32446B\",\"#33456B\",\"#35466B\",\"#36466B\",\"#37476B\",\"#38486B\",\"#3A496B\",\"#3B496B\",\"#3C4A6B\",\"#3D4B6B\",\"#3E4B6B\",\"#404C6B\",\"#414D6B\",\"#424E6B\",\"#434E6B\",\"#444F6B\",\"#45506B\",\"#46506B\",\"#47516B\",\"#48526B\",\"#49536B\",\"#4A536B\",\"#4B546B\",\"#4C556B\",\"#4D556B\",\"#4E566B\",\"#4F576C\",\"#50586C\",\"#51586C\",\"#52596C\",\"#535A6C\",\"#545A6C\",\"#555B6C\",\"#565C6C\",\"#575D6D\",\"#585D6D\",\"#595E6D\",\"#5A5F6D\",\"#5B5F6D\",\"#5C606D\",\"#5D616E\",\"#5E626E\",\"#5F626E\",\"#5F636E\",\"#60646E\",\"#61656F\",\"#62656F\",\"#63666F\",\"#64676F\",\"#65676F\",\"#666870\",\"#676970\",\"#686A70\",\"#686A70\",\"#696B71\",\"#6A6C71\",\"#6B6D71\",\"#6C6D72\",\"#6D6E72\",\"#6E6F72\",\"#6F6F72\",\"#6F7073\",\"#707173\",\"#717273\",\"#727274\",\"#737374\",\"#747475\",\"#757575\",\"#757575\",\"#767676\",\"#777776\",\"#787876\",\"#797877\",\"#7A7977\",\"#7B7A77\",\"#7B7B78\",\"#7C7B78\",\"#7D7C78\",\"#7E7D78\",\"#7F7E78\",\"#807E78\",\"#817F78\",\"#828078\",\"#838178\",\"#848178\",\"#858278\",\"#868378\",\"#878478\",\"#888578\",\"#898578\",\"#8A8678\",\"#8B8778\",\"#8C8878\",\"#8D8878\",\"#8E8978\",\"#8F8A78\",\"#908B78\",\"#918C78\",\"#928C78\",\"#938D78\",\"#948E78\",\"#958F78\",\"#968F77\",\"#979077\",\"#989177\",\"#999277\",\"#9A9377\",\"#9B9377\",\"#9C9477\",\"#9D9577\",\"#9E9676\",\"#9F9776\",\"#A09876\",\"#A19876\",\"#A29976\",\"#A39A75\",\"#A49B75\",\"#A59C75\",\"#A69C75\",\"#A79D75\",\"#A89E74\",\"#A99F74\",\"#AAA074\",\"#ABA174\",\"#ACA173\",\"#ADA273\",\"#AEA373\",\"#AFA473\",\"#B0A572\",\"#B1A672\",\"#B2A672\",\"#B4A771\",\"#B5A871\",\"#B6A971\",\"#B7AA70\",\"#B8AB70\",\"#B9AB70\",\"#BAAC6F\",\"#BBAD6F\",\"#BCAE6E\",\"#BDAF6E\",\"#BEB06E\",\"#BFB16D\",\"#C0B16D\",\"#C1B26C\",\"#C2B36C\",\"#C3B46C\",\"#C5B56B\",\"#C6B66B\",\"#C7B76A\",\"#C8B86A\",\"#C9B869\",\"#CAB969\",\"#CBBA68\",\"#CCBB68\",\"#CDBC67\",\"#CEBD67\",\"#D0BE66\",\"#D1BF66\",\"#D2C065\",\"#D3C065\",\"#D4C164\",\"#D5C263\",\"#D6C363\",\"#D7C462\",\"#D8C561\",\"#D9C661\",\"#DBC760\",\"#DCC860\",\"#DDC95F\",\"#DECA5E\",\"#DFCB5D\",\"#E0CB5D\",\"#E1CC5C\",\"#E3CD5B\",\"#E4CE5B\",\"#E5CF5A\",\"#E6D059\",\"#E7D158\",\"#E8D257\",\"#E9D356\",\"#EBD456\",\"#ECD555\",\"#EDD654\",\"#EED753\",\"#EFD852\",\"#F0D951\",\"#F1DA50\",\"#F3DB4F\",\"#F4DC4E\",\"#F5DD4D\",\"#F6DE4C\",\"#F7DF4B\",\"#F9E049\",\"#FAE048\",\"#FBE147\",\"#FCE246\",\"#FDE345\",\"#FFE443\",\"#FFE542\",\"#FFE642\",\"#FFE743\",\"#FFE844\",\"#FFE945\"]},\"id\":\"21143\",\"type\":\"LinearColorMapper\"},{\"attributes\":{\"high\":1.0,\"low\":-0.6015475937092776,\"palette\":[\"#00204C\",\"#00204E\",\"#002150\",\"#002251\",\"#002353\",\"#002355\",\"#002456\",\"#002558\",\"#00265A\",\"#00265B\",\"#00275D\",\"#00285F\",\"#002861\",\"#002963\",\"#002A64\",\"#002A66\",\"#002B68\",\"#002C6A\",\"#002D6C\",\"#002D6D\",\"#002E6E\",\"#002E6F\",\"#002F6F\",\"#002F6F\",\"#00306F\",\"#00316F\",\"#00316F\",\"#00326E\",\"#00336E\",\"#00346E\",\"#00346E\",\"#01356E\",\"#06366E\",\"#0A376D\",\"#0E376D\",\"#12386D\",\"#15396D\",\"#17396D\",\"#1A3A6C\",\"#1C3B6C\",\"#1E3C6C\",\"#203C6C\",\"#223D6C\",\"#243E6C\",\"#263E6C\",\"#273F6C\",\"#29406B\",\"#2B416B\",\"#2C416B\",\"#2E426B\",\"#2F436B\",\"#31446B\",\"#32446B\",\"#33456B\",\"#35466B\",\"#36466B\",\"#37476B\",\"#38486B\",\"#3A496B\",\"#3B496B\",\"#3C4A6B\",\"#3D4B6B\",\"#3E4B6B\",\"#404C6B\",\"#414D6B\",\"#424E6B\",\"#434E6B\",\"#444F6B\",\"#45506B\",\"#46506B\",\"#47516B\",\"#48526B\",\"#49536B\",\"#4A536B\",\"#4B546B\",\"#4C556B\",\"#4D556B\",\"#4E566B\",\"#4F576C\",\"#50586C\",\"#51586C\",\"#52596C\",\"#535A6C\",\"#545A6C\",\"#555B6C\",\"#565C6C\",\"#575D6D\",\"#585D6D\",\"#595E6D\",\"#5A5F6D\",\"#5B5F6D\",\"#5C606D\",\"#5D616E\",\"#5E626E\",\"#5F626E\",\"#5F636E\",\"#60646E\",\"#61656F\",\"#62656F\",\"#63666F\",\"#64676F\",\"#65676F\",\"#666870\",\"#676970\",\"#686A70\",\"#686A70\",\"#696B71\",\"#6A6C71\",\"#6B6D71\",\"#6C6D72\",\"#6D6E72\",\"#6E6F72\",\"#6F6F72\",\"#6F7073\",\"#707173\",\"#717273\",\"#727274\",\"#737374\",\"#747475\",\"#757575\",\"#757575\",\"#767676\",\"#777776\",\"#787876\",\"#797877\",\"#7A7977\",\"#7B7A77\",\"#7B7B78\",\"#7C7B78\",\"#7D7C78\",\"#7E7D78\",\"#7F7E78\",\"#807E78\",\"#817F78\",\"#828078\",\"#838178\",\"#848178\",\"#858278\",\"#868378\",\"#878478\",\"#888578\",\"#898578\",\"#8A8678\",\"#8B8778\",\"#8C8878\",\"#8D8878\",\"#8E8978\",\"#8F8A78\",\"#908B78\",\"#918C78\",\"#928C78\",\"#938D78\",\"#948E78\",\"#958F78\",\"#968F77\",\"#979077\",\"#989177\",\"#999277\",\"#9A9377\",\"#9B9377\",\"#9C9477\",\"#9D9577\",\"#9E9676\",\"#9F9776\",\"#A09876\",\"#A19876\",\"#A29976\",\"#A39A75\",\"#A49B75\",\"#A59C75\",\"#A69C75\",\"#A79D75\",\"#A89E74\",\"#A99F74\",\"#AAA074\",\"#ABA174\",\"#ACA173\",\"#ADA273\",\"#AEA373\",\"#AFA473\",\"#B0A572\",\"#B1A672\",\"#B2A672\",\"#B4A771\",\"#B5A871\",\"#B6A971\",\"#B7AA70\",\"#B8AB70\",\"#B9AB70\",\"#BAAC6F\",\"#BBAD6F\",\"#BCAE6E\",\"#BDAF6E\",\"#BEB06E\",\"#BFB16D\",\"#C0B16D\",\"#C1B26C\",\"#C2B36C\",\"#C3B46C\",\"#C5B56B\",\"#C6B66B\",\"#C7B76A\",\"#C8B86A\",\"#C9B869\",\"#CAB969\",\"#CBBA68\",\"#CCBB68\",\"#CDBC67\",\"#CEBD67\",\"#D0BE66\",\"#D1BF66\",\"#D2C065\",\"#D3C065\",\"#D4C164\",\"#D5C263\",\"#D6C363\",\"#D7C462\",\"#D8C561\",\"#D9C661\",\"#DBC760\",\"#DCC860\",\"#DDC95F\",\"#DECA5E\",\"#DFCB5D\",\"#E0CB5D\",\"#E1CC5C\",\"#E3CD5B\",\"#E4CE5B\",\"#E5CF5A\",\"#E6D059\",\"#E7D158\",\"#E8D257\",\"#E9D356\",\"#EBD456\",\"#ECD555\",\"#EDD654\",\"#EED753\",\"#EFD852\",\"#F0D951\",\"#F1DA50\",\"#F3DB4F\",\"#F4DC4E\",\"#F5DD4D\",\"#F6DE4C\",\"#F7DF4B\",\"#F9E049\",\"#FAE048\",\"#FBE147\",\"#FCE246\",\"#FDE345\",\"#FFE443\",\"#FFE542\",\"#FFE642\",\"#FFE743\",\"#FFE844\",\"#FFE945\"]},\"id\":\"21136\",\"type\":\"LinearColorMapper\"},{\"attributes\":{},\"id\":\"21834\",\"type\":\"CategoricalTickFormatter\"},{\"attributes\":{},\"id\":\"21144\",\"type\":\"BasicTickFormatter\"},{\"attributes\":{\"bar_line_color\":\"black\",\"color_mapper\":{\"id\":\"21143\"},\"coordinates\":null,\"formatter\":{\"id\":\"21144\"},\"group\":null,\"label_standoff\":12,\"location\":[0,0],\"major_label_policy\":{\"id\":\"21836\"},\"major_label_text_font_size\":\"10pt\",\"orientation\":\"horizontal\",\"ticker\":{\"id\":\"21145\"}},\"id\":\"21146\",\"type\":\"ColorBar\"},{\"attributes\":{},\"id\":\"21837\",\"type\":\"UnionRenderers\"},{\"attributes\":{\"source\":{\"id\":\"21115\"}},\"id\":\"21142\",\"type\":\"CDSView\"},{\"attributes\":{\"factors\":[\"Drug\",\"Na_to_K\",\"Cholesterol\",\"BP\",\"Sex\",\"Age\"]},\"id\":\"21121\",\"type\":\"FactorRange\"},{\"attributes\":{},\"id\":\"21131\",\"type\":\"CategoricalTicker\"},{\"attributes\":{},\"id\":\"21836\",\"type\":\"NoOverlap\"},{\"attributes\":{\"axis\":{\"id\":\"21130\"},\"coordinates\":null,\"dimension\":1,\"grid_line_color\":null,\"group\":null,\"ticker\":null},\"id\":\"21132\",\"type\":\"Grid\"},{\"attributes\":{},\"id\":\"21128\",\"type\":\"CategoricalTicker\"},{\"attributes\":{},\"id\":\"21125\",\"type\":\"CategoricalScale\"},{\"attributes\":{},\"id\":\"21123\",\"type\":\"CategoricalScale\"},{\"attributes\":{},\"id\":\"21835\",\"type\":\"AllLabels\"},{\"attributes\":{\"axis\":{\"id\":\"21127\"},\"coordinates\":null,\"grid_line_color\":null,\"group\":null,\"ticker\":null},\"id\":\"21129\",\"type\":\"Grid\"},{\"attributes\":{},\"id\":\"21145\",\"type\":\"BasicTicker\"},{\"attributes\":{\"axis_line_color\":null,\"coordinates\":null,\"formatter\":{\"id\":\"21834\"},\"group\":null,\"major_label_orientation\":1.0471975511965976,\"major_label_policy\":{\"id\":\"21835\"},\"major_label_standoff\":0,\"major_label_text_font_size\":\"10pt\",\"major_tick_line_color\":null,\"ticker\":{\"id\":\"21128\"}},\"id\":\"21127\",\"type\":\"CategoricalAxis\"},{\"attributes\":{},\"id\":\"21838\",\"type\":\"Selection\"},{\"attributes\":{},\"id\":\"21831\",\"type\":\"CategoricalTickFormatter\"},{\"attributes\":{\"fill_alpha\":{\"value\":0.1},\"fill_color\":{\"field\":\"value\",\"transform\":{\"id\":\"21136\"}},\"hatch_alpha\":{\"value\":0.1},\"height\":{\"value\":1},\"line_alpha\":{\"value\":0.1},\"line_color\":{\"value\":null},\"width\":{\"value\":1},\"x\":{\"field\":\"x\"},\"y\":{\"field\":\"y\"}},\"id\":\"21139\",\"type\":\"Rect\"},{\"attributes\":{\"tools\":[{\"id\":\"21133\"}]},\"id\":\"21134\",\"type\":\"Toolbar\"}],\"root_ids\":[\"21116\"]},\"title\":\"Bokeh Application\",\"version\":\"2.4.3\"}};\n  const render_items = [{\"docid\":\"8d5369fc-484f-4ec9-a3af-f07dc331b6dc\",\"root_ids\":[\"21116\"],\"roots\":{\"21116\":\"c52cc2a7-395a-43ae-a55b-bd1aad43074b\"}}];\n  root.Bokeh.embed.embed_items_notebook(docs_json, render_items);\n  }\n  if (root.Bokeh !== undefined) {\n    embed_document(root);\n  } else {\n    let attempts = 0;\n    const timer = setInterval(function(root) {\n      if (root.Bokeh !== undefined) {\n        clearInterval(timer);\n        embed_document(root);\n      } else {\n        attempts++;\n        if (attempts > 100) {\n          clearInterval(timer);\n          console.log(\"Bokeh: ERROR: Unable to run BokehJS code because BokehJS library is missing\");\n        }\n      }\n    }, 10, root)\n  }\n})(window);",
      "application/vnd.bokehjs_exec.v0+json": ""
     },
     "metadata": {
      "application/vnd.bokehjs_exec.v0+json": {
       "id": "21116"
      }
     },
     "output_type": "display_data"
    }
   ],
   "source": [
    "plot_corr_heatmap(df_drug_copy, \"Correlation Heatmap\")"
   ]
  },
  {
   "cell_type": "code",
   "execution_count": 34,
   "metadata": {},
   "outputs": [
    {
     "data": {
      "text/html": [
       "\n",
       "  <div class=\"bk-root\" id=\"9911d98d-7e7b-4fd7-a94a-7197fcf91a7d\" data-root-id=\"3983\"></div>\n"
      ]
     },
     "metadata": {},
     "output_type": "display_data"
    },
    {
     "data": {
      "application/javascript": "(function(root) {\n  function embed_document(root) {\n  const docs_json = {\"c8b1533b-bb53-4739-8da5-336fca37fc0a\":{\"defs\":[],\"roots\":{\"references\":[{\"attributes\":{\"below\":[{\"id\":\"3994\"}],\"center\":[{\"id\":\"3997\"},{\"id\":\"4001\"}],\"height\":300,\"left\":[{\"id\":\"3998\"}],\"max_width\":800,\"renderers\":[{\"id\":\"4020\"}],\"sizing_mode\":\"stretch_width\",\"title\":{\"id\":\"3984\"},\"toolbar\":{\"id\":\"4009\"},\"x_range\":{\"id\":\"3986\"},\"x_scale\":{\"id\":\"3990\"},\"y_range\":{\"id\":\"3988\"},\"y_scale\":{\"id\":\"3992\"}},\"id\":\"3983\",\"subtype\":\"Figure\",\"type\":\"Plot\"},{\"attributes\":{},\"id\":\"4007\",\"type\":\"HelpTool\"},{\"attributes\":{},\"id\":\"4195\",\"type\":\"BasicTickFormatter\"},{\"attributes\":{\"axis_label\":\"Drug\",\"coordinates\":null,\"formatter\":{\"id\":\"4195\"},\"group\":null,\"major_label_policy\":{\"id\":\"4196\"},\"ticker\":{\"id\":\"3999\"}},\"id\":\"3998\",\"type\":\"LinearAxis\"},{\"attributes\":{\"fill_alpha\":{\"value\":0.2},\"fill_color\":{\"value\":\"navy\"},\"hatch_alpha\":{\"value\":0.2},\"hatch_color\":{\"value\":\"navy\"},\"line_alpha\":{\"value\":0.2},\"line_color\":{\"value\":\"navy\"},\"size\":{\"value\":10},\"x\":{\"field\":\"x\"},\"y\":{\"field\":\"y\"}},\"id\":\"4019\",\"type\":\"Circle\"},{\"attributes\":{},\"id\":\"4196\",\"type\":\"AllLabels\"},{\"attributes\":{},\"id\":\"4198\",\"type\":\"BasicTickFormatter\"},{\"attributes\":{},\"id\":\"4199\",\"type\":\"AllLabels\"},{\"attributes\":{\"axis\":{\"id\":\"3998\"},\"coordinates\":null,\"dimension\":1,\"group\":null,\"ticker\":null},\"id\":\"4001\",\"type\":\"Grid\"},{\"attributes\":{},\"id\":\"4003\",\"type\":\"WheelZoomTool\"},{\"attributes\":{},\"id\":\"4006\",\"type\":\"ResetTool\"},{\"attributes\":{\"tools\":[{\"id\":\"4002\"},{\"id\":\"4003\"},{\"id\":\"4004\"},{\"id\":\"4005\"},{\"id\":\"4006\"},{\"id\":\"4007\"}]},\"id\":\"4009\",\"type\":\"Toolbar\"},{\"attributes\":{},\"id\":\"3995\",\"type\":\"BasicTicker\"},{\"attributes\":{\"bottom_units\":\"screen\",\"coordinates\":null,\"fill_alpha\":0.5,\"fill_color\":\"lightgrey\",\"group\":null,\"left_units\":\"screen\",\"level\":\"overlay\",\"line_alpha\":1.0,\"line_color\":\"black\",\"line_dash\":[4,4],\"line_width\":2,\"right_units\":\"screen\",\"syncable\":false,\"top_units\":\"screen\"},\"id\":\"4008\",\"type\":\"BoxAnnotation\"},{\"attributes\":{},\"id\":\"4005\",\"type\":\"SaveTool\"},{\"attributes\":{},\"id\":\"3992\",\"type\":\"LinearScale\"},{\"attributes\":{\"overlay\":{\"id\":\"4008\"}},\"id\":\"4004\",\"type\":\"BoxZoomTool\"},{\"attributes\":{},\"id\":\"3999\",\"type\":\"BasicTicker\"},{\"attributes\":{},\"id\":\"3986\",\"type\":\"DataRange1d\"},{\"attributes\":{},\"id\":\"4200\",\"type\":\"UnionRenderers\"},{\"attributes\":{\"data\":{\"x\":{\"__ndarray__\":\"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\",\"dtype\":\"float64\",\"order\":\"little\",\"shape\":[200]},\"y\":{\"__ndarray__\":\"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\",\"dtype\":\"float64\",\"order\":\"little\",\"shape\":[200]}},\"selected\":{\"id\":\"4201\"},\"selection_policy\":{\"id\":\"4200\"}},\"id\":\"4016\",\"type\":\"ColumnDataSource\"},{\"attributes\":{},\"id\":\"3988\",\"type\":\"DataRange1d\"},{\"attributes\":{\"coordinates\":null,\"data_source\":{\"id\":\"4016\"},\"glyph\":{\"id\":\"4017\"},\"group\":null,\"hover_glyph\":null,\"muted_glyph\":{\"id\":\"4019\"},\"nonselection_glyph\":{\"id\":\"4018\"},\"view\":{\"id\":\"4021\"}},\"id\":\"4020\",\"type\":\"GlyphRenderer\"},{\"attributes\":{},\"id\":\"4201\",\"type\":\"Selection\"},{\"attributes\":{},\"id\":\"3990\",\"type\":\"LinearScale\"},{\"attributes\":{\"fill_alpha\":{\"value\":0.1},\"fill_color\":{\"value\":\"navy\"},\"hatch_alpha\":{\"value\":0.1},\"hatch_color\":{\"value\":\"navy\"},\"line_alpha\":{\"value\":0.1},\"line_color\":{\"value\":\"navy\"},\"size\":{\"value\":10},\"x\":{\"field\":\"x\"},\"y\":{\"field\":\"y\"}},\"id\":\"4018\",\"type\":\"Circle\"},{\"attributes\":{\"source\":{\"id\":\"4016\"}},\"id\":\"4021\",\"type\":\"CDSView\"},{\"attributes\":{\"fill_alpha\":{\"value\":0.5},\"fill_color\":{\"value\":\"navy\"},\"hatch_alpha\":{\"value\":0.5},\"hatch_color\":{\"value\":\"navy\"},\"line_alpha\":{\"value\":0.5},\"line_color\":{\"value\":\"navy\"},\"size\":{\"value\":10},\"x\":{\"field\":\"x\"},\"y\":{\"field\":\"y\"}},\"id\":\"4017\",\"type\":\"Circle\"},{\"attributes\":{\"axis_label\":\"Na_to_K\",\"coordinates\":null,\"formatter\":{\"id\":\"4198\"},\"group\":null,\"major_label_policy\":{\"id\":\"4199\"},\"ticker\":{\"id\":\"3995\"}},\"id\":\"3994\",\"type\":\"LinearAxis\"},{\"attributes\":{\"axis\":{\"id\":\"3994\"},\"coordinates\":null,\"group\":null,\"ticker\":null},\"id\":\"3997\",\"type\":\"Grid\"},{\"attributes\":{\"coordinates\":null,\"group\":null,\"text\":\"Na_to_K vs Drug\"},\"id\":\"3984\",\"type\":\"Title\"},{\"attributes\":{},\"id\":\"4002\",\"type\":\"PanTool\"}],\"root_ids\":[\"3983\"]},\"title\":\"Bokeh Application\",\"version\":\"2.4.3\"}};\n  const render_items = [{\"docid\":\"c8b1533b-bb53-4739-8da5-336fca37fc0a\",\"root_ids\":[\"3983\"],\"roots\":{\"3983\":\"9911d98d-7e7b-4fd7-a94a-7197fcf91a7d\"}}];\n  root.Bokeh.embed.embed_items_notebook(docs_json, render_items);\n  }\n  if (root.Bokeh !== undefined) {\n    embed_document(root);\n  } else {\n    let attempts = 0;\n    const timer = setInterval(function(root) {\n      if (root.Bokeh !== undefined) {\n        clearInterval(timer);\n        embed_document(root);\n      } else {\n        attempts++;\n        if (attempts > 100) {\n          clearInterval(timer);\n          console.log(\"Bokeh: ERROR: Unable to run BokehJS code because BokehJS library is missing\");\n        }\n      }\n    }, 10, root)\n  }\n})(window);",
      "application/vnd.bokehjs_exec.v0+json": ""
     },
     "metadata": {
      "application/vnd.bokehjs_exec.v0+json": {
       "id": "3983"
      }
     },
     "output_type": "display_data"
    }
   ],
   "source": [
    "# graficar nube de puntos que relacione Na_to_K con Drug\n",
    "p = figure(\n",
    "  title=\"Na_to_K vs Drug\",\n",
    "  x_axis_label=\"Na_to_K\",\n",
    "  y_axis_label=\"Drug\",\n",
    "  sizing_mode='stretch_width',\n",
    "  max_width=800,\n",
    "  height=300,\n",
    ")\n",
    "p.circle(\n",
    "  x=df_drug_copy[\"Na_to_K\"],\n",
    "  y=df_drug_copy[\"Drug\"],\n",
    "  size=10,\n",
    "  color=\"navy\",\n",
    "  alpha=0.5,\n",
    ")\n",
    "show(p)"
   ]
  },
  {
   "attachments": {},
   "cell_type": "markdown",
   "metadata": {},
   "source": [
    "## Conclusiones"
   ]
  },
  {
   "cell_type": "code",
   "execution_count": 7,
   "metadata": {},
   "outputs": [
    {
     "data": {
      "text/html": [
       "\n",
       "  <div class=\"bk-root\" id=\"916cfd5d-bfd3-4298-b611-a78390a486f8\" data-root-id=\"1433\"></div>\n"
      ]
     },
     "metadata": {},
     "output_type": "display_data"
    },
    {
     "data": {
      "application/javascript": "(function(root) {\n  function embed_document(root) {\n  const docs_json = {\"4735df0e-449c-4f71-ace4-26ee11ef1bf2\":{\"defs\":[],\"roots\":{\"references\":[{\"attributes\":{\"below\":[{\"id\":\"1444\"}],\"center\":[{\"id\":\"1447\"},{\"id\":\"1451\"},{\"id\":\"1482\"}],\"height\":300,\"left\":[{\"id\":\"1448\"}],\"max_width\":800,\"renderers\":[{\"id\":\"1470\"}],\"sizing_mode\":\"stretch_width\",\"title\":{\"id\":\"1434\"},\"toolbar\":{\"id\":\"1459\"},\"x_range\":{\"id\":\"1436\"},\"x_scale\":{\"id\":\"1440\"},\"y_range\":{\"id\":\"1438\"},\"y_scale\":{\"id\":\"1442\"}},\"id\":\"1433\",\"subtype\":\"Figure\",\"type\":\"Plot\"},{\"attributes\":{\"overlay\":{\"id\":\"1458\"}},\"id\":\"1454\",\"type\":\"BoxZoomTool\"},{\"attributes\":{},\"id\":\"1452\",\"type\":\"PanTool\"},{\"attributes\":{\"coordinates\":null,\"group\":null,\"items\":[{\"id\":\"1483\"}]},\"id\":\"1482\",\"type\":\"Legend\"},{\"attributes\":{\"bottom_units\":\"screen\",\"coordinates\":null,\"fill_alpha\":0.5,\"fill_color\":\"lightgrey\",\"group\":null,\"left_units\":\"screen\",\"level\":\"overlay\",\"line_alpha\":1.0,\"line_color\":\"black\",\"line_dash\":[4,4],\"line_width\":2,\"right_units\":\"screen\",\"syncable\":false,\"top_units\":\"screen\"},\"id\":\"1458\",\"type\":\"BoxAnnotation\"},{\"attributes\":{},\"id\":\"1477\",\"type\":\"BasicTickFormatter\"},{\"attributes\":{},\"id\":\"1453\",\"type\":\"WheelZoomTool\"},{\"attributes\":{\"source\":{\"id\":\"1466\"}},\"id\":\"1471\",\"type\":\"CDSView\"},{\"attributes\":{},\"id\":\"1479\",\"type\":\"UnionRenderers\"},{\"attributes\":{\"label\":{\"value\":\"Age.\"},\"renderers\":[{\"id\":\"1470\"}]},\"id\":\"1483\",\"type\":\"LegendItem\"},{\"attributes\":{},\"id\":\"1480\",\"type\":\"Selection\"},{\"attributes\":{\"fill_alpha\":{\"value\":0.1},\"fill_color\":{\"value\":\"white\"},\"hatch_alpha\":{\"value\":0.1},\"line_alpha\":{\"value\":0.1},\"line_color\":{\"value\":\"#1f77b4\"},\"size\":{\"value\":8},\"x\":{\"field\":\"x\"},\"y\":{\"field\":\"y\"}},\"id\":\"1468\",\"type\":\"Circle\"},{\"attributes\":{\"tools\":[{\"id\":\"1452\"},{\"id\":\"1453\"},{\"id\":\"1454\"},{\"id\":\"1455\"},{\"id\":\"1456\"},{\"id\":\"1457\"}]},\"id\":\"1459\",\"type\":\"Toolbar\"},{\"attributes\":{},\"id\":\"1445\",\"type\":\"BasicTicker\"},{\"attributes\":{\"fill_alpha\":{\"value\":0.2},\"fill_color\":{\"value\":\"white\"},\"hatch_alpha\":{\"value\":0.2},\"line_alpha\":{\"value\":0.2},\"line_color\":{\"value\":\"#1f77b4\"},\"size\":{\"value\":8},\"x\":{\"field\":\"x\"},\"y\":{\"field\":\"y\"}},\"id\":\"1469\",\"type\":\"Circle\"},{\"attributes\":{},\"id\":\"1436\",\"type\":\"DataRange1d\"},{\"attributes\":{\"axis\":{\"id\":\"1444\"},\"coordinates\":null,\"group\":null,\"ticker\":null},\"id\":\"1447\",\"type\":\"Grid\"},{\"attributes\":{\"axis_label\":\"Age\",\"coordinates\":null,\"formatter\":{\"id\":\"1477\"},\"group\":null,\"major_label_policy\":{\"id\":\"1478\"},\"ticker\":{\"id\":\"1445\"}},\"id\":\"1444\",\"type\":\"LinearAxis\"},{\"attributes\":{\"coordinates\":null,\"data_source\":{\"id\":\"1466\"},\"glyph\":{\"id\":\"1467\"},\"group\":null,\"hover_glyph\":null,\"muted_glyph\":{\"id\":\"1469\"},\"nonselection_glyph\":{\"id\":\"1468\"},\"view\":{\"id\":\"1471\"}},\"id\":\"1470\",\"type\":\"GlyphRenderer\"},{\"attributes\":{},\"id\":\"1440\",\"type\":\"LinearScale\"},{\"attributes\":{\"end\":80},\"id\":\"1438\",\"type\":\"Range1d\"},{\"attributes\":{\"coordinates\":null,\"group\":null,\"text\":\"Patient Age\"},\"id\":\"1434\",\"type\":\"Title\"},{\"attributes\":{\"axis\":{\"id\":\"1448\"},\"coordinates\":null,\"dimension\":1,\"group\":null,\"ticker\":null},\"id\":\"1451\",\"type\":\"Grid\"},{\"attributes\":{},\"id\":\"1455\",\"type\":\"SaveTool\"},{\"attributes\":{},\"id\":\"1449\",\"type\":\"BasicTicker\"},{\"attributes\":{},\"id\":\"1456\",\"type\":\"ResetTool\"},{\"attributes\":{\"data\":{\"x\":[0,1,2,3,4,5,6,7,8,9,10,11,12,13,14,15,16,17,18,19,20,21,22,23,24,25,26,27,28,29,30,31,32,33,34,35,36,37,38,39,40,41,42,43,44,45,46,47,48,49,50,51,52,53,54,55,56,57,58,59,60,61,62,63,64,65,66,67,68,69,70,71,72,73,74,75,76,77,78,79,80,81,82,83,84,85,86,87,88,89,90,91,92,93,94,95,96,97,98,99,100,101,102,103,104,105,106,107,108,109,110,111,112,113,114,115,116,117,118,119,120,121,122,123,124,125,126,127,128,129,130,131,132,133,134,135,136,137,138,139,140,141,142,143,144,145,146,147,148,149,150,151,152,153,154,155,156,157,158,159,160,161,162,163,164,165,166,167,168,169,170,171,172,173,174,175,176,177,178,179,180,181,182,183,184,185,186,187,188,189,190,191,192,193,194,195,196,197,198,199],\"y\":[23,47,47,28,61,22,49,41,60,43,47,34,43,74,50,16,69,43,23,32,57,63,47,48,33,28,31,49,39,45,18,74,49,65,53,46,32,39,39,15,73,58,50,23,50,66,37,68,23,28,58,67,62,24,68,26,65,40,60,34,38,24,67,45,60,68,29,17,54,18,70,28,24,41,31,26,36,26,19,32,60,64,32,38,47,59,51,69,37,50,62,41,29,42,56,36,58,56,20,15,31,45,28,56,22,37,22,42,72,23,50,47,35,65,20,51,67,40,32,61,28,15,34,36,53,19,66,35,47,32,70,52,49,24,42,74,55,35,51,69,49,64,60,74,39,61,37,26,61,22,49,68,55,72,37,49,31,53,59,34,30,57,43,21,16,38,58,57,51,20,28,45,39,41,42,73,48,25,39,67,22,59,20,36,18,57,70,47,65,64,58,23,72,72,46,56,16,52,23,40]},\"selected\":{\"id\":\"1480\"},\"selection_policy\":{\"id\":\"1479\"}},\"id\":\"1466\",\"type\":\"ColumnDataSource\"},{\"attributes\":{\"fill_color\":{\"value\":\"white\"},\"line_color\":{\"value\":\"#1f77b4\"},\"size\":{\"value\":8},\"x\":{\"field\":\"x\"},\"y\":{\"field\":\"y\"}},\"id\":\"1467\",\"type\":\"Circle\"},{\"attributes\":{},\"id\":\"1457\",\"type\":\"HelpTool\"},{\"attributes\":{\"axis_label\":\"Pacient\",\"coordinates\":null,\"formatter\":{\"id\":\"1474\"},\"group\":null,\"major_label_policy\":{\"id\":\"1475\"},\"ticker\":{\"id\":\"1449\"}},\"id\":\"1448\",\"type\":\"LinearAxis\"},{\"attributes\":{},\"id\":\"1442\",\"type\":\"LinearScale\"},{\"attributes\":{},\"id\":\"1474\",\"type\":\"BasicTickFormatter\"},{\"attributes\":{},\"id\":\"1478\",\"type\":\"AllLabels\"},{\"attributes\":{},\"id\":\"1475\",\"type\":\"AllLabels\"}],\"root_ids\":[\"1433\"]},\"title\":\"Bokeh Application\",\"version\":\"2.4.3\"}};\n  const render_items = [{\"docid\":\"4735df0e-449c-4f71-ace4-26ee11ef1bf2\",\"root_ids\":[\"1433\"],\"roots\":{\"1433\":\"916cfd5d-bfd3-4298-b611-a78390a486f8\"}}];\n  root.Bokeh.embed.embed_items_notebook(docs_json, render_items);\n  }\n  if (root.Bokeh !== undefined) {\n    embed_document(root);\n  } else {\n    let attempts = 0;\n    const timer = setInterval(function(root) {\n      if (root.Bokeh !== undefined) {\n        clearInterval(timer);\n        embed_document(root);\n      } else {\n        attempts++;\n        if (attempts > 100) {\n          clearInterval(timer);\n          console.log(\"Bokeh: ERROR: Unable to run BokehJS code because BokehJS library is missing\");\n        }\n      }\n    }, 10, root)\n  }\n})(window);",
      "application/vnd.bokehjs_exec.v0+json": ""
     },
     "metadata": {
      "application/vnd.bokehjs_exec.v0+json": {
       "id": "1433"
      }
     },
     "output_type": "display_data"
    }
   ],
   "source": [
    "p = figure(\n",
    "  title=\"Patient Age\",\n",
    "  x_axis_label='Age',\n",
    "  y_axis_label='Pacient',\n",
    "  sizing_mode='stretch_width',\n",
    "  y_range=(0, 80),\n",
    "  max_width=800,\n",
    "  height=300,\n",
    ")\n",
    "#p.y_range = Range1d(0, 80)\n",
    "#p.line(df[\"Age\"].index, df[\"Age\"].values, legend=\"Age.\", line_width=2)\n",
    "p.circle(df[\"Age\"].index, df[\"Age\"].values, legend_label=\"Age.\", fill_color=\"white\", size=8)\n",
    "show(p)"
   ]
  },
  {
   "attachments": {},
   "cell_type": "markdown",
   "metadata": {},
   "source": [
    "<a name=\"referencias\"></a>\n",
    "## Referencias\n",
    "\n",
    "- Pajankar, A. (2020). Practical Python Data Visualization: A Fast Track Approach To Learning Data Visualization With Python. Apress.\n",
    "- Wilke, C. O. (2019). Fundamentals of Data Visualization: A Primer on Making Informative and Compelling Figures (1.). O’Reilly Media.\n",
    "- Iliinsky, N., & Steele, J. (2011). Designing Data Visualizations: Representing Informational Relationships. Van Duuren Media.\n",
    "- Sahay, A. (2016). Data visualization, volume i : Recent trends and applications using conventional and big data. Business Expert Press.\n",
    "- Guía de visualización de datos: definición, ejemplos y recursos de aprendizaje. (s. f.). Tableau. https://www.tableau.com/es-es/learn/articles/data-visualization\n",
    "- A Complete Guide to Data Visualization in Python With Libraries, Chart, Graphs & More. (s. f.). Simplilearn. https://www.simplilearn.com/tutorials/python-tutorial/data-visualization-in-python\n",
    "- Cómo mejorar tu web gracias a los mapas de calor. (s. f.). Devservice.es. https://www.devservice.es/blog/mapas-calor-web/"
   ]
  },
  {
   "cell_type": "code",
   "execution_count": null,
   "metadata": {},
   "outputs": [],
   "source": [
    "# Enero 2023\n",
    "# Mario Ruano Fernández\n",
    "# Machine Learning Engineer (curso 2022-2023)\n",
    "# Máster en Ingeniería del Software: Cloud, Datos y Gestión TI\n",
    "# Universidad de Sevilla\n",
    "https://docs.bokeh.org/en/latest/docs/first_steps.html\n",
    "https://www.codecademy.com/article/eda-data-visualization\n",
    "https://docs.bokeh.org/en/latest/docs/gallery/boxplot.html"
   ]
  }
 ],
 "metadata": {
  "kernelspec": {
   "display_name": "base",
   "language": "python",
   "name": "python3"
  },
  "language_info": {
   "codemirror_mode": {
    "name": "ipython",
    "version": 3
   },
   "file_extension": ".py",
   "mimetype": "text/x-python",
   "name": "python",
   "nbconvert_exporter": "python",
   "pygments_lexer": "ipython3",
   "version": "3.9.13"
  },
  "orig_nbformat": 4,
  "vscode": {
   "interpreter": {
    "hash": "eb182b86209dcd705bf9dec3049d5d7c758c5aab2b12220beac9429b4f10b188"
   }
  }
 },
 "nbformat": 4,
 "nbformat_minor": 2
}
